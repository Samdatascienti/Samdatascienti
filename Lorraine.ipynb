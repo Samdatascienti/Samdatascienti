{
  "nbformat": 4,
  "nbformat_minor": 0,
  "metadata": {
    "colab": {
      "name": "Lorraine.ipynb",
      "provenance": [],
      "collapsed_sections": [],
      "include_colab_link": true
    },
    "kernelspec": {
      "name": "python3",
      "display_name": "Python 3"
    },
    "language_info": {
      "name": "python"
    }
  },
  "cells": [
    {
      "cell_type": "markdown",
      "metadata": {
        "id": "view-in-github",
        "colab_type": "text"
      },
      "source": [
        "<a href=\"https://colab.research.google.com/github/Samdatascienti/Samdatascienti/blob/main/Lorraine.ipynb\" target=\"_parent\"><img src=\"https://colab.research.google.com/assets/colab-badge.svg\" alt=\"Open In Colab\"/></a>"
      ]
    },
    {
      "cell_type": "code",
      "metadata": {
        "id": "SPUQ0m1wuj4G"
      },
      "source": [
        "# as usual, let us load all the necessary libraries\n",
        "import numpy as np  # numerical computation with arrays\n",
        "import pandas as pd # library to manipulate datasets using dataframes\n",
        "import scipy as sp  # statistical library\n",
        "from google.colab import files\n",
        "\n",
        "# below sklearn libraries for different models\n",
        "from sklearn.tree import DecisionTreeClassifier as DecisionTree\n",
        "from sklearn.ensemble import RandomForestClassifier as RandomForest\n",
        "from sklearn.preprocessing import PolynomialFeatures\n",
        "from sklearn.linear_model import LogisticRegression\n",
        "from sklearn.linear_model import LinearRegression\n",
        "from sklearn.impute import KNNImputer\n",
        "from sklearn.metrics import mean_squared_error, r2_score\n",
        "from sklearn.preprocessing import MinMaxScaler"
      ],
      "execution_count": 1,
      "outputs": []
    },
    {
      "cell_type": "code",
      "metadata": {
        "colab": {
          "base_uri": "https://localhost:8080/"
        },
        "id": "1J2AHJDPvFTq",
        "outputId": "e98758cf-5458-4aa9-ed8c-19a4afa18c65"
      },
      "source": [
        "from google.colab import drive\n",
        "drive.mount('/content/gdrive')"
      ],
      "execution_count": 2,
      "outputs": [
        {
          "output_type": "stream",
          "text": [
            "Mounted at /content/gdrive\n"
          ],
          "name": "stdout"
        }
      ]
    },
    {
      "cell_type": "code",
      "metadata": {
        "colab": {
          "base_uri": "https://localhost:8080/",
          "height": 309
        },
        "id": "2T9g3y6dvXAX",
        "outputId": "456fc8b3-a59e-4b75-f28c-e8bbecee5588"
      },
      "source": [
        "# path='/content/gdrive/MyDrive/data/Data V0.xlsx'\n",
        "# df = pd.read_excel(path)\n",
        "# df.head()\n",
        "# path='/content/gdrive/MyDrive/data/Data_lorr.csv'\n",
        "# df=pd.read_csv(path)\n",
        "# df.head()\n",
        "# path='/content/gdrive/MyDrive/data/RPHIA2018FINBIO_20190712.dta'\n",
        "path='/content/gdrive/MyDrive/data/data_lorraine.dta'\n",
        "ddf=pd.read_stata(path)\n",
        "ddf.head()\n"
      ],
      "execution_count": null,
      "outputs": [
        {
          "output_type": "execute_result",
          "data": {
            "text/html": [
              "<div>\n",
              "<style scoped>\n",
              "    .dataframe tbody tr th:only-of-type {\n",
              "        vertical-align: middle;\n",
              "    }\n",
              "\n",
              "    .dataframe tbody tr th {\n",
              "        vertical-align: top;\n",
              "    }\n",
              "\n",
              "    .dataframe thead th {\n",
              "        text-align: right;\n",
              "    }\n",
              "</style>\n",
              "<table border=\"1\" class=\"dataframe\">\n",
              "  <thead>\n",
              "    <tr style=\"text-align: right;\">\n",
              "      <th></th>\n",
              "      <th>country</th>\n",
              "      <th>householdid</th>\n",
              "      <th>personid</th>\n",
              "      <th>centroidid</th>\n",
              "      <th>province</th>\n",
              "      <th>gender</th>\n",
              "      <th>age</th>\n",
              "      <th>schlhi</th>\n",
              "      <th>schcom</th>\n",
              "      <th>schomdk</th>\n",
              "      <th>work12mo</th>\n",
              "      <th>curmar</th>\n",
              "      <th>mcstatus</th>\n",
              "      <th>mcplans</th>\n",
              "      <th>mcage</th>\n",
              "      <th>firstsxage</th>\n",
              "      <th>firstsxagedk</th>\n",
              "      <th>part12monum</th>\n",
              "      <th>part12modkr</th>\n",
              "      <th>partlivew1</th>\n",
              "      <th>partrelation1</th>\n",
              "      <th>partgend1</th>\n",
              "      <th>partage1</th>\n",
              "      <th>partlastcndm1</th>\n",
              "      <th>partlastsup1</th>\n",
              "      <th>partlastsupwhat_a1</th>\n",
              "      <th>partlastsupwhat_b1</th>\n",
              "      <th>partlastsupwhat_f1</th>\n",
              "      <th>partlastsupwhat_x1</th>\n",
              "      <th>partagain1</th>\n",
              "      <th>partknowhiv1</th>\n",
              "      <th>parthivtest1</th>\n",
              "      <th>parthivsat1</th>\n",
              "      <th>partrelation2</th>\n",
              "      <th>partgend2</th>\n",
              "      <th>partage2</th>\n",
              "      <th>partagedk2</th>\n",
              "      <th>partlastcndm2</th>\n",
              "      <th>partlastsup2</th>\n",
              "      <th>partagain2</th>\n",
              "      <th>partknowhiv2</th>\n",
              "      <th>parthivtest2</th>\n",
              "      <th>parthivsat2</th>\n",
              "      <th>partrelation3</th>\n",
              "      <th>partgend3</th>\n",
              "      <th>partage3</th>\n",
              "      <th>partagedk3</th>\n",
              "      <th>partlastcndm3</th>\n",
              "      <th>partlastsup3</th>\n",
              "      <th>partknowhiv3</th>\n",
              "      <th>parthivtest3</th>\n",
              "      <th>parthivsat3</th>\n",
              "      <th>analsxever</th>\n",
              "      <th>firstsexphysf</th>\n",
              "      <th>firstsexphysfdk</th>\n",
              "      <th>hivtstever</th>\n",
              "      <th>hivtesty</th>\n",
              "      <th>hivtstrslt</th>\n",
              "      <th>hivtfposy</th>\n",
              "      <th>hivstathide</th>\n",
              "      <th>arvstakenev</th>\n",
              "      <th>attitude1</th>\n",
              "      <th>attitude2</th>\n",
              "      <th>urban</th>\n",
              "      <th>known_hiv_status</th>\n",
              "      <th>wealthquintile</th>\n",
              "      <th>wealthscorecont</th>\n",
              "      <th>hivstatusfinal</th>\n",
              "      <th>educationrwanda</th>\n",
              "      <th>hhrmarital</th>\n",
              "      <th>evertested</th>\n",
              "      <th>sex12months</th>\n",
              "      <th>sexever</th>\n",
              "      <th>lastpartner</th>\n",
              "      <th>condomlastsex12months</th>\n",
              "      <th>lastpartnerrelation12months</th>\n",
              "      <th>allpartnersspouselivein12months</th>\n",
              "      <th>condomlastnonmaritalsex12months</th>\n",
              "    </tr>\n",
              "  </thead>\n",
              "  <tbody>\n",
              "    <tr>\n",
              "      <th>0</th>\n",
              "      <td>Rwanda</td>\n",
              "      <td>RW000000000001</td>\n",
              "      <td>RW00000000000101</td>\n",
              "      <td>RW000069</td>\n",
              "      <td>City of Kigali</td>\n",
              "      <td>Female</td>\n",
              "      <td>42</td>\n",
              "      <td>3.0</td>\n",
              "      <td>1.0</td>\n",
              "      <td>NaN</td>\n",
              "      <td>1.0</td>\n",
              "      <td>1.0</td>\n",
              "      <td>NaN</td>\n",
              "      <td>NaN</td>\n",
              "      <td>NaN</td>\n",
              "      <td>28.0</td>\n",
              "      <td>NaN</td>\n",
              "      <td>1.0</td>\n",
              "      <td>NaN</td>\n",
              "      <td>1.0</td>\n",
              "      <td>1.0</td>\n",
              "      <td>1.0</td>\n",
              "      <td>44.0</td>\n",
              "      <td>2.0</td>\n",
              "      <td>2.0</td>\n",
              "      <td></td>\n",
              "      <td></td>\n",
              "      <td></td>\n",
              "      <td></td>\n",
              "      <td>1.0</td>\n",
              "      <td>1.0</td>\n",
              "      <td>2.0</td>\n",
              "      <td>5.0</td>\n",
              "      <td>NaN</td>\n",
              "      <td>NaN</td>\n",
              "      <td>NaN</td>\n",
              "      <td>NaN</td>\n",
              "      <td>NaN</td>\n",
              "      <td>NaN</td>\n",
              "      <td>NaN</td>\n",
              "      <td>NaN</td>\n",
              "      <td>NaN</td>\n",
              "      <td>NaN</td>\n",
              "      <td>NaN</td>\n",
              "      <td>NaN</td>\n",
              "      <td>NaN</td>\n",
              "      <td>NaN</td>\n",
              "      <td>NaN</td>\n",
              "      <td>NaN</td>\n",
              "      <td>NaN</td>\n",
              "      <td>NaN</td>\n",
              "      <td>NaN</td>\n",
              "      <td>2.0</td>\n",
              "      <td>NaN</td>\n",
              "      <td>-8.0</td>\n",
              "      <td>1.0</td>\n",
              "      <td>2018.0</td>\n",
              "      <td>2.0</td>\n",
              "      <td>NaN</td>\n",
              "      <td>NaN</td>\n",
              "      <td>NaN</td>\n",
              "      <td>3.0</td>\n",
              "      <td>3.0</td>\n",
              "      <td>1</td>\n",
              "      <td>2.0</td>\n",
              "      <td>5.0</td>\n",
              "      <td>3.3552</td>\n",
              "      <td>2</td>\n",
              "      <td>3</td>\n",
              "      <td>1</td>\n",
              "      <td>1</td>\n",
              "      <td>1</td>\n",
              "      <td>1</td>\n",
              "      <td>1.0</td>\n",
              "      <td>2</td>\n",
              "      <td>1</td>\n",
              "      <td>1</td>\n",
              "      <td>99</td>\n",
              "    </tr>\n",
              "    <tr>\n",
              "      <th>1</th>\n",
              "      <td>Rwanda</td>\n",
              "      <td>RW000000000001</td>\n",
              "      <td>RW00000000000102</td>\n",
              "      <td>RW000069</td>\n",
              "      <td>City of Kigali</td>\n",
              "      <td>Male</td>\n",
              "      <td>44</td>\n",
              "      <td>4.0</td>\n",
              "      <td>2.0</td>\n",
              "      <td>NaN</td>\n",
              "      <td>1.0</td>\n",
              "      <td>1.0</td>\n",
              "      <td>1.0</td>\n",
              "      <td>NaN</td>\n",
              "      <td>10.0</td>\n",
              "      <td>17.0</td>\n",
              "      <td>NaN</td>\n",
              "      <td>1.0</td>\n",
              "      <td>NaN</td>\n",
              "      <td>1.0</td>\n",
              "      <td>1.0</td>\n",
              "      <td>2.0</td>\n",
              "      <td>42.0</td>\n",
              "      <td>2.0</td>\n",
              "      <td>2.0</td>\n",
              "      <td></td>\n",
              "      <td></td>\n",
              "      <td></td>\n",
              "      <td></td>\n",
              "      <td>1.0</td>\n",
              "      <td>1.0</td>\n",
              "      <td>2.0</td>\n",
              "      <td>5.0</td>\n",
              "      <td>NaN</td>\n",
              "      <td>NaN</td>\n",
              "      <td>NaN</td>\n",
              "      <td>NaN</td>\n",
              "      <td>NaN</td>\n",
              "      <td>NaN</td>\n",
              "      <td>NaN</td>\n",
              "      <td>NaN</td>\n",
              "      <td>NaN</td>\n",
              "      <td>NaN</td>\n",
              "      <td>NaN</td>\n",
              "      <td>NaN</td>\n",
              "      <td>NaN</td>\n",
              "      <td>NaN</td>\n",
              "      <td>NaN</td>\n",
              "      <td>NaN</td>\n",
              "      <td>NaN</td>\n",
              "      <td>NaN</td>\n",
              "      <td>NaN</td>\n",
              "      <td>2.0</td>\n",
              "      <td>NaN</td>\n",
              "      <td>-8.0</td>\n",
              "      <td>1.0</td>\n",
              "      <td>2016.0</td>\n",
              "      <td>2.0</td>\n",
              "      <td>NaN</td>\n",
              "      <td>NaN</td>\n",
              "      <td>NaN</td>\n",
              "      <td>3.0</td>\n",
              "      <td>3.0</td>\n",
              "      <td>1</td>\n",
              "      <td>2.0</td>\n",
              "      <td>5.0</td>\n",
              "      <td>3.3552</td>\n",
              "      <td>2</td>\n",
              "      <td>4</td>\n",
              "      <td>1</td>\n",
              "      <td>1</td>\n",
              "      <td>1</td>\n",
              "      <td>1</td>\n",
              "      <td>1.0</td>\n",
              "      <td>2</td>\n",
              "      <td>1</td>\n",
              "      <td>1</td>\n",
              "      <td>99</td>\n",
              "    </tr>\n",
              "    <tr>\n",
              "      <th>2</th>\n",
              "      <td>Rwanda</td>\n",
              "      <td>RW000000000001</td>\n",
              "      <td>RW00000000000107</td>\n",
              "      <td>RW000069</td>\n",
              "      <td>City of Kigali</td>\n",
              "      <td>Female</td>\n",
              "      <td>30</td>\n",
              "      <td>3.0</td>\n",
              "      <td>3.0</td>\n",
              "      <td>NaN</td>\n",
              "      <td>1.0</td>\n",
              "      <td>5.0</td>\n",
              "      <td>NaN</td>\n",
              "      <td>NaN</td>\n",
              "      <td>NaN</td>\n",
              "      <td>20.0</td>\n",
              "      <td>NaN</td>\n",
              "      <td>0.0</td>\n",
              "      <td>NaN</td>\n",
              "      <td>NaN</td>\n",
              "      <td>NaN</td>\n",
              "      <td>NaN</td>\n",
              "      <td>NaN</td>\n",
              "      <td>NaN</td>\n",
              "      <td>NaN</td>\n",
              "      <td></td>\n",
              "      <td></td>\n",
              "      <td></td>\n",
              "      <td></td>\n",
              "      <td>NaN</td>\n",
              "      <td>NaN</td>\n",
              "      <td>NaN</td>\n",
              "      <td>NaN</td>\n",
              "      <td>NaN</td>\n",
              "      <td>NaN</td>\n",
              "      <td>NaN</td>\n",
              "      <td>NaN</td>\n",
              "      <td>NaN</td>\n",
              "      <td>NaN</td>\n",
              "      <td>NaN</td>\n",
              "      <td>NaN</td>\n",
              "      <td>NaN</td>\n",
              "      <td>NaN</td>\n",
              "      <td>NaN</td>\n",
              "      <td>NaN</td>\n",
              "      <td>NaN</td>\n",
              "      <td>NaN</td>\n",
              "      <td>NaN</td>\n",
              "      <td>NaN</td>\n",
              "      <td>NaN</td>\n",
              "      <td>NaN</td>\n",
              "      <td>NaN</td>\n",
              "      <td>NaN</td>\n",
              "      <td>NaN</td>\n",
              "      <td>NaN</td>\n",
              "      <td>1.0</td>\n",
              "      <td>2013.0</td>\n",
              "      <td>2.0</td>\n",
              "      <td>NaN</td>\n",
              "      <td>NaN</td>\n",
              "      <td>NaN</td>\n",
              "      <td>3.0</td>\n",
              "      <td>1.0</td>\n",
              "      <td>1</td>\n",
              "      <td>2.0</td>\n",
              "      <td>5.0</td>\n",
              "      <td>3.3552</td>\n",
              "      <td>2</td>\n",
              "      <td>3</td>\n",
              "      <td>3</td>\n",
              "      <td>1</td>\n",
              "      <td>2</td>\n",
              "      <td>1</td>\n",
              "      <td>NaN</td>\n",
              "      <td>3</td>\n",
              "      <td>99</td>\n",
              "      <td>99</td>\n",
              "      <td>99</td>\n",
              "    </tr>\n",
              "    <tr>\n",
              "      <th>3</th>\n",
              "      <td>Rwanda</td>\n",
              "      <td>RW000000000001</td>\n",
              "      <td>RW00000000000108</td>\n",
              "      <td>RW000069</td>\n",
              "      <td>City of Kigali</td>\n",
              "      <td>Female</td>\n",
              "      <td>24</td>\n",
              "      <td>3.0</td>\n",
              "      <td>3.0</td>\n",
              "      <td>NaN</td>\n",
              "      <td>1.0</td>\n",
              "      <td>NaN</td>\n",
              "      <td>NaN</td>\n",
              "      <td>NaN</td>\n",
              "      <td>NaN</td>\n",
              "      <td>24.0</td>\n",
              "      <td>NaN</td>\n",
              "      <td>1.0</td>\n",
              "      <td>NaN</td>\n",
              "      <td>2.0</td>\n",
              "      <td>8.0</td>\n",
              "      <td>1.0</td>\n",
              "      <td>27.0</td>\n",
              "      <td>2.0</td>\n",
              "      <td>2.0</td>\n",
              "      <td></td>\n",
              "      <td></td>\n",
              "      <td></td>\n",
              "      <td></td>\n",
              "      <td>1.0</td>\n",
              "      <td>2.0</td>\n",
              "      <td>1.0</td>\n",
              "      <td>4.0</td>\n",
              "      <td>NaN</td>\n",
              "      <td>NaN</td>\n",
              "      <td>NaN</td>\n",
              "      <td>NaN</td>\n",
              "      <td>NaN</td>\n",
              "      <td>NaN</td>\n",
              "      <td>NaN</td>\n",
              "      <td>NaN</td>\n",
              "      <td>NaN</td>\n",
              "      <td>NaN</td>\n",
              "      <td>NaN</td>\n",
              "      <td>NaN</td>\n",
              "      <td>NaN</td>\n",
              "      <td>NaN</td>\n",
              "      <td>NaN</td>\n",
              "      <td>NaN</td>\n",
              "      <td>NaN</td>\n",
              "      <td>NaN</td>\n",
              "      <td>NaN</td>\n",
              "      <td>2.0</td>\n",
              "      <td>27.0</td>\n",
              "      <td>NaN</td>\n",
              "      <td>1.0</td>\n",
              "      <td>2018.0</td>\n",
              "      <td>2.0</td>\n",
              "      <td>NaN</td>\n",
              "      <td>NaN</td>\n",
              "      <td>NaN</td>\n",
              "      <td>4.0</td>\n",
              "      <td>3.0</td>\n",
              "      <td>1</td>\n",
              "      <td>2.0</td>\n",
              "      <td>5.0</td>\n",
              "      <td>3.3552</td>\n",
              "      <td>2</td>\n",
              "      <td>3</td>\n",
              "      <td>5</td>\n",
              "      <td>1</td>\n",
              "      <td>1</td>\n",
              "      <td>1</td>\n",
              "      <td>1.0</td>\n",
              "      <td>2</td>\n",
              "      <td>8</td>\n",
              "      <td>2</td>\n",
              "      <td>2</td>\n",
              "    </tr>\n",
              "    <tr>\n",
              "      <th>4</th>\n",
              "      <td>Rwanda</td>\n",
              "      <td>RW000000000002</td>\n",
              "      <td>RW00000000000201</td>\n",
              "      <td>RW000259</td>\n",
              "      <td>City of Kigali</td>\n",
              "      <td>Male</td>\n",
              "      <td>42</td>\n",
              "      <td>2.0</td>\n",
              "      <td>6.0</td>\n",
              "      <td>NaN</td>\n",
              "      <td>1.0</td>\n",
              "      <td>NaN</td>\n",
              "      <td>1.0</td>\n",
              "      <td>NaN</td>\n",
              "      <td>35.0</td>\n",
              "      <td>22.0</td>\n",
              "      <td>NaN</td>\n",
              "      <td>1.0</td>\n",
              "      <td>NaN</td>\n",
              "      <td>2.0</td>\n",
              "      <td>8.0</td>\n",
              "      <td>2.0</td>\n",
              "      <td>35.0</td>\n",
              "      <td>2.0</td>\n",
              "      <td>2.0</td>\n",
              "      <td></td>\n",
              "      <td></td>\n",
              "      <td></td>\n",
              "      <td></td>\n",
              "      <td>2.0</td>\n",
              "      <td>2.0</td>\n",
              "      <td>2.0</td>\n",
              "      <td>5.0</td>\n",
              "      <td>NaN</td>\n",
              "      <td>NaN</td>\n",
              "      <td>NaN</td>\n",
              "      <td>NaN</td>\n",
              "      <td>NaN</td>\n",
              "      <td>NaN</td>\n",
              "      <td>NaN</td>\n",
              "      <td>NaN</td>\n",
              "      <td>NaN</td>\n",
              "      <td>NaN</td>\n",
              "      <td>NaN</td>\n",
              "      <td>NaN</td>\n",
              "      <td>NaN</td>\n",
              "      <td>NaN</td>\n",
              "      <td>NaN</td>\n",
              "      <td>NaN</td>\n",
              "      <td>NaN</td>\n",
              "      <td>NaN</td>\n",
              "      <td>NaN</td>\n",
              "      <td>2.0</td>\n",
              "      <td>22.0</td>\n",
              "      <td>NaN</td>\n",
              "      <td>1.0</td>\n",
              "      <td>2018.0</td>\n",
              "      <td>2.0</td>\n",
              "      <td>NaN</td>\n",
              "      <td>NaN</td>\n",
              "      <td>NaN</td>\n",
              "      <td>4.0</td>\n",
              "      <td>4.0</td>\n",
              "      <td>1</td>\n",
              "      <td>2.0</td>\n",
              "      <td>5.0</td>\n",
              "      <td>0.7455</td>\n",
              "      <td>2</td>\n",
              "      <td>2</td>\n",
              "      <td>5</td>\n",
              "      <td>1</td>\n",
              "      <td>1</td>\n",
              "      <td>1</td>\n",
              "      <td>1.0</td>\n",
              "      <td>2</td>\n",
              "      <td>8</td>\n",
              "      <td>2</td>\n",
              "      <td>2</td>\n",
              "    </tr>\n",
              "  </tbody>\n",
              "</table>\n",
              "</div>"
            ],
            "text/plain": [
              "   country  ... condomlastnonmaritalsex12months\n",
              "0  Rwanda   ...                              99\n",
              "1  Rwanda   ...                              99\n",
              "2  Rwanda   ...                              99\n",
              "3  Rwanda   ...                               2\n",
              "4  Rwanda   ...                               2\n",
              "\n",
              "[5 rows x 78 columns]"
            ]
          },
          "metadata": {},
          "execution_count": 3
        }
      ]
    },
    {
      "cell_type": "code",
      "metadata": {
        "id": "BwWcRsn1k9qe",
        "colab": {
          "base_uri": "https://localhost:8080/",
          "height": 360
        },
        "outputId": "b09d29db-144d-4c80-9c77-e78c466c025b"
      },
      "source": [
        "df=ddf\n",
        "df[\"province\"]=df[\"province\"].map({\"City of Kigali\": \"kigali\", \"North\":\"north\",\"South\":\"south\",\"West\":\"west\",\"East\":\"east\"})\n",
        "df['schlhi'] = df['schlhi'].map({1.0: \"NURSERY\", 2.0: \"PRIMARY\", 3.0:\"SECONDARY\", 4.0:\"HIGHER\", -8.0:\"DON'T KNOW\", \n",
        "                     -9.0:\"REFUSED\" }) \n",
        "df[\"work12mo\"]=df[\"work12mo\"].map({1.0: \"YES\", 2.0: \"NO\", -8.0:\"DON'T KNOW\", -9.0:\"REFUSED\" })\n",
        "df[\"curmar\"]=df[\"curmar\"].map({1.0: \"MARRIED\", 2.0: \"LIVING TOGETHER\", 3.0:\"WIDOWED\", 4.0:\"DIVORCED\",5.0:\"SEPARATED\",\n",
        "                      -8.0:\"DON'T KNOW\", -9.0:\"REFUSED\" })\n",
        "df[\"mcstatus\"]=df[\"mcstatus\"].map({1.0: \"YES\", 2.0: \"NO\", -8.0:\"DON'T KNOW\", -9.0:\"REFUSED\" })\n",
        "df[\"firstsxagedk\"]=df[\"firstsxagedk\"].map({96.0: \"NEVER HAD VAGINAL SEX\", -7.0: \"OUT OF RANGE\", -8.0:\"DON'T KNOW\", -9.0:\"REFUSED\" })\n",
        "df[\"part12modkr\"]=df[\"part12modkr\"].map({-8.0:\"DON'T KNOW\", -9.0:\"REFUSED\" })\n",
        "df[\"partlivew1\"]=df[\"partlivew1\"].map({1: \"YES\", 2: \"NO\" })\n",
        "df[\"partrelation1\"]=df[\"partrelation1\"].map({1.0: \"HUSBAND/WIFE\", 2.0: \"LIVE-IN PARTNER\", 3.0:\"PARTNER NOT LIVING WITH RESPONDENT\", \n",
        "                             4.0:\"EX-SPOUSE/EX-PARTNER\",5.0:\"FRIEND/ACQUAINTANCE\",6.0:\"SEX WORKER\",\n",
        "                             7.0:\"SEX WORKER CLIENT\", 8.0:\"STRANGER\",9.0:\"OTHER (SPECIFY)\",\n",
        "                             -8.0:\"DON'T KNOW\", -9.0:\"REFUSED\" })\n",
        "df[\"partgend1\"]=df[\"partgend1\"].map({1.0: \"MALE\", 2.0: \"FEMALE\", -8.0:\"DON'T KNOW\", -9.0:\"REFUSED\" })\n",
        "df[\"partlastcndm1\"]=df[\"partlastcndm1\"].map({1.0: \"YES\", 2.0: \"NO\", -8.0:\"DON'T KNOW\", -9.0:\"REFUSED\" })\n",
        "df[\"partlastsup1\"]=df[\"partlastsup1\"].map({1.0: \"YES\", 2.0: \"NO\", -8.0:\"DON'T KNOW\", -9.0:\"REFUSED\" })\n",
        "df[\"partagain1\"]=df[\"partagain1\"].map({1.0: \"YES\", 2.0: \"NO\", -8.0:\"DON'T KNOW\", -9.0:\"REFUSED\" })\n",
        "df[\"partknowhiv1\"]=df[\"partknowhiv1\"].map({1.0: \"YES\", 2.0: \"NO\", -8.0:\"DON'T KNOW\", -9.0:\"REFUSED\" })\n",
        "df[\"parthivtest1\"]=df[\"parthivtest1\"].map({1.0: \"YES\", 2.0: \"NO\", -8.0:\"DON'T KNOW\", -9.0:\"REFUSED\" })\n",
        "df[\"parthivsat1\"]=df[\"parthivsat1\"].map({1.0: \"I think he/she is positive\", 2.0:\"he/she told me he/she is positive\", \n",
        "                           3.0:\"he/she is positive, tested together\", \n",
        "                           4.0: \"I think he/she is negative\", 5.0: \"He/she told me he/she is negative\",\n",
        "                           6.0:\"He/she is negative, tested together\",\n",
        "                           7:\"Don't know status\", -9:\"Refused\"})\n",
        "df[\"partrelation2\"]=df[\"partrelation2\"].map({1.0: \"HUSBAND/WIFE\", 2.0: \"LIVE-IN PARTNER\", 3.0:\"PARTNER NOT LIVING WITH RESPONDENT\", \n",
        "                             4.0:\"EX-SPOUSE/EX-PARTNER\",5.0:\"FRIEND/ACQUAINTANCE\",6.0:\"SEX WORKER\",\n",
        "                             7.0:\"SEX WORKER CLIENT\", 8.0:\"STRANGER\",9.0:\"OTHER (SPECIFY)\",\n",
        "                             -8.0:\"DON'T KNOW\", -9.0:\"REFUSED\" })\n",
        "df[\"partgend2\"]=df[\"partgend2\"].map({1.0: \"MALE\", 2.0: \"FEMALE\", -8.0:\"DON'T KNOW\", -9.0:\"REFUSED\" })\n",
        "df[\"partlastcndm2\"]=df[\"partlastcndm2\"].map({1.0: \"YES\", 2.0: \"NO\", -8.0:\"DON'T KNOW\", -9.0:\"REFUSED\" })\n",
        "df[\"partlastsup2\"]=df[\"partlastsup2\"].map({1.0: \"YES\", 2.0: \"NO\", -8.0:\"DON'T KNOW\", -9.0:\"REFUSED\" })\n",
        "df[\"partagain2\"]=df[\"partagain2\"].map({1.0: \"YES\", 2.0: \"NO\", -8.0:\"DON'T KNOW\", -9.0:\"REFUSED\" })\n",
        "df[\"partknowhiv2\"]=df[\"partknowhiv2\"].map({1.0: \"YES\", 2.0: \"NO\", -8.0:\"DON'T KNOW\", -9.0:\"REFUSED\" })\n",
        "df[\"parthivtest2\"]=df[\"parthivtest2\"].map({1.0: \"YES\", 2.0: \"NO\", -8.0:\"DON'T KNOW\", -9.0:\"REFUSED\" })\n",
        "df[\"parthivsat2\"]=df[\"parthivsat2\"].map({1.0: \"I think he/she is positive\", 2.0:\"he/she told me he/she is positive\", \n",
        "                           3.0:\"he/she is positive, tested together\", \n",
        "                           4.0: \"I think he/she is negative\", 5: \"He/she told me he/she is negative\",\n",
        "                           6.0:\"He/she is negative, tested together\",\n",
        "                           7.0:\"Don't know status\", -9.0:\"Refused\"})\n",
        "df[\"partrelation3\"]=df[\"partrelation3\"].map({1.0: \"HUSBAND/WIFE\", 2.0: \"LIVE-IN PARTNER\", 3.0:\"PARTNER NOT LIVING WITH RESPONDENT\", \n",
        "                             4.0:\"EX-SPOUSE/EX-PARTNER\",5.0:\"FRIEND/ACQUAINTANCE\",6.0:\"SEX WORKER\",\n",
        "                             7.0:\"SEX WORKER CLIENT\", 8.0:\"STRANGER\",9.0:\"OTHER (SPECIFY)\",\n",
        "                             -8.0:\"DON'T KNOW\", -9.0:\"REFUSED\" })\n",
        "df[\"partgend3\"]=df[\"partgend3\"].map({1.0: \"MALE\", 2.0: \"FEMALE\", -8.0:\"DON'T KNOW\", -9.0:\"REFUSED\" })\n",
        "df[\"partlastcndm3\"]=df[\"partlastcndm3\"].map({1.0: \"YES\", 2.0: \"NO\", -8.0:\"DON'T KNOW\", -9.0:\"REFUSED\" })\n",
        "df[\"partlastsup3\"]=df[\"partlastsup3\"].map({1.0: \"YES\", 2.0: \"NO\", -8.0:\"DON'T KNOW\", -9.0:\"REFUSED\" })\n",
        "\n",
        "df[\"partknowhiv3\"]=df[\"partknowhiv3\"].map({1.0: \"YES\", 2.0: \"NO\", -8.0:\"DON'T KNOW\", -9.0:\"REFUSED\" })\n",
        "df[\"parthivtest3\"]=df[\"parthivtest3\"].map({1.0: \"YES\", 2.0: \"NO\", -8.0:\"DON'T KNOW\", -9.0:\"REFUSED\" })\n",
        "df[\"parthivsat3\"]=df[\"parthivsat3\"].map({1.0: \"I think he/she is positive\", 2.0:\"he/she told me he/she is positive\", \n",
        "                           3.0:\"he/she is positive, tested together\", \n",
        "                           4.0: \"I think he/she is negative\", 5.0: \"He/she told me he/she is negative\",\n",
        "                           6.0:\"He/she is negative, tested together\",\n",
        "                           7.0:\"Don't know status\", -9.0:\"Refused\"})\n",
        "df[\"analsxever\"]=df[\"analsxever\"].map({1.0: \"YES\", 2.0: \"NO\", -8.0:\"DON'T KNOW\", -9.0:\"REFUSED\" })\n",
        "df[\"hivtstrslt\"]=df[\"hivtstrslt\"].map({1.0: \"POSITIVE\", 2.0: \"NEGATIVE\", 3.0:\"UNCERTAIN/INDETERMINATE\",\n",
        "                          4.0:\"DID NOT RECEIVE THE RESULT\",-8.0:\"DON'T KNOW\", -9.0:\"REFUSED\" })\n",
        "df[\"attitude1\"]=df[\"attitude1\"].map({1.0: \"STRONGLY AGREE\", 2.0: \"AGREE\", 3.0:\"DISAGREE\",\n",
        "                          4.0:\"STRONGLY DISAGREE\",-8.0:\"DON'T KNOW\", -9.0:\"REFUSED\" })\n",
        "df[\"attitude2\"]=df[\"attitude2\"].map({1.0: \"STRONGLY AGREE\", 2.0: \"AGREE\", 3.0:\"DISAGREE\",\n",
        "                          4.0:\"STRONGLY DISAGREE\",-8.0:\"DON'T KNOW\", -9.0:\"REFUSED\" })\n",
        "df[\"urban\"]=df[\"urban\"].map({1: \"Urban\", 2: \"Rural\" })\n",
        "df[\"known_hiv_status\"]=df[\"known_hiv_status\"].map({1.0: \"STATED HIV POSITIVE\", 2.0: \"STATED HIV NEGATIVE\",99.0:\"NEVER TESTED\",\n",
        "                                -8.0:\"Don’tKnow/Refused/Unknown/Intdeterminate/ResultsNot Received\"})\n",
        "df[\"wealthquintile\"]=df[\"wealthquintile\"].map({1.0: \"Lowest\", 2.0: \"Second\",3.0:\"Middle\",\n",
        "                                4.0:\"Fourth\", 5.0:\"Highest\",99.0:\"Missing\"})\n",
        "df[\"hivstatusfinal\"]=df[\"hivstatusfinal\"].map({1: \"HIV Positive\", 2: \"HIV Negative\", 99:\"Missing\"})\n",
        "df[\"educationrwanda\"]=df[\"educationrwanda\"].map({1: \"No education\", 2: \"Primary\", 3:\"Secondary\", 4:\"More than Secondary\", 99:\"Missing\"})\n",
        "df[\"hhrmarital\"]=df[\"hhrmarital\"].map({1: \"MARRIED/COHABITING/LIVINGTOGETHER\", 2: \"DIVORCED\", 3:\"SEPARATED\", 4:\"WIDOWED\",5:\"NEVER-MARRIED\", 99:\"Missing\"})\n",
        "df[\"sex12months\"]=df[\"sex12months\"].map({1: \"Yes\", 2: \"No\", 99:\"Missing\"})\n",
        "df[\"sexever\"]=df[\"sexever\"].map({1: \"Yes\", 2: \"No\", 99:\"Missing\"})\n",
        "df[\"lastpartner\"]=df[\"lastpartner\"].map({1.0: \"partner 1\", 2.0: \"partner 2\", 3.0:\"partner 3\"})\n",
        "df[\"condomlastsex12months\"]=df[\"condomlastsex12months\"].map({1: \"used condom\", 2: \"no condom \", 3:\"no sex\",99:\"Missing\"})\n",
        "df[\"lastpartnerrelation12months\"]=df[\"lastpartnerrelation12months\"].map({1: \"husband or wife\", 2: \"live-in partner\", 3:\"not live-in partner\", 4:\"ex-spouse or ex-partner\",\n",
        "                                           5:\"riend/acquaintance\",6:\"sex worker\",7:\"sexworker client\",\n",
        "                                           8:\"stranger\",9:\"other relationship\",99:\"Missing\"})\n",
        "df.head()"
      ],
      "execution_count": null,
      "outputs": [
        {
          "output_type": "execute_result",
          "data": {
            "text/html": [
              "<div>\n",
              "<style scoped>\n",
              "    .dataframe tbody tr th:only-of-type {\n",
              "        vertical-align: middle;\n",
              "    }\n",
              "\n",
              "    .dataframe tbody tr th {\n",
              "        vertical-align: top;\n",
              "    }\n",
              "\n",
              "    .dataframe thead th {\n",
              "        text-align: right;\n",
              "    }\n",
              "</style>\n",
              "<table border=\"1\" class=\"dataframe\">\n",
              "  <thead>\n",
              "    <tr style=\"text-align: right;\">\n",
              "      <th></th>\n",
              "      <th>country</th>\n",
              "      <th>householdid</th>\n",
              "      <th>personid</th>\n",
              "      <th>centroidid</th>\n",
              "      <th>province</th>\n",
              "      <th>gender</th>\n",
              "      <th>age</th>\n",
              "      <th>schlhi</th>\n",
              "      <th>schcom</th>\n",
              "      <th>schomdk</th>\n",
              "      <th>work12mo</th>\n",
              "      <th>curmar</th>\n",
              "      <th>mcstatus</th>\n",
              "      <th>mcplans</th>\n",
              "      <th>mcage</th>\n",
              "      <th>firstsxage</th>\n",
              "      <th>firstsxagedk</th>\n",
              "      <th>part12monum</th>\n",
              "      <th>part12modkr</th>\n",
              "      <th>partlivew1</th>\n",
              "      <th>partrelation1</th>\n",
              "      <th>partgend1</th>\n",
              "      <th>partage1</th>\n",
              "      <th>partlastcndm1</th>\n",
              "      <th>partlastsup1</th>\n",
              "      <th>partlastsupwhat_a1</th>\n",
              "      <th>partlastsupwhat_b1</th>\n",
              "      <th>partlastsupwhat_f1</th>\n",
              "      <th>partlastsupwhat_x1</th>\n",
              "      <th>partagain1</th>\n",
              "      <th>partknowhiv1</th>\n",
              "      <th>parthivtest1</th>\n",
              "      <th>parthivsat1</th>\n",
              "      <th>partrelation2</th>\n",
              "      <th>partgend2</th>\n",
              "      <th>partage2</th>\n",
              "      <th>partagedk2</th>\n",
              "      <th>partlastcndm2</th>\n",
              "      <th>partlastsup2</th>\n",
              "      <th>partagain2</th>\n",
              "      <th>partknowhiv2</th>\n",
              "      <th>parthivtest2</th>\n",
              "      <th>parthivsat2</th>\n",
              "      <th>partrelation3</th>\n",
              "      <th>partgend3</th>\n",
              "      <th>partage3</th>\n",
              "      <th>partagedk3</th>\n",
              "      <th>partlastcndm3</th>\n",
              "      <th>partlastsup3</th>\n",
              "      <th>partknowhiv3</th>\n",
              "      <th>parthivtest3</th>\n",
              "      <th>parthivsat3</th>\n",
              "      <th>analsxever</th>\n",
              "      <th>firstsexphysf</th>\n",
              "      <th>firstsexphysfdk</th>\n",
              "      <th>hivtstever</th>\n",
              "      <th>hivtesty</th>\n",
              "      <th>hivtstrslt</th>\n",
              "      <th>hivtfposy</th>\n",
              "      <th>hivstathide</th>\n",
              "      <th>arvstakenev</th>\n",
              "      <th>attitude1</th>\n",
              "      <th>attitude2</th>\n",
              "      <th>urban</th>\n",
              "      <th>known_hiv_status</th>\n",
              "      <th>wealthquintile</th>\n",
              "      <th>wealthscorecont</th>\n",
              "      <th>hivstatusfinal</th>\n",
              "      <th>educationrwanda</th>\n",
              "      <th>hhrmarital</th>\n",
              "      <th>evertested</th>\n",
              "      <th>sex12months</th>\n",
              "      <th>sexever</th>\n",
              "      <th>lastpartner</th>\n",
              "      <th>condomlastsex12months</th>\n",
              "      <th>lastpartnerrelation12months</th>\n",
              "      <th>allpartnersspouselivein12months</th>\n",
              "      <th>condomlastnonmaritalsex12months</th>\n",
              "    </tr>\n",
              "  </thead>\n",
              "  <tbody>\n",
              "    <tr>\n",
              "      <th>0</th>\n",
              "      <td>Rwanda</td>\n",
              "      <td>RW000000000001</td>\n",
              "      <td>RW00000000000101</td>\n",
              "      <td>RW000069</td>\n",
              "      <td>kigali</td>\n",
              "      <td>Female</td>\n",
              "      <td>42</td>\n",
              "      <td>SECONDARY</td>\n",
              "      <td>1.0</td>\n",
              "      <td>NaN</td>\n",
              "      <td>YES</td>\n",
              "      <td>MARRIED</td>\n",
              "      <td>NaN</td>\n",
              "      <td>NaN</td>\n",
              "      <td>NaN</td>\n",
              "      <td>28.0</td>\n",
              "      <td>NaN</td>\n",
              "      <td>1.0</td>\n",
              "      <td>NaN</td>\n",
              "      <td>YES</td>\n",
              "      <td>HUSBAND/WIFE</td>\n",
              "      <td>MALE</td>\n",
              "      <td>44.0</td>\n",
              "      <td>NO</td>\n",
              "      <td>NO</td>\n",
              "      <td></td>\n",
              "      <td></td>\n",
              "      <td></td>\n",
              "      <td></td>\n",
              "      <td>YES</td>\n",
              "      <td>YES</td>\n",
              "      <td>NO</td>\n",
              "      <td>He/she told me he/she is negative</td>\n",
              "      <td>NaN</td>\n",
              "      <td>NaN</td>\n",
              "      <td>NaN</td>\n",
              "      <td>NaN</td>\n",
              "      <td>NaN</td>\n",
              "      <td>NaN</td>\n",
              "      <td>NaN</td>\n",
              "      <td>NaN</td>\n",
              "      <td>NaN</td>\n",
              "      <td>NaN</td>\n",
              "      <td>NaN</td>\n",
              "      <td>NaN</td>\n",
              "      <td>NaN</td>\n",
              "      <td>NaN</td>\n",
              "      <td>NaN</td>\n",
              "      <td>NaN</td>\n",
              "      <td>NaN</td>\n",
              "      <td>NaN</td>\n",
              "      <td>NaN</td>\n",
              "      <td>NO</td>\n",
              "      <td>NaN</td>\n",
              "      <td>-8.0</td>\n",
              "      <td>1.0</td>\n",
              "      <td>2018.0</td>\n",
              "      <td>NEGATIVE</td>\n",
              "      <td>NaN</td>\n",
              "      <td>NaN</td>\n",
              "      <td>NaN</td>\n",
              "      <td>DISAGREE</td>\n",
              "      <td>DISAGREE</td>\n",
              "      <td>Urban</td>\n",
              "      <td>STATED HIV NEGATIVE</td>\n",
              "      <td>Highest</td>\n",
              "      <td>3.3552</td>\n",
              "      <td>HIV Negative</td>\n",
              "      <td>Secondary</td>\n",
              "      <td>MARRIED/COHABITING/LIVINGTOGETHER</td>\n",
              "      <td>1</td>\n",
              "      <td>Yes</td>\n",
              "      <td>Yes</td>\n",
              "      <td>partner 1</td>\n",
              "      <td>no condom</td>\n",
              "      <td>husband or wife</td>\n",
              "      <td>1</td>\n",
              "      <td>99</td>\n",
              "    </tr>\n",
              "    <tr>\n",
              "      <th>1</th>\n",
              "      <td>Rwanda</td>\n",
              "      <td>RW000000000001</td>\n",
              "      <td>RW00000000000102</td>\n",
              "      <td>RW000069</td>\n",
              "      <td>kigali</td>\n",
              "      <td>Male</td>\n",
              "      <td>44</td>\n",
              "      <td>HIGHER</td>\n",
              "      <td>2.0</td>\n",
              "      <td>NaN</td>\n",
              "      <td>YES</td>\n",
              "      <td>MARRIED</td>\n",
              "      <td>YES</td>\n",
              "      <td>NaN</td>\n",
              "      <td>10.0</td>\n",
              "      <td>17.0</td>\n",
              "      <td>NaN</td>\n",
              "      <td>1.0</td>\n",
              "      <td>NaN</td>\n",
              "      <td>YES</td>\n",
              "      <td>HUSBAND/WIFE</td>\n",
              "      <td>FEMALE</td>\n",
              "      <td>42.0</td>\n",
              "      <td>NO</td>\n",
              "      <td>NO</td>\n",
              "      <td></td>\n",
              "      <td></td>\n",
              "      <td></td>\n",
              "      <td></td>\n",
              "      <td>YES</td>\n",
              "      <td>YES</td>\n",
              "      <td>NO</td>\n",
              "      <td>He/she told me he/she is negative</td>\n",
              "      <td>NaN</td>\n",
              "      <td>NaN</td>\n",
              "      <td>NaN</td>\n",
              "      <td>NaN</td>\n",
              "      <td>NaN</td>\n",
              "      <td>NaN</td>\n",
              "      <td>NaN</td>\n",
              "      <td>NaN</td>\n",
              "      <td>NaN</td>\n",
              "      <td>NaN</td>\n",
              "      <td>NaN</td>\n",
              "      <td>NaN</td>\n",
              "      <td>NaN</td>\n",
              "      <td>NaN</td>\n",
              "      <td>NaN</td>\n",
              "      <td>NaN</td>\n",
              "      <td>NaN</td>\n",
              "      <td>NaN</td>\n",
              "      <td>NaN</td>\n",
              "      <td>NO</td>\n",
              "      <td>NaN</td>\n",
              "      <td>-8.0</td>\n",
              "      <td>1.0</td>\n",
              "      <td>2016.0</td>\n",
              "      <td>NEGATIVE</td>\n",
              "      <td>NaN</td>\n",
              "      <td>NaN</td>\n",
              "      <td>NaN</td>\n",
              "      <td>DISAGREE</td>\n",
              "      <td>DISAGREE</td>\n",
              "      <td>Urban</td>\n",
              "      <td>STATED HIV NEGATIVE</td>\n",
              "      <td>Highest</td>\n",
              "      <td>3.3552</td>\n",
              "      <td>HIV Negative</td>\n",
              "      <td>More than Secondary</td>\n",
              "      <td>MARRIED/COHABITING/LIVINGTOGETHER</td>\n",
              "      <td>1</td>\n",
              "      <td>Yes</td>\n",
              "      <td>Yes</td>\n",
              "      <td>partner 1</td>\n",
              "      <td>no condom</td>\n",
              "      <td>husband or wife</td>\n",
              "      <td>1</td>\n",
              "      <td>99</td>\n",
              "    </tr>\n",
              "    <tr>\n",
              "      <th>2</th>\n",
              "      <td>Rwanda</td>\n",
              "      <td>RW000000000001</td>\n",
              "      <td>RW00000000000107</td>\n",
              "      <td>RW000069</td>\n",
              "      <td>kigali</td>\n",
              "      <td>Female</td>\n",
              "      <td>30</td>\n",
              "      <td>SECONDARY</td>\n",
              "      <td>3.0</td>\n",
              "      <td>NaN</td>\n",
              "      <td>YES</td>\n",
              "      <td>SEPARATED</td>\n",
              "      <td>NaN</td>\n",
              "      <td>NaN</td>\n",
              "      <td>NaN</td>\n",
              "      <td>20.0</td>\n",
              "      <td>NaN</td>\n",
              "      <td>0.0</td>\n",
              "      <td>NaN</td>\n",
              "      <td>NaN</td>\n",
              "      <td>NaN</td>\n",
              "      <td>NaN</td>\n",
              "      <td>NaN</td>\n",
              "      <td>NaN</td>\n",
              "      <td>NaN</td>\n",
              "      <td></td>\n",
              "      <td></td>\n",
              "      <td></td>\n",
              "      <td></td>\n",
              "      <td>NaN</td>\n",
              "      <td>NaN</td>\n",
              "      <td>NaN</td>\n",
              "      <td>NaN</td>\n",
              "      <td>NaN</td>\n",
              "      <td>NaN</td>\n",
              "      <td>NaN</td>\n",
              "      <td>NaN</td>\n",
              "      <td>NaN</td>\n",
              "      <td>NaN</td>\n",
              "      <td>NaN</td>\n",
              "      <td>NaN</td>\n",
              "      <td>NaN</td>\n",
              "      <td>NaN</td>\n",
              "      <td>NaN</td>\n",
              "      <td>NaN</td>\n",
              "      <td>NaN</td>\n",
              "      <td>NaN</td>\n",
              "      <td>NaN</td>\n",
              "      <td>NaN</td>\n",
              "      <td>NaN</td>\n",
              "      <td>NaN</td>\n",
              "      <td>NaN</td>\n",
              "      <td>NaN</td>\n",
              "      <td>NaN</td>\n",
              "      <td>NaN</td>\n",
              "      <td>1.0</td>\n",
              "      <td>2013.0</td>\n",
              "      <td>NEGATIVE</td>\n",
              "      <td>NaN</td>\n",
              "      <td>NaN</td>\n",
              "      <td>NaN</td>\n",
              "      <td>DISAGREE</td>\n",
              "      <td>STRONGLY AGREE</td>\n",
              "      <td>Urban</td>\n",
              "      <td>STATED HIV NEGATIVE</td>\n",
              "      <td>Highest</td>\n",
              "      <td>3.3552</td>\n",
              "      <td>HIV Negative</td>\n",
              "      <td>Secondary</td>\n",
              "      <td>SEPARATED</td>\n",
              "      <td>1</td>\n",
              "      <td>No</td>\n",
              "      <td>Yes</td>\n",
              "      <td>NaN</td>\n",
              "      <td>no sex</td>\n",
              "      <td>Missing</td>\n",
              "      <td>99</td>\n",
              "      <td>99</td>\n",
              "    </tr>\n",
              "    <tr>\n",
              "      <th>3</th>\n",
              "      <td>Rwanda</td>\n",
              "      <td>RW000000000001</td>\n",
              "      <td>RW00000000000108</td>\n",
              "      <td>RW000069</td>\n",
              "      <td>kigali</td>\n",
              "      <td>Female</td>\n",
              "      <td>24</td>\n",
              "      <td>SECONDARY</td>\n",
              "      <td>3.0</td>\n",
              "      <td>NaN</td>\n",
              "      <td>YES</td>\n",
              "      <td>NaN</td>\n",
              "      <td>NaN</td>\n",
              "      <td>NaN</td>\n",
              "      <td>NaN</td>\n",
              "      <td>24.0</td>\n",
              "      <td>NaN</td>\n",
              "      <td>1.0</td>\n",
              "      <td>NaN</td>\n",
              "      <td>NO</td>\n",
              "      <td>STRANGER</td>\n",
              "      <td>MALE</td>\n",
              "      <td>27.0</td>\n",
              "      <td>NO</td>\n",
              "      <td>NO</td>\n",
              "      <td></td>\n",
              "      <td></td>\n",
              "      <td></td>\n",
              "      <td></td>\n",
              "      <td>YES</td>\n",
              "      <td>NO</td>\n",
              "      <td>YES</td>\n",
              "      <td>I think he/she is negative</td>\n",
              "      <td>NaN</td>\n",
              "      <td>NaN</td>\n",
              "      <td>NaN</td>\n",
              "      <td>NaN</td>\n",
              "      <td>NaN</td>\n",
              "      <td>NaN</td>\n",
              "      <td>NaN</td>\n",
              "      <td>NaN</td>\n",
              "      <td>NaN</td>\n",
              "      <td>NaN</td>\n",
              "      <td>NaN</td>\n",
              "      <td>NaN</td>\n",
              "      <td>NaN</td>\n",
              "      <td>NaN</td>\n",
              "      <td>NaN</td>\n",
              "      <td>NaN</td>\n",
              "      <td>NaN</td>\n",
              "      <td>NaN</td>\n",
              "      <td>NaN</td>\n",
              "      <td>NO</td>\n",
              "      <td>27.0</td>\n",
              "      <td>NaN</td>\n",
              "      <td>1.0</td>\n",
              "      <td>2018.0</td>\n",
              "      <td>NEGATIVE</td>\n",
              "      <td>NaN</td>\n",
              "      <td>NaN</td>\n",
              "      <td>NaN</td>\n",
              "      <td>STRONGLY DISAGREE</td>\n",
              "      <td>DISAGREE</td>\n",
              "      <td>Urban</td>\n",
              "      <td>STATED HIV NEGATIVE</td>\n",
              "      <td>Highest</td>\n",
              "      <td>3.3552</td>\n",
              "      <td>HIV Negative</td>\n",
              "      <td>Secondary</td>\n",
              "      <td>NEVER-MARRIED</td>\n",
              "      <td>1</td>\n",
              "      <td>Yes</td>\n",
              "      <td>Yes</td>\n",
              "      <td>partner 1</td>\n",
              "      <td>no condom</td>\n",
              "      <td>stranger</td>\n",
              "      <td>2</td>\n",
              "      <td>2</td>\n",
              "    </tr>\n",
              "    <tr>\n",
              "      <th>4</th>\n",
              "      <td>Rwanda</td>\n",
              "      <td>RW000000000002</td>\n",
              "      <td>RW00000000000201</td>\n",
              "      <td>RW000259</td>\n",
              "      <td>kigali</td>\n",
              "      <td>Male</td>\n",
              "      <td>42</td>\n",
              "      <td>PRIMARY</td>\n",
              "      <td>6.0</td>\n",
              "      <td>NaN</td>\n",
              "      <td>YES</td>\n",
              "      <td>NaN</td>\n",
              "      <td>YES</td>\n",
              "      <td>NaN</td>\n",
              "      <td>35.0</td>\n",
              "      <td>22.0</td>\n",
              "      <td>NaN</td>\n",
              "      <td>1.0</td>\n",
              "      <td>NaN</td>\n",
              "      <td>NO</td>\n",
              "      <td>STRANGER</td>\n",
              "      <td>FEMALE</td>\n",
              "      <td>35.0</td>\n",
              "      <td>NO</td>\n",
              "      <td>NO</td>\n",
              "      <td></td>\n",
              "      <td></td>\n",
              "      <td></td>\n",
              "      <td></td>\n",
              "      <td>NO</td>\n",
              "      <td>NO</td>\n",
              "      <td>NO</td>\n",
              "      <td>He/she told me he/she is negative</td>\n",
              "      <td>NaN</td>\n",
              "      <td>NaN</td>\n",
              "      <td>NaN</td>\n",
              "      <td>NaN</td>\n",
              "      <td>NaN</td>\n",
              "      <td>NaN</td>\n",
              "      <td>NaN</td>\n",
              "      <td>NaN</td>\n",
              "      <td>NaN</td>\n",
              "      <td>NaN</td>\n",
              "      <td>NaN</td>\n",
              "      <td>NaN</td>\n",
              "      <td>NaN</td>\n",
              "      <td>NaN</td>\n",
              "      <td>NaN</td>\n",
              "      <td>NaN</td>\n",
              "      <td>NaN</td>\n",
              "      <td>NaN</td>\n",
              "      <td>NaN</td>\n",
              "      <td>NO</td>\n",
              "      <td>22.0</td>\n",
              "      <td>NaN</td>\n",
              "      <td>1.0</td>\n",
              "      <td>2018.0</td>\n",
              "      <td>NEGATIVE</td>\n",
              "      <td>NaN</td>\n",
              "      <td>NaN</td>\n",
              "      <td>NaN</td>\n",
              "      <td>STRONGLY DISAGREE</td>\n",
              "      <td>STRONGLY DISAGREE</td>\n",
              "      <td>Urban</td>\n",
              "      <td>STATED HIV NEGATIVE</td>\n",
              "      <td>Highest</td>\n",
              "      <td>0.7455</td>\n",
              "      <td>HIV Negative</td>\n",
              "      <td>Primary</td>\n",
              "      <td>NEVER-MARRIED</td>\n",
              "      <td>1</td>\n",
              "      <td>Yes</td>\n",
              "      <td>Yes</td>\n",
              "      <td>partner 1</td>\n",
              "      <td>no condom</td>\n",
              "      <td>stranger</td>\n",
              "      <td>2</td>\n",
              "      <td>2</td>\n",
              "    </tr>\n",
              "  </tbody>\n",
              "</table>\n",
              "</div>"
            ],
            "text/plain": [
              "   country  ... condomlastnonmaritalsex12months\n",
              "0  Rwanda   ...                              99\n",
              "1  Rwanda   ...                              99\n",
              "2  Rwanda   ...                              99\n",
              "3  Rwanda   ...                               2\n",
              "4  Rwanda   ...                               2\n",
              "\n",
              "[5 rows x 78 columns]"
            ]
          },
          "metadata": {},
          "execution_count": 9
        }
      ]
    },
    {
      "cell_type": "code",
      "metadata": {
        "id": "DvDidrrdsED1",
        "colab": {
          "base_uri": "https://localhost:8080/",
          "height": 292
        },
        "outputId": "7e97d6c2-1cd8-4c2d-8152-50962082660d"
      },
      "source": [
        "df=df.drop(['schcom','schomdk','mcplans','partlastsupwhat_a1','partlastsupwhat_b1',\n",
        "            'partlastsupwhat_f1','partlastsupwhat_x1','firstsexphysf','firstsexphysfdk','hivtstever',\n",
        "            'hivstathide','arvstakenev','wealthscorecont','evertested','allpartnersspouselivein12months',\n",
        "            'condomlastnonmaritalsex12months','known_hiv_status',\n",
        "             'mcage', 'partlivew1', 'partagain1', 'parthivtest1', 'parthivsat1', 'sex12months', 'sexever',\n",
        "            'condomlastsex12months', 'lastpartnerrelation12months'], axis=1)\n",
        "df.head()"
      ],
      "execution_count": null,
      "outputs": [
        {
          "output_type": "execute_result",
          "data": {
            "text/html": [
              "<div>\n",
              "<style scoped>\n",
              "    .dataframe tbody tr th:only-of-type {\n",
              "        vertical-align: middle;\n",
              "    }\n",
              "\n",
              "    .dataframe tbody tr th {\n",
              "        vertical-align: top;\n",
              "    }\n",
              "\n",
              "    .dataframe thead th {\n",
              "        text-align: right;\n",
              "    }\n",
              "</style>\n",
              "<table border=\"1\" class=\"dataframe\">\n",
              "  <thead>\n",
              "    <tr style=\"text-align: right;\">\n",
              "      <th></th>\n",
              "      <th>country</th>\n",
              "      <th>householdid</th>\n",
              "      <th>personid</th>\n",
              "      <th>centroidid</th>\n",
              "      <th>province</th>\n",
              "      <th>gender</th>\n",
              "      <th>age</th>\n",
              "      <th>schlhi</th>\n",
              "      <th>work12mo</th>\n",
              "      <th>curmar</th>\n",
              "      <th>mcstatus</th>\n",
              "      <th>firstsxage</th>\n",
              "      <th>firstsxagedk</th>\n",
              "      <th>part12monum</th>\n",
              "      <th>part12modkr</th>\n",
              "      <th>partrelation1</th>\n",
              "      <th>partgend1</th>\n",
              "      <th>partage1</th>\n",
              "      <th>partlastcndm1</th>\n",
              "      <th>partlastsup1</th>\n",
              "      <th>partknowhiv1</th>\n",
              "      <th>partrelation2</th>\n",
              "      <th>partgend2</th>\n",
              "      <th>partage2</th>\n",
              "      <th>partagedk2</th>\n",
              "      <th>partlastcndm2</th>\n",
              "      <th>partlastsup2</th>\n",
              "      <th>partagain2</th>\n",
              "      <th>partknowhiv2</th>\n",
              "      <th>parthivtest2</th>\n",
              "      <th>parthivsat2</th>\n",
              "      <th>partrelation3</th>\n",
              "      <th>partgend3</th>\n",
              "      <th>partage3</th>\n",
              "      <th>partagedk3</th>\n",
              "      <th>partlastcndm3</th>\n",
              "      <th>partlastsup3</th>\n",
              "      <th>partknowhiv3</th>\n",
              "      <th>parthivtest3</th>\n",
              "      <th>parthivsat3</th>\n",
              "      <th>analsxever</th>\n",
              "      <th>hivtesty</th>\n",
              "      <th>hivtstrslt</th>\n",
              "      <th>hivtfposy</th>\n",
              "      <th>attitude1</th>\n",
              "      <th>attitude2</th>\n",
              "      <th>urban</th>\n",
              "      <th>wealthquintile</th>\n",
              "      <th>hivstatusfinal</th>\n",
              "      <th>educationrwanda</th>\n",
              "      <th>hhrmarital</th>\n",
              "      <th>lastpartner</th>\n",
              "    </tr>\n",
              "  </thead>\n",
              "  <tbody>\n",
              "    <tr>\n",
              "      <th>0</th>\n",
              "      <td>Rwanda</td>\n",
              "      <td>RW000000000001</td>\n",
              "      <td>RW00000000000101</td>\n",
              "      <td>RW000069</td>\n",
              "      <td>kigali</td>\n",
              "      <td>Female</td>\n",
              "      <td>42</td>\n",
              "      <td>SECONDARY</td>\n",
              "      <td>YES</td>\n",
              "      <td>MARRIED</td>\n",
              "      <td>NaN</td>\n",
              "      <td>28.0</td>\n",
              "      <td>NaN</td>\n",
              "      <td>1.0</td>\n",
              "      <td>NaN</td>\n",
              "      <td>HUSBAND/WIFE</td>\n",
              "      <td>MALE</td>\n",
              "      <td>44.0</td>\n",
              "      <td>NO</td>\n",
              "      <td>NO</td>\n",
              "      <td>YES</td>\n",
              "      <td>NaN</td>\n",
              "      <td>NaN</td>\n",
              "      <td>NaN</td>\n",
              "      <td>NaN</td>\n",
              "      <td>NaN</td>\n",
              "      <td>NaN</td>\n",
              "      <td>NaN</td>\n",
              "      <td>NaN</td>\n",
              "      <td>NaN</td>\n",
              "      <td>NaN</td>\n",
              "      <td>NaN</td>\n",
              "      <td>NaN</td>\n",
              "      <td>NaN</td>\n",
              "      <td>NaN</td>\n",
              "      <td>NaN</td>\n",
              "      <td>NaN</td>\n",
              "      <td>NaN</td>\n",
              "      <td>NaN</td>\n",
              "      <td>NaN</td>\n",
              "      <td>NO</td>\n",
              "      <td>2018.0</td>\n",
              "      <td>NEGATIVE</td>\n",
              "      <td>NaN</td>\n",
              "      <td>DISAGREE</td>\n",
              "      <td>DISAGREE</td>\n",
              "      <td>Urban</td>\n",
              "      <td>Highest</td>\n",
              "      <td>HIV Negative</td>\n",
              "      <td>Secondary</td>\n",
              "      <td>MARRIED/COHABITING/LIVINGTOGETHER</td>\n",
              "      <td>partner 1</td>\n",
              "    </tr>\n",
              "    <tr>\n",
              "      <th>1</th>\n",
              "      <td>Rwanda</td>\n",
              "      <td>RW000000000001</td>\n",
              "      <td>RW00000000000102</td>\n",
              "      <td>RW000069</td>\n",
              "      <td>kigali</td>\n",
              "      <td>Male</td>\n",
              "      <td>44</td>\n",
              "      <td>HIGHER</td>\n",
              "      <td>YES</td>\n",
              "      <td>MARRIED</td>\n",
              "      <td>YES</td>\n",
              "      <td>17.0</td>\n",
              "      <td>NaN</td>\n",
              "      <td>1.0</td>\n",
              "      <td>NaN</td>\n",
              "      <td>HUSBAND/WIFE</td>\n",
              "      <td>FEMALE</td>\n",
              "      <td>42.0</td>\n",
              "      <td>NO</td>\n",
              "      <td>NO</td>\n",
              "      <td>YES</td>\n",
              "      <td>NaN</td>\n",
              "      <td>NaN</td>\n",
              "      <td>NaN</td>\n",
              "      <td>NaN</td>\n",
              "      <td>NaN</td>\n",
              "      <td>NaN</td>\n",
              "      <td>NaN</td>\n",
              "      <td>NaN</td>\n",
              "      <td>NaN</td>\n",
              "      <td>NaN</td>\n",
              "      <td>NaN</td>\n",
              "      <td>NaN</td>\n",
              "      <td>NaN</td>\n",
              "      <td>NaN</td>\n",
              "      <td>NaN</td>\n",
              "      <td>NaN</td>\n",
              "      <td>NaN</td>\n",
              "      <td>NaN</td>\n",
              "      <td>NaN</td>\n",
              "      <td>NO</td>\n",
              "      <td>2016.0</td>\n",
              "      <td>NEGATIVE</td>\n",
              "      <td>NaN</td>\n",
              "      <td>DISAGREE</td>\n",
              "      <td>DISAGREE</td>\n",
              "      <td>Urban</td>\n",
              "      <td>Highest</td>\n",
              "      <td>HIV Negative</td>\n",
              "      <td>More than Secondary</td>\n",
              "      <td>MARRIED/COHABITING/LIVINGTOGETHER</td>\n",
              "      <td>partner 1</td>\n",
              "    </tr>\n",
              "    <tr>\n",
              "      <th>2</th>\n",
              "      <td>Rwanda</td>\n",
              "      <td>RW000000000001</td>\n",
              "      <td>RW00000000000107</td>\n",
              "      <td>RW000069</td>\n",
              "      <td>kigali</td>\n",
              "      <td>Female</td>\n",
              "      <td>30</td>\n",
              "      <td>SECONDARY</td>\n",
              "      <td>YES</td>\n",
              "      <td>SEPARATED</td>\n",
              "      <td>NaN</td>\n",
              "      <td>20.0</td>\n",
              "      <td>NaN</td>\n",
              "      <td>0.0</td>\n",
              "      <td>NaN</td>\n",
              "      <td>NaN</td>\n",
              "      <td>NaN</td>\n",
              "      <td>NaN</td>\n",
              "      <td>NaN</td>\n",
              "      <td>NaN</td>\n",
              "      <td>NaN</td>\n",
              "      <td>NaN</td>\n",
              "      <td>NaN</td>\n",
              "      <td>NaN</td>\n",
              "      <td>NaN</td>\n",
              "      <td>NaN</td>\n",
              "      <td>NaN</td>\n",
              "      <td>NaN</td>\n",
              "      <td>NaN</td>\n",
              "      <td>NaN</td>\n",
              "      <td>NaN</td>\n",
              "      <td>NaN</td>\n",
              "      <td>NaN</td>\n",
              "      <td>NaN</td>\n",
              "      <td>NaN</td>\n",
              "      <td>NaN</td>\n",
              "      <td>NaN</td>\n",
              "      <td>NaN</td>\n",
              "      <td>NaN</td>\n",
              "      <td>NaN</td>\n",
              "      <td>NaN</td>\n",
              "      <td>2013.0</td>\n",
              "      <td>NEGATIVE</td>\n",
              "      <td>NaN</td>\n",
              "      <td>DISAGREE</td>\n",
              "      <td>STRONGLY AGREE</td>\n",
              "      <td>Urban</td>\n",
              "      <td>Highest</td>\n",
              "      <td>HIV Negative</td>\n",
              "      <td>Secondary</td>\n",
              "      <td>SEPARATED</td>\n",
              "      <td>NaN</td>\n",
              "    </tr>\n",
              "    <tr>\n",
              "      <th>3</th>\n",
              "      <td>Rwanda</td>\n",
              "      <td>RW000000000001</td>\n",
              "      <td>RW00000000000108</td>\n",
              "      <td>RW000069</td>\n",
              "      <td>kigali</td>\n",
              "      <td>Female</td>\n",
              "      <td>24</td>\n",
              "      <td>SECONDARY</td>\n",
              "      <td>YES</td>\n",
              "      <td>NaN</td>\n",
              "      <td>NaN</td>\n",
              "      <td>24.0</td>\n",
              "      <td>NaN</td>\n",
              "      <td>1.0</td>\n",
              "      <td>NaN</td>\n",
              "      <td>STRANGER</td>\n",
              "      <td>MALE</td>\n",
              "      <td>27.0</td>\n",
              "      <td>NO</td>\n",
              "      <td>NO</td>\n",
              "      <td>NO</td>\n",
              "      <td>NaN</td>\n",
              "      <td>NaN</td>\n",
              "      <td>NaN</td>\n",
              "      <td>NaN</td>\n",
              "      <td>NaN</td>\n",
              "      <td>NaN</td>\n",
              "      <td>NaN</td>\n",
              "      <td>NaN</td>\n",
              "      <td>NaN</td>\n",
              "      <td>NaN</td>\n",
              "      <td>NaN</td>\n",
              "      <td>NaN</td>\n",
              "      <td>NaN</td>\n",
              "      <td>NaN</td>\n",
              "      <td>NaN</td>\n",
              "      <td>NaN</td>\n",
              "      <td>NaN</td>\n",
              "      <td>NaN</td>\n",
              "      <td>NaN</td>\n",
              "      <td>NO</td>\n",
              "      <td>2018.0</td>\n",
              "      <td>NEGATIVE</td>\n",
              "      <td>NaN</td>\n",
              "      <td>STRONGLY DISAGREE</td>\n",
              "      <td>DISAGREE</td>\n",
              "      <td>Urban</td>\n",
              "      <td>Highest</td>\n",
              "      <td>HIV Negative</td>\n",
              "      <td>Secondary</td>\n",
              "      <td>NEVER-MARRIED</td>\n",
              "      <td>partner 1</td>\n",
              "    </tr>\n",
              "    <tr>\n",
              "      <th>4</th>\n",
              "      <td>Rwanda</td>\n",
              "      <td>RW000000000002</td>\n",
              "      <td>RW00000000000201</td>\n",
              "      <td>RW000259</td>\n",
              "      <td>kigali</td>\n",
              "      <td>Male</td>\n",
              "      <td>42</td>\n",
              "      <td>PRIMARY</td>\n",
              "      <td>YES</td>\n",
              "      <td>NaN</td>\n",
              "      <td>YES</td>\n",
              "      <td>22.0</td>\n",
              "      <td>NaN</td>\n",
              "      <td>1.0</td>\n",
              "      <td>NaN</td>\n",
              "      <td>STRANGER</td>\n",
              "      <td>FEMALE</td>\n",
              "      <td>35.0</td>\n",
              "      <td>NO</td>\n",
              "      <td>NO</td>\n",
              "      <td>NO</td>\n",
              "      <td>NaN</td>\n",
              "      <td>NaN</td>\n",
              "      <td>NaN</td>\n",
              "      <td>NaN</td>\n",
              "      <td>NaN</td>\n",
              "      <td>NaN</td>\n",
              "      <td>NaN</td>\n",
              "      <td>NaN</td>\n",
              "      <td>NaN</td>\n",
              "      <td>NaN</td>\n",
              "      <td>NaN</td>\n",
              "      <td>NaN</td>\n",
              "      <td>NaN</td>\n",
              "      <td>NaN</td>\n",
              "      <td>NaN</td>\n",
              "      <td>NaN</td>\n",
              "      <td>NaN</td>\n",
              "      <td>NaN</td>\n",
              "      <td>NaN</td>\n",
              "      <td>NO</td>\n",
              "      <td>2018.0</td>\n",
              "      <td>NEGATIVE</td>\n",
              "      <td>NaN</td>\n",
              "      <td>STRONGLY DISAGREE</td>\n",
              "      <td>STRONGLY DISAGREE</td>\n",
              "      <td>Urban</td>\n",
              "      <td>Highest</td>\n",
              "      <td>HIV Negative</td>\n",
              "      <td>Primary</td>\n",
              "      <td>NEVER-MARRIED</td>\n",
              "      <td>partner 1</td>\n",
              "    </tr>\n",
              "  </tbody>\n",
              "</table>\n",
              "</div>"
            ],
            "text/plain": [
              "   country      householdid  ...                         hhrmarital lastpartner\n",
              "0  Rwanda   RW000000000001   ...  MARRIED/COHABITING/LIVINGTOGETHER   partner 1\n",
              "1  Rwanda   RW000000000001   ...  MARRIED/COHABITING/LIVINGTOGETHER   partner 1\n",
              "2  Rwanda   RW000000000001   ...                          SEPARATED         NaN\n",
              "3  Rwanda   RW000000000001   ...                      NEVER-MARRIED   partner 1\n",
              "4  Rwanda   RW000000000002   ...                      NEVER-MARRIED   partner 1\n",
              "\n",
              "[5 rows x 52 columns]"
            ]
          },
          "metadata": {},
          "execution_count": 10
        }
      ]
    },
    {
      "cell_type": "markdown",
      "metadata": {
        "id": "dYbjah3H_ViF"
      },
      "source": [
        "Column to drop: indstatus, schcom, schomdk, mcplans,partlastsupwhat_a1, partlastsupwhat_b1,partlastsupwhat_f1, partlastsupwhat_x1,firstsexphysf, firstsexphysfdk,hivtstever, hivstathide, arvstakenev, wealthscorecont,evertested, allpartnersspouselivein12months, condomlastnonmaritalsex12months\n"
      ]
    },
    {
      "cell_type": "markdown",
      "metadata": {
        "id": "Kfog51Xv7KLu"
      },
      "source": [
        "variable description:<br>\n",
        "\n",
        "schlhi: highest level of\n",
        "school you attended <br>\n",
        "work12mo: Have you done any work in\n",
        "the last 12 months for which you received cash or goods as\n",
        "payment?<br>\n",
        "curmar: What is your marital status\n",
        "now: are you married, living\n",
        "together with someone as if\n",
        "married, widowed, divorced,\n",
        "or separated? <br>\n",
        "mcstatus: Are you circumcised? <br>\n",
        "mcage: How old were you when you\n",
        "were circumcised? <br>\n",
        "firstsxage: How old were you when you\n",
        "had vaginal sex for the very\n",
        "first time? Vaginal sex is\n",
        "when a penis enters a vagina.\n",
        "(bottom coded at 14 and top\n",
        "coded at 35)<br>\n",
        "firstsxagedk: Please provide the reason this\n",
        "previous question was left\n",
        "blank: How old were you\n",
        "when you had vaginal sex for\n",
        "the very first time? <br>\n",
        "part12monum: Number of people they had\n",
        "sex with in the last 12\n",
        "months. Note: The total\n",
        "number of sexual partners\n",
        "reported in the last 12 months\n",
        "may exceed the total number\n",
        "of reported lifetime sexual\n",
        "partners (e.g., partlifetm).\n",
        "(top coded at 6) <br>\n",
        "part12modkr: Please provide the reason this\n",
        "previous question was left\n",
        "blank: In total, with how many different people have\n",
        "you had sex in the last 12\n",
        "months? <br>\n",
        "partlivew1: Does the person you had sex\n",
        "with live in this household? <br>\n",
        "partrelation1:What is your relationship\n",
        "with [PARTNER'S NAME] ? <br>\n",
        "partgend1: Is [PARTNER'S NAME]\n",
        "male or female? <br>\n",
        "partage1: How old is [PARTNER'S\n",
        "NAME] ? Please give your\n",
        "best guess. (bottom coded at\n",
        "14 and top coded at 80) <br>\n",
        "partlastcndm1: The last time you had sex\n",
        "with [PARTNER'S NAME]\n",
        "was a condom used? <br>\n",
        "partlastsup1: Did you enter into a sexual\n",
        "relationship with\n",
        "[PARTNER'S NAME]\n",
        "because [PARTNER'S\n",
        "NAME] provided you with or you expected that\n",
        "[PARTNER'S NAME]\n",
        "would provide you gifts, help\n",
        "you to pay for things, or help\n",
        "you in other ways?<br>\n",
        "partagain1: Do you expect to have sex\n",
        "with [PARTNER'S NAME]\n",
        "again? <br>\n",
        "partknowhiv1: Does [PARTNER'S NAME]\n",
        "know your HIV status? <br>\n",
        "parthivtest1: Have you ever taken an HIV\n",
        "test with [PARTNER'SNAME] ? <br>\n",
        "parthivsat1: What is the HIV status of\n",
        "[PARTNER'S NAME] ? <br>\n",
        "analsxever: Have you ever had anal sex? <Br>\n",
        "hivtesty: YEAR (What month and year was your last HIV test?) (bottom coded at 2000) <br>\n",
        "hivtstrslt: What was the result of that\n",
        "HIV test? <br>\n",
        "attitude1: IMPORTANCE OF\n",
        "UNIVERSAL TREATMENT\n",
        "To what extent do you agree\n",
        "with the following statement:\n",
        "I would not want to start\n",
        "treatment now when I am\n",
        "feeling healthy because only\n",
        "people who are very sick\n",
        "need to take ARVs. Do you\n",
        "strongly agree, agree,\n",
        "disagree, or strongly\n",
        "disagree? <br>\n",
        "attitude2: TREATMENT OPTIMISM\n",
        "To what extent do you agree\n",
        "with the following statement:I believe that ARVs can make\n",
        "people with HIV less likely to\n",
        "spread the virus. Do you\n",
        "strongly agree, agree,\n",
        "disagree, or strongly\n",
        "disagree? <br>\n",
        "urban: Urban Area Indicator<br>\n",
        "known_hiv_status: Known HIV Status <br>\n",
        "wealthquintile: Wealth quintile <br>\n",
        "hivstatusfinal : hiv1StatusFinalSurvey <br>\n",
        "educationrwanda: Education level<br>\n",
        "hhrmarital: What is name's current\n",
        "marital status? <br>\n",
        "sex12months: Flag if respondent had sexual\n",
        "intercourse in the past 12\n",
        "months.<br>\n",
        "sexever: Flag if person has ever had\n",
        "sexual intercourse <br>\n",
        "lastpartner: Last sex partner <br>\n",
        "condomlastsex12months: Indicator for used condom at\n",
        "last sexual encounter in the\n",
        "past 12 months <br>\n",
        "lastpartnerrelation12months: Relationship status with their\n",
        "last sex partner in the past 12\n",
        "months <br>\n",
        "\n",
        "\n",
        "\n",
        "\n",
        "\n",
        "\n",
        "\n",
        "\n",
        "\n",
        "\n",
        "\n",
        "\n",
        "\n",
        "\n",
        "\n",
        "\n",
        "\n",
        "\n"
      ]
    },
    {
      "cell_type": "markdown",
      "metadata": {
        "id": "Ng5WXuHtYv0V"
      },
      "source": [
        "# adding and changing columns"
      ]
    },
    {
      "cell_type": "code",
      "metadata": {
        "id": "BYdUbSCOY1WS",
        "colab": {
          "base_uri": "https://localhost:8080/",
          "height": 1000
        },
        "outputId": "73bf41ec-b8aa-4cdb-ed23-7e8e927a59e3"
      },
      "source": [
        "# replacing NaN in hiv staus final column column from column of other hiv status\n",
        "df.hivstatusfinal[df.hivstatusfinal == 'Missing'] = df.hivtstrslt\n",
        "df = df[df['hivstatusfinal'].notna()]\n",
        "df[\"hivstatusfinal\"]=df[\"hivstatusfinal\"].map({\"HIV Positive\": \"Positive\", \"HIV Negative\": \"Negative\", \"NEGATIVE\":\"Negative\"})\n",
        "\n",
        "# creating new variable of negative, old and new HIV infection\n",
        "filters = [\n",
        "   (df.hivstatusfinal == 'Negative'),\n",
        "   (df.hivstatusfinal == 'Positive') & (df.hivtesty >2017.0),\n",
        "   (df.hivstatusfinal == 'Positive') & (df.hivtesty <2017.0)\n",
        "]\n",
        "values = [\"Negative\", \"new_infection\", \"Old_infection\"]\n",
        "df[\"hiv_status\"] = np.select(filters, values)\n",
        "\n",
        "# replacing NaN in education column from column of other education column\n",
        "df.educationrwanda[df.educationrwanda == 'Missing'] = df.schlhi\n",
        "df['mcstatus'] = df['mcstatus'].replace(np.nan, 0)\n",
        "# replacing NaN in male circumcision column from column of gender column to replace female with female\n",
        "df.mcstatus[df.mcstatus == 0] = df.gender\n",
        "df[\"mcstatus\"]=df[\"mcstatus\"].map({\"NO\": \"NO\", \"YES\": \"YES\", \"Female\":\"Female_NA\",\"DON'T KNOW\":\"NO\",\"REFUSED\":\"NO\"})\n",
        "df['partage1'] = df['partage1'].replace(np.nan, 0)\n",
        "df.partage1[df.partage1 == 0] = df.partage2\n",
        "df.partage1[df.partage1 == 0] = df.partage3\n",
        "# age difference\n",
        "df['age_diff']=df['age']-df['partage1']\n",
        "df['age_diff']=df['age_diff'].abs()\n",
        "# df.head()\n",
        "# firstsxagedk\n",
        "df['firstsxage'] = df['firstsxage'].replace(np.nan, 0)\n",
        "# replacing NaN in male circumcision column from column of gender column to replace female with female\n",
        "df.firstsxage[df.firstsxage == 0] = df.firstsxagedk\n",
        "df.firstsxage.isnull().sum()\n",
        "df[\"firstsxage\"]=df[\"firstsxage\"].map({14.0:\"teens\",15.0:\"teens\",16.0:\"teens\",17.0:\"teens\",19.0: \"teens\",\n",
        "                                       20.0:\"youth\",21.0:\"youth\",22.0:\"youth\",23.0:\"youth\",24.0:\"youth\",25.0:\"youth\",26.0:\"youth\",\n",
        "                                       27.0:\"youth\",28.0:\"youth\",29.0:\"youth\",\n",
        "                                       30.0:\"mature\",31.0:\"mature\",32.0:\"mature\",33.0:\"mature\",34.0:\"mature\",35.0:\"mature\",\"NEVER HAD VAGINAL SEX\":\"NEVER HAD VAGINAL SEX\",\n",
        "                                       \"OUT OF RANGE\":\"OUT OF RANGE\",\n",
        "                                   \"REFUSED\":\"REFUSED\",\"DON'T KNOW\":\"DON'T KNOW\"})\n",
        "\n",
        "df[\"partrelation1\"]=df[\"partrelation1\"].map({\"HUSBAND/WIFE\": \"partner\", \"LIVE-IN PARTNER\":\"partner\",\"FRIEND/ACQUAINTANCE\":\"Friend\", \"PARTNER NOT LIVING WITH RESPONDENT\":\"Friend\",\n",
        "                                   \"EX-SPOUSE/EX-PARTNER\":\"Friend\",\"STRANGER\":\"sex worker\",\"SEX WORKER\":\"sex worker\",\"SEX WORKER CLIENT\":\"sex worker\",\n",
        "                                   \"REFUSED\":\"sex worker\",\"DON'T KNOW\":\"sex worker\"})\n",
        "df.partlastsup1[df.partlastsup1 == \"NO\"] = df.partrelation1\n",
        "df.partlastsup1[df.partlastsup1 == \"NO\"] = df.partlastsup2\n",
        "df.partlastsup1[df.partlastsup1 == \"NO\"] = df.partlastsup3\n",
        "df[\"partlastsup1\"]=df[\"partlastsup1\"].map({\"partner\": \"partner\",\"Friend\":\"friend\",\"YES\":\"sex worker\",\"sex worker\":\"sex worker\",\n",
        "                                   \"REFUSED\":\"sex worker\",\"DON'T KNOW\":\"sex worker\"})\n",
        "#  df.partlastsup1[df.partlastsup1].replace(np.nan, 0)\n",
        "df['partlastsup1'].fillna(0, inplace=True)\n",
        "df.partlastsup1[df.partlastsup1 == 0] = df.partlastsup2\n",
        "df.partlastsup1[df.partlastsup1 == 0] = df.partlastsup3\n",
        "df[\"partlastsup1\"]=df[\"partlastsup1\"].map({\"partner\": \"partner\",\"friend\":\"friend\",\"YES\":\"sex worker\",\"sex worker\":\"sex worker\",\n",
        "                                   \"REFUSED\":\"sex worker\",\"DON'T KNOW\":\"sex worker\"})\n",
        "\n",
        "df.head()\n",
        "\n"
      ],
      "execution_count": null,
      "outputs": [
        {
          "output_type": "stream",
          "text": [
            "/usr/local/lib/python3.7/dist-packages/ipykernel_launcher.py:2: SettingWithCopyWarning: \n",
            "A value is trying to be set on a copy of a slice from a DataFrame\n",
            "\n",
            "See the caveats in the documentation: https://pandas.pydata.org/pandas-docs/stable/user_guide/indexing.html#returning-a-view-versus-a-copy\n",
            "  \n",
            "/usr/local/lib/python3.7/dist-packages/ipykernel_launcher.py:16: SettingWithCopyWarning: \n",
            "A value is trying to be set on a copy of a slice from a DataFrame\n",
            "\n",
            "See the caveats in the documentation: https://pandas.pydata.org/pandas-docs/stable/user_guide/indexing.html#returning-a-view-versus-a-copy\n",
            "  app.launch_new_instance()\n",
            "/usr/local/lib/python3.7/dist-packages/ipykernel_launcher.py:19: SettingWithCopyWarning: \n",
            "A value is trying to be set on a copy of a slice from a DataFrame\n",
            "\n",
            "See the caveats in the documentation: https://pandas.pydata.org/pandas-docs/stable/user_guide/indexing.html#returning-a-view-versus-a-copy\n",
            "/usr/local/lib/python3.7/dist-packages/ipykernel_launcher.py:22: SettingWithCopyWarning: \n",
            "A value is trying to be set on a copy of a slice from a DataFrame\n",
            "\n",
            "See the caveats in the documentation: https://pandas.pydata.org/pandas-docs/stable/user_guide/indexing.html#returning-a-view-versus-a-copy\n",
            "/usr/local/lib/python3.7/dist-packages/ipykernel_launcher.py:23: SettingWithCopyWarning: \n",
            "A value is trying to be set on a copy of a slice from a DataFrame\n",
            "\n",
            "See the caveats in the documentation: https://pandas.pydata.org/pandas-docs/stable/user_guide/indexing.html#returning-a-view-versus-a-copy\n",
            "/usr/local/lib/python3.7/dist-packages/ipykernel_launcher.py:31: SettingWithCopyWarning: \n",
            "A value is trying to be set on a copy of a slice from a DataFrame\n",
            "\n",
            "See the caveats in the documentation: https://pandas.pydata.org/pandas-docs/stable/user_guide/indexing.html#returning-a-view-versus-a-copy\n",
            "/usr/local/lib/python3.7/dist-packages/ipykernel_launcher.py:43: SettingWithCopyWarning: \n",
            "A value is trying to be set on a copy of a slice from a DataFrame\n",
            "\n",
            "See the caveats in the documentation: https://pandas.pydata.org/pandas-docs/stable/user_guide/indexing.html#returning-a-view-versus-a-copy\n",
            "/usr/local/lib/python3.7/dist-packages/ipykernel_launcher.py:44: SettingWithCopyWarning: \n",
            "A value is trying to be set on a copy of a slice from a DataFrame\n",
            "\n",
            "See the caveats in the documentation: https://pandas.pydata.org/pandas-docs/stable/user_guide/indexing.html#returning-a-view-versus-a-copy\n",
            "/usr/local/lib/python3.7/dist-packages/ipykernel_launcher.py:45: SettingWithCopyWarning: \n",
            "A value is trying to be set on a copy of a slice from a DataFrame\n",
            "\n",
            "See the caveats in the documentation: https://pandas.pydata.org/pandas-docs/stable/user_guide/indexing.html#returning-a-view-versus-a-copy\n",
            "/usr/local/lib/python3.7/dist-packages/ipykernel_launcher.py:50: SettingWithCopyWarning: \n",
            "A value is trying to be set on a copy of a slice from a DataFrame\n",
            "\n",
            "See the caveats in the documentation: https://pandas.pydata.org/pandas-docs/stable/user_guide/indexing.html#returning-a-view-versus-a-copy\n",
            "/usr/local/lib/python3.7/dist-packages/ipykernel_launcher.py:51: SettingWithCopyWarning: \n",
            "A value is trying to be set on a copy of a slice from a DataFrame\n",
            "\n",
            "See the caveats in the documentation: https://pandas.pydata.org/pandas-docs/stable/user_guide/indexing.html#returning-a-view-versus-a-copy\n"
          ],
          "name": "stderr"
        },
        {
          "output_type": "execute_result",
          "data": {
            "text/html": [
              "<div>\n",
              "<style scoped>\n",
              "    .dataframe tbody tr th:only-of-type {\n",
              "        vertical-align: middle;\n",
              "    }\n",
              "\n",
              "    .dataframe tbody tr th {\n",
              "        vertical-align: top;\n",
              "    }\n",
              "\n",
              "    .dataframe thead th {\n",
              "        text-align: right;\n",
              "    }\n",
              "</style>\n",
              "<table border=\"1\" class=\"dataframe\">\n",
              "  <thead>\n",
              "    <tr style=\"text-align: right;\">\n",
              "      <th></th>\n",
              "      <th>country</th>\n",
              "      <th>householdid</th>\n",
              "      <th>personid</th>\n",
              "      <th>centroidid</th>\n",
              "      <th>province</th>\n",
              "      <th>gender</th>\n",
              "      <th>age</th>\n",
              "      <th>schlhi</th>\n",
              "      <th>work12mo</th>\n",
              "      <th>curmar</th>\n",
              "      <th>mcstatus</th>\n",
              "      <th>firstsxage</th>\n",
              "      <th>firstsxagedk</th>\n",
              "      <th>part12monum</th>\n",
              "      <th>part12modkr</th>\n",
              "      <th>partrelation1</th>\n",
              "      <th>partgend1</th>\n",
              "      <th>partage1</th>\n",
              "      <th>partlastcndm1</th>\n",
              "      <th>partlastsup1</th>\n",
              "      <th>partknowhiv1</th>\n",
              "      <th>partrelation2</th>\n",
              "      <th>partgend2</th>\n",
              "      <th>partage2</th>\n",
              "      <th>partagedk2</th>\n",
              "      <th>partlastcndm2</th>\n",
              "      <th>partlastsup2</th>\n",
              "      <th>partagain2</th>\n",
              "      <th>partknowhiv2</th>\n",
              "      <th>parthivtest2</th>\n",
              "      <th>parthivsat2</th>\n",
              "      <th>partrelation3</th>\n",
              "      <th>partgend3</th>\n",
              "      <th>partage3</th>\n",
              "      <th>partagedk3</th>\n",
              "      <th>partlastcndm3</th>\n",
              "      <th>partlastsup3</th>\n",
              "      <th>partknowhiv3</th>\n",
              "      <th>parthivtest3</th>\n",
              "      <th>parthivsat3</th>\n",
              "      <th>analsxever</th>\n",
              "      <th>hivtesty</th>\n",
              "      <th>hivtstrslt</th>\n",
              "      <th>hivtfposy</th>\n",
              "      <th>attitude1</th>\n",
              "      <th>attitude2</th>\n",
              "      <th>urban</th>\n",
              "      <th>wealthquintile</th>\n",
              "      <th>hivstatusfinal</th>\n",
              "      <th>educationrwanda</th>\n",
              "      <th>hhrmarital</th>\n",
              "      <th>lastpartner</th>\n",
              "      <th>hiv_status</th>\n",
              "      <th>age_diff</th>\n",
              "    </tr>\n",
              "  </thead>\n",
              "  <tbody>\n",
              "    <tr>\n",
              "      <th>0</th>\n",
              "      <td>Rwanda</td>\n",
              "      <td>RW000000000001</td>\n",
              "      <td>RW00000000000101</td>\n",
              "      <td>RW000069</td>\n",
              "      <td>kigali</td>\n",
              "      <td>Female</td>\n",
              "      <td>42</td>\n",
              "      <td>SECONDARY</td>\n",
              "      <td>YES</td>\n",
              "      <td>MARRIED</td>\n",
              "      <td>Female_NA</td>\n",
              "      <td>youth</td>\n",
              "      <td>NaN</td>\n",
              "      <td>1.0</td>\n",
              "      <td>NaN</td>\n",
              "      <td>partner</td>\n",
              "      <td>MALE</td>\n",
              "      <td>44.0</td>\n",
              "      <td>NO</td>\n",
              "      <td>partner</td>\n",
              "      <td>YES</td>\n",
              "      <td>NaN</td>\n",
              "      <td>NaN</td>\n",
              "      <td>NaN</td>\n",
              "      <td>NaN</td>\n",
              "      <td>NaN</td>\n",
              "      <td>NaN</td>\n",
              "      <td>NaN</td>\n",
              "      <td>NaN</td>\n",
              "      <td>NaN</td>\n",
              "      <td>NaN</td>\n",
              "      <td>NaN</td>\n",
              "      <td>NaN</td>\n",
              "      <td>NaN</td>\n",
              "      <td>NaN</td>\n",
              "      <td>NaN</td>\n",
              "      <td>NaN</td>\n",
              "      <td>NaN</td>\n",
              "      <td>NaN</td>\n",
              "      <td>NaN</td>\n",
              "      <td>NO</td>\n",
              "      <td>2018.0</td>\n",
              "      <td>NEGATIVE</td>\n",
              "      <td>NaN</td>\n",
              "      <td>DISAGREE</td>\n",
              "      <td>DISAGREE</td>\n",
              "      <td>Urban</td>\n",
              "      <td>Highest</td>\n",
              "      <td>Negative</td>\n",
              "      <td>Secondary</td>\n",
              "      <td>MARRIED/COHABITING/LIVINGTOGETHER</td>\n",
              "      <td>partner 1</td>\n",
              "      <td>Negative</td>\n",
              "      <td>2.0</td>\n",
              "    </tr>\n",
              "    <tr>\n",
              "      <th>1</th>\n",
              "      <td>Rwanda</td>\n",
              "      <td>RW000000000001</td>\n",
              "      <td>RW00000000000102</td>\n",
              "      <td>RW000069</td>\n",
              "      <td>kigali</td>\n",
              "      <td>Male</td>\n",
              "      <td>44</td>\n",
              "      <td>HIGHER</td>\n",
              "      <td>YES</td>\n",
              "      <td>MARRIED</td>\n",
              "      <td>YES</td>\n",
              "      <td>teens</td>\n",
              "      <td>NaN</td>\n",
              "      <td>1.0</td>\n",
              "      <td>NaN</td>\n",
              "      <td>partner</td>\n",
              "      <td>FEMALE</td>\n",
              "      <td>42.0</td>\n",
              "      <td>NO</td>\n",
              "      <td>partner</td>\n",
              "      <td>YES</td>\n",
              "      <td>NaN</td>\n",
              "      <td>NaN</td>\n",
              "      <td>NaN</td>\n",
              "      <td>NaN</td>\n",
              "      <td>NaN</td>\n",
              "      <td>NaN</td>\n",
              "      <td>NaN</td>\n",
              "      <td>NaN</td>\n",
              "      <td>NaN</td>\n",
              "      <td>NaN</td>\n",
              "      <td>NaN</td>\n",
              "      <td>NaN</td>\n",
              "      <td>NaN</td>\n",
              "      <td>NaN</td>\n",
              "      <td>NaN</td>\n",
              "      <td>NaN</td>\n",
              "      <td>NaN</td>\n",
              "      <td>NaN</td>\n",
              "      <td>NaN</td>\n",
              "      <td>NO</td>\n",
              "      <td>2016.0</td>\n",
              "      <td>NEGATIVE</td>\n",
              "      <td>NaN</td>\n",
              "      <td>DISAGREE</td>\n",
              "      <td>DISAGREE</td>\n",
              "      <td>Urban</td>\n",
              "      <td>Highest</td>\n",
              "      <td>Negative</td>\n",
              "      <td>More than Secondary</td>\n",
              "      <td>MARRIED/COHABITING/LIVINGTOGETHER</td>\n",
              "      <td>partner 1</td>\n",
              "      <td>Negative</td>\n",
              "      <td>2.0</td>\n",
              "    </tr>\n",
              "    <tr>\n",
              "      <th>2</th>\n",
              "      <td>Rwanda</td>\n",
              "      <td>RW000000000001</td>\n",
              "      <td>RW00000000000107</td>\n",
              "      <td>RW000069</td>\n",
              "      <td>kigali</td>\n",
              "      <td>Female</td>\n",
              "      <td>30</td>\n",
              "      <td>SECONDARY</td>\n",
              "      <td>YES</td>\n",
              "      <td>SEPARATED</td>\n",
              "      <td>Female_NA</td>\n",
              "      <td>youth</td>\n",
              "      <td>NaN</td>\n",
              "      <td>0.0</td>\n",
              "      <td>NaN</td>\n",
              "      <td>NaN</td>\n",
              "      <td>NaN</td>\n",
              "      <td>NaN</td>\n",
              "      <td>NaN</td>\n",
              "      <td>NaN</td>\n",
              "      <td>NaN</td>\n",
              "      <td>NaN</td>\n",
              "      <td>NaN</td>\n",
              "      <td>NaN</td>\n",
              "      <td>NaN</td>\n",
              "      <td>NaN</td>\n",
              "      <td>NaN</td>\n",
              "      <td>NaN</td>\n",
              "      <td>NaN</td>\n",
              "      <td>NaN</td>\n",
              "      <td>NaN</td>\n",
              "      <td>NaN</td>\n",
              "      <td>NaN</td>\n",
              "      <td>NaN</td>\n",
              "      <td>NaN</td>\n",
              "      <td>NaN</td>\n",
              "      <td>NaN</td>\n",
              "      <td>NaN</td>\n",
              "      <td>NaN</td>\n",
              "      <td>NaN</td>\n",
              "      <td>NaN</td>\n",
              "      <td>2013.0</td>\n",
              "      <td>NEGATIVE</td>\n",
              "      <td>NaN</td>\n",
              "      <td>DISAGREE</td>\n",
              "      <td>STRONGLY AGREE</td>\n",
              "      <td>Urban</td>\n",
              "      <td>Highest</td>\n",
              "      <td>Negative</td>\n",
              "      <td>Secondary</td>\n",
              "      <td>SEPARATED</td>\n",
              "      <td>NaN</td>\n",
              "      <td>Negative</td>\n",
              "      <td>NaN</td>\n",
              "    </tr>\n",
              "    <tr>\n",
              "      <th>3</th>\n",
              "      <td>Rwanda</td>\n",
              "      <td>RW000000000001</td>\n",
              "      <td>RW00000000000108</td>\n",
              "      <td>RW000069</td>\n",
              "      <td>kigali</td>\n",
              "      <td>Female</td>\n",
              "      <td>24</td>\n",
              "      <td>SECONDARY</td>\n",
              "      <td>YES</td>\n",
              "      <td>NaN</td>\n",
              "      <td>Female_NA</td>\n",
              "      <td>youth</td>\n",
              "      <td>NaN</td>\n",
              "      <td>1.0</td>\n",
              "      <td>NaN</td>\n",
              "      <td>sex worker</td>\n",
              "      <td>MALE</td>\n",
              "      <td>27.0</td>\n",
              "      <td>NO</td>\n",
              "      <td>sex worker</td>\n",
              "      <td>NO</td>\n",
              "      <td>NaN</td>\n",
              "      <td>NaN</td>\n",
              "      <td>NaN</td>\n",
              "      <td>NaN</td>\n",
              "      <td>NaN</td>\n",
              "      <td>NaN</td>\n",
              "      <td>NaN</td>\n",
              "      <td>NaN</td>\n",
              "      <td>NaN</td>\n",
              "      <td>NaN</td>\n",
              "      <td>NaN</td>\n",
              "      <td>NaN</td>\n",
              "      <td>NaN</td>\n",
              "      <td>NaN</td>\n",
              "      <td>NaN</td>\n",
              "      <td>NaN</td>\n",
              "      <td>NaN</td>\n",
              "      <td>NaN</td>\n",
              "      <td>NaN</td>\n",
              "      <td>NO</td>\n",
              "      <td>2018.0</td>\n",
              "      <td>NEGATIVE</td>\n",
              "      <td>NaN</td>\n",
              "      <td>STRONGLY DISAGREE</td>\n",
              "      <td>DISAGREE</td>\n",
              "      <td>Urban</td>\n",
              "      <td>Highest</td>\n",
              "      <td>Negative</td>\n",
              "      <td>Secondary</td>\n",
              "      <td>NEVER-MARRIED</td>\n",
              "      <td>partner 1</td>\n",
              "      <td>Negative</td>\n",
              "      <td>3.0</td>\n",
              "    </tr>\n",
              "    <tr>\n",
              "      <th>4</th>\n",
              "      <td>Rwanda</td>\n",
              "      <td>RW000000000002</td>\n",
              "      <td>RW00000000000201</td>\n",
              "      <td>RW000259</td>\n",
              "      <td>kigali</td>\n",
              "      <td>Male</td>\n",
              "      <td>42</td>\n",
              "      <td>PRIMARY</td>\n",
              "      <td>YES</td>\n",
              "      <td>NaN</td>\n",
              "      <td>YES</td>\n",
              "      <td>youth</td>\n",
              "      <td>NaN</td>\n",
              "      <td>1.0</td>\n",
              "      <td>NaN</td>\n",
              "      <td>sex worker</td>\n",
              "      <td>FEMALE</td>\n",
              "      <td>35.0</td>\n",
              "      <td>NO</td>\n",
              "      <td>sex worker</td>\n",
              "      <td>NO</td>\n",
              "      <td>NaN</td>\n",
              "      <td>NaN</td>\n",
              "      <td>NaN</td>\n",
              "      <td>NaN</td>\n",
              "      <td>NaN</td>\n",
              "      <td>NaN</td>\n",
              "      <td>NaN</td>\n",
              "      <td>NaN</td>\n",
              "      <td>NaN</td>\n",
              "      <td>NaN</td>\n",
              "      <td>NaN</td>\n",
              "      <td>NaN</td>\n",
              "      <td>NaN</td>\n",
              "      <td>NaN</td>\n",
              "      <td>NaN</td>\n",
              "      <td>NaN</td>\n",
              "      <td>NaN</td>\n",
              "      <td>NaN</td>\n",
              "      <td>NaN</td>\n",
              "      <td>NO</td>\n",
              "      <td>2018.0</td>\n",
              "      <td>NEGATIVE</td>\n",
              "      <td>NaN</td>\n",
              "      <td>STRONGLY DISAGREE</td>\n",
              "      <td>STRONGLY DISAGREE</td>\n",
              "      <td>Urban</td>\n",
              "      <td>Highest</td>\n",
              "      <td>Negative</td>\n",
              "      <td>Primary</td>\n",
              "      <td>NEVER-MARRIED</td>\n",
              "      <td>partner 1</td>\n",
              "      <td>Negative</td>\n",
              "      <td>7.0</td>\n",
              "    </tr>\n",
              "  </tbody>\n",
              "</table>\n",
              "</div>"
            ],
            "text/plain": [
              "   country      householdid           personid  ... lastpartner hiv_status age_diff\n",
              "0  Rwanda   RW000000000001   RW00000000000101   ...   partner 1   Negative      2.0\n",
              "1  Rwanda   RW000000000001   RW00000000000102   ...   partner 1   Negative      2.0\n",
              "2  Rwanda   RW000000000001   RW00000000000107   ...         NaN   Negative      NaN\n",
              "3  Rwanda   RW000000000001   RW00000000000108   ...   partner 1   Negative      3.0\n",
              "4  Rwanda   RW000000000002   RW00000000000201   ...   partner 1   Negative      7.0\n",
              "\n",
              "[5 rows x 54 columns]"
            ]
          },
          "metadata": {},
          "execution_count": 11
        }
      ]
    },
    {
      "cell_type": "code",
      "metadata": {
        "colab": {
          "base_uri": "https://localhost:8080/",
          "height": 292
        },
        "id": "WXEuPjj6qKac",
        "outputId": "1464c18b-48a1-4414-d6f4-b5fed95b46f6"
      },
      "source": [
        "data=df.drop(['country','householdid','personid','centroidid','province','schlhi','curmar','partrelation1','partgend1','partage1','partrelation2',\n",
        "              'partgend2','partage2','partagedk2','partlastcndm2','partlastsup2','partagain2','partknowhiv2','parthivtest2','parthivsat2',\n",
        "              'partrelation3','partgend3','partage3','partagedk3','partlastcndm3','partlastsup3','partknowhiv3','parthivtest3','parthivsat3',\n",
        "              'hivtfposy','lastpartner','firstsxagedk','part12modkr'], axis=1)\n",
        "data.head()"
      ],
      "execution_count": null,
      "outputs": [
        {
          "output_type": "execute_result",
          "data": {
            "text/html": [
              "<div>\n",
              "<style scoped>\n",
              "    .dataframe tbody tr th:only-of-type {\n",
              "        vertical-align: middle;\n",
              "    }\n",
              "\n",
              "    .dataframe tbody tr th {\n",
              "        vertical-align: top;\n",
              "    }\n",
              "\n",
              "    .dataframe thead th {\n",
              "        text-align: right;\n",
              "    }\n",
              "</style>\n",
              "<table border=\"1\" class=\"dataframe\">\n",
              "  <thead>\n",
              "    <tr style=\"text-align: right;\">\n",
              "      <th></th>\n",
              "      <th>gender</th>\n",
              "      <th>age</th>\n",
              "      <th>work12mo</th>\n",
              "      <th>mcstatus</th>\n",
              "      <th>firstsxage</th>\n",
              "      <th>part12monum</th>\n",
              "      <th>partlastcndm1</th>\n",
              "      <th>partlastsup1</th>\n",
              "      <th>partknowhiv1</th>\n",
              "      <th>analsxever</th>\n",
              "      <th>hivtesty</th>\n",
              "      <th>hivtstrslt</th>\n",
              "      <th>attitude1</th>\n",
              "      <th>attitude2</th>\n",
              "      <th>urban</th>\n",
              "      <th>wealthquintile</th>\n",
              "      <th>hivstatusfinal</th>\n",
              "      <th>educationrwanda</th>\n",
              "      <th>hhrmarital</th>\n",
              "      <th>hiv_status</th>\n",
              "      <th>age_diff</th>\n",
              "    </tr>\n",
              "  </thead>\n",
              "  <tbody>\n",
              "    <tr>\n",
              "      <th>0</th>\n",
              "      <td>Female</td>\n",
              "      <td>42</td>\n",
              "      <td>YES</td>\n",
              "      <td>Female_NA</td>\n",
              "      <td>youth</td>\n",
              "      <td>1.0</td>\n",
              "      <td>NO</td>\n",
              "      <td>partner</td>\n",
              "      <td>YES</td>\n",
              "      <td>NO</td>\n",
              "      <td>2018.0</td>\n",
              "      <td>NEGATIVE</td>\n",
              "      <td>DISAGREE</td>\n",
              "      <td>DISAGREE</td>\n",
              "      <td>Urban</td>\n",
              "      <td>Highest</td>\n",
              "      <td>Negative</td>\n",
              "      <td>Secondary</td>\n",
              "      <td>MARRIED/COHABITING/LIVINGTOGETHER</td>\n",
              "      <td>Negative</td>\n",
              "      <td>2.0</td>\n",
              "    </tr>\n",
              "    <tr>\n",
              "      <th>1</th>\n",
              "      <td>Male</td>\n",
              "      <td>44</td>\n",
              "      <td>YES</td>\n",
              "      <td>YES</td>\n",
              "      <td>teens</td>\n",
              "      <td>1.0</td>\n",
              "      <td>NO</td>\n",
              "      <td>partner</td>\n",
              "      <td>YES</td>\n",
              "      <td>NO</td>\n",
              "      <td>2016.0</td>\n",
              "      <td>NEGATIVE</td>\n",
              "      <td>DISAGREE</td>\n",
              "      <td>DISAGREE</td>\n",
              "      <td>Urban</td>\n",
              "      <td>Highest</td>\n",
              "      <td>Negative</td>\n",
              "      <td>More than Secondary</td>\n",
              "      <td>MARRIED/COHABITING/LIVINGTOGETHER</td>\n",
              "      <td>Negative</td>\n",
              "      <td>2.0</td>\n",
              "    </tr>\n",
              "    <tr>\n",
              "      <th>2</th>\n",
              "      <td>Female</td>\n",
              "      <td>30</td>\n",
              "      <td>YES</td>\n",
              "      <td>Female_NA</td>\n",
              "      <td>youth</td>\n",
              "      <td>0.0</td>\n",
              "      <td>NaN</td>\n",
              "      <td>NaN</td>\n",
              "      <td>NaN</td>\n",
              "      <td>NaN</td>\n",
              "      <td>2013.0</td>\n",
              "      <td>NEGATIVE</td>\n",
              "      <td>DISAGREE</td>\n",
              "      <td>STRONGLY AGREE</td>\n",
              "      <td>Urban</td>\n",
              "      <td>Highest</td>\n",
              "      <td>Negative</td>\n",
              "      <td>Secondary</td>\n",
              "      <td>SEPARATED</td>\n",
              "      <td>Negative</td>\n",
              "      <td>NaN</td>\n",
              "    </tr>\n",
              "    <tr>\n",
              "      <th>3</th>\n",
              "      <td>Female</td>\n",
              "      <td>24</td>\n",
              "      <td>YES</td>\n",
              "      <td>Female_NA</td>\n",
              "      <td>youth</td>\n",
              "      <td>1.0</td>\n",
              "      <td>NO</td>\n",
              "      <td>sex worker</td>\n",
              "      <td>NO</td>\n",
              "      <td>NO</td>\n",
              "      <td>2018.0</td>\n",
              "      <td>NEGATIVE</td>\n",
              "      <td>STRONGLY DISAGREE</td>\n",
              "      <td>DISAGREE</td>\n",
              "      <td>Urban</td>\n",
              "      <td>Highest</td>\n",
              "      <td>Negative</td>\n",
              "      <td>Secondary</td>\n",
              "      <td>NEVER-MARRIED</td>\n",
              "      <td>Negative</td>\n",
              "      <td>3.0</td>\n",
              "    </tr>\n",
              "    <tr>\n",
              "      <th>4</th>\n",
              "      <td>Male</td>\n",
              "      <td>42</td>\n",
              "      <td>YES</td>\n",
              "      <td>YES</td>\n",
              "      <td>youth</td>\n",
              "      <td>1.0</td>\n",
              "      <td>NO</td>\n",
              "      <td>sex worker</td>\n",
              "      <td>NO</td>\n",
              "      <td>NO</td>\n",
              "      <td>2018.0</td>\n",
              "      <td>NEGATIVE</td>\n",
              "      <td>STRONGLY DISAGREE</td>\n",
              "      <td>STRONGLY DISAGREE</td>\n",
              "      <td>Urban</td>\n",
              "      <td>Highest</td>\n",
              "      <td>Negative</td>\n",
              "      <td>Primary</td>\n",
              "      <td>NEVER-MARRIED</td>\n",
              "      <td>Negative</td>\n",
              "      <td>7.0</td>\n",
              "    </tr>\n",
              "  </tbody>\n",
              "</table>\n",
              "</div>"
            ],
            "text/plain": [
              "   gender  age work12mo  ...                         hhrmarital hiv_status  age_diff\n",
              "0  Female   42      YES  ...  MARRIED/COHABITING/LIVINGTOGETHER   Negative       2.0\n",
              "1    Male   44      YES  ...  MARRIED/COHABITING/LIVINGTOGETHER   Negative       2.0\n",
              "2  Female   30      YES  ...                          SEPARATED   Negative       NaN\n",
              "3  Female   24      YES  ...                      NEVER-MARRIED   Negative       3.0\n",
              "4    Male   42      YES  ...                      NEVER-MARRIED   Negative       7.0\n",
              "\n",
              "[5 rows x 21 columns]"
            ]
          },
          "metadata": {},
          "execution_count": 12
        }
      ]
    },
    {
      "cell_type": "code",
      "metadata": {
        "colab": {
          "base_uri": "https://localhost:8080/",
          "height": 17
        },
        "id": "wVfZD2rtvU2u",
        "outputId": "f8fec7d4-632e-4ab0-8c24-39d746a7477a"
      },
      "source": [
        "# data_dd=data[['age','firstsxage','AgeGroup_fsx','firstsxagedk','part12monum','part12modkr']]\n",
        "# # Save submission file\n",
        "# data_dd.to_csv('data_edi.csv')\n",
        "# files.download('data_edi.csv')"
      ],
      "execution_count": null,
      "outputs": [
        {
          "output_type": "display_data",
          "data": {
            "application/javascript": [
              "\n",
              "    async function download(id, filename, size) {\n",
              "      if (!google.colab.kernel.accessAllowed) {\n",
              "        return;\n",
              "      }\n",
              "      const div = document.createElement('div');\n",
              "      const label = document.createElement('label');\n",
              "      label.textContent = `Downloading \"${filename}\": `;\n",
              "      div.appendChild(label);\n",
              "      const progress = document.createElement('progress');\n",
              "      progress.max = size;\n",
              "      div.appendChild(progress);\n",
              "      document.body.appendChild(div);\n",
              "\n",
              "      const buffers = [];\n",
              "      let downloaded = 0;\n",
              "\n",
              "      const channel = await google.colab.kernel.comms.open(id);\n",
              "      // Send a message to notify the kernel that we're ready.\n",
              "      channel.send({})\n",
              "\n",
              "      for await (const message of channel.messages) {\n",
              "        // Send a message to notify the kernel that we're ready.\n",
              "        channel.send({})\n",
              "        if (message.buffers) {\n",
              "          for (const buffer of message.buffers) {\n",
              "            buffers.push(buffer);\n",
              "            downloaded += buffer.byteLength;\n",
              "            progress.value = downloaded;\n",
              "          }\n",
              "        }\n",
              "      }\n",
              "      const blob = new Blob(buffers, {type: 'application/binary'});\n",
              "      const a = document.createElement('a');\n",
              "      a.href = window.URL.createObjectURL(blob);\n",
              "      a.download = filename;\n",
              "      div.appendChild(a);\n",
              "      a.click();\n",
              "      div.remove();\n",
              "    }\n",
              "  "
            ],
            "text/plain": [
              "<IPython.core.display.Javascript object>"
            ]
          },
          "metadata": {
            "tags": []
          }
        },
        {
          "output_type": "display_data",
          "data": {
            "application/javascript": [
              "download(\"download_711f78a0-4d73-43cb-9773-c8759723e1a5\", \"data_edi.csv\", 857203)"
            ],
            "text/plain": [
              "<IPython.core.display.Javascript object>"
            ]
          },
          "metadata": {
            "tags": []
          }
        }
      ]
    },
    {
      "cell_type": "code",
      "metadata": {
        "colab": {
          "base_uri": "https://localhost:8080/"
        },
        "id": "jBMxhZyQpWnu",
        "outputId": "cb3ae3a3-2ee7-425d-8d3a-29506c85554a"
      },
      "source": [
        "data['firstsxage'].value_counts()"
      ],
      "execution_count": null,
      "outputs": [
        {
          "output_type": "execute_result",
          "data": {
            "text/plain": [
              "youth                    11360\n",
              "teens                     7610\n",
              "NEVER HAD VAGINAL SEX     7208\n",
              "mature                     745\n",
              "DON'T KNOW                 103\n",
              "OUT OF RANGE                62\n",
              "REFUSED                     42\n",
              "Name: firstsxage, dtype: int64"
            ]
          },
          "metadata": {},
          "execution_count": 13
        }
      ]
    },
    {
      "cell_type": "code",
      "metadata": {
        "colab": {
          "base_uri": "https://localhost:8080/"
        },
        "id": "ID1w98XxoT-t",
        "outputId": "57314f6f-c028-4e31-ef58-a939729625d0"
      },
      "source": [
        "data['urban'].value_counts()"
      ],
      "execution_count": null,
      "outputs": [
        {
          "output_type": "execute_result",
          "data": {
            "text/plain": [
              "Rural    23016\n",
              "Urban     7693\n",
              "Name: urban, dtype: int64"
            ]
          },
          "metadata": {},
          "execution_count": 14
        }
      ]
    },
    {
      "cell_type": "code",
      "metadata": {
        "colab": {
          "base_uri": "https://localhost:8080/"
        },
        "id": "LAmuzkcHoy_a",
        "outputId": "55141fd4-4d1b-46b0-c30f-ec0e5027f91a"
      },
      "source": [
        "data['firstsxage'].value_counts()"
      ],
      "execution_count": null,
      "outputs": [
        {
          "output_type": "execute_result",
          "data": {
            "text/plain": [
              "youth                    11360\n",
              "teens                     7610\n",
              "NEVER HAD VAGINAL SEX     7208\n",
              "mature                     745\n",
              "DON'T KNOW                 103\n",
              "OUT OF RANGE                62\n",
              "REFUSED                     42\n",
              "Name: firstsxage, dtype: int64"
            ]
          },
          "metadata": {},
          "execution_count": 37
        }
      ]
    },
    {
      "cell_type": "code",
      "metadata": {
        "colab": {
          "base_uri": "https://localhost:8080/",
          "height": 224
        },
        "id": "uC5lYoYrotbJ",
        "outputId": "03841e59-ac89-48b5-e84e-b2ffc3e00644"
      },
      "source": [
        "data[\"gender\"]=data[\"gender\"].map({\"Female\": 1.0, \"Male\": 2.0 })\n",
        "data[\"work12mo\"]=data[\"work12mo\"].map({\"NO\": 0.0, \"YES\": 1.0, \"REFUSED\":1.0,\"DON'T KNOW\":1.0})\n",
        "data[\"mcstatus\"]=data[\"mcstatus\"].map({\"NO\": 0.0, \"YES\": 1.0, \"Female_NA\":2.0})\n",
        "data[\"firstsxage\"]=data[\"firstsxage\"].map({\"NEVER HAD VAGINAL SEX\": 0.0, \"teens\": 1.0, \"youth\":2.0, \"mature\":3.0,\"DON'T KNOW\":1.0,\"OUT OF RANGE\":3.0,\"REFUSED\":0.0})\n",
        "data[\"partlastcndm1\"]=data[\"partlastcndm1\"].map({\"NO\": 0.0, \"YES\": 1.0,\"DON'T KNOW\":1.0,\"REFUSED\":0.0})\n",
        "data[\"partlastsup1\"]=data[\"partlastsup1\"].map({\"partner\": 0.0, \"friend\": 1.0,\"sex worker\":2.0})\n",
        "data[\"partknowhiv1\"]=data[\"partknowhiv1\"].map({\"NO\": 0.0, \"YES\": 1.0,\"DON'T KNOW\":1.0,\"REFUSED\":0.0})\n",
        "data[\"analsxever\"]=data[\"analsxever\"].map({\"NO\": 0.0, \"YES\": 1.0,\"DON'T KNOW\":1.0,\"REFUSED\":0.0})\n",
        "data[\"attitude1\"]=data[\"attitude1\"].map({\"DISAGREE\": 1.0, \"STRONGLY DISAGREE\": 2.0,\"AGREE\":3.0,\"STRONGLY AGREE\":4.0,\"DON'T KNOW\":0.0,\"REFUSED\":0.0})\n",
        "data[\"attitude2\"]=data[\"attitude2\"].map({\"DISAGREE\": 1.0, \"STRONGLY DISAGREE\": 2.0,\"AGREE\":3.0,\"STRONGLY AGREE\":4.0,\"DON'T KNOW\":0.0,\"REFUSED\":0.0})\n",
        "data[\"urban\"]=data[\"urban\"].map({\"Rural\": 1.0, \"Urban\": 2.0})\n",
        "data[\"wealthquintile\"]=data[\"wealthquintile\"].map({\"Highest\": 1.0, \"Fourth\": 2.0,\"Middle\":3.0,\"Second\":4.0,\"Lowest\":5.0})\n",
        "data[\"hivstatusfinal\"]=data[\"hivstatusfinal\"].map({\"Negative\": 0.0, \"Positive\": 1.0})\n",
        "data[\"educationrwanda\"]=data[\"educationrwanda\"].map({\"Primary\": 1.0, \"Secondary\": 2.0,\"No education\":3.0,\"More than Secondary\":4.0,\"DON'T KNOW\":1.0,\"REFUSED\":1.0})\n",
        "data[\"hhrmarital\"]=data[\"hhrmarital\"].map({\"MARRIED/COHABITING/LIVINGTOGETHER\": 1.0, \"NEVER-MARRIED\": 2.0,\"SEPARATED\":3.0,\"WIDOWED\":4.0,\n",
        "                                           \"DIVORCED\":5.0,\"Missing\":1.0})\n",
        "data[\"hiv_status\"]=data[\"hiv_status\"].map({\"Negative\": 0.0, \"Old_infection\": 1.0,\"new_infection\":2.0,0:np.nan})\n",
        "data.head()\n"
      ],
      "execution_count": null,
      "outputs": [
        {
          "output_type": "execute_result",
          "data": {
            "text/html": [
              "<div>\n",
              "<style scoped>\n",
              "    .dataframe tbody tr th:only-of-type {\n",
              "        vertical-align: middle;\n",
              "    }\n",
              "\n",
              "    .dataframe tbody tr th {\n",
              "        vertical-align: top;\n",
              "    }\n",
              "\n",
              "    .dataframe thead th {\n",
              "        text-align: right;\n",
              "    }\n",
              "</style>\n",
              "<table border=\"1\" class=\"dataframe\">\n",
              "  <thead>\n",
              "    <tr style=\"text-align: right;\">\n",
              "      <th></th>\n",
              "      <th>gender</th>\n",
              "      <th>age</th>\n",
              "      <th>work12mo</th>\n",
              "      <th>mcstatus</th>\n",
              "      <th>firstsxage</th>\n",
              "      <th>part12monum</th>\n",
              "      <th>partlastcndm1</th>\n",
              "      <th>partlastsup1</th>\n",
              "      <th>partknowhiv1</th>\n",
              "      <th>analsxever</th>\n",
              "      <th>hivtesty</th>\n",
              "      <th>hivtstrslt</th>\n",
              "      <th>attitude1</th>\n",
              "      <th>attitude2</th>\n",
              "      <th>urban</th>\n",
              "      <th>wealthquintile</th>\n",
              "      <th>hivstatusfinal</th>\n",
              "      <th>educationrwanda</th>\n",
              "      <th>hhrmarital</th>\n",
              "      <th>hiv_status</th>\n",
              "      <th>age_diff</th>\n",
              "    </tr>\n",
              "  </thead>\n",
              "  <tbody>\n",
              "    <tr>\n",
              "      <th>0</th>\n",
              "      <td>1.0</td>\n",
              "      <td>42</td>\n",
              "      <td>1.0</td>\n",
              "      <td>2.0</td>\n",
              "      <td>2.0</td>\n",
              "      <td>1.0</td>\n",
              "      <td>0.0</td>\n",
              "      <td>0.0</td>\n",
              "      <td>1.0</td>\n",
              "      <td>0.0</td>\n",
              "      <td>2018.0</td>\n",
              "      <td>NEGATIVE</td>\n",
              "      <td>1.0</td>\n",
              "      <td>1.0</td>\n",
              "      <td>2.0</td>\n",
              "      <td>1.0</td>\n",
              "      <td>0.0</td>\n",
              "      <td>2.0</td>\n",
              "      <td>1.0</td>\n",
              "      <td>0.0</td>\n",
              "      <td>2.0</td>\n",
              "    </tr>\n",
              "    <tr>\n",
              "      <th>1</th>\n",
              "      <td>2.0</td>\n",
              "      <td>44</td>\n",
              "      <td>1.0</td>\n",
              "      <td>1.0</td>\n",
              "      <td>1.0</td>\n",
              "      <td>1.0</td>\n",
              "      <td>0.0</td>\n",
              "      <td>0.0</td>\n",
              "      <td>1.0</td>\n",
              "      <td>0.0</td>\n",
              "      <td>2016.0</td>\n",
              "      <td>NEGATIVE</td>\n",
              "      <td>1.0</td>\n",
              "      <td>1.0</td>\n",
              "      <td>2.0</td>\n",
              "      <td>1.0</td>\n",
              "      <td>0.0</td>\n",
              "      <td>4.0</td>\n",
              "      <td>1.0</td>\n",
              "      <td>0.0</td>\n",
              "      <td>2.0</td>\n",
              "    </tr>\n",
              "    <tr>\n",
              "      <th>2</th>\n",
              "      <td>1.0</td>\n",
              "      <td>30</td>\n",
              "      <td>1.0</td>\n",
              "      <td>2.0</td>\n",
              "      <td>2.0</td>\n",
              "      <td>0.0</td>\n",
              "      <td>NaN</td>\n",
              "      <td>NaN</td>\n",
              "      <td>NaN</td>\n",
              "      <td>NaN</td>\n",
              "      <td>2013.0</td>\n",
              "      <td>NEGATIVE</td>\n",
              "      <td>1.0</td>\n",
              "      <td>4.0</td>\n",
              "      <td>2.0</td>\n",
              "      <td>1.0</td>\n",
              "      <td>0.0</td>\n",
              "      <td>2.0</td>\n",
              "      <td>3.0</td>\n",
              "      <td>0.0</td>\n",
              "      <td>NaN</td>\n",
              "    </tr>\n",
              "    <tr>\n",
              "      <th>3</th>\n",
              "      <td>1.0</td>\n",
              "      <td>24</td>\n",
              "      <td>1.0</td>\n",
              "      <td>2.0</td>\n",
              "      <td>2.0</td>\n",
              "      <td>1.0</td>\n",
              "      <td>0.0</td>\n",
              "      <td>2.0</td>\n",
              "      <td>0.0</td>\n",
              "      <td>0.0</td>\n",
              "      <td>2018.0</td>\n",
              "      <td>NEGATIVE</td>\n",
              "      <td>2.0</td>\n",
              "      <td>1.0</td>\n",
              "      <td>2.0</td>\n",
              "      <td>1.0</td>\n",
              "      <td>0.0</td>\n",
              "      <td>2.0</td>\n",
              "      <td>2.0</td>\n",
              "      <td>0.0</td>\n",
              "      <td>3.0</td>\n",
              "    </tr>\n",
              "    <tr>\n",
              "      <th>4</th>\n",
              "      <td>2.0</td>\n",
              "      <td>42</td>\n",
              "      <td>1.0</td>\n",
              "      <td>1.0</td>\n",
              "      <td>2.0</td>\n",
              "      <td>1.0</td>\n",
              "      <td>0.0</td>\n",
              "      <td>2.0</td>\n",
              "      <td>0.0</td>\n",
              "      <td>0.0</td>\n",
              "      <td>2018.0</td>\n",
              "      <td>NEGATIVE</td>\n",
              "      <td>2.0</td>\n",
              "      <td>2.0</td>\n",
              "      <td>2.0</td>\n",
              "      <td>1.0</td>\n",
              "      <td>0.0</td>\n",
              "      <td>1.0</td>\n",
              "      <td>2.0</td>\n",
              "      <td>0.0</td>\n",
              "      <td>7.0</td>\n",
              "    </tr>\n",
              "  </tbody>\n",
              "</table>\n",
              "</div>"
            ],
            "text/plain": [
              "   gender  age  work12mo  ...  hhrmarital  hiv_status  age_diff\n",
              "0     1.0   42       1.0  ...         1.0         0.0       2.0\n",
              "1     2.0   44       1.0  ...         1.0         0.0       2.0\n",
              "2     1.0   30       1.0  ...         3.0         0.0       NaN\n",
              "3     1.0   24       1.0  ...         2.0         0.0       3.0\n",
              "4     2.0   42       1.0  ...         2.0         0.0       7.0\n",
              "\n",
              "[5 rows x 21 columns]"
            ]
          },
          "metadata": {},
          "execution_count": 15
        }
      ]
    },
    {
      "cell_type": "code",
      "metadata": {
        "id": "QjUVIMYY0fKs"
      },
      "source": [
        "# data=data.drop(['hivtstrslt'], axis=1)\n",
        "# data.head()"
      ],
      "execution_count": null,
      "outputs": []
    },
    {
      "cell_type": "code",
      "metadata": {
        "id": "BEPDx_xi2v_X"
      },
      "source": [
        "# define imputer\n",
        "from sklearn.impute import KNNImputer\n",
        "imputer = KNNImputer(n_neighbors=8, weights='uniform', metric='nan_euclidean')\n",
        "# # fit on the dataset\n",
        "# imputer.fit(X)\n",
        "# # transform the dataset\n",
        "# Xtrans = imputer.transform(X)\n",
        "\n",
        "# Step 1: define an knn imputer using KNNImputer\n",
        "# COMPLETE\n",
        "# imputer = KNNImputer(n_neighbors=4)\n",
        "# Step 2: impute the missing data\n",
        "x= pd.DataFrame(imputer.fit_transform(data), columns=data.columns, index=data.index)"
      ],
      "execution_count": null,
      "outputs": []
    },
    {
      "cell_type": "code",
      "metadata": {
        "colab": {
          "base_uri": "https://localhost:8080/",
          "height": 224
        },
        "id": "64EWSdPb5SVV",
        "outputId": "5d25a86e-5d3e-4754-f60b-32024f8a14b1"
      },
      "source": [
        "x.head()"
      ],
      "execution_count": null,
      "outputs": [
        {
          "output_type": "execute_result",
          "data": {
            "text/html": [
              "<div>\n",
              "<style scoped>\n",
              "    .dataframe tbody tr th:only-of-type {\n",
              "        vertical-align: middle;\n",
              "    }\n",
              "\n",
              "    .dataframe tbody tr th {\n",
              "        vertical-align: top;\n",
              "    }\n",
              "\n",
              "    .dataframe thead th {\n",
              "        text-align: right;\n",
              "    }\n",
              "</style>\n",
              "<table border=\"1\" class=\"dataframe\">\n",
              "  <thead>\n",
              "    <tr style=\"text-align: right;\">\n",
              "      <th></th>\n",
              "      <th>gender</th>\n",
              "      <th>age</th>\n",
              "      <th>work12mo</th>\n",
              "      <th>mcstatus</th>\n",
              "      <th>firstsxage</th>\n",
              "      <th>part12monum</th>\n",
              "      <th>partlastcndm1</th>\n",
              "      <th>partlastsup1</th>\n",
              "      <th>partknowhiv1</th>\n",
              "      <th>analsxever</th>\n",
              "      <th>attitude1</th>\n",
              "      <th>attitude2</th>\n",
              "      <th>urban</th>\n",
              "      <th>wealthquintile</th>\n",
              "      <th>educationrwanda</th>\n",
              "      <th>hhrmarital</th>\n",
              "      <th>hiv_status</th>\n",
              "      <th>age_diff</th>\n",
              "    </tr>\n",
              "  </thead>\n",
              "  <tbody>\n",
              "    <tr>\n",
              "      <th>0</th>\n",
              "      <td>1.0</td>\n",
              "      <td>42.0</td>\n",
              "      <td>1.0</td>\n",
              "      <td>2.0</td>\n",
              "      <td>2.0</td>\n",
              "      <td>1.0</td>\n",
              "      <td>0.00</td>\n",
              "      <td>0.000</td>\n",
              "      <td>1.0</td>\n",
              "      <td>0.0</td>\n",
              "      <td>1.0</td>\n",
              "      <td>1.0</td>\n",
              "      <td>2.0</td>\n",
              "      <td>1.0</td>\n",
              "      <td>2.0</td>\n",
              "      <td>1.0</td>\n",
              "      <td>0.0</td>\n",
              "      <td>2.000</td>\n",
              "    </tr>\n",
              "    <tr>\n",
              "      <th>1</th>\n",
              "      <td>2.0</td>\n",
              "      <td>44.0</td>\n",
              "      <td>1.0</td>\n",
              "      <td>1.0</td>\n",
              "      <td>1.0</td>\n",
              "      <td>1.0</td>\n",
              "      <td>0.00</td>\n",
              "      <td>0.000</td>\n",
              "      <td>1.0</td>\n",
              "      <td>0.0</td>\n",
              "      <td>1.0</td>\n",
              "      <td>1.0</td>\n",
              "      <td>2.0</td>\n",
              "      <td>1.0</td>\n",
              "      <td>4.0</td>\n",
              "      <td>1.0</td>\n",
              "      <td>0.0</td>\n",
              "      <td>2.000</td>\n",
              "    </tr>\n",
              "    <tr>\n",
              "      <th>2</th>\n",
              "      <td>1.0</td>\n",
              "      <td>30.0</td>\n",
              "      <td>1.0</td>\n",
              "      <td>2.0</td>\n",
              "      <td>2.0</td>\n",
              "      <td>0.0</td>\n",
              "      <td>0.25</td>\n",
              "      <td>0.875</td>\n",
              "      <td>0.5</td>\n",
              "      <td>0.0</td>\n",
              "      <td>1.0</td>\n",
              "      <td>4.0</td>\n",
              "      <td>2.0</td>\n",
              "      <td>1.0</td>\n",
              "      <td>2.0</td>\n",
              "      <td>3.0</td>\n",
              "      <td>0.0</td>\n",
              "      <td>3.125</td>\n",
              "    </tr>\n",
              "    <tr>\n",
              "      <th>3</th>\n",
              "      <td>1.0</td>\n",
              "      <td>24.0</td>\n",
              "      <td>1.0</td>\n",
              "      <td>2.0</td>\n",
              "      <td>2.0</td>\n",
              "      <td>1.0</td>\n",
              "      <td>0.00</td>\n",
              "      <td>2.000</td>\n",
              "      <td>0.0</td>\n",
              "      <td>0.0</td>\n",
              "      <td>2.0</td>\n",
              "      <td>1.0</td>\n",
              "      <td>2.0</td>\n",
              "      <td>1.0</td>\n",
              "      <td>2.0</td>\n",
              "      <td>2.0</td>\n",
              "      <td>0.0</td>\n",
              "      <td>3.000</td>\n",
              "    </tr>\n",
              "    <tr>\n",
              "      <th>4</th>\n",
              "      <td>2.0</td>\n",
              "      <td>42.0</td>\n",
              "      <td>1.0</td>\n",
              "      <td>1.0</td>\n",
              "      <td>2.0</td>\n",
              "      <td>1.0</td>\n",
              "      <td>0.00</td>\n",
              "      <td>2.000</td>\n",
              "      <td>0.0</td>\n",
              "      <td>0.0</td>\n",
              "      <td>2.0</td>\n",
              "      <td>2.0</td>\n",
              "      <td>2.0</td>\n",
              "      <td>1.0</td>\n",
              "      <td>1.0</td>\n",
              "      <td>2.0</td>\n",
              "      <td>0.0</td>\n",
              "      <td>7.000</td>\n",
              "    </tr>\n",
              "  </tbody>\n",
              "</table>\n",
              "</div>"
            ],
            "text/plain": [
              "   gender   age  work12mo  ...  hhrmarital  hiv_status  age_diff\n",
              "0     1.0  42.0       1.0  ...         1.0         0.0     2.000\n",
              "1     2.0  44.0       1.0  ...         1.0         0.0     2.000\n",
              "2     1.0  30.0       1.0  ...         3.0         0.0     3.125\n",
              "3     1.0  24.0       1.0  ...         2.0         0.0     3.000\n",
              "4     2.0  42.0       1.0  ...         2.0         0.0     7.000\n",
              "\n",
              "[5 rows x 18 columns]"
            ]
          },
          "metadata": {},
          "execution_count": 20
        }
      ]
    },
    {
      "cell_type": "code",
      "metadata": {
        "colab": {
          "base_uri": "https://localhost:8080/"
        },
        "id": "onMXR2Nl5d5V",
        "outputId": "bd168d2f-a793-43a5-de25-4abfd51cb159"
      },
      "source": [
        "# x['firstsxage']=x['firstsxage'].astype(int)\n",
        "x=x.astype(int)\n",
        "x['partknowhiv1'].value_counts()"
      ],
      "execution_count": null,
      "outputs": [
        {
          "output_type": "execute_result",
          "data": {
            "text/plain": [
              "0    16067\n",
              "1    14642\n",
              "Name: partknowhiv1, dtype: int64"
            ]
          },
          "metadata": {},
          "execution_count": 21
        }
      ]
    },
    {
      "cell_type": "code",
      "metadata": {
        "colab": {
          "base_uri": "https://localhost:8080/",
          "height": 224
        },
        "id": "EqyDybm9-oOF",
        "outputId": "6eb456ac-48d7-4c34-e476-9e0d3323c1e2"
      },
      "source": [
        "x.head()"
      ],
      "execution_count": null,
      "outputs": [
        {
          "output_type": "execute_result",
          "data": {
            "text/html": [
              "<div>\n",
              "<style scoped>\n",
              "    .dataframe tbody tr th:only-of-type {\n",
              "        vertical-align: middle;\n",
              "    }\n",
              "\n",
              "    .dataframe tbody tr th {\n",
              "        vertical-align: top;\n",
              "    }\n",
              "\n",
              "    .dataframe thead th {\n",
              "        text-align: right;\n",
              "    }\n",
              "</style>\n",
              "<table border=\"1\" class=\"dataframe\">\n",
              "  <thead>\n",
              "    <tr style=\"text-align: right;\">\n",
              "      <th></th>\n",
              "      <th>gender</th>\n",
              "      <th>age</th>\n",
              "      <th>work12mo</th>\n",
              "      <th>mcstatus</th>\n",
              "      <th>firstsxage</th>\n",
              "      <th>part12monum</th>\n",
              "      <th>partlastcndm1</th>\n",
              "      <th>partlastsup1</th>\n",
              "      <th>partknowhiv1</th>\n",
              "      <th>analsxever</th>\n",
              "      <th>attitude1</th>\n",
              "      <th>attitude2</th>\n",
              "      <th>urban</th>\n",
              "      <th>wealthquintile</th>\n",
              "      <th>educationrwanda</th>\n",
              "      <th>hhrmarital</th>\n",
              "      <th>hiv_status</th>\n",
              "      <th>age_diff</th>\n",
              "    </tr>\n",
              "  </thead>\n",
              "  <tbody>\n",
              "    <tr>\n",
              "      <th>0</th>\n",
              "      <td>1</td>\n",
              "      <td>42</td>\n",
              "      <td>1</td>\n",
              "      <td>2</td>\n",
              "      <td>2</td>\n",
              "      <td>1</td>\n",
              "      <td>0</td>\n",
              "      <td>0</td>\n",
              "      <td>1</td>\n",
              "      <td>0</td>\n",
              "      <td>1</td>\n",
              "      <td>1</td>\n",
              "      <td>2</td>\n",
              "      <td>1</td>\n",
              "      <td>2</td>\n",
              "      <td>1</td>\n",
              "      <td>0</td>\n",
              "      <td>2</td>\n",
              "    </tr>\n",
              "    <tr>\n",
              "      <th>1</th>\n",
              "      <td>2</td>\n",
              "      <td>44</td>\n",
              "      <td>1</td>\n",
              "      <td>1</td>\n",
              "      <td>1</td>\n",
              "      <td>1</td>\n",
              "      <td>0</td>\n",
              "      <td>0</td>\n",
              "      <td>1</td>\n",
              "      <td>0</td>\n",
              "      <td>1</td>\n",
              "      <td>1</td>\n",
              "      <td>2</td>\n",
              "      <td>1</td>\n",
              "      <td>4</td>\n",
              "      <td>1</td>\n",
              "      <td>0</td>\n",
              "      <td>2</td>\n",
              "    </tr>\n",
              "    <tr>\n",
              "      <th>2</th>\n",
              "      <td>1</td>\n",
              "      <td>30</td>\n",
              "      <td>1</td>\n",
              "      <td>2</td>\n",
              "      <td>2</td>\n",
              "      <td>0</td>\n",
              "      <td>0</td>\n",
              "      <td>0</td>\n",
              "      <td>0</td>\n",
              "      <td>0</td>\n",
              "      <td>1</td>\n",
              "      <td>4</td>\n",
              "      <td>2</td>\n",
              "      <td>1</td>\n",
              "      <td>2</td>\n",
              "      <td>3</td>\n",
              "      <td>0</td>\n",
              "      <td>3</td>\n",
              "    </tr>\n",
              "    <tr>\n",
              "      <th>3</th>\n",
              "      <td>1</td>\n",
              "      <td>24</td>\n",
              "      <td>1</td>\n",
              "      <td>2</td>\n",
              "      <td>2</td>\n",
              "      <td>1</td>\n",
              "      <td>0</td>\n",
              "      <td>2</td>\n",
              "      <td>0</td>\n",
              "      <td>0</td>\n",
              "      <td>2</td>\n",
              "      <td>1</td>\n",
              "      <td>2</td>\n",
              "      <td>1</td>\n",
              "      <td>2</td>\n",
              "      <td>2</td>\n",
              "      <td>0</td>\n",
              "      <td>3</td>\n",
              "    </tr>\n",
              "    <tr>\n",
              "      <th>4</th>\n",
              "      <td>2</td>\n",
              "      <td>42</td>\n",
              "      <td>1</td>\n",
              "      <td>1</td>\n",
              "      <td>2</td>\n",
              "      <td>1</td>\n",
              "      <td>0</td>\n",
              "      <td>2</td>\n",
              "      <td>0</td>\n",
              "      <td>0</td>\n",
              "      <td>2</td>\n",
              "      <td>2</td>\n",
              "      <td>2</td>\n",
              "      <td>1</td>\n",
              "      <td>1</td>\n",
              "      <td>2</td>\n",
              "      <td>0</td>\n",
              "      <td>7</td>\n",
              "    </tr>\n",
              "  </tbody>\n",
              "</table>\n",
              "</div>"
            ],
            "text/plain": [
              "   gender  age  work12mo  ...  hhrmarital  hiv_status  age_diff\n",
              "0       1   42         1  ...           1           0         2\n",
              "1       2   44         1  ...           1           0         2\n",
              "2       1   30         1  ...           3           0         3\n",
              "3       1   24         1  ...           2           0         3\n",
              "4       2   42         1  ...           2           0         7\n",
              "\n",
              "[5 rows x 18 columns]"
            ]
          },
          "metadata": {},
          "execution_count": 22
        }
      ]
    },
    {
      "cell_type": "code",
      "metadata": {
        "colab": {
          "base_uri": "https://localhost:8080/"
        },
        "id": "qc8Bb51IBB-i",
        "outputId": "cc2a6b19-adea-4c7a-ce17-2b297eb3e397"
      },
      "source": [
        "x['hhrmarital'].value_counts()"
      ],
      "execution_count": null,
      "outputs": [
        {
          "output_type": "execute_result",
          "data": {
            "text/plain": [
              "1    14795\n",
              "2    12995\n",
              "3     1519\n",
              "4     1236\n",
              "5      164\n",
              "Name: hhrmarital, dtype: int64"
            ]
          },
          "metadata": {},
          "execution_count": 23
        }
      ]
    },
    {
      "cell_type": "code",
      "metadata": {
        "id": "j7LiTYNlDUsP"
      },
      "source": [
        "# data_m=x.drop(['hivstatusfinal','hivtesty'], axis=1)\n",
        "# data_m.head()"
      ],
      "execution_count": null,
      "outputs": []
    },
    {
      "cell_type": "markdown",
      "metadata": {
        "id": "TB6Uq5azm0jf"
      },
      "source": [
        "# Encoding"
      ]
    },
    {
      "cell_type": "code",
      "metadata": {
        "id": "YS4gBNPXm3Lh"
      },
      "source": [
        "\n",
        "# one hot encoding of different object type variable.\n",
        "\n",
        "one_hot_gender = pd.get_dummies(x['gender'], prefix='gender')\n",
        "x = pd.concat([x, one_hot_gender], axis=1)\n",
        "\n",
        "one_hot_work12mo = pd.get_dummies(x['work12mo'], prefix='work12mo')\n",
        "x = pd.concat([x, one_hot_work12mo], axis=1)\n",
        "\n",
        "one_hot_mcstatus = pd.get_dummies(x['mcstatus'], prefix='mcstatus')\n",
        "x = pd.concat([x, one_hot_mcstatus], axis=1)\n",
        "\n",
        "\n",
        "one_hot_firstsxage = pd.get_dummies(x['firstsxage'], prefix='firstsxage')\n",
        "x = pd.concat([x, one_hot_firstsxage], axis=1)\n",
        "\n",
        "one_hot_partlastcndm1 = pd.get_dummies(x['partlastcndm1'], prefix='partlastcndm1')\n",
        "x = pd.concat([x, one_hot_partlastcndm1], axis=1)\n",
        "\n",
        "one_hot_partlastsup1 = pd.get_dummies(x['partlastsup1'], prefix='partlastsup1')\n",
        "x = pd.concat([x, one_hot_partlastsup1], axis=1)\n",
        "\n",
        "one_hot_partknowhiv1 = pd.get_dummies(x['partknowhiv1'], prefix='partknowhiv1')\n",
        "x = pd.concat([x, one_hot_partknowhiv1], axis=1)\n",
        "\n",
        "one_hot_analsxever = pd.get_dummies(x['analsxever'], prefix='analsxever')\n",
        "x = pd.concat([x, one_hot_analsxever], axis=1)\n",
        "\n",
        "one_hot_attitude1 = pd.get_dummies(x['attitude1'], prefix='attitude1')\n",
        "x = pd.concat([x, one_hot_attitude1], axis=1)\n",
        "\n",
        "one_hot_attitude2 = pd.get_dummies(x['attitude2'], prefix='attitude2')\n",
        "x = pd.concat([x, one_hot_attitude2], axis=1)\n",
        "\n",
        "one_hot_urban = pd.get_dummies(x['urban'], prefix='urban')\n",
        "x = pd.concat([x, one_hot_urban], axis=1)\n",
        "\n",
        "one_hot_wealthquintile = pd.get_dummies(x['wealthquintile'], prefix='wealthquintile')\n",
        "x = pd.concat([x, one_hot_wealthquintile], axis=1)\n",
        "\n",
        "one_hot_educationrwanda = pd.get_dummies(x['educationrwanda'], prefix='educationrwanda')\n",
        "x = pd.concat([x, one_hot_educationrwanda], axis=1)\n",
        "\n",
        "one_hot_hhrmarital = pd.get_dummies(x['hhrmarital'], prefix='hhrmarital')\n",
        "x = pd.concat([x, one_hot_hhrmarital], axis=1)\n"
      ],
      "execution_count": null,
      "outputs": []
    },
    {
      "cell_type": "code",
      "metadata": {
        "colab": {
          "base_uri": "https://localhost:8080/",
          "height": 224
        },
        "id": "Ktylrhk_rEzh",
        "outputId": "c2353b3c-81a0-4866-aeb6-7b2bb8f4d118"
      },
      "source": [
        "x.head()"
      ],
      "execution_count": null,
      "outputs": [
        {
          "output_type": "execute_result",
          "data": {
            "text/html": [
              "<div>\n",
              "<style scoped>\n",
              "    .dataframe tbody tr th:only-of-type {\n",
              "        vertical-align: middle;\n",
              "    }\n",
              "\n",
              "    .dataframe tbody tr th {\n",
              "        vertical-align: top;\n",
              "    }\n",
              "\n",
              "    .dataframe thead th {\n",
              "        text-align: right;\n",
              "    }\n",
              "</style>\n",
              "<table border=\"1\" class=\"dataframe\">\n",
              "  <thead>\n",
              "    <tr style=\"text-align: right;\">\n",
              "      <th></th>\n",
              "      <th>gender</th>\n",
              "      <th>age</th>\n",
              "      <th>work12mo</th>\n",
              "      <th>mcstatus</th>\n",
              "      <th>firstsxage</th>\n",
              "      <th>part12monum</th>\n",
              "      <th>partlastcndm1</th>\n",
              "      <th>partlastsup1</th>\n",
              "      <th>partknowhiv1</th>\n",
              "      <th>analsxever</th>\n",
              "      <th>attitude1</th>\n",
              "      <th>attitude2</th>\n",
              "      <th>urban</th>\n",
              "      <th>wealthquintile</th>\n",
              "      <th>educationrwanda</th>\n",
              "      <th>hhrmarital</th>\n",
              "      <th>age_diff</th>\n",
              "      <th>gender_1</th>\n",
              "      <th>gender_2</th>\n",
              "      <th>work12mo_0</th>\n",
              "      <th>work12mo_1</th>\n",
              "      <th>mcstatus_0</th>\n",
              "      <th>mcstatus_1</th>\n",
              "      <th>mcstatus_2</th>\n",
              "      <th>firstsxage_0</th>\n",
              "      <th>firstsxage_1</th>\n",
              "      <th>firstsxage_2</th>\n",
              "      <th>firstsxage_3</th>\n",
              "      <th>partlastcndm1_0</th>\n",
              "      <th>partlastcndm1_1</th>\n",
              "      <th>partlastsup1_0</th>\n",
              "      <th>partlastsup1_1</th>\n",
              "      <th>partlastsup1_2</th>\n",
              "      <th>partknowhiv1_0</th>\n",
              "      <th>partknowhiv1_1</th>\n",
              "      <th>analsxever_0</th>\n",
              "      <th>analsxever_1</th>\n",
              "      <th>attitude1_0</th>\n",
              "      <th>attitude1_1</th>\n",
              "      <th>attitude1_2</th>\n",
              "      <th>attitude1_3</th>\n",
              "      <th>attitude1_4</th>\n",
              "      <th>attitude2_0</th>\n",
              "      <th>attitude2_1</th>\n",
              "      <th>attitude2_2</th>\n",
              "      <th>attitude2_3</th>\n",
              "      <th>attitude2_4</th>\n",
              "      <th>urban_1</th>\n",
              "      <th>urban_2</th>\n",
              "      <th>wealthquintile_1</th>\n",
              "      <th>wealthquintile_2</th>\n",
              "      <th>wealthquintile_3</th>\n",
              "      <th>wealthquintile_4</th>\n",
              "      <th>wealthquintile_5</th>\n",
              "      <th>educationrwanda_1</th>\n",
              "      <th>educationrwanda_2</th>\n",
              "      <th>educationrwanda_3</th>\n",
              "      <th>educationrwanda_4</th>\n",
              "      <th>hhrmarital_1</th>\n",
              "      <th>hhrmarital_2</th>\n",
              "      <th>hhrmarital_3</th>\n",
              "      <th>hhrmarital_4</th>\n",
              "      <th>hhrmarital_5</th>\n",
              "    </tr>\n",
              "  </thead>\n",
              "  <tbody>\n",
              "    <tr>\n",
              "      <th>0</th>\n",
              "      <td>1</td>\n",
              "      <td>42</td>\n",
              "      <td>1</td>\n",
              "      <td>2</td>\n",
              "      <td>2</td>\n",
              "      <td>1</td>\n",
              "      <td>0</td>\n",
              "      <td>0</td>\n",
              "      <td>1</td>\n",
              "      <td>0</td>\n",
              "      <td>1</td>\n",
              "      <td>1</td>\n",
              "      <td>2</td>\n",
              "      <td>1</td>\n",
              "      <td>2</td>\n",
              "      <td>1</td>\n",
              "      <td>2</td>\n",
              "      <td>1</td>\n",
              "      <td>0</td>\n",
              "      <td>0</td>\n",
              "      <td>1</td>\n",
              "      <td>0</td>\n",
              "      <td>0</td>\n",
              "      <td>1</td>\n",
              "      <td>0</td>\n",
              "      <td>0</td>\n",
              "      <td>1</td>\n",
              "      <td>0</td>\n",
              "      <td>1</td>\n",
              "      <td>0</td>\n",
              "      <td>1</td>\n",
              "      <td>0</td>\n",
              "      <td>0</td>\n",
              "      <td>0</td>\n",
              "      <td>1</td>\n",
              "      <td>1</td>\n",
              "      <td>0</td>\n",
              "      <td>0</td>\n",
              "      <td>1</td>\n",
              "      <td>0</td>\n",
              "      <td>0</td>\n",
              "      <td>0</td>\n",
              "      <td>0</td>\n",
              "      <td>1</td>\n",
              "      <td>0</td>\n",
              "      <td>0</td>\n",
              "      <td>0</td>\n",
              "      <td>0</td>\n",
              "      <td>1</td>\n",
              "      <td>1</td>\n",
              "      <td>0</td>\n",
              "      <td>0</td>\n",
              "      <td>0</td>\n",
              "      <td>0</td>\n",
              "      <td>0</td>\n",
              "      <td>1</td>\n",
              "      <td>0</td>\n",
              "      <td>0</td>\n",
              "      <td>1</td>\n",
              "      <td>0</td>\n",
              "      <td>0</td>\n",
              "      <td>0</td>\n",
              "      <td>0</td>\n",
              "    </tr>\n",
              "    <tr>\n",
              "      <th>1</th>\n",
              "      <td>2</td>\n",
              "      <td>44</td>\n",
              "      <td>1</td>\n",
              "      <td>1</td>\n",
              "      <td>1</td>\n",
              "      <td>1</td>\n",
              "      <td>0</td>\n",
              "      <td>0</td>\n",
              "      <td>1</td>\n",
              "      <td>0</td>\n",
              "      <td>1</td>\n",
              "      <td>1</td>\n",
              "      <td>2</td>\n",
              "      <td>1</td>\n",
              "      <td>4</td>\n",
              "      <td>1</td>\n",
              "      <td>2</td>\n",
              "      <td>0</td>\n",
              "      <td>1</td>\n",
              "      <td>0</td>\n",
              "      <td>1</td>\n",
              "      <td>0</td>\n",
              "      <td>1</td>\n",
              "      <td>0</td>\n",
              "      <td>0</td>\n",
              "      <td>1</td>\n",
              "      <td>0</td>\n",
              "      <td>0</td>\n",
              "      <td>1</td>\n",
              "      <td>0</td>\n",
              "      <td>1</td>\n",
              "      <td>0</td>\n",
              "      <td>0</td>\n",
              "      <td>0</td>\n",
              "      <td>1</td>\n",
              "      <td>1</td>\n",
              "      <td>0</td>\n",
              "      <td>0</td>\n",
              "      <td>1</td>\n",
              "      <td>0</td>\n",
              "      <td>0</td>\n",
              "      <td>0</td>\n",
              "      <td>0</td>\n",
              "      <td>1</td>\n",
              "      <td>0</td>\n",
              "      <td>0</td>\n",
              "      <td>0</td>\n",
              "      <td>0</td>\n",
              "      <td>1</td>\n",
              "      <td>1</td>\n",
              "      <td>0</td>\n",
              "      <td>0</td>\n",
              "      <td>0</td>\n",
              "      <td>0</td>\n",
              "      <td>0</td>\n",
              "      <td>0</td>\n",
              "      <td>0</td>\n",
              "      <td>1</td>\n",
              "      <td>1</td>\n",
              "      <td>0</td>\n",
              "      <td>0</td>\n",
              "      <td>0</td>\n",
              "      <td>0</td>\n",
              "    </tr>\n",
              "    <tr>\n",
              "      <th>2</th>\n",
              "      <td>1</td>\n",
              "      <td>30</td>\n",
              "      <td>1</td>\n",
              "      <td>2</td>\n",
              "      <td>2</td>\n",
              "      <td>0</td>\n",
              "      <td>0</td>\n",
              "      <td>0</td>\n",
              "      <td>0</td>\n",
              "      <td>0</td>\n",
              "      <td>1</td>\n",
              "      <td>4</td>\n",
              "      <td>2</td>\n",
              "      <td>1</td>\n",
              "      <td>2</td>\n",
              "      <td>3</td>\n",
              "      <td>3</td>\n",
              "      <td>1</td>\n",
              "      <td>0</td>\n",
              "      <td>0</td>\n",
              "      <td>1</td>\n",
              "      <td>0</td>\n",
              "      <td>0</td>\n",
              "      <td>1</td>\n",
              "      <td>0</td>\n",
              "      <td>0</td>\n",
              "      <td>1</td>\n",
              "      <td>0</td>\n",
              "      <td>1</td>\n",
              "      <td>0</td>\n",
              "      <td>1</td>\n",
              "      <td>0</td>\n",
              "      <td>0</td>\n",
              "      <td>1</td>\n",
              "      <td>0</td>\n",
              "      <td>1</td>\n",
              "      <td>0</td>\n",
              "      <td>0</td>\n",
              "      <td>1</td>\n",
              "      <td>0</td>\n",
              "      <td>0</td>\n",
              "      <td>0</td>\n",
              "      <td>0</td>\n",
              "      <td>0</td>\n",
              "      <td>0</td>\n",
              "      <td>0</td>\n",
              "      <td>1</td>\n",
              "      <td>0</td>\n",
              "      <td>1</td>\n",
              "      <td>1</td>\n",
              "      <td>0</td>\n",
              "      <td>0</td>\n",
              "      <td>0</td>\n",
              "      <td>0</td>\n",
              "      <td>0</td>\n",
              "      <td>1</td>\n",
              "      <td>0</td>\n",
              "      <td>0</td>\n",
              "      <td>0</td>\n",
              "      <td>0</td>\n",
              "      <td>1</td>\n",
              "      <td>0</td>\n",
              "      <td>0</td>\n",
              "    </tr>\n",
              "    <tr>\n",
              "      <th>3</th>\n",
              "      <td>1</td>\n",
              "      <td>24</td>\n",
              "      <td>1</td>\n",
              "      <td>2</td>\n",
              "      <td>2</td>\n",
              "      <td>1</td>\n",
              "      <td>0</td>\n",
              "      <td>2</td>\n",
              "      <td>0</td>\n",
              "      <td>0</td>\n",
              "      <td>2</td>\n",
              "      <td>1</td>\n",
              "      <td>2</td>\n",
              "      <td>1</td>\n",
              "      <td>2</td>\n",
              "      <td>2</td>\n",
              "      <td>3</td>\n",
              "      <td>1</td>\n",
              "      <td>0</td>\n",
              "      <td>0</td>\n",
              "      <td>1</td>\n",
              "      <td>0</td>\n",
              "      <td>0</td>\n",
              "      <td>1</td>\n",
              "      <td>0</td>\n",
              "      <td>0</td>\n",
              "      <td>1</td>\n",
              "      <td>0</td>\n",
              "      <td>1</td>\n",
              "      <td>0</td>\n",
              "      <td>0</td>\n",
              "      <td>0</td>\n",
              "      <td>1</td>\n",
              "      <td>1</td>\n",
              "      <td>0</td>\n",
              "      <td>1</td>\n",
              "      <td>0</td>\n",
              "      <td>0</td>\n",
              "      <td>0</td>\n",
              "      <td>1</td>\n",
              "      <td>0</td>\n",
              "      <td>0</td>\n",
              "      <td>0</td>\n",
              "      <td>1</td>\n",
              "      <td>0</td>\n",
              "      <td>0</td>\n",
              "      <td>0</td>\n",
              "      <td>0</td>\n",
              "      <td>1</td>\n",
              "      <td>1</td>\n",
              "      <td>0</td>\n",
              "      <td>0</td>\n",
              "      <td>0</td>\n",
              "      <td>0</td>\n",
              "      <td>0</td>\n",
              "      <td>1</td>\n",
              "      <td>0</td>\n",
              "      <td>0</td>\n",
              "      <td>0</td>\n",
              "      <td>1</td>\n",
              "      <td>0</td>\n",
              "      <td>0</td>\n",
              "      <td>0</td>\n",
              "    </tr>\n",
              "    <tr>\n",
              "      <th>4</th>\n",
              "      <td>2</td>\n",
              "      <td>42</td>\n",
              "      <td>1</td>\n",
              "      <td>1</td>\n",
              "      <td>2</td>\n",
              "      <td>1</td>\n",
              "      <td>0</td>\n",
              "      <td>2</td>\n",
              "      <td>0</td>\n",
              "      <td>0</td>\n",
              "      <td>2</td>\n",
              "      <td>2</td>\n",
              "      <td>2</td>\n",
              "      <td>1</td>\n",
              "      <td>1</td>\n",
              "      <td>2</td>\n",
              "      <td>7</td>\n",
              "      <td>0</td>\n",
              "      <td>1</td>\n",
              "      <td>0</td>\n",
              "      <td>1</td>\n",
              "      <td>0</td>\n",
              "      <td>1</td>\n",
              "      <td>0</td>\n",
              "      <td>0</td>\n",
              "      <td>0</td>\n",
              "      <td>1</td>\n",
              "      <td>0</td>\n",
              "      <td>1</td>\n",
              "      <td>0</td>\n",
              "      <td>0</td>\n",
              "      <td>0</td>\n",
              "      <td>1</td>\n",
              "      <td>1</td>\n",
              "      <td>0</td>\n",
              "      <td>1</td>\n",
              "      <td>0</td>\n",
              "      <td>0</td>\n",
              "      <td>0</td>\n",
              "      <td>1</td>\n",
              "      <td>0</td>\n",
              "      <td>0</td>\n",
              "      <td>0</td>\n",
              "      <td>0</td>\n",
              "      <td>1</td>\n",
              "      <td>0</td>\n",
              "      <td>0</td>\n",
              "      <td>0</td>\n",
              "      <td>1</td>\n",
              "      <td>1</td>\n",
              "      <td>0</td>\n",
              "      <td>0</td>\n",
              "      <td>0</td>\n",
              "      <td>0</td>\n",
              "      <td>1</td>\n",
              "      <td>0</td>\n",
              "      <td>0</td>\n",
              "      <td>0</td>\n",
              "      <td>0</td>\n",
              "      <td>1</td>\n",
              "      <td>0</td>\n",
              "      <td>0</td>\n",
              "      <td>0</td>\n",
              "    </tr>\n",
              "  </tbody>\n",
              "</table>\n",
              "</div>"
            ],
            "text/plain": [
              "   gender  age  work12mo  ...  hhrmarital_3  hhrmarital_4  hhrmarital_5\n",
              "0       1   42         1  ...             0             0             0\n",
              "1       2   44         1  ...             0             0             0\n",
              "2       1   30         1  ...             1             0             0\n",
              "3       1   24         1  ...             0             0             0\n",
              "4       2   42         1  ...             0             0             0\n",
              "\n",
              "[5 rows x 63 columns]"
            ]
          },
          "metadata": {},
          "execution_count": 29
        }
      ]
    },
    {
      "cell_type": "code",
      "metadata": {
        "colab": {
          "base_uri": "https://localhost:8080/",
          "height": 224
        },
        "id": "RYE0lvburPV0",
        "outputId": "753eb0c7-ccd0-4274-de16-1390a5cd33c6"
      },
      "source": [
        "\n",
        "x_m=x.drop(['gender','work12mo','mcstatus','firstsxage','partlastcndm1','partlastsup1','partknowhiv1','analsxever','attitude1','attitude2',\n",
        "            'urban','wealthquintile','educationrwanda','hhrmarital'], axis=1)\n",
        "x_m.head()"
      ],
      "execution_count": null,
      "outputs": [
        {
          "output_type": "execute_result",
          "data": {
            "text/html": [
              "<div>\n",
              "<style scoped>\n",
              "    .dataframe tbody tr th:only-of-type {\n",
              "        vertical-align: middle;\n",
              "    }\n",
              "\n",
              "    .dataframe tbody tr th {\n",
              "        vertical-align: top;\n",
              "    }\n",
              "\n",
              "    .dataframe thead th {\n",
              "        text-align: right;\n",
              "    }\n",
              "</style>\n",
              "<table border=\"1\" class=\"dataframe\">\n",
              "  <thead>\n",
              "    <tr style=\"text-align: right;\">\n",
              "      <th></th>\n",
              "      <th>age</th>\n",
              "      <th>part12monum</th>\n",
              "      <th>age_diff</th>\n",
              "      <th>gender_1</th>\n",
              "      <th>gender_2</th>\n",
              "      <th>work12mo_0</th>\n",
              "      <th>work12mo_1</th>\n",
              "      <th>mcstatus_0</th>\n",
              "      <th>mcstatus_1</th>\n",
              "      <th>mcstatus_2</th>\n",
              "      <th>firstsxage_0</th>\n",
              "      <th>firstsxage_1</th>\n",
              "      <th>firstsxage_2</th>\n",
              "      <th>firstsxage_3</th>\n",
              "      <th>partlastcndm1_0</th>\n",
              "      <th>partlastcndm1_1</th>\n",
              "      <th>partlastsup1_0</th>\n",
              "      <th>partlastsup1_1</th>\n",
              "      <th>partlastsup1_2</th>\n",
              "      <th>partknowhiv1_0</th>\n",
              "      <th>partknowhiv1_1</th>\n",
              "      <th>analsxever_0</th>\n",
              "      <th>analsxever_1</th>\n",
              "      <th>attitude1_0</th>\n",
              "      <th>attitude1_1</th>\n",
              "      <th>attitude1_2</th>\n",
              "      <th>attitude1_3</th>\n",
              "      <th>attitude1_4</th>\n",
              "      <th>attitude2_0</th>\n",
              "      <th>attitude2_1</th>\n",
              "      <th>attitude2_2</th>\n",
              "      <th>attitude2_3</th>\n",
              "      <th>attitude2_4</th>\n",
              "      <th>urban_1</th>\n",
              "      <th>urban_2</th>\n",
              "      <th>wealthquintile_1</th>\n",
              "      <th>wealthquintile_2</th>\n",
              "      <th>wealthquintile_3</th>\n",
              "      <th>wealthquintile_4</th>\n",
              "      <th>wealthquintile_5</th>\n",
              "      <th>educationrwanda_1</th>\n",
              "      <th>educationrwanda_2</th>\n",
              "      <th>educationrwanda_3</th>\n",
              "      <th>educationrwanda_4</th>\n",
              "      <th>hhrmarital_1</th>\n",
              "      <th>hhrmarital_2</th>\n",
              "      <th>hhrmarital_3</th>\n",
              "      <th>hhrmarital_4</th>\n",
              "      <th>hhrmarital_5</th>\n",
              "    </tr>\n",
              "  </thead>\n",
              "  <tbody>\n",
              "    <tr>\n",
              "      <th>0</th>\n",
              "      <td>42</td>\n",
              "      <td>1</td>\n",
              "      <td>2</td>\n",
              "      <td>1</td>\n",
              "      <td>0</td>\n",
              "      <td>0</td>\n",
              "      <td>1</td>\n",
              "      <td>0</td>\n",
              "      <td>0</td>\n",
              "      <td>1</td>\n",
              "      <td>0</td>\n",
              "      <td>0</td>\n",
              "      <td>1</td>\n",
              "      <td>0</td>\n",
              "      <td>1</td>\n",
              "      <td>0</td>\n",
              "      <td>1</td>\n",
              "      <td>0</td>\n",
              "      <td>0</td>\n",
              "      <td>0</td>\n",
              "      <td>1</td>\n",
              "      <td>1</td>\n",
              "      <td>0</td>\n",
              "      <td>0</td>\n",
              "      <td>1</td>\n",
              "      <td>0</td>\n",
              "      <td>0</td>\n",
              "      <td>0</td>\n",
              "      <td>0</td>\n",
              "      <td>1</td>\n",
              "      <td>0</td>\n",
              "      <td>0</td>\n",
              "      <td>0</td>\n",
              "      <td>0</td>\n",
              "      <td>1</td>\n",
              "      <td>1</td>\n",
              "      <td>0</td>\n",
              "      <td>0</td>\n",
              "      <td>0</td>\n",
              "      <td>0</td>\n",
              "      <td>0</td>\n",
              "      <td>1</td>\n",
              "      <td>0</td>\n",
              "      <td>0</td>\n",
              "      <td>1</td>\n",
              "      <td>0</td>\n",
              "      <td>0</td>\n",
              "      <td>0</td>\n",
              "      <td>0</td>\n",
              "    </tr>\n",
              "    <tr>\n",
              "      <th>1</th>\n",
              "      <td>44</td>\n",
              "      <td>1</td>\n",
              "      <td>2</td>\n",
              "      <td>0</td>\n",
              "      <td>1</td>\n",
              "      <td>0</td>\n",
              "      <td>1</td>\n",
              "      <td>0</td>\n",
              "      <td>1</td>\n",
              "      <td>0</td>\n",
              "      <td>0</td>\n",
              "      <td>1</td>\n",
              "      <td>0</td>\n",
              "      <td>0</td>\n",
              "      <td>1</td>\n",
              "      <td>0</td>\n",
              "      <td>1</td>\n",
              "      <td>0</td>\n",
              "      <td>0</td>\n",
              "      <td>0</td>\n",
              "      <td>1</td>\n",
              "      <td>1</td>\n",
              "      <td>0</td>\n",
              "      <td>0</td>\n",
              "      <td>1</td>\n",
              "      <td>0</td>\n",
              "      <td>0</td>\n",
              "      <td>0</td>\n",
              "      <td>0</td>\n",
              "      <td>1</td>\n",
              "      <td>0</td>\n",
              "      <td>0</td>\n",
              "      <td>0</td>\n",
              "      <td>0</td>\n",
              "      <td>1</td>\n",
              "      <td>1</td>\n",
              "      <td>0</td>\n",
              "      <td>0</td>\n",
              "      <td>0</td>\n",
              "      <td>0</td>\n",
              "      <td>0</td>\n",
              "      <td>0</td>\n",
              "      <td>0</td>\n",
              "      <td>1</td>\n",
              "      <td>1</td>\n",
              "      <td>0</td>\n",
              "      <td>0</td>\n",
              "      <td>0</td>\n",
              "      <td>0</td>\n",
              "    </tr>\n",
              "    <tr>\n",
              "      <th>2</th>\n",
              "      <td>30</td>\n",
              "      <td>0</td>\n",
              "      <td>3</td>\n",
              "      <td>1</td>\n",
              "      <td>0</td>\n",
              "      <td>0</td>\n",
              "      <td>1</td>\n",
              "      <td>0</td>\n",
              "      <td>0</td>\n",
              "      <td>1</td>\n",
              "      <td>0</td>\n",
              "      <td>0</td>\n",
              "      <td>1</td>\n",
              "      <td>0</td>\n",
              "      <td>1</td>\n",
              "      <td>0</td>\n",
              "      <td>1</td>\n",
              "      <td>0</td>\n",
              "      <td>0</td>\n",
              "      <td>1</td>\n",
              "      <td>0</td>\n",
              "      <td>1</td>\n",
              "      <td>0</td>\n",
              "      <td>0</td>\n",
              "      <td>1</td>\n",
              "      <td>0</td>\n",
              "      <td>0</td>\n",
              "      <td>0</td>\n",
              "      <td>0</td>\n",
              "      <td>0</td>\n",
              "      <td>0</td>\n",
              "      <td>0</td>\n",
              "      <td>1</td>\n",
              "      <td>0</td>\n",
              "      <td>1</td>\n",
              "      <td>1</td>\n",
              "      <td>0</td>\n",
              "      <td>0</td>\n",
              "      <td>0</td>\n",
              "      <td>0</td>\n",
              "      <td>0</td>\n",
              "      <td>1</td>\n",
              "      <td>0</td>\n",
              "      <td>0</td>\n",
              "      <td>0</td>\n",
              "      <td>0</td>\n",
              "      <td>1</td>\n",
              "      <td>0</td>\n",
              "      <td>0</td>\n",
              "    </tr>\n",
              "    <tr>\n",
              "      <th>3</th>\n",
              "      <td>24</td>\n",
              "      <td>1</td>\n",
              "      <td>3</td>\n",
              "      <td>1</td>\n",
              "      <td>0</td>\n",
              "      <td>0</td>\n",
              "      <td>1</td>\n",
              "      <td>0</td>\n",
              "      <td>0</td>\n",
              "      <td>1</td>\n",
              "      <td>0</td>\n",
              "      <td>0</td>\n",
              "      <td>1</td>\n",
              "      <td>0</td>\n",
              "      <td>1</td>\n",
              "      <td>0</td>\n",
              "      <td>0</td>\n",
              "      <td>0</td>\n",
              "      <td>1</td>\n",
              "      <td>1</td>\n",
              "      <td>0</td>\n",
              "      <td>1</td>\n",
              "      <td>0</td>\n",
              "      <td>0</td>\n",
              "      <td>0</td>\n",
              "      <td>1</td>\n",
              "      <td>0</td>\n",
              "      <td>0</td>\n",
              "      <td>0</td>\n",
              "      <td>1</td>\n",
              "      <td>0</td>\n",
              "      <td>0</td>\n",
              "      <td>0</td>\n",
              "      <td>0</td>\n",
              "      <td>1</td>\n",
              "      <td>1</td>\n",
              "      <td>0</td>\n",
              "      <td>0</td>\n",
              "      <td>0</td>\n",
              "      <td>0</td>\n",
              "      <td>0</td>\n",
              "      <td>1</td>\n",
              "      <td>0</td>\n",
              "      <td>0</td>\n",
              "      <td>0</td>\n",
              "      <td>1</td>\n",
              "      <td>0</td>\n",
              "      <td>0</td>\n",
              "      <td>0</td>\n",
              "    </tr>\n",
              "    <tr>\n",
              "      <th>4</th>\n",
              "      <td>42</td>\n",
              "      <td>1</td>\n",
              "      <td>7</td>\n",
              "      <td>0</td>\n",
              "      <td>1</td>\n",
              "      <td>0</td>\n",
              "      <td>1</td>\n",
              "      <td>0</td>\n",
              "      <td>1</td>\n",
              "      <td>0</td>\n",
              "      <td>0</td>\n",
              "      <td>0</td>\n",
              "      <td>1</td>\n",
              "      <td>0</td>\n",
              "      <td>1</td>\n",
              "      <td>0</td>\n",
              "      <td>0</td>\n",
              "      <td>0</td>\n",
              "      <td>1</td>\n",
              "      <td>1</td>\n",
              "      <td>0</td>\n",
              "      <td>1</td>\n",
              "      <td>0</td>\n",
              "      <td>0</td>\n",
              "      <td>0</td>\n",
              "      <td>1</td>\n",
              "      <td>0</td>\n",
              "      <td>0</td>\n",
              "      <td>0</td>\n",
              "      <td>0</td>\n",
              "      <td>1</td>\n",
              "      <td>0</td>\n",
              "      <td>0</td>\n",
              "      <td>0</td>\n",
              "      <td>1</td>\n",
              "      <td>1</td>\n",
              "      <td>0</td>\n",
              "      <td>0</td>\n",
              "      <td>0</td>\n",
              "      <td>0</td>\n",
              "      <td>1</td>\n",
              "      <td>0</td>\n",
              "      <td>0</td>\n",
              "      <td>0</td>\n",
              "      <td>0</td>\n",
              "      <td>1</td>\n",
              "      <td>0</td>\n",
              "      <td>0</td>\n",
              "      <td>0</td>\n",
              "    </tr>\n",
              "  </tbody>\n",
              "</table>\n",
              "</div>"
            ],
            "text/plain": [
              "   age  part12monum  age_diff  ...  hhrmarital_3  hhrmarital_4  hhrmarital_5\n",
              "0   42            1         2  ...             0             0             0\n",
              "1   44            1         2  ...             0             0             0\n",
              "2   30            0         3  ...             1             0             0\n",
              "3   24            1         3  ...             0             0             0\n",
              "4   42            1         7  ...             0             0             0\n",
              "\n",
              "[5 rows x 49 columns]"
            ]
          },
          "metadata": {},
          "execution_count": 47
        }
      ]
    },
    {
      "cell_type": "code",
      "metadata": {
        "id": "jxkrN1QDtG_X"
      },
      "source": [
        "\n",
        "x_m['hiv_status']=Y\n"
      ],
      "execution_count": null,
      "outputs": []
    },
    {
      "cell_type": "code",
      "metadata": {
        "colab": {
          "base_uri": "https://localhost:8080/",
          "height": 224
        },
        "id": "aHvCUBXuthXq",
        "outputId": "df7d2e9f-1d05-43d2-993e-a03abafcc28f"
      },
      "source": [
        "x_m.head()"
      ],
      "execution_count": null,
      "outputs": [
        {
          "output_type": "execute_result",
          "data": {
            "text/html": [
              "<div>\n",
              "<style scoped>\n",
              "    .dataframe tbody tr th:only-of-type {\n",
              "        vertical-align: middle;\n",
              "    }\n",
              "\n",
              "    .dataframe tbody tr th {\n",
              "        vertical-align: top;\n",
              "    }\n",
              "\n",
              "    .dataframe thead th {\n",
              "        text-align: right;\n",
              "    }\n",
              "</style>\n",
              "<table border=\"1\" class=\"dataframe\">\n",
              "  <thead>\n",
              "    <tr style=\"text-align: right;\">\n",
              "      <th></th>\n",
              "      <th>age</th>\n",
              "      <th>part12monum</th>\n",
              "      <th>age_diff</th>\n",
              "      <th>gender_1</th>\n",
              "      <th>gender_2</th>\n",
              "      <th>work12mo_0</th>\n",
              "      <th>work12mo_1</th>\n",
              "      <th>mcstatus_0</th>\n",
              "      <th>mcstatus_1</th>\n",
              "      <th>mcstatus_2</th>\n",
              "      <th>firstsxage_0</th>\n",
              "      <th>firstsxage_1</th>\n",
              "      <th>firstsxage_2</th>\n",
              "      <th>firstsxage_3</th>\n",
              "      <th>partlastcndm1_0</th>\n",
              "      <th>partlastcndm1_1</th>\n",
              "      <th>partlastsup1_0</th>\n",
              "      <th>partlastsup1_1</th>\n",
              "      <th>partlastsup1_2</th>\n",
              "      <th>partknowhiv1_0</th>\n",
              "      <th>partknowhiv1_1</th>\n",
              "      <th>analsxever_0</th>\n",
              "      <th>analsxever_1</th>\n",
              "      <th>attitude1_0</th>\n",
              "      <th>attitude1_1</th>\n",
              "      <th>attitude1_2</th>\n",
              "      <th>attitude1_3</th>\n",
              "      <th>attitude1_4</th>\n",
              "      <th>attitude2_0</th>\n",
              "      <th>attitude2_1</th>\n",
              "      <th>attitude2_2</th>\n",
              "      <th>attitude2_3</th>\n",
              "      <th>attitude2_4</th>\n",
              "      <th>urban_1</th>\n",
              "      <th>urban_2</th>\n",
              "      <th>wealthquintile_1</th>\n",
              "      <th>wealthquintile_2</th>\n",
              "      <th>wealthquintile_3</th>\n",
              "      <th>wealthquintile_4</th>\n",
              "      <th>wealthquintile_5</th>\n",
              "      <th>educationrwanda_1</th>\n",
              "      <th>educationrwanda_2</th>\n",
              "      <th>educationrwanda_3</th>\n",
              "      <th>educationrwanda_4</th>\n",
              "      <th>hhrmarital_1</th>\n",
              "      <th>hhrmarital_2</th>\n",
              "      <th>hhrmarital_3</th>\n",
              "      <th>hhrmarital_4</th>\n",
              "      <th>hhrmarital_5</th>\n",
              "      <th>hiv_status</th>\n",
              "    </tr>\n",
              "  </thead>\n",
              "  <tbody>\n",
              "    <tr>\n",
              "      <th>0</th>\n",
              "      <td>42</td>\n",
              "      <td>1</td>\n",
              "      <td>2</td>\n",
              "      <td>1</td>\n",
              "      <td>0</td>\n",
              "      <td>0</td>\n",
              "      <td>1</td>\n",
              "      <td>0</td>\n",
              "      <td>0</td>\n",
              "      <td>1</td>\n",
              "      <td>0</td>\n",
              "      <td>0</td>\n",
              "      <td>1</td>\n",
              "      <td>0</td>\n",
              "      <td>1</td>\n",
              "      <td>0</td>\n",
              "      <td>1</td>\n",
              "      <td>0</td>\n",
              "      <td>0</td>\n",
              "      <td>0</td>\n",
              "      <td>1</td>\n",
              "      <td>1</td>\n",
              "      <td>0</td>\n",
              "      <td>0</td>\n",
              "      <td>1</td>\n",
              "      <td>0</td>\n",
              "      <td>0</td>\n",
              "      <td>0</td>\n",
              "      <td>0</td>\n",
              "      <td>1</td>\n",
              "      <td>0</td>\n",
              "      <td>0</td>\n",
              "      <td>0</td>\n",
              "      <td>0</td>\n",
              "      <td>1</td>\n",
              "      <td>1</td>\n",
              "      <td>0</td>\n",
              "      <td>0</td>\n",
              "      <td>0</td>\n",
              "      <td>0</td>\n",
              "      <td>0</td>\n",
              "      <td>1</td>\n",
              "      <td>0</td>\n",
              "      <td>0</td>\n",
              "      <td>1</td>\n",
              "      <td>0</td>\n",
              "      <td>0</td>\n",
              "      <td>0</td>\n",
              "      <td>0</td>\n",
              "      <td>0</td>\n",
              "    </tr>\n",
              "    <tr>\n",
              "      <th>1</th>\n",
              "      <td>44</td>\n",
              "      <td>1</td>\n",
              "      <td>2</td>\n",
              "      <td>0</td>\n",
              "      <td>1</td>\n",
              "      <td>0</td>\n",
              "      <td>1</td>\n",
              "      <td>0</td>\n",
              "      <td>1</td>\n",
              "      <td>0</td>\n",
              "      <td>0</td>\n",
              "      <td>1</td>\n",
              "      <td>0</td>\n",
              "      <td>0</td>\n",
              "      <td>1</td>\n",
              "      <td>0</td>\n",
              "      <td>1</td>\n",
              "      <td>0</td>\n",
              "      <td>0</td>\n",
              "      <td>0</td>\n",
              "      <td>1</td>\n",
              "      <td>1</td>\n",
              "      <td>0</td>\n",
              "      <td>0</td>\n",
              "      <td>1</td>\n",
              "      <td>0</td>\n",
              "      <td>0</td>\n",
              "      <td>0</td>\n",
              "      <td>0</td>\n",
              "      <td>1</td>\n",
              "      <td>0</td>\n",
              "      <td>0</td>\n",
              "      <td>0</td>\n",
              "      <td>0</td>\n",
              "      <td>1</td>\n",
              "      <td>1</td>\n",
              "      <td>0</td>\n",
              "      <td>0</td>\n",
              "      <td>0</td>\n",
              "      <td>0</td>\n",
              "      <td>0</td>\n",
              "      <td>0</td>\n",
              "      <td>0</td>\n",
              "      <td>1</td>\n",
              "      <td>1</td>\n",
              "      <td>0</td>\n",
              "      <td>0</td>\n",
              "      <td>0</td>\n",
              "      <td>0</td>\n",
              "      <td>0</td>\n",
              "    </tr>\n",
              "    <tr>\n",
              "      <th>2</th>\n",
              "      <td>30</td>\n",
              "      <td>0</td>\n",
              "      <td>3</td>\n",
              "      <td>1</td>\n",
              "      <td>0</td>\n",
              "      <td>0</td>\n",
              "      <td>1</td>\n",
              "      <td>0</td>\n",
              "      <td>0</td>\n",
              "      <td>1</td>\n",
              "      <td>0</td>\n",
              "      <td>0</td>\n",
              "      <td>1</td>\n",
              "      <td>0</td>\n",
              "      <td>1</td>\n",
              "      <td>0</td>\n",
              "      <td>1</td>\n",
              "      <td>0</td>\n",
              "      <td>0</td>\n",
              "      <td>1</td>\n",
              "      <td>0</td>\n",
              "      <td>1</td>\n",
              "      <td>0</td>\n",
              "      <td>0</td>\n",
              "      <td>1</td>\n",
              "      <td>0</td>\n",
              "      <td>0</td>\n",
              "      <td>0</td>\n",
              "      <td>0</td>\n",
              "      <td>0</td>\n",
              "      <td>0</td>\n",
              "      <td>0</td>\n",
              "      <td>1</td>\n",
              "      <td>0</td>\n",
              "      <td>1</td>\n",
              "      <td>1</td>\n",
              "      <td>0</td>\n",
              "      <td>0</td>\n",
              "      <td>0</td>\n",
              "      <td>0</td>\n",
              "      <td>0</td>\n",
              "      <td>1</td>\n",
              "      <td>0</td>\n",
              "      <td>0</td>\n",
              "      <td>0</td>\n",
              "      <td>0</td>\n",
              "      <td>1</td>\n",
              "      <td>0</td>\n",
              "      <td>0</td>\n",
              "      <td>0</td>\n",
              "    </tr>\n",
              "    <tr>\n",
              "      <th>3</th>\n",
              "      <td>24</td>\n",
              "      <td>1</td>\n",
              "      <td>3</td>\n",
              "      <td>1</td>\n",
              "      <td>0</td>\n",
              "      <td>0</td>\n",
              "      <td>1</td>\n",
              "      <td>0</td>\n",
              "      <td>0</td>\n",
              "      <td>1</td>\n",
              "      <td>0</td>\n",
              "      <td>0</td>\n",
              "      <td>1</td>\n",
              "      <td>0</td>\n",
              "      <td>1</td>\n",
              "      <td>0</td>\n",
              "      <td>0</td>\n",
              "      <td>0</td>\n",
              "      <td>1</td>\n",
              "      <td>1</td>\n",
              "      <td>0</td>\n",
              "      <td>1</td>\n",
              "      <td>0</td>\n",
              "      <td>0</td>\n",
              "      <td>0</td>\n",
              "      <td>1</td>\n",
              "      <td>0</td>\n",
              "      <td>0</td>\n",
              "      <td>0</td>\n",
              "      <td>1</td>\n",
              "      <td>0</td>\n",
              "      <td>0</td>\n",
              "      <td>0</td>\n",
              "      <td>0</td>\n",
              "      <td>1</td>\n",
              "      <td>1</td>\n",
              "      <td>0</td>\n",
              "      <td>0</td>\n",
              "      <td>0</td>\n",
              "      <td>0</td>\n",
              "      <td>0</td>\n",
              "      <td>1</td>\n",
              "      <td>0</td>\n",
              "      <td>0</td>\n",
              "      <td>0</td>\n",
              "      <td>1</td>\n",
              "      <td>0</td>\n",
              "      <td>0</td>\n",
              "      <td>0</td>\n",
              "      <td>0</td>\n",
              "    </tr>\n",
              "    <tr>\n",
              "      <th>4</th>\n",
              "      <td>42</td>\n",
              "      <td>1</td>\n",
              "      <td>7</td>\n",
              "      <td>0</td>\n",
              "      <td>1</td>\n",
              "      <td>0</td>\n",
              "      <td>1</td>\n",
              "      <td>0</td>\n",
              "      <td>1</td>\n",
              "      <td>0</td>\n",
              "      <td>0</td>\n",
              "      <td>0</td>\n",
              "      <td>1</td>\n",
              "      <td>0</td>\n",
              "      <td>1</td>\n",
              "      <td>0</td>\n",
              "      <td>0</td>\n",
              "      <td>0</td>\n",
              "      <td>1</td>\n",
              "      <td>1</td>\n",
              "      <td>0</td>\n",
              "      <td>1</td>\n",
              "      <td>0</td>\n",
              "      <td>0</td>\n",
              "      <td>0</td>\n",
              "      <td>1</td>\n",
              "      <td>0</td>\n",
              "      <td>0</td>\n",
              "      <td>0</td>\n",
              "      <td>0</td>\n",
              "      <td>1</td>\n",
              "      <td>0</td>\n",
              "      <td>0</td>\n",
              "      <td>0</td>\n",
              "      <td>1</td>\n",
              "      <td>1</td>\n",
              "      <td>0</td>\n",
              "      <td>0</td>\n",
              "      <td>0</td>\n",
              "      <td>0</td>\n",
              "      <td>1</td>\n",
              "      <td>0</td>\n",
              "      <td>0</td>\n",
              "      <td>0</td>\n",
              "      <td>0</td>\n",
              "      <td>1</td>\n",
              "      <td>0</td>\n",
              "      <td>0</td>\n",
              "      <td>0</td>\n",
              "      <td>0</td>\n",
              "    </tr>\n",
              "  </tbody>\n",
              "</table>\n",
              "</div>"
            ],
            "text/plain": [
              "   age  part12monum  age_diff  ...  hhrmarital_4  hhrmarital_5  hiv_status\n",
              "0   42            1         2  ...             0             0           0\n",
              "1   44            1         2  ...             0             0           0\n",
              "2   30            0         3  ...             0             0           0\n",
              "3   24            1         3  ...             0             0           0\n",
              "4   42            1         7  ...             0             0           0\n",
              "\n",
              "[5 rows x 50 columns]"
            ]
          },
          "metadata": {},
          "execution_count": 49
        }
      ]
    },
    {
      "cell_type": "code",
      "metadata": {
        "colab": {
          "base_uri": "https://localhost:8080/",
          "height": 17
        },
        "id": "OR_9nCknt_c7",
        "outputId": "f153f01a-fada-4182-f5cb-2a9dcbc9bd9a"
      },
      "source": [
        "# # Save submission file\n",
        "# x_m.to_csv('data_modelling.csv')\n",
        "# files.download('data_modelling.csv')"
      ],
      "execution_count": null,
      "outputs": [
        {
          "output_type": "display_data",
          "data": {
            "application/javascript": [
              "\n",
              "    async function download(id, filename, size) {\n",
              "      if (!google.colab.kernel.accessAllowed) {\n",
              "        return;\n",
              "      }\n",
              "      const div = document.createElement('div');\n",
              "      const label = document.createElement('label');\n",
              "      label.textContent = `Downloading \"${filename}\": `;\n",
              "      div.appendChild(label);\n",
              "      const progress = document.createElement('progress');\n",
              "      progress.max = size;\n",
              "      div.appendChild(progress);\n",
              "      document.body.appendChild(div);\n",
              "\n",
              "      const buffers = [];\n",
              "      let downloaded = 0;\n",
              "\n",
              "      const channel = await google.colab.kernel.comms.open(id);\n",
              "      // Send a message to notify the kernel that we're ready.\n",
              "      channel.send({})\n",
              "\n",
              "      for await (const message of channel.messages) {\n",
              "        // Send a message to notify the kernel that we're ready.\n",
              "        channel.send({})\n",
              "        if (message.buffers) {\n",
              "          for (const buffer of message.buffers) {\n",
              "            buffers.push(buffer);\n",
              "            downloaded += buffer.byteLength;\n",
              "            progress.value = downloaded;\n",
              "          }\n",
              "        }\n",
              "      }\n",
              "      const blob = new Blob(buffers, {type: 'application/binary'});\n",
              "      const a = document.createElement('a');\n",
              "      a.href = window.URL.createObjectURL(blob);\n",
              "      a.download = filename;\n",
              "      div.appendChild(a);\n",
              "      a.click();\n",
              "      div.remove();\n",
              "    }\n",
              "  "
            ],
            "text/plain": [
              "<IPython.core.display.Javascript object>"
            ]
          },
          "metadata": {}
        },
        {
          "output_type": "display_data",
          "data": {
            "application/javascript": [
              "download(\"download_96ea6cf3-5f16-472b-a0a4-9b09aa1f02a0\", \"data_modelling.csv\", 3280018)"
            ],
            "text/plain": [
              "<IPython.core.display.Javascript object>"
            ]
          },
          "metadata": {}
        }
      ]
    },
    {
      "cell_type": "code",
      "metadata": {
        "colab": {
          "base_uri": "https://localhost:8080/",
          "height": 241
        },
        "id": "_RZZCXVla1zo",
        "outputId": "77b7467d-039d-4a3b-d39e-7928a47ce497"
      },
      "source": [
        "# importing csv file\n",
        "data=pd.read_csv(\"/content/gdrive/MyDrive/data/data_modelling.csv\")\n",
        "data.head()"
      ],
      "execution_count": 6,
      "outputs": [
        {
          "output_type": "execute_result",
          "data": {
            "text/html": [
              "<div>\n",
              "<style scoped>\n",
              "    .dataframe tbody tr th:only-of-type {\n",
              "        vertical-align: middle;\n",
              "    }\n",
              "\n",
              "    .dataframe tbody tr th {\n",
              "        vertical-align: top;\n",
              "    }\n",
              "\n",
              "    .dataframe thead th {\n",
              "        text-align: right;\n",
              "    }\n",
              "</style>\n",
              "<table border=\"1\" class=\"dataframe\">\n",
              "  <thead>\n",
              "    <tr style=\"text-align: right;\">\n",
              "      <th></th>\n",
              "      <th>Unnamed: 0</th>\n",
              "      <th>age</th>\n",
              "      <th>part12monum</th>\n",
              "      <th>age_diff</th>\n",
              "      <th>gender_1</th>\n",
              "      <th>gender_2</th>\n",
              "      <th>work12mo_0</th>\n",
              "      <th>work12mo_1</th>\n",
              "      <th>mcstatus_0</th>\n",
              "      <th>mcstatus_1</th>\n",
              "      <th>mcstatus_2</th>\n",
              "      <th>firstsxage_0</th>\n",
              "      <th>firstsxage_1</th>\n",
              "      <th>firstsxage_2</th>\n",
              "      <th>firstsxage_3</th>\n",
              "      <th>partlastcndm1_0</th>\n",
              "      <th>partlastcndm1_1</th>\n",
              "      <th>partlastsup1_0</th>\n",
              "      <th>partlastsup1_1</th>\n",
              "      <th>partlastsup1_2</th>\n",
              "      <th>partknowhiv1_0</th>\n",
              "      <th>partknowhiv1_1</th>\n",
              "      <th>analsxever_0</th>\n",
              "      <th>analsxever_1</th>\n",
              "      <th>attitude1_0</th>\n",
              "      <th>attitude1_1</th>\n",
              "      <th>attitude1_2</th>\n",
              "      <th>attitude1_3</th>\n",
              "      <th>attitude1_4</th>\n",
              "      <th>attitude2_0</th>\n",
              "      <th>attitude2_1</th>\n",
              "      <th>attitude2_2</th>\n",
              "      <th>attitude2_3</th>\n",
              "      <th>attitude2_4</th>\n",
              "      <th>urban_1</th>\n",
              "      <th>urban_2</th>\n",
              "      <th>wealthquintile_1</th>\n",
              "      <th>wealthquintile_2</th>\n",
              "      <th>wealthquintile_3</th>\n",
              "      <th>wealthquintile_4</th>\n",
              "      <th>wealthquintile_5</th>\n",
              "      <th>educationrwanda_1</th>\n",
              "      <th>educationrwanda_2</th>\n",
              "      <th>educationrwanda_3</th>\n",
              "      <th>educationrwanda_4</th>\n",
              "      <th>hhrmarital_1</th>\n",
              "      <th>hhrmarital_2</th>\n",
              "      <th>hhrmarital_3</th>\n",
              "      <th>hhrmarital_4</th>\n",
              "      <th>hhrmarital_5</th>\n",
              "      <th>hiv_staus</th>\n",
              "    </tr>\n",
              "  </thead>\n",
              "  <tbody>\n",
              "    <tr>\n",
              "      <th>0</th>\n",
              "      <td>0</td>\n",
              "      <td>42</td>\n",
              "      <td>1</td>\n",
              "      <td>2</td>\n",
              "      <td>1</td>\n",
              "      <td>0</td>\n",
              "      <td>0</td>\n",
              "      <td>1</td>\n",
              "      <td>0</td>\n",
              "      <td>0</td>\n",
              "      <td>1</td>\n",
              "      <td>0</td>\n",
              "      <td>0</td>\n",
              "      <td>1</td>\n",
              "      <td>0</td>\n",
              "      <td>1</td>\n",
              "      <td>0</td>\n",
              "      <td>1</td>\n",
              "      <td>0</td>\n",
              "      <td>0</td>\n",
              "      <td>0</td>\n",
              "      <td>1</td>\n",
              "      <td>1</td>\n",
              "      <td>0</td>\n",
              "      <td>0</td>\n",
              "      <td>1</td>\n",
              "      <td>0</td>\n",
              "      <td>0</td>\n",
              "      <td>0</td>\n",
              "      <td>0</td>\n",
              "      <td>1</td>\n",
              "      <td>0</td>\n",
              "      <td>0</td>\n",
              "      <td>0</td>\n",
              "      <td>0</td>\n",
              "      <td>1</td>\n",
              "      <td>1</td>\n",
              "      <td>0</td>\n",
              "      <td>0</td>\n",
              "      <td>0</td>\n",
              "      <td>0</td>\n",
              "      <td>0</td>\n",
              "      <td>1</td>\n",
              "      <td>0</td>\n",
              "      <td>0</td>\n",
              "      <td>1</td>\n",
              "      <td>0</td>\n",
              "      <td>0</td>\n",
              "      <td>0</td>\n",
              "      <td>0</td>\n",
              "      <td>0</td>\n",
              "    </tr>\n",
              "    <tr>\n",
              "      <th>1</th>\n",
              "      <td>1</td>\n",
              "      <td>44</td>\n",
              "      <td>1</td>\n",
              "      <td>2</td>\n",
              "      <td>0</td>\n",
              "      <td>1</td>\n",
              "      <td>0</td>\n",
              "      <td>1</td>\n",
              "      <td>0</td>\n",
              "      <td>1</td>\n",
              "      <td>0</td>\n",
              "      <td>0</td>\n",
              "      <td>1</td>\n",
              "      <td>0</td>\n",
              "      <td>0</td>\n",
              "      <td>1</td>\n",
              "      <td>0</td>\n",
              "      <td>1</td>\n",
              "      <td>0</td>\n",
              "      <td>0</td>\n",
              "      <td>0</td>\n",
              "      <td>1</td>\n",
              "      <td>1</td>\n",
              "      <td>0</td>\n",
              "      <td>0</td>\n",
              "      <td>1</td>\n",
              "      <td>0</td>\n",
              "      <td>0</td>\n",
              "      <td>0</td>\n",
              "      <td>0</td>\n",
              "      <td>1</td>\n",
              "      <td>0</td>\n",
              "      <td>0</td>\n",
              "      <td>0</td>\n",
              "      <td>0</td>\n",
              "      <td>1</td>\n",
              "      <td>1</td>\n",
              "      <td>0</td>\n",
              "      <td>0</td>\n",
              "      <td>0</td>\n",
              "      <td>0</td>\n",
              "      <td>0</td>\n",
              "      <td>0</td>\n",
              "      <td>0</td>\n",
              "      <td>1</td>\n",
              "      <td>1</td>\n",
              "      <td>0</td>\n",
              "      <td>0</td>\n",
              "      <td>0</td>\n",
              "      <td>0</td>\n",
              "      <td>0</td>\n",
              "    </tr>\n",
              "    <tr>\n",
              "      <th>2</th>\n",
              "      <td>2</td>\n",
              "      <td>30</td>\n",
              "      <td>0</td>\n",
              "      <td>3</td>\n",
              "      <td>1</td>\n",
              "      <td>0</td>\n",
              "      <td>0</td>\n",
              "      <td>1</td>\n",
              "      <td>0</td>\n",
              "      <td>0</td>\n",
              "      <td>1</td>\n",
              "      <td>0</td>\n",
              "      <td>0</td>\n",
              "      <td>1</td>\n",
              "      <td>0</td>\n",
              "      <td>1</td>\n",
              "      <td>0</td>\n",
              "      <td>1</td>\n",
              "      <td>0</td>\n",
              "      <td>0</td>\n",
              "      <td>1</td>\n",
              "      <td>0</td>\n",
              "      <td>1</td>\n",
              "      <td>0</td>\n",
              "      <td>0</td>\n",
              "      <td>1</td>\n",
              "      <td>0</td>\n",
              "      <td>0</td>\n",
              "      <td>0</td>\n",
              "      <td>0</td>\n",
              "      <td>0</td>\n",
              "      <td>0</td>\n",
              "      <td>0</td>\n",
              "      <td>1</td>\n",
              "      <td>0</td>\n",
              "      <td>1</td>\n",
              "      <td>1</td>\n",
              "      <td>0</td>\n",
              "      <td>0</td>\n",
              "      <td>0</td>\n",
              "      <td>0</td>\n",
              "      <td>0</td>\n",
              "      <td>1</td>\n",
              "      <td>0</td>\n",
              "      <td>0</td>\n",
              "      <td>0</td>\n",
              "      <td>0</td>\n",
              "      <td>1</td>\n",
              "      <td>0</td>\n",
              "      <td>0</td>\n",
              "      <td>0</td>\n",
              "    </tr>\n",
              "    <tr>\n",
              "      <th>3</th>\n",
              "      <td>3</td>\n",
              "      <td>24</td>\n",
              "      <td>1</td>\n",
              "      <td>3</td>\n",
              "      <td>1</td>\n",
              "      <td>0</td>\n",
              "      <td>0</td>\n",
              "      <td>1</td>\n",
              "      <td>0</td>\n",
              "      <td>0</td>\n",
              "      <td>1</td>\n",
              "      <td>0</td>\n",
              "      <td>0</td>\n",
              "      <td>1</td>\n",
              "      <td>0</td>\n",
              "      <td>1</td>\n",
              "      <td>0</td>\n",
              "      <td>0</td>\n",
              "      <td>0</td>\n",
              "      <td>1</td>\n",
              "      <td>1</td>\n",
              "      <td>0</td>\n",
              "      <td>1</td>\n",
              "      <td>0</td>\n",
              "      <td>0</td>\n",
              "      <td>0</td>\n",
              "      <td>1</td>\n",
              "      <td>0</td>\n",
              "      <td>0</td>\n",
              "      <td>0</td>\n",
              "      <td>1</td>\n",
              "      <td>0</td>\n",
              "      <td>0</td>\n",
              "      <td>0</td>\n",
              "      <td>0</td>\n",
              "      <td>1</td>\n",
              "      <td>1</td>\n",
              "      <td>0</td>\n",
              "      <td>0</td>\n",
              "      <td>0</td>\n",
              "      <td>0</td>\n",
              "      <td>0</td>\n",
              "      <td>1</td>\n",
              "      <td>0</td>\n",
              "      <td>0</td>\n",
              "      <td>0</td>\n",
              "      <td>1</td>\n",
              "      <td>0</td>\n",
              "      <td>0</td>\n",
              "      <td>0</td>\n",
              "      <td>0</td>\n",
              "    </tr>\n",
              "    <tr>\n",
              "      <th>4</th>\n",
              "      <td>4</td>\n",
              "      <td>42</td>\n",
              "      <td>1</td>\n",
              "      <td>7</td>\n",
              "      <td>0</td>\n",
              "      <td>1</td>\n",
              "      <td>0</td>\n",
              "      <td>1</td>\n",
              "      <td>0</td>\n",
              "      <td>1</td>\n",
              "      <td>0</td>\n",
              "      <td>0</td>\n",
              "      <td>0</td>\n",
              "      <td>1</td>\n",
              "      <td>0</td>\n",
              "      <td>1</td>\n",
              "      <td>0</td>\n",
              "      <td>0</td>\n",
              "      <td>0</td>\n",
              "      <td>1</td>\n",
              "      <td>1</td>\n",
              "      <td>0</td>\n",
              "      <td>1</td>\n",
              "      <td>0</td>\n",
              "      <td>0</td>\n",
              "      <td>0</td>\n",
              "      <td>1</td>\n",
              "      <td>0</td>\n",
              "      <td>0</td>\n",
              "      <td>0</td>\n",
              "      <td>0</td>\n",
              "      <td>1</td>\n",
              "      <td>0</td>\n",
              "      <td>0</td>\n",
              "      <td>0</td>\n",
              "      <td>1</td>\n",
              "      <td>1</td>\n",
              "      <td>0</td>\n",
              "      <td>0</td>\n",
              "      <td>0</td>\n",
              "      <td>0</td>\n",
              "      <td>1</td>\n",
              "      <td>0</td>\n",
              "      <td>0</td>\n",
              "      <td>0</td>\n",
              "      <td>0</td>\n",
              "      <td>1</td>\n",
              "      <td>0</td>\n",
              "      <td>0</td>\n",
              "      <td>0</td>\n",
              "      <td>0</td>\n",
              "    </tr>\n",
              "  </tbody>\n",
              "</table>\n",
              "</div>"
            ],
            "text/plain": [
              "   Unnamed: 0  age  part12monum  ...  hhrmarital_4  hhrmarital_5  hiv_staus\n",
              "0           0   42            1  ...             0             0          0\n",
              "1           1   44            1  ...             0             0          0\n",
              "2           2   30            0  ...             0             0          0\n",
              "3           3   24            1  ...             0             0          0\n",
              "4           4   42            1  ...             0             0          0\n",
              "\n",
              "[5 rows x 51 columns]"
            ]
          },
          "metadata": {},
          "execution_count": 6
        }
      ]
    },
    {
      "cell_type": "code",
      "metadata": {
        "id": "TIxQdwLBaHsZ"
      },
      "source": [
        "df=data.drop(data.query('hiv_staus == 0').sample(frac=.97).index)"
      ],
      "execution_count": 7,
      "outputs": []
    },
    {
      "cell_type": "code",
      "metadata": {
        "colab": {
          "base_uri": "https://localhost:8080/"
        },
        "id": "nXlX65wmjBFQ",
        "outputId": "df6ae983-0353-4c4c-bb95-b91d407b9b73"
      },
      "source": [
        "y.value_counts()"
      ],
      "execution_count": null,
      "outputs": [
        {
          "output_type": "execute_result",
          "data": {
            "text/plain": [
              "0    29926\n",
              "1      518\n",
              "2      265\n",
              "Name: hiv_staus, dtype: int64"
            ]
          },
          "metadata": {},
          "execution_count": 19
        }
      ]
    },
    {
      "cell_type": "markdown",
      "metadata": {
        "id": "3EVUsr9Ukp-T"
      },
      "source": [
        "# Modelling"
      ]
    },
    {
      "cell_type": "code",
      "metadata": {
        "id": "494Y2Dd8koy0",
        "colab": {
          "base_uri": "https://localhost:8080/",
          "height": 561
        },
        "outputId": "d000bfa5-6852-4453-8ca6-497ecca81252"
      },
      "source": [
        "# x_train and y_train\n",
        "x_m=df\n",
        "y=x_m['hiv_staus']\n",
        "x_m.drop(['hiv_staus','Unnamed: 0'], axis=1, inplace=True)"
      ],
      "execution_count": 10,
      "outputs": [
        {
          "output_type": "error",
          "ename": "KeyError",
          "evalue": "ignored",
          "traceback": [
            "\u001b[0;31m---------------------------------------------------------------------------\u001b[0m",
            "\u001b[0;31mKeyError\u001b[0m                                  Traceback (most recent call last)",
            "\u001b[0;32m/usr/local/lib/python3.7/dist-packages/pandas/core/indexes/base.py\u001b[0m in \u001b[0;36mget_loc\u001b[0;34m(self, key, method, tolerance)\u001b[0m\n\u001b[1;32m   2897\u001b[0m             \u001b[0;32mtry\u001b[0m\u001b[0;34m:\u001b[0m\u001b[0;34m\u001b[0m\u001b[0;34m\u001b[0m\u001b[0m\n\u001b[0;32m-> 2898\u001b[0;31m                 \u001b[0;32mreturn\u001b[0m \u001b[0mself\u001b[0m\u001b[0;34m.\u001b[0m\u001b[0m_engine\u001b[0m\u001b[0;34m.\u001b[0m\u001b[0mget_loc\u001b[0m\u001b[0;34m(\u001b[0m\u001b[0mcasted_key\u001b[0m\u001b[0;34m)\u001b[0m\u001b[0;34m\u001b[0m\u001b[0;34m\u001b[0m\u001b[0m\n\u001b[0m\u001b[1;32m   2899\u001b[0m             \u001b[0;32mexcept\u001b[0m \u001b[0mKeyError\u001b[0m \u001b[0;32mas\u001b[0m \u001b[0merr\u001b[0m\u001b[0;34m:\u001b[0m\u001b[0;34m\u001b[0m\u001b[0;34m\u001b[0m\u001b[0m\n",
            "\u001b[0;32mpandas/_libs/index.pyx\u001b[0m in \u001b[0;36mpandas._libs.index.IndexEngine.get_loc\u001b[0;34m()\u001b[0m\n",
            "\u001b[0;32mpandas/_libs/index.pyx\u001b[0m in \u001b[0;36mpandas._libs.index.IndexEngine.get_loc\u001b[0;34m()\u001b[0m\n",
            "\u001b[0;32mpandas/_libs/hashtable_class_helper.pxi\u001b[0m in \u001b[0;36mpandas._libs.hashtable.PyObjectHashTable.get_item\u001b[0;34m()\u001b[0m\n",
            "\u001b[0;32mpandas/_libs/hashtable_class_helper.pxi\u001b[0m in \u001b[0;36mpandas._libs.hashtable.PyObjectHashTable.get_item\u001b[0;34m()\u001b[0m\n",
            "\u001b[0;31mKeyError\u001b[0m: 'hiv_staus'",
            "\nThe above exception was the direct cause of the following exception:\n",
            "\u001b[0;31mKeyError\u001b[0m                                  Traceback (most recent call last)",
            "\u001b[0;32m<ipython-input-10-74d1654d7950>\u001b[0m in \u001b[0;36m<module>\u001b[0;34m()\u001b[0m\n\u001b[1;32m      1\u001b[0m \u001b[0;31m# x_train and y_train\u001b[0m\u001b[0;34m\u001b[0m\u001b[0;34m\u001b[0m\u001b[0;34m\u001b[0m\u001b[0m\n\u001b[1;32m      2\u001b[0m \u001b[0mx_m\u001b[0m\u001b[0;34m=\u001b[0m\u001b[0mdf\u001b[0m\u001b[0;34m\u001b[0m\u001b[0;34m\u001b[0m\u001b[0m\n\u001b[0;32m----> 3\u001b[0;31m \u001b[0my\u001b[0m\u001b[0;34m=\u001b[0m\u001b[0mx_m\u001b[0m\u001b[0;34m[\u001b[0m\u001b[0;34m'hiv_staus'\u001b[0m\u001b[0;34m]\u001b[0m\u001b[0;34m\u001b[0m\u001b[0;34m\u001b[0m\u001b[0m\n\u001b[0m\u001b[1;32m      4\u001b[0m \u001b[0mx_m\u001b[0m\u001b[0;34m.\u001b[0m\u001b[0mdrop\u001b[0m\u001b[0;34m(\u001b[0m\u001b[0;34m[\u001b[0m\u001b[0;34m'hiv_staus'\u001b[0m\u001b[0;34m,\u001b[0m\u001b[0;34m'Unnamed: 0'\u001b[0m\u001b[0;34m]\u001b[0m\u001b[0;34m,\u001b[0m \u001b[0maxis\u001b[0m\u001b[0;34m=\u001b[0m\u001b[0;36m1\u001b[0m\u001b[0;34m,\u001b[0m \u001b[0minplace\u001b[0m\u001b[0;34m=\u001b[0m\u001b[0;32mTrue\u001b[0m\u001b[0;34m)\u001b[0m\u001b[0;34m\u001b[0m\u001b[0;34m\u001b[0m\u001b[0m\n",
            "\u001b[0;32m/usr/local/lib/python3.7/dist-packages/pandas/core/frame.py\u001b[0m in \u001b[0;36m__getitem__\u001b[0;34m(self, key)\u001b[0m\n\u001b[1;32m   2904\u001b[0m             \u001b[0;32mif\u001b[0m \u001b[0mself\u001b[0m\u001b[0;34m.\u001b[0m\u001b[0mcolumns\u001b[0m\u001b[0;34m.\u001b[0m\u001b[0mnlevels\u001b[0m \u001b[0;34m>\u001b[0m \u001b[0;36m1\u001b[0m\u001b[0;34m:\u001b[0m\u001b[0;34m\u001b[0m\u001b[0;34m\u001b[0m\u001b[0m\n\u001b[1;32m   2905\u001b[0m                 \u001b[0;32mreturn\u001b[0m \u001b[0mself\u001b[0m\u001b[0;34m.\u001b[0m\u001b[0m_getitem_multilevel\u001b[0m\u001b[0;34m(\u001b[0m\u001b[0mkey\u001b[0m\u001b[0;34m)\u001b[0m\u001b[0;34m\u001b[0m\u001b[0;34m\u001b[0m\u001b[0m\n\u001b[0;32m-> 2906\u001b[0;31m             \u001b[0mindexer\u001b[0m \u001b[0;34m=\u001b[0m \u001b[0mself\u001b[0m\u001b[0;34m.\u001b[0m\u001b[0mcolumns\u001b[0m\u001b[0;34m.\u001b[0m\u001b[0mget_loc\u001b[0m\u001b[0;34m(\u001b[0m\u001b[0mkey\u001b[0m\u001b[0;34m)\u001b[0m\u001b[0;34m\u001b[0m\u001b[0;34m\u001b[0m\u001b[0m\n\u001b[0m\u001b[1;32m   2907\u001b[0m             \u001b[0;32mif\u001b[0m \u001b[0mis_integer\u001b[0m\u001b[0;34m(\u001b[0m\u001b[0mindexer\u001b[0m\u001b[0;34m)\u001b[0m\u001b[0;34m:\u001b[0m\u001b[0;34m\u001b[0m\u001b[0;34m\u001b[0m\u001b[0m\n\u001b[1;32m   2908\u001b[0m                 \u001b[0mindexer\u001b[0m \u001b[0;34m=\u001b[0m \u001b[0;34m[\u001b[0m\u001b[0mindexer\u001b[0m\u001b[0;34m]\u001b[0m\u001b[0;34m\u001b[0m\u001b[0;34m\u001b[0m\u001b[0m\n",
            "\u001b[0;32m/usr/local/lib/python3.7/dist-packages/pandas/core/indexes/base.py\u001b[0m in \u001b[0;36mget_loc\u001b[0;34m(self, key, method, tolerance)\u001b[0m\n\u001b[1;32m   2898\u001b[0m                 \u001b[0;32mreturn\u001b[0m \u001b[0mself\u001b[0m\u001b[0;34m.\u001b[0m\u001b[0m_engine\u001b[0m\u001b[0;34m.\u001b[0m\u001b[0mget_loc\u001b[0m\u001b[0;34m(\u001b[0m\u001b[0mcasted_key\u001b[0m\u001b[0;34m)\u001b[0m\u001b[0;34m\u001b[0m\u001b[0;34m\u001b[0m\u001b[0m\n\u001b[1;32m   2899\u001b[0m             \u001b[0;32mexcept\u001b[0m \u001b[0mKeyError\u001b[0m \u001b[0;32mas\u001b[0m \u001b[0merr\u001b[0m\u001b[0;34m:\u001b[0m\u001b[0;34m\u001b[0m\u001b[0;34m\u001b[0m\u001b[0m\n\u001b[0;32m-> 2900\u001b[0;31m                 \u001b[0;32mraise\u001b[0m \u001b[0mKeyError\u001b[0m\u001b[0;34m(\u001b[0m\u001b[0mkey\u001b[0m\u001b[0;34m)\u001b[0m \u001b[0;32mfrom\u001b[0m \u001b[0merr\u001b[0m\u001b[0;34m\u001b[0m\u001b[0;34m\u001b[0m\u001b[0m\n\u001b[0m\u001b[1;32m   2901\u001b[0m \u001b[0;34m\u001b[0m\u001b[0m\n\u001b[1;32m   2902\u001b[0m         \u001b[0;32mif\u001b[0m \u001b[0mtolerance\u001b[0m \u001b[0;32mis\u001b[0m \u001b[0;32mnot\u001b[0m \u001b[0;32mNone\u001b[0m\u001b[0;34m:\u001b[0m\u001b[0;34m\u001b[0m\u001b[0;34m\u001b[0m\u001b[0m\n",
            "\u001b[0;31mKeyError\u001b[0m: 'hiv_staus'"
          ]
        }
      ]
    },
    {
      "cell_type": "code",
      "metadata": {
        "colab": {
          "base_uri": "https://localhost:8080/"
        },
        "id": "NG6SxWSW3pp8",
        "outputId": "30bcb42b-bc03-49b2-efdd-9d71b23f0272"
      },
      "source": [
        "# x_m.drop(['Unnamed: 0'], axis=1, inplace=True)\n",
        "x_m.shape"
      ],
      "execution_count": 11,
      "outputs": [
        {
          "output_type": "execute_result",
          "data": {
            "text/plain": [
              "(1681, 49)"
            ]
          },
          "metadata": {},
          "execution_count": 11
        }
      ]
    },
    {
      "cell_type": "code",
      "metadata": {
        "colab": {
          "base_uri": "https://localhost:8080/"
        },
        "id": "k1As0YpBbwS4",
        "outputId": "755ae33d-7e12-4a52-da06-c19aad358c03"
      },
      "source": [
        "y.value_counts()"
      ],
      "execution_count": 14,
      "outputs": [
        {
          "output_type": "execute_result",
          "data": {
            "text/plain": [
              "0    898\n",
              "1    518\n",
              "2    265\n",
              "Name: hiv_staus, dtype: int64"
            ]
          },
          "metadata": {},
          "execution_count": 14
        }
      ]
    },
    {
      "cell_type": "code",
      "metadata": {
        "id": "zwJmy0Gbyd9M"
      },
      "source": [
        "# # # data transformation\n",
        "# from sklearn.preprocessing import MinMaxScaler\n",
        "# scaler=MinMaxScaler()\n",
        "# xx=scaler.fit_transform(X)"
      ],
      "execution_count": null,
      "outputs": []
    },
    {
      "cell_type": "code",
      "metadata": {
        "id": "LJNiDRMixEHb"
      },
      "source": [
        "yy=y.values\n",
        "XX=x_m.values"
      ],
      "execution_count": 15,
      "outputs": []
    },
    {
      "cell_type": "markdown",
      "metadata": {
        "id": "2_geV_TMu_fz"
      },
      "source": [
        "Train test split"
      ]
    },
    {
      "cell_type": "code",
      "metadata": {
        "id": "vBII6BC4vCM6"
      },
      "source": [
        "#splitting train data for testing and training using training datasets\n",
        "from sklearn.model_selection import train_test_split\n",
        "x_train, x_test, y_train, y_test = train_test_split(XX, y, test_size=0.30, random_state=42)"
      ],
      "execution_count": null,
      "outputs": []
    },
    {
      "cell_type": "code",
      "metadata": {
        "id": "uvSRNTdQ4vQR"
      },
      "source": [
        "# x_train"
      ],
      "execution_count": null,
      "outputs": []
    },
    {
      "cell_type": "code",
      "metadata": {
        "colab": {
          "base_uri": "https://localhost:8080/"
        },
        "id": "fFKSKjxb42NP",
        "outputId": "0da1028d-2a9f-4782-cba8-54a8dd90f819"
      },
      "source": [
        "# make a prediction with a multinomial logistic regression model\n",
        "from sklearn.datasets import make_classification\n",
        "from sklearn.linear_model import LogisticRegression\n",
        "# define the multinomial logistic regression model\n",
        "model = LogisticRegression(multi_class='multinomial', solver='lbfgs')\n",
        "# fit the model on the whole dataset\n",
        "model.fit(x_train, y_train)"
      ],
      "execution_count": null,
      "outputs": [
        {
          "output_type": "stream",
          "text": [
            "/usr/local/lib/python3.7/dist-packages/sklearn/linear_model/_logistic.py:940: ConvergenceWarning: lbfgs failed to converge (status=1):\n",
            "STOP: TOTAL NO. of ITERATIONS REACHED LIMIT.\n",
            "\n",
            "Increase the number of iterations (max_iter) or scale the data as shown in:\n",
            "    https://scikit-learn.org/stable/modules/preprocessing.html\n",
            "Please also refer to the documentation for alternative solver options:\n",
            "    https://scikit-learn.org/stable/modules/linear_model.html#logistic-regression\n",
            "  extra_warning_msg=_LOGISTIC_SOLVER_CONVERGENCE_MSG)\n"
          ],
          "name": "stderr"
        },
        {
          "output_type": "execute_result",
          "data": {
            "text/plain": [
              "LogisticRegression(C=1.0, class_weight=None, dual=False, fit_intercept=True,\n",
              "                   intercept_scaling=1, l1_ratio=None, max_iter=100,\n",
              "                   multi_class='multinomial', n_jobs=None, penalty='l2',\n",
              "                   random_state=None, solver='lbfgs', tol=0.0001, verbose=0,\n",
              "                   warm_start=False)"
            ]
          },
          "metadata": {},
          "execution_count": 13
        }
      ]
    },
    {
      "cell_type": "code",
      "metadata": {
        "colab": {
          "base_uri": "https://localhost:8080/"
        },
        "id": "nAw_XVGaereq",
        "outputId": "b446e387-989e-4839-a532-7981affce108"
      },
      "source": [
        "from sklearn import metrics\n",
        "y_pred=model.predict(x_test)\n",
        "pred=model.predict(x_train)\n",
        "# Model Accuracy, how often is the classifier correct?\n",
        "print(\"Accuracy train:\",metrics.accuracy_score(y_train, pred))\n",
        "print(\"Accuracy:\",metrics.accuracy_score(y_test, y_pred))"
      ],
      "execution_count": null,
      "outputs": [
        {
          "output_type": "stream",
          "text": [
            "Accuracy train: 0.974972087830294\n",
            "Accuracy: 0.973190057527407\n"
          ],
          "name": "stdout"
        }
      ]
    },
    {
      "cell_type": "code",
      "metadata": {
        "colab": {
          "base_uri": "https://localhost:8080/",
          "height": 296
        },
        "id": "Wj6CSbgphIkr",
        "outputId": "172070d1-0e38-4052-93a4-576c943e2528"
      },
      "source": [
        "# Creating  a confusion matrix,which compares the y_test and y_pred\n",
        "from sklearn.metrics import confusion_matrix\n",
        "import seaborn as sns\n",
        "import matplotlib.pyplot as plt\n",
        "cm = confusion_matrix(y_test, y_pred)\n",
        "# Creating a dataframe for a array-formatted Confusion matrix,so it will be easy for plotting.\n",
        "cm_df = pd.DataFrame(cm,\n",
        "                     index = ['Negative','Old_infection','new_infection'], \n",
        "                     columns = ['Negative','Old_infection','new_infection'])\n",
        "#Plotting the confusion matrix\n",
        "plt.figure(figsize=(5,4))\n",
        "sns.heatmap(cm_df, annot=True)\n",
        "plt.title('Confusion Matrix')\n",
        "plt.ylabel('Actal Values')\n",
        "plt.xlabel('Predicted Values')\n",
        "plt.show()"
      ],
      "execution_count": null,
      "outputs": [
        {
          "output_type": "display_data",
          "data": {
            "image/png": "[encoded data removed]",
            "text/plain": [
              "<Figure size 360x288 with 2 Axes>"
            ]
          },
          "metadata": {
            "needs_background": "light"
          }
        }
      ]
    },
    {
      "cell_type": "code",
      "metadata": {
        "colab": {
          "base_uri": "https://localhost:8080/",
          "height": 367
        },
        "id": "X7oQRdLO7Pm-",
        "outputId": "bd79e6b5-6773-4bab-a267-4539109ddbcd"
      },
      "source": [
        "# tune regularization for multinomial logistic regression\n",
        "from numpy import mean\n",
        "from numpy import std\n",
        "from sklearn.datasets import make_classification\n",
        "from sklearn.model_selection import cross_val_score\n",
        "from sklearn.model_selection import RepeatedStratifiedKFold\n",
        "from sklearn.linear_model import LogisticRegression\n",
        "from matplotlib import pyplot\n",
        "# get a list of models to evaluate\n",
        "def get_models():\n",
        "\tmodels = dict()\n",
        "\tfor p in [0.0, 0.0001, 0.001, 0.01, 0.1, 1.0]:\n",
        "\t\t# create name for model\n",
        "\t\tkey = '%.4f' % p\n",
        "\t\t# turn off penalty in some cases\n",
        "\t\tif p == 0.0:\n",
        "\t\t\t# no penalty in this case\n",
        "\t\t\tmodels[key] = LogisticRegression(multi_class='multinomial', solver='lbfgs', penalty='none')\n",
        "\t\telse:\n",
        "\t\t\tmodels[key] = LogisticRegression(multi_class='multinomial', solver='lbfgs', penalty='l2', C=p)\n",
        "\treturn models\n",
        "# evaluate a give model using cross-validation\n",
        "def evaluate_model(model, x_train, y_train):\n",
        "\t# define the evaluation procedure\n",
        "\tcv = RepeatedStratifiedKFold(n_splits=10, n_repeats=3, random_state=1)\n",
        "\t# evaluate the model\n",
        "\tscores = cross_val_score(model, x_train, y_train, scoring='accuracy', cv=cv, n_jobs=-1)\n",
        "\treturn scores\n",
        "# get the models to evaluate\n",
        "models = get_models()\n",
        "# evaluate the models and store results\n",
        "results, names = list(), list()\n",
        "for name, model in models.items():\n",
        "\t# evaluate the model and collect the scores\n",
        "\tscores = evaluate_model(model, x_train, y_train)\n",
        "\t# store the results\n",
        "\tresults.append(scores)\n",
        "\tnames.append(name)\n",
        "\t# summarize progress along the way\n",
        "\tprint('>%s %.3f (%.3f)' % (name, mean(scores), std(scores)))\n",
        "# plot model performance for comparison\n",
        "pyplot.boxplot(results, labels=names, showmeans=True)\n",
        "pyplot.show()"
      ],
      "execution_count": null,
      "outputs": [
        {
          "output_type": "stream",
          "text": [
            ">0.0000 0.975 (0.000)\n",
            ">0.0001 0.975 (0.000)\n",
            ">0.0010 0.975 (0.000)\n",
            ">0.0100 0.975 (0.000)\n",
            ">0.1000 0.975 (0.000)\n",
            ">1.0000 0.975 (0.000)\n"
          ],
          "name": "stdout"
        },
        {
          "output_type": "display_data",
          "data": {
            "image/png": "[encoded data removed]",
            "text/plain": [
              "<Figure size 432x288 with 1 Axes>"
            ]
          },
          "metadata": {
            "needs_background": "light"
          }
        }
      ]
    },
    {
      "cell_type": "markdown",
      "metadata": {
        "id": "WBIY38uBAQ_D"
      },
      "source": [
        "# Random Forest"
      ]
    },
    {
      "cell_type": "code",
      "metadata": {
        "id": "oDkGNszn9k5H"
      },
      "source": [
        "from sklearn.ensemble import RandomForestClassifier\n",
        "from sklearn.datasets import make_regression\n",
        "\n",
        "cl = RandomForestClassifier(n_estimators=100,max_depth=5, max_features=5, min_samples_leaf=3,random_state=0)\n",
        "cl.fit(x_train, y_train)\n",
        "y_pred1 = cl.predict(x_train)\n",
        "y_pred2 = cl.predict(x_test)\n",
        "\n"
      ],
      "execution_count": null,
      "outputs": []
    },
    {
      "cell_type": "code",
      "metadata": {
        "colab": {
          "base_uri": "https://localhost:8080/"
        },
        "id": "a0V0vrbLBdck",
        "outputId": "53c1c4cf-9610-4707-8927-235ed5d3efc1"
      },
      "source": [
        "from sklearn import metrics\n",
        "pred=model.predict(x_train)\n",
        "# Model Accuracy, how often is the classifier correct?\n",
        "print(\"Accuracy train:\",metrics.accuracy_score(y_train, pred))\n",
        "print(\"Accuracy:\",metrics.accuracy_score(y_test, y_pred2))"
      ],
      "execution_count": null,
      "outputs": [
        {
          "output_type": "stream",
          "text": [
            "Accuracy train: 0.974972087830294\n",
            "Accuracy: 0.9734071420818409\n"
          ],
          "name": "stdout"
        }
      ]
    },
    {
      "cell_type": "code",
      "metadata": {
        "id": "5tLZhuySDfUG",
        "colab": {
          "base_uri": "https://localhost:8080/",
          "height": 296
        },
        "outputId": "2e0731a4-5398-48fb-adf0-68e4e29535cb"
      },
      "source": [
        "# Creating  a confusion matrix,which compares the y_test and y_pred\n",
        "from sklearn.metrics import confusion_matrix\n",
        "import seaborn as sns\n",
        "import matplotlib.pyplot as plt\n",
        "cm = confusion_matrix(y_test, y_pred2)\n",
        "# Creating a dataframe for a array-formatted Confusion matrix,so it will be easy for plotting.\n",
        "cm_df = pd.DataFrame(cm,\n",
        "                     index = ['Negative','Old_infection','new_infection'], \n",
        "                     columns = ['Negative','Old_infection','new_infection'])\n",
        "#Plotting the confusion matrix\n",
        "plt.figure(figsize=(5,4))\n",
        "sns.heatmap(cm_df, annot=True)\n",
        "plt.title('Confusion Matrix')\n",
        "plt.ylabel('Actal Values')\n",
        "plt.xlabel('Predicted Values')\n",
        "plt.show()"
      ],
      "execution_count": null,
      "outputs": [
        {
          "output_type": "display_data",
          "data": {
            "image/png": "[encoded data removed]",
            "text/plain": [
              "<Figure size 360x288 with 2 Axes>"
            ]
          },
          "metadata": {
            "needs_background": "light"
          }
        }
      ]
    },
    {
      "cell_type": "markdown",
      "metadata": {
        "id": "COwrdAEwnpRg"
      },
      "source": [
        "Dealing with class imballance"
      ]
    },
    {
      "cell_type": "code",
      "metadata": {
        "colab": {
          "base_uri": "https://localhost:8080/"
        },
        "id": "ohkGfs4wnsOJ",
        "outputId": "2e8c9a50-ee3e-47bb-f3e7-d63912627e45"
      },
      "source": [
        "from imblearn.over_sampling import SMOTE\n",
        "# transform the dataset\n",
        "oversample = SMOTE()\n",
        "X, Y= oversample.fit_resample(x_train, y_train)\n"
      ],
      "execution_count": null,
      "outputs": [
        {
          "output_type": "stream",
          "text": [
            "/usr/local/lib/python3.7/dist-packages/sklearn/externals/six.py:31: FutureWarning: The module is deprecated in version 0.21 and will be removed in version 0.23 since we've dropped support for Python 2.7. Please rely on the official version of six (https://pypi.org/project/six/).\n",
            "  \"(https://pypi.org/project/six/).\", FutureWarning)\n",
            "/usr/local/lib/python3.7/dist-packages/sklearn/utils/deprecation.py:144: FutureWarning: The sklearn.neighbors.base module is  deprecated in version 0.22 and will be removed in version 0.24. The corresponding classes / functions should instead be imported from sklearn.neighbors. Anything that cannot be imported from sklearn.neighbors is now part of the private API.\n",
            "  warnings.warn(message, FutureWarning)\n",
            "/usr/local/lib/python3.7/dist-packages/sklearn/utils/deprecation.py:87: FutureWarning: Function safe_indexing is deprecated; safe_indexing is deprecated in version 0.22 and will be removed in version 0.24.\n",
            "  warnings.warn(msg, category=FutureWarning)\n",
            "/usr/local/lib/python3.7/dist-packages/sklearn/utils/deprecation.py:87: FutureWarning: Function safe_indexing is deprecated; safe_indexing is deprecated in version 0.22 and will be removed in version 0.24.\n",
            "  warnings.warn(msg, category=FutureWarning)\n"
          ],
          "name": "stderr"
        }
      ]
    },
    {
      "cell_type": "code",
      "metadata": {
        "colab": {
          "base_uri": "https://localhost:8080/",
          "height": 316
        },
        "id": "2LUKU22Yn-Q0",
        "outputId": "5c851d91-483c-4fcb-e693-13b4ef705ba9"
      },
      "source": [
        "# summarize distribution\n",
        "from collections import Counter\n",
        "from matplotlib import pyplot\n",
        "from sklearn.preprocessing import LabelEncoder\n",
        "counter = Counter(Y)\n",
        "for k,v in counter.items():\n",
        "\tper = v / len(Y) * 100\n",
        "\tprint('Class=%d, n=%d (%.3f%%)' % (k, v, per))\n",
        "# plot the distribution\n",
        "pyplot.bar(counter.keys(), counter.values())\n",
        "pyplot.show()"
      ],
      "execution_count": null,
      "outputs": [
        {
          "output_type": "stream",
          "text": [
            "Class=0, n=20958 (33.333%)\n",
            "Class=1, n=20958 (33.333%)\n",
            "Class=2, n=20958 (33.333%)\n"
          ],
          "name": "stdout"
        },
        {
          "output_type": "display_data",
          "data": {
            "image/png": "[encoded data removed]",
            "text/plain": [
              "<Figure size 432x288 with 1 Axes>"
            ]
          },
          "metadata": {
            "needs_background": "light"
          }
        }
      ]
    },
    {
      "cell_type": "code",
      "metadata": {
        "id": "_XgaiPwsbZeM"
      },
      "source": [
        "# Count samples per class\n",
        "classes_zero = df[df['Response'] == 0]\n",
        "classes_one = df[df['Response'] == 1]\n",
        "classes_one = df[df['Response'] == 2]\n",
        "\n",
        "# Print sizes\n",
        "print(f'Class 0: {len(classes_zero)}')\n",
        "print(f'Class 1: {len(classes_one)}')"
      ],
      "execution_count": null,
      "outputs": []
    },
    {
      "cell_type": "markdown",
      "metadata": {
        "id": "642pczgArPCC"
      },
      "source": [
        "Logistics"
      ]
    },
    {
      "cell_type": "code",
      "metadata": {
        "colab": {
          "base_uri": "https://localhost:8080/",
          "height": 197
        },
        "id": "G8rpOjmioWzq",
        "outputId": "62b2fb1a-29d0-4249-d7de-f70e90bd32fc"
      },
      "source": [
        "# make a prediction with a multinomial logistic regression model\n",
        "from sklearn.datasets import make_classification\n",
        "from sklearn.linear_model import LogisticRegression\n",
        "# define the multinomial logistic regression model\n",
        "model = LogisticRegression(multi_class='multinomial', solver='lbfgs')\n",
        "# fit the model on the whole dataset\n",
        "weights={0:0.20,1:5.0,2:5.2}\n",
        "model.fit(x_train, y_train, class_weight=weights)"
      ],
      "execution_count": null,
      "outputs": [
        {
          "output_type": "error",
          "ename": "TypeError",
          "evalue": "ignored",
          "traceback": [
            "\u001b[0;31m---------------------------------------------------------------------------\u001b[0m",
            "\u001b[0;31mTypeError\u001b[0m                                 Traceback (most recent call last)",
            "\u001b[0;32m<ipython-input-9-1f11ea15c562>\u001b[0m in \u001b[0;36m<module>\u001b[0;34m()\u001b[0m\n\u001b[1;32m      6\u001b[0m \u001b[0;31m# fit the model on the whole dataset\u001b[0m\u001b[0;34m\u001b[0m\u001b[0;34m\u001b[0m\u001b[0;34m\u001b[0m\u001b[0m\n\u001b[1;32m      7\u001b[0m \u001b[0mweights\u001b[0m\u001b[0;34m=\u001b[0m\u001b[0;34m{\u001b[0m\u001b[0;36m0\u001b[0m\u001b[0;34m:\u001b[0m\u001b[0;36m0.20\u001b[0m\u001b[0;34m,\u001b[0m\u001b[0;36m1\u001b[0m\u001b[0;34m:\u001b[0m\u001b[0;36m5.0\u001b[0m\u001b[0;34m,\u001b[0m\u001b[0;36m2\u001b[0m\u001b[0;34m:\u001b[0m\u001b[0;36m5.2\u001b[0m\u001b[0;34m}\u001b[0m\u001b[0;34m\u001b[0m\u001b[0;34m\u001b[0m\u001b[0m\n\u001b[0;32m----> 8\u001b[0;31m \u001b[0mmodel\u001b[0m\u001b[0;34m.\u001b[0m\u001b[0mfit\u001b[0m\u001b[0;34m(\u001b[0m\u001b[0mx_train\u001b[0m\u001b[0;34m,\u001b[0m \u001b[0my_train\u001b[0m\u001b[0;34m,\u001b[0m \u001b[0mclass_weight\u001b[0m\u001b[0;34m=\u001b[0m\u001b[0mweights\u001b[0m\u001b[0;34m)\u001b[0m\u001b[0;34m\u001b[0m\u001b[0;34m\u001b[0m\u001b[0m\n\u001b[0m",
            "\u001b[0;31mTypeError\u001b[0m: fit() got an unexpected keyword argument 'class_weight'"
          ]
        }
      ]
    },
    {
      "cell_type": "code",
      "metadata": {
        "colab": {
          "base_uri": "https://localhost:8080/",
          "height": 231
        },
        "id": "XIPkl2SgmsNR",
        "outputId": "fe5adbfc-5e36-4fe1-86e2-50fdfec76d09"
      },
      "source": [
        "# Create training and test split out of imbalanced data set created above\n",
        "# X_train, X_test, y_train, y_test = train_test_split(X_imb, y_imb, test_size=0.3, random_state=1, stratify=y_imb)\n",
        "#\n",
        "# Create pipeline with LogisticRegression and class_weight as {0:3, 1:1}\n",
        "#\n",
        "pipeline = make_pipeline(StandardScaler(), LogisticRegression(random_state=1, class_weight={0:0.20,1:5.0,2:5.2}))\n",
        "#\n",
        "# Create a randomized search for finding most appropriate model\n",
        "#\n",
        "param_distributions = [{'logisticregression__C': sc.stats.expon(scale=100)}]\n",
        "rs = RandomizedSearchCV(estimator=pipeline, param_distributions = param_distributions, cv = 10, scoring = 'accuracy', refit = True,\n",
        "                        n_jobs = 1,random_state=1)\n",
        "#\n",
        "# Fit the model\n",
        "#\n",
        "rs.fit(x_train, y_train)\n",
        "#\n",
        "# Find the best score, params and accuracy on the test dataset\n",
        "#\n",
        "print('Best Score:', rs.best_score_, '\\nBest Params:', rs.best_params_)\n",
        "print('Test Accuracy: %0.3f' % rs.score(x_test, y_test))"
      ],
      "execution_count": null,
      "outputs": [
        {
          "output_type": "error",
          "ename": "NameError",
          "evalue": "ignored",
          "traceback": [
            "\u001b[0;31m---------------------------------------------------------------------------\u001b[0m",
            "\u001b[0;31mNameError\u001b[0m                                 Traceback (most recent call last)",
            "\u001b[0;32m<ipython-input-10-a38d7f895bd5>\u001b[0m in \u001b[0;36m<module>\u001b[0;34m()\u001b[0m\n\u001b[1;32m      4\u001b[0m \u001b[0;31m# Create pipeline with LogisticRegression and class_weight as {0:3, 1:1}\u001b[0m\u001b[0;34m\u001b[0m\u001b[0;34m\u001b[0m\u001b[0;34m\u001b[0m\u001b[0m\n\u001b[1;32m      5\u001b[0m \u001b[0;31m#\u001b[0m\u001b[0;34m\u001b[0m\u001b[0;34m\u001b[0m\u001b[0;34m\u001b[0m\u001b[0m\n\u001b[0;32m----> 6\u001b[0;31m \u001b[0mpipeline\u001b[0m \u001b[0;34m=\u001b[0m \u001b[0mmake_pipeline\u001b[0m\u001b[0;34m(\u001b[0m\u001b[0mStandardScaler\u001b[0m\u001b[0;34m(\u001b[0m\u001b[0;34m)\u001b[0m\u001b[0;34m,\u001b[0m \u001b[0mLogisticRegression\u001b[0m\u001b[0;34m(\u001b[0m\u001b[0mrandom_state\u001b[0m\u001b[0;34m=\u001b[0m\u001b[0;36m1\u001b[0m\u001b[0;34m,\u001b[0m \u001b[0mclass_weight\u001b[0m\u001b[0;34m=\u001b[0m\u001b[0;34m{\u001b[0m\u001b[0;36m0\u001b[0m\u001b[0;34m:\u001b[0m\u001b[0;36m0.20\u001b[0m\u001b[0;34m,\u001b[0m\u001b[0;36m1\u001b[0m\u001b[0;34m:\u001b[0m\u001b[0;36m5.0\u001b[0m\u001b[0;34m,\u001b[0m\u001b[0;36m2\u001b[0m\u001b[0;34m:\u001b[0m\u001b[0;36m5.2\u001b[0m\u001b[0;34m}\u001b[0m\u001b[0;34m)\u001b[0m\u001b[0;34m)\u001b[0m\u001b[0;34m\u001b[0m\u001b[0;34m\u001b[0m\u001b[0m\n\u001b[0m\u001b[1;32m      7\u001b[0m \u001b[0;31m#\u001b[0m\u001b[0;34m\u001b[0m\u001b[0;34m\u001b[0m\u001b[0;34m\u001b[0m\u001b[0m\n\u001b[1;32m      8\u001b[0m \u001b[0;31m# Create a randomized search for finding most appropriate model\u001b[0m\u001b[0;34m\u001b[0m\u001b[0;34m\u001b[0m\u001b[0;34m\u001b[0m\u001b[0m\n",
            "\u001b[0;31mNameError\u001b[0m: name 'make_pipeline' is not defined"
          ]
        }
      ]
    },
    {
      "cell_type": "code",
      "metadata": {
        "colab": {
          "base_uri": "https://localhost:8080/"
        },
        "id": "aFcaikHSoiPT",
        "outputId": "6ed2d155-786f-4c14-fb6a-b3e0baf5c388"
      },
      "source": [
        "from sklearn import metrics\n",
        "pred=model.predict(X)\n",
        "pred_2=model.predict(x_test)\n",
        "# Model Accuracy, how often is the classifier correct?\n",
        "print(\"Accuracy train:\",metrics.accuracy_score(Y, pred))\n",
        "print(\"Accuracy:\",metrics.accuracy_score(y_test, pred_2))"
      ],
      "execution_count": null,
      "outputs": [
        {
          "output_type": "stream",
          "text": [
            "Accuracy train: 0.7530934885644305\n",
            "Accuracy: 0.9640725062411809\n"
          ],
          "name": "stdout"
        }
      ]
    },
    {
      "cell_type": "code",
      "metadata": {
        "colab": {
          "base_uri": "https://localhost:8080/",
          "height": 296
        },
        "id": "lW1Mh34tozNB",
        "outputId": "17fe954b-1260-426c-ff15-1c1ebcf814a2"
      },
      "source": [
        "# Creating  a confusion matrix,which compares the y_test and y_pred\n",
        "from sklearn.metrics import confusion_matrix\n",
        "import seaborn as sns\n",
        "import matplotlib.pyplot as plt\n",
        "cm = confusion_matrix(y_test, pred_2)\n",
        "# Creating a dataframe for a array-formatted Confusion matrix,so it will be easy for plotting.\n",
        "cm_df = pd.DataFrame(cm,\n",
        "                     index = ['Negative','Old_infection','new_infection'], \n",
        "                     columns = ['Negative','Old_infection','new_infection'])\n",
        "#Plotting the confusion matrix\n",
        "plt.figure(figsize=(5,4))\n",
        "sns.heatmap(cm_df, annot=True)\n",
        "plt.title('Confusion Matrix')\n",
        "plt.ylabel('Actal Values')\n",
        "plt.xlabel('Predicted Values')\n",
        "plt.show()"
      ],
      "execution_count": null,
      "outputs": [
        {
          "output_type": "display_data",
          "data": {
            "image/png": "[encoded data removed]",
            "text/plain": [
              "<Figure size 360x288 with 2 Axes>"
            ]
          },
          "metadata": {
            "needs_background": "light"
          }
        }
      ]
    },
    {
      "cell_type": "code",
      "metadata": {
        "id": "DI5KyA1jrBcV"
      },
      "source": [
        ""
      ],
      "execution_count": null,
      "outputs": []
    },
    {
      "cell_type": "code",
      "metadata": {
        "id": "TqdnxdNBnn9b"
      },
      "source": [
        "from imblearn.over_sampling import SMOTE"
      ],
      "execution_count": null,
      "outputs": []
    },
    {
      "cell_type": "code",
      "metadata": {
        "colab": {
          "base_uri": "https://localhost:8080/"
        },
        "id": "9mJ_8c_Mmo8D",
        "outputId": "82120f99-bb3c-476e-8a46-630ed8e82738"
      },
      "source": [
        "print(\"Shape of the dataset without outlier: \",x.shape)"
      ],
      "execution_count": null,
      "outputs": [
        {
          "output_type": "stream",
          "text": [
            "Shape of the dataset without outlier:  (30709, 17)\n"
          ],
          "name": "stdout"
        }
      ]
    },
    {
      "cell_type": "code",
      "metadata": {
        "id": "auOD-uJQqBSB",
        "colab": {
          "base_uri": "https://localhost:8080/",
          "height": 173
        },
        "outputId": "9910f331-ac1a-43e9-9609-a06b61c2930a"
      },
      "source": [
        "# form crosstab with dropna=False between mcstatus and hivstatusfinal\n",
        "pd.crosstab(data_without_missing_values.mcstatus,data_without_missing_values.hivstatusfinal, dropna=False)"
      ],
      "execution_count": null,
      "outputs": [
        {
          "output_type": "execute_result",
          "data": {
            "text/html": [
              "<div>\n",
              "<style scoped>\n",
              "    .dataframe tbody tr th:only-of-type {\n",
              "        vertical-align: middle;\n",
              "    }\n",
              "\n",
              "    .dataframe tbody tr th {\n",
              "        vertical-align: top;\n",
              "    }\n",
              "\n",
              "    .dataframe thead th {\n",
              "        text-align: right;\n",
              "    }\n",
              "</style>\n",
              "<table border=\"1\" class=\"dataframe\">\n",
              "  <thead>\n",
              "    <tr style=\"text-align: right;\">\n",
              "      <th>hivstatusfinal</th>\n",
              "      <th>Negative</th>\n",
              "      <th>Positive</th>\n",
              "    </tr>\n",
              "    <tr>\n",
              "      <th>mcstatus</th>\n",
              "      <th></th>\n",
              "      <th></th>\n",
              "    </tr>\n",
              "  </thead>\n",
              "  <tbody>\n",
              "    <tr>\n",
              "      <th>Female_NA</th>\n",
              "      <td>7415</td>\n",
              "      <td>290</td>\n",
              "    </tr>\n",
              "    <tr>\n",
              "      <th>NO</th>\n",
              "      <td>3825</td>\n",
              "      <td>138</td>\n",
              "    </tr>\n",
              "    <tr>\n",
              "      <th>YES</th>\n",
              "      <td>2704</td>\n",
              "      <td>47</td>\n",
              "    </tr>\n",
              "  </tbody>\n",
              "</table>\n",
              "</div>"
            ],
            "text/plain": [
              "hivstatusfinal  Negative  Positive\n",
              "mcstatus                          \n",
              "Female_NA           7415       290\n",
              "NO                  3825       138\n",
              "YES                 2704        47"
            ]
          },
          "metadata": {
            "tags": []
          },
          "execution_count": 33
        }
      ]
    },
    {
      "cell_type": "code",
      "metadata": {
        "colab": {
          "base_uri": "https://localhost:8080/"
        },
        "id": "_HlE-DpM6vvh",
        "outputId": "247f8fc2-e264-4716-caec-91e5ea9990d2"
      },
      "source": [
        "data_dd['firstsxagedk'].value_counts()"
      ],
      "execution_count": null,
      "outputs": [
        {
          "output_type": "execute_result",
          "data": {
            "text/plain": [
              "NEVER HAD VAGINAL SEX    7208\n",
              "DON'T KNOW                103\n",
              "OUT OF RANGE               62\n",
              "REFUSED                    42\n",
              "Name: firstsxagedk, dtype: int64"
            ]
          },
          "metadata": {
            "tags": []
          },
          "execution_count": 54
        }
      ]
    },
    {
      "cell_type": "code",
      "metadata": {
        "id": "6eSswy6pVOGu",
        "colab": {
          "base_uri": "https://localhost:8080/"
        },
        "outputId": "e7387439-cca9-47c0-b724-8a6e0c2ac7e8"
      },
      "source": [
        "data.isnull().sum()"
      ],
      "execution_count": null,
      "outputs": [
        {
          "output_type": "execute_result",
          "data": {
            "text/plain": [
              "gender                 0\n",
              "age                    0\n",
              "work12mo               0\n",
              "mcstatus               0\n",
              "firstsxage          3579\n",
              "part12monum         6469\n",
              "partlastcndm1      11959\n",
              "partlastsup1       12164\n",
              "partknowhiv1       11959\n",
              "analsxever         11959\n",
              "hivtesty            6933\n",
              "hivtstrslt          6930\n",
              "attitude1              0\n",
              "attitude2              0\n",
              "urban                  0\n",
              "wealthquintile        20\n",
              "hivstatusfinal         0\n",
              "educationrwanda       15\n",
              "hhrmarital             0\n",
              "hiv_status             0\n",
              "age_diff           12005\n",
              "dtype: int64"
            ]
          },
          "metadata": {
            "tags": []
          },
          "execution_count": 25
        }
      ]
    },
    {
      "cell_type": "code",
      "metadata": {
        "colab": {
          "base_uri": "https://localhost:8080/"
        },
        "id": "PPHCMLVCwjad",
        "outputId": "823ed725-4049-47b4-cf56-d750a8bd8204"
      },
      "source": [
        "df.info()\n",
        "# /content/lorraine.csv"
      ],
      "execution_count": null,
      "outputs": [
        {
          "output_type": "stream",
          "text": [
            "<class 'pandas.core.frame.DataFrame'>\n",
            "Int64Index: 39328 entries, 0 to 39327\n",
            "Columns: 526 entries, country to hepbcwt186\n",
            "dtypes: datetime64[ns](4), float64(508), object(14)\n",
            "memory usage: 158.1+ MB\n"
          ],
          "name": "stdout"
        }
      ]
    },
    {
      "cell_type": "code",
      "metadata": {
        "id": "obeVszlhw5PA"
      },
      "source": [
        "# # Save submission file\n",
        "# df.to_csv('lorraine.csv')\n",
        "# files.download('lorraine.csv')"
      ],
      "execution_count": null,
      "outputs": []
    },
    {
      "cell_type": "markdown",
      "metadata": {
        "id": "DACCYvf8mL4g"
      },
      "source": [
        "# Residence"
      ]
    },
    {
      "cell_type": "code",
      "metadata": {
        "colab": {
          "base_uri": "https://localhost:8080/"
        },
        "id": "SHm35Ny1fxRV",
        "outputId": "1f9331e6-097f-44f9-c557-97f47fbd277f"
      },
      "source": [
        "# urban frequency\n",
        "df['urban'].value_counts()"
      ],
      "execution_count": null,
      "outputs": [
        {
          "output_type": "execute_result",
          "data": {
            "text/plain": [
              "Rural    26393\n",
              "Urban     8872\n",
              "Name: urban, dtype: int64"
            ]
          },
          "metadata": {
            "tags": []
          },
          "execution_count": 6
        }
      ]
    },
    {
      "cell_type": "markdown",
      "metadata": {
        "id": "6gyHTgn2mIjJ"
      },
      "source": [
        "# Gender"
      ]
    },
    {
      "cell_type": "code",
      "metadata": {
        "colab": {
          "base_uri": "https://localhost:8080/"
        },
        "id": "dtk3q0I7IEbw",
        "outputId": "034eb86e-ae95-44d0-d5be-2995e404179a"
      },
      "source": [
        "# urban frequency\n",
        "df['province'].value_counts()"
      ],
      "execution_count": null,
      "outputs": [
        {
          "output_type": "execute_result",
          "data": {
            "text/plain": [
              "west      8383\n",
              "south     7074\n",
              "north     6877\n",
              "kigali    6714\n",
              "east      6217\n",
              "Name: province, dtype: int64"
            ]
          },
          "metadata": {
            "tags": []
          },
          "execution_count": 19
        }
      ]
    },
    {
      "cell_type": "code",
      "metadata": {
        "colab": {
          "base_uri": "https://localhost:8080/"
        },
        "id": "jl8ggREdIh9b",
        "outputId": "ddd53184-573f-4b8d-fe52-b83a3d3dec12"
      },
      "source": [
        "# gender frequency\n",
        "df['gender'].value_counts()"
      ],
      "execution_count": null,
      "outputs": [
        {
          "output_type": "execute_result",
          "data": {
            "text/plain": [
              "Female    18988\n",
              "Male      16277\n",
              "Name: gender, dtype: int64"
            ]
          },
          "metadata": {
            "tags": []
          },
          "execution_count": 13
        }
      ]
    },
    {
      "cell_type": "markdown",
      "metadata": {
        "id": "cV5WjOoSmCrO"
      },
      "source": [
        "# Education"
      ]
    },
    {
      "cell_type": "code",
      "metadata": {
        "colab": {
          "base_uri": "https://localhost:8080/"
        },
        "id": "wJgyLHrkKu9t",
        "outputId": "02d5eb7c-2618-4b5b-a76f-dadd5d6ad928"
      },
      "source": [
        "# school frequency\n",
        "df['schlhi'].value_counts()"
      ],
      "execution_count": null,
      "outputs": [
        {
          "output_type": "execute_result",
          "data": {
            "text/plain": [
              "PRIMARY       18390\n",
              "SECONDARY      7984\n",
              "HIGHER         1464\n",
              "REFUSED           3\n",
              "DON'T KNOW        3\n",
              "Name: schlhi, dtype: int64"
            ]
          },
          "metadata": {
            "tags": []
          },
          "execution_count": 7
        }
      ]
    },
    {
      "cell_type": "markdown",
      "metadata": {
        "id": "cqQ29EgqNVI6"
      },
      "source": [
        "to delete: schlhi, "
      ]
    },
    {
      "cell_type": "code",
      "metadata": {
        "colab": {
          "base_uri": "https://localhost:8080/"
        },
        "id": "VUr1EesuNFcB",
        "outputId": "5f1c6abe-5a2b-4ac2-d29e-8a4457340781"
      },
      "source": [
        "# school frequency\n",
        "df['educationrwanda'].value_counts()"
      ],
      "execution_count": null,
      "outputs": [
        {
          "output_type": "execute_result",
          "data": {
            "text/plain": [
              "Primary                18374\n",
              "Secondary               7984\n",
              "Missing                 4571\n",
              "No education            2872\n",
              "More than Secondary     1464\n",
              "Name: educationrwanda, dtype: int64"
            ]
          },
          "metadata": {
            "tags": []
          },
          "execution_count": 8
        }
      ]
    },
    {
      "cell_type": "code",
      "metadata": {
        "colab": {
          "base_uri": "https://localhost:8080/"
        },
        "id": "yEcIig8AnqqC",
        "outputId": "543e06b7-bc22-43a0-b306-38ada2ed6dea"
      },
      "source": [
        "# replacing NaN in education column from column of other education column\n",
        "df.educationrwanda[df.educationrwanda == 'Missing'] = df.schlhi"
      ],
      "execution_count": null,
      "outputs": [
        {
          "output_type": "stream",
          "text": [
            "/usr/local/lib/python3.7/dist-packages/ipykernel_launcher.py:2: SettingWithCopyWarning: \n",
            "A value is trying to be set on a copy of a slice from a DataFrame\n",
            "\n",
            "See the caveats in the documentation: https://pandas.pydata.org/pandas-docs/stable/user_guide/indexing.html#returning-a-view-versus-a-copy\n",
            "  \n"
          ],
          "name": "stderr"
        }
      ]
    },
    {
      "cell_type": "code",
      "metadata": {
        "colab": {
          "base_uri": "https://localhost:8080/"
        },
        "id": "5AgP0piSoWWU",
        "outputId": "3aa5e502-7247-420d-c4e8-6a27dca070be"
      },
      "source": [
        "# school frequency\n",
        "df['educationrwanda'].value_counts()"
      ],
      "execution_count": null,
      "outputs": [
        {
          "output_type": "execute_result",
          "data": {
            "text/plain": [
              "Primary                18374\n",
              "Secondary               7984\n",
              "No education            2872\n",
              "More than Secondary     1464\n",
              "REFUSED                    3\n",
              "DON'T KNOW                 3\n",
              "Name: educationrwanda, dtype: int64"
            ]
          },
          "metadata": {
            "tags": []
          },
          "execution_count": 10
        }
      ]
    },
    {
      "cell_type": "code",
      "metadata": {
        "colab": {
          "base_uri": "https://localhost:8080/"
        },
        "id": "wgdhApAeobkB",
        "outputId": "88bc20cd-f7ef-469c-ff9a-a661c2061772"
      },
      "source": [
        "df['educationrwanda'].isnull().sum()"
      ],
      "execution_count": null,
      "outputs": [
        {
          "output_type": "execute_result",
          "data": {
            "text/plain": [
              "15"
            ]
          },
          "metadata": {
            "tags": []
          },
          "execution_count": 16
        }
      ]
    },
    {
      "cell_type": "markdown",
      "metadata": {
        "id": "SRZYMOLylToM"
      },
      "source": [
        "# HIV status"
      ]
    },
    {
      "cell_type": "code",
      "metadata": {
        "colab": {
          "base_uri": "https://localhost:8080/"
        },
        "id": "GncjRv8bTEuq",
        "outputId": "d1a0afcb-f140-4b74-dc2a-7ba0ace03859"
      },
      "source": [
        "# replacing NaN in hiv staus final column column from column of other hiv status\n",
        "df.hivstatusfinal[df.hivstatusfinal == 'Missing'] = df.hivtstrslt"
      ],
      "execution_count": null,
      "outputs": [
        {
          "output_type": "stream",
          "text": [
            "/usr/local/lib/python3.7/dist-packages/ipykernel_launcher.py:2: SettingWithCopyWarning: \n",
            "A value is trying to be set on a copy of a slice from a DataFrame\n",
            "\n",
            "See the caveats in the documentation: https://pandas.pydata.org/pandas-docs/stable/user_guide/indexing.html#returning-a-view-versus-a-copy\n",
            "  \n"
          ],
          "name": "stderr"
        }
      ]
    },
    {
      "cell_type": "code",
      "metadata": {
        "colab": {
          "base_uri": "https://localhost:8080/"
        },
        "id": "MwPH3VGnVCGM",
        "outputId": "7fbd2283-43d4-44ab-8bdb-bf53954fe569"
      },
      "source": [
        "df.hivstatusfinal.isnull().sum()"
      ],
      "execution_count": null,
      "outputs": [
        {
          "output_type": "execute_result",
          "data": {
            "text/plain": [
              "4556"
            ]
          },
          "metadata": {
            "tags": []
          },
          "execution_count": 13
        }
      ]
    },
    {
      "cell_type": "code",
      "metadata": {
        "id": "zwUVUNbT6-cC"
      },
      "source": [
        "df = df[df['hivstatusfinal'].notna()]"
      ],
      "execution_count": null,
      "outputs": []
    },
    {
      "cell_type": "code",
      "metadata": {
        "colab": {
          "base_uri": "https://localhost:8080/"
        },
        "id": "R_zKj4LY7Flt",
        "outputId": "40ba6712-b781-444a-fba2-750bcc7fbf1a"
      },
      "source": [
        "df.hivstatusfinal.isnull().sum()"
      ],
      "execution_count": null,
      "outputs": [
        {
          "output_type": "execute_result",
          "data": {
            "text/plain": [
              "0"
            ]
          },
          "metadata": {
            "tags": []
          },
          "execution_count": 15
        }
      ]
    },
    {
      "cell_type": "code",
      "metadata": {
        "colab": {
          "base_uri": "https://localhost:8080/"
        },
        "id": "vzNoa2U-l35a",
        "outputId": "ddae7979-e5c5-4d00-e29d-d6fd28bbe318"
      },
      "source": [
        "# Hiv status frequency\n",
        "df['hivstatusfinal'].value_counts()"
      ],
      "execution_count": null,
      "outputs": [
        {
          "output_type": "execute_result",
          "data": {
            "text/plain": [
              "HIV Negative    29703\n",
              "HIV Positive      934\n",
              "NEGATIVE           72\n",
              "Name: hivstatusfinal, dtype: int64"
            ]
          },
          "metadata": {
            "tags": []
          },
          "execution_count": 17
        }
      ]
    },
    {
      "cell_type": "code",
      "metadata": {
        "id": "uq9svHcWc6Kt"
      },
      "source": [
        "df[\"hivstatusfinal\"]=df[\"hivstatusfinal\"].map({\"HIV Positive\": \"Positive\", \"HIV Negative\": \"Negative\", \"NEGATIVE\":\"Negative\"})"
      ],
      "execution_count": null,
      "outputs": []
    },
    {
      "cell_type": "code",
      "metadata": {
        "colab": {
          "base_uri": "https://localhost:8080/"
        },
        "id": "RbWrdgcS7UDN",
        "outputId": "6d14566b-6b01-48b0-9803-24501cab1a8d"
      },
      "source": [
        "df.hivtesty.describe()"
      ],
      "execution_count": null,
      "outputs": [
        {
          "output_type": "execute_result",
          "data": {
            "text/plain": [
              "count    23776.000000\n",
              "mean      2001.226321\n",
              "std        171.045963\n",
              "min         -9.000000\n",
              "25%       2015.000000\n",
              "50%       2017.000000\n",
              "75%       2018.000000\n",
              "max       2019.000000\n",
              "Name: hivtesty, dtype: float64"
            ]
          },
          "metadata": {
            "tags": []
          },
          "execution_count": 19
        }
      ]
    },
    {
      "cell_type": "markdown",
      "metadata": {
        "id": "gLw5aZ9aLk8F"
      },
      "source": [
        "adding new column of new hiv infection"
      ]
    },
    {
      "cell_type": "code",
      "metadata": {
        "colab": {
          "base_uri": "https://localhost:8080/",
          "height": 292
        },
        "id": "l9jDOMFB6UKv",
        "outputId": "0fa458dd-6193-496c-8cad-1a0d6c0f8054"
      },
      "source": [
        "# creating new variable of negative, old and new HIV infection\n",
        "filters = [\n",
        "   (df.hivstatusfinal == 'Negative'),\n",
        "   (df.hivstatusfinal == 'Positive') & (df.hivtesty >2017.0),\n",
        "   (df.hivstatusfinal == 'Positive') & (df.hivtesty <2017.0)\n",
        "]\n",
        "values = [\"Negative\", \"new_infection\", \"Old_infection\"]\n",
        "df[\"hiv_status\"] = np.select(filters, values)\n",
        "df.head()"
      ],
      "execution_count": null,
      "outputs": [
        {
          "output_type": "execute_result",
          "data": {
            "text/html": [
              "<div>\n",
              "<style scoped>\n",
              "    .dataframe tbody tr th:only-of-type {\n",
              "        vertical-align: middle;\n",
              "    }\n",
              "\n",
              "    .dataframe tbody tr th {\n",
              "        vertical-align: top;\n",
              "    }\n",
              "\n",
              "    .dataframe thead th {\n",
              "        text-align: right;\n",
              "    }\n",
              "</style>\n",
              "<table border=\"1\" class=\"dataframe\">\n",
              "  <thead>\n",
              "    <tr style=\"text-align: right;\">\n",
              "      <th></th>\n",
              "      <th>country</th>\n",
              "      <th>householdid</th>\n",
              "      <th>personid</th>\n",
              "      <th>centroidid</th>\n",
              "      <th>province</th>\n",
              "      <th>gender</th>\n",
              "      <th>age</th>\n",
              "      <th>schlhi</th>\n",
              "      <th>work12mo</th>\n",
              "      <th>curmar</th>\n",
              "      <th>mcstatus</th>\n",
              "      <th>firstsxage</th>\n",
              "      <th>firstsxagedk</th>\n",
              "      <th>part12monum</th>\n",
              "      <th>part12modkr</th>\n",
              "      <th>partrelation1</th>\n",
              "      <th>partgend1</th>\n",
              "      <th>partage1</th>\n",
              "      <th>partlastcndm1</th>\n",
              "      <th>partlastsup1</th>\n",
              "      <th>partknowhiv1</th>\n",
              "      <th>partrelation2</th>\n",
              "      <th>partgend2</th>\n",
              "      <th>partage2</th>\n",
              "      <th>partagedk2</th>\n",
              "      <th>partlastcndm2</th>\n",
              "      <th>partlastsup2</th>\n",
              "      <th>partagain2</th>\n",
              "      <th>partknowhiv2</th>\n",
              "      <th>parthivtest2</th>\n",
              "      <th>parthivsat2</th>\n",
              "      <th>partrelation3</th>\n",
              "      <th>partgend3</th>\n",
              "      <th>partage3</th>\n",
              "      <th>partagedk3</th>\n",
              "      <th>partlastcndm3</th>\n",
              "      <th>partlastsup3</th>\n",
              "      <th>partknowhiv3</th>\n",
              "      <th>parthivtest3</th>\n",
              "      <th>parthivsat3</th>\n",
              "      <th>analsxever</th>\n",
              "      <th>hivtesty</th>\n",
              "      <th>hivtstrslt</th>\n",
              "      <th>hivtfposy</th>\n",
              "      <th>attitude1</th>\n",
              "      <th>attitude2</th>\n",
              "      <th>urban</th>\n",
              "      <th>wealthquintile</th>\n",
              "      <th>hivstatusfinal</th>\n",
              "      <th>educationrwanda</th>\n",
              "      <th>hhrmarital</th>\n",
              "      <th>lastpartner</th>\n",
              "      <th>hiv_status</th>\n",
              "    </tr>\n",
              "  </thead>\n",
              "  <tbody>\n",
              "    <tr>\n",
              "      <th>0</th>\n",
              "      <td>Rwanda</td>\n",
              "      <td>RW000000000001</td>\n",
              "      <td>RW00000000000101</td>\n",
              "      <td>RW000069</td>\n",
              "      <td>kigali</td>\n",
              "      <td>Female</td>\n",
              "      <td>42</td>\n",
              "      <td>SECONDARY</td>\n",
              "      <td>YES</td>\n",
              "      <td>MARRIED</td>\n",
              "      <td>NaN</td>\n",
              "      <td>28.0</td>\n",
              "      <td>NaN</td>\n",
              "      <td>1.0</td>\n",
              "      <td>NaN</td>\n",
              "      <td>HUSBAND/WIFE</td>\n",
              "      <td>MALE</td>\n",
              "      <td>44.0</td>\n",
              "      <td>NO</td>\n",
              "      <td>NO</td>\n",
              "      <td>YES</td>\n",
              "      <td>NaN</td>\n",
              "      <td>NaN</td>\n",
              "      <td>NaN</td>\n",
              "      <td>NaN</td>\n",
              "      <td>NaN</td>\n",
              "      <td>NaN</td>\n",
              "      <td>NaN</td>\n",
              "      <td>NaN</td>\n",
              "      <td>NaN</td>\n",
              "      <td>NaN</td>\n",
              "      <td>NaN</td>\n",
              "      <td>NaN</td>\n",
              "      <td>NaN</td>\n",
              "      <td>NaN</td>\n",
              "      <td>NaN</td>\n",
              "      <td>NaN</td>\n",
              "      <td>NaN</td>\n",
              "      <td>NaN</td>\n",
              "      <td>NaN</td>\n",
              "      <td>NO</td>\n",
              "      <td>2018.0</td>\n",
              "      <td>NEGATIVE</td>\n",
              "      <td>NaN</td>\n",
              "      <td>DISAGREE</td>\n",
              "      <td>DISAGREE</td>\n",
              "      <td>Urban</td>\n",
              "      <td>Highest</td>\n",
              "      <td>Negative</td>\n",
              "      <td>Secondary</td>\n",
              "      <td>MARRIED/COHABITING/LIVINGTOGETHER</td>\n",
              "      <td>partner 1</td>\n",
              "      <td>Negative</td>\n",
              "    </tr>\n",
              "    <tr>\n",
              "      <th>1</th>\n",
              "      <td>Rwanda</td>\n",
              "      <td>RW000000000001</td>\n",
              "      <td>RW00000000000102</td>\n",
              "      <td>RW000069</td>\n",
              "      <td>kigali</td>\n",
              "      <td>Male</td>\n",
              "      <td>44</td>\n",
              "      <td>HIGHER</td>\n",
              "      <td>YES</td>\n",
              "      <td>MARRIED</td>\n",
              "      <td>YES</td>\n",
              "      <td>17.0</td>\n",
              "      <td>NaN</td>\n",
              "      <td>1.0</td>\n",
              "      <td>NaN</td>\n",
              "      <td>HUSBAND/WIFE</td>\n",
              "      <td>FEMALE</td>\n",
              "      <td>42.0</td>\n",
              "      <td>NO</td>\n",
              "      <td>NO</td>\n",
              "      <td>YES</td>\n",
              "      <td>NaN</td>\n",
              "      <td>NaN</td>\n",
              "      <td>NaN</td>\n",
              "      <td>NaN</td>\n",
              "      <td>NaN</td>\n",
              "      <td>NaN</td>\n",
              "      <td>NaN</td>\n",
              "      <td>NaN</td>\n",
              "      <td>NaN</td>\n",
              "      <td>NaN</td>\n",
              "      <td>NaN</td>\n",
              "      <td>NaN</td>\n",
              "      <td>NaN</td>\n",
              "      <td>NaN</td>\n",
              "      <td>NaN</td>\n",
              "      <td>NaN</td>\n",
              "      <td>NaN</td>\n",
              "      <td>NaN</td>\n",
              "      <td>NaN</td>\n",
              "      <td>NO</td>\n",
              "      <td>2016.0</td>\n",
              "      <td>NEGATIVE</td>\n",
              "      <td>NaN</td>\n",
              "      <td>DISAGREE</td>\n",
              "      <td>DISAGREE</td>\n",
              "      <td>Urban</td>\n",
              "      <td>Highest</td>\n",
              "      <td>Negative</td>\n",
              "      <td>More than Secondary</td>\n",
              "      <td>MARRIED/COHABITING/LIVINGTOGETHER</td>\n",
              "      <td>partner 1</td>\n",
              "      <td>Negative</td>\n",
              "    </tr>\n",
              "    <tr>\n",
              "      <th>2</th>\n",
              "      <td>Rwanda</td>\n",
              "      <td>RW000000000001</td>\n",
              "      <td>RW00000000000107</td>\n",
              "      <td>RW000069</td>\n",
              "      <td>kigali</td>\n",
              "      <td>Female</td>\n",
              "      <td>30</td>\n",
              "      <td>SECONDARY</td>\n",
              "      <td>YES</td>\n",
              "      <td>SEPARATED</td>\n",
              "      <td>NaN</td>\n",
              "      <td>20.0</td>\n",
              "      <td>NaN</td>\n",
              "      <td>0.0</td>\n",
              "      <td>NaN</td>\n",
              "      <td>NaN</td>\n",
              "      <td>NaN</td>\n",
              "      <td>NaN</td>\n",
              "      <td>NaN</td>\n",
              "      <td>NaN</td>\n",
              "      <td>NaN</td>\n",
              "      <td>NaN</td>\n",
              "      <td>NaN</td>\n",
              "      <td>NaN</td>\n",
              "      <td>NaN</td>\n",
              "      <td>NaN</td>\n",
              "      <td>NaN</td>\n",
              "      <td>NaN</td>\n",
              "      <td>NaN</td>\n",
              "      <td>NaN</td>\n",
              "      <td>NaN</td>\n",
              "      <td>NaN</td>\n",
              "      <td>NaN</td>\n",
              "      <td>NaN</td>\n",
              "      <td>NaN</td>\n",
              "      <td>NaN</td>\n",
              "      <td>NaN</td>\n",
              "      <td>NaN</td>\n",
              "      <td>NaN</td>\n",
              "      <td>NaN</td>\n",
              "      <td>NaN</td>\n",
              "      <td>2013.0</td>\n",
              "      <td>NEGATIVE</td>\n",
              "      <td>NaN</td>\n",
              "      <td>DISAGREE</td>\n",
              "      <td>STRONGLY AGREE</td>\n",
              "      <td>Urban</td>\n",
              "      <td>Highest</td>\n",
              "      <td>Negative</td>\n",
              "      <td>Secondary</td>\n",
              "      <td>SEPARATED</td>\n",
              "      <td>NaN</td>\n",
              "      <td>Negative</td>\n",
              "    </tr>\n",
              "    <tr>\n",
              "      <th>3</th>\n",
              "      <td>Rwanda</td>\n",
              "      <td>RW000000000001</td>\n",
              "      <td>RW00000000000108</td>\n",
              "      <td>RW000069</td>\n",
              "      <td>kigali</td>\n",
              "      <td>Female</td>\n",
              "      <td>24</td>\n",
              "      <td>SECONDARY</td>\n",
              "      <td>YES</td>\n",
              "      <td>NaN</td>\n",
              "      <td>NaN</td>\n",
              "      <td>24.0</td>\n",
              "      <td>NaN</td>\n",
              "      <td>1.0</td>\n",
              "      <td>NaN</td>\n",
              "      <td>STRANGER</td>\n",
              "      <td>MALE</td>\n",
              "      <td>27.0</td>\n",
              "      <td>NO</td>\n",
              "      <td>NO</td>\n",
              "      <td>NO</td>\n",
              "      <td>NaN</td>\n",
              "      <td>NaN</td>\n",
              "      <td>NaN</td>\n",
              "      <td>NaN</td>\n",
              "      <td>NaN</td>\n",
              "      <td>NaN</td>\n",
              "      <td>NaN</td>\n",
              "      <td>NaN</td>\n",
              "      <td>NaN</td>\n",
              "      <td>NaN</td>\n",
              "      <td>NaN</td>\n",
              "      <td>NaN</td>\n",
              "      <td>NaN</td>\n",
              "      <td>NaN</td>\n",
              "      <td>NaN</td>\n",
              "      <td>NaN</td>\n",
              "      <td>NaN</td>\n",
              "      <td>NaN</td>\n",
              "      <td>NaN</td>\n",
              "      <td>NO</td>\n",
              "      <td>2018.0</td>\n",
              "      <td>NEGATIVE</td>\n",
              "      <td>NaN</td>\n",
              "      <td>STRONGLY DISAGREE</td>\n",
              "      <td>DISAGREE</td>\n",
              "      <td>Urban</td>\n",
              "      <td>Highest</td>\n",
              "      <td>Negative</td>\n",
              "      <td>Secondary</td>\n",
              "      <td>NEVER-MARRIED</td>\n",
              "      <td>partner 1</td>\n",
              "      <td>Negative</td>\n",
              "    </tr>\n",
              "    <tr>\n",
              "      <th>4</th>\n",
              "      <td>Rwanda</td>\n",
              "      <td>RW000000000002</td>\n",
              "      <td>RW00000000000201</td>\n",
              "      <td>RW000259</td>\n",
              "      <td>kigali</td>\n",
              "      <td>Male</td>\n",
              "      <td>42</td>\n",
              "      <td>PRIMARY</td>\n",
              "      <td>YES</td>\n",
              "      <td>NaN</td>\n",
              "      <td>YES</td>\n",
              "      <td>22.0</td>\n",
              "      <td>NaN</td>\n",
              "      <td>1.0</td>\n",
              "      <td>NaN</td>\n",
              "      <td>STRANGER</td>\n",
              "      <td>FEMALE</td>\n",
              "      <td>35.0</td>\n",
              "      <td>NO</td>\n",
              "      <td>NO</td>\n",
              "      <td>NO</td>\n",
              "      <td>NaN</td>\n",
              "      <td>NaN</td>\n",
              "      <td>NaN</td>\n",
              "      <td>NaN</td>\n",
              "      <td>NaN</td>\n",
              "      <td>NaN</td>\n",
              "      <td>NaN</td>\n",
              "      <td>NaN</td>\n",
              "      <td>NaN</td>\n",
              "      <td>NaN</td>\n",
              "      <td>NaN</td>\n",
              "      <td>NaN</td>\n",
              "      <td>NaN</td>\n",
              "      <td>NaN</td>\n",
              "      <td>NaN</td>\n",
              "      <td>NaN</td>\n",
              "      <td>NaN</td>\n",
              "      <td>NaN</td>\n",
              "      <td>NaN</td>\n",
              "      <td>NO</td>\n",
              "      <td>2018.0</td>\n",
              "      <td>NEGATIVE</td>\n",
              "      <td>NaN</td>\n",
              "      <td>STRONGLY DISAGREE</td>\n",
              "      <td>STRONGLY DISAGREE</td>\n",
              "      <td>Urban</td>\n",
              "      <td>Highest</td>\n",
              "      <td>Negative</td>\n",
              "      <td>Primary</td>\n",
              "      <td>NEVER-MARRIED</td>\n",
              "      <td>partner 1</td>\n",
              "      <td>Negative</td>\n",
              "    </tr>\n",
              "  </tbody>\n",
              "</table>\n",
              "</div>"
            ],
            "text/plain": [
              "   country      householdid  ... lastpartner hiv_status\n",
              "0  Rwanda   RW000000000001   ...   partner 1   Negative\n",
              "1  Rwanda   RW000000000001   ...   partner 1   Negative\n",
              "2  Rwanda   RW000000000001   ...         NaN   Negative\n",
              "3  Rwanda   RW000000000001   ...   partner 1   Negative\n",
              "4  Rwanda   RW000000000002   ...   partner 1   Negative\n",
              "\n",
              "[5 rows x 53 columns]"
            ]
          },
          "metadata": {
            "tags": []
          },
          "execution_count": 20
        }
      ]
    },
    {
      "cell_type": "code",
      "metadata": {
        "colab": {
          "base_uri": "https://localhost:8080/"
        },
        "id": "4gy8o2Wo7wvd",
        "outputId": "11d92342-7181-463e-e888-654e25f1df12"
      },
      "source": [
        "# Hiv status frequency\n",
        "df['hiv_status'].value_counts()"
      ],
      "execution_count": null,
      "outputs": [
        {
          "output_type": "execute_result",
          "data": {
            "text/plain": [
              "Negative         29775\n",
              "Old_infection      518\n",
              "new_infection      265\n",
              "0                  151\n",
              "Name: hiv_status, dtype: int64"
            ]
          },
          "metadata": {
            "tags": []
          },
          "execution_count": 21
        }
      ]
    },
    {
      "cell_type": "code",
      "metadata": {
        "colab": {
          "base_uri": "https://localhost:8080/"
        },
        "id": "rSX7Q3z3Wcng",
        "outputId": "035b5a30-8487-4ee6-9aa3-e9e76ec48c62"
      },
      "source": [
        "# Hiv status frequency\n",
        "df['hivstatusfinal'].value_counts()"
      ],
      "execution_count": null,
      "outputs": [
        {
          "output_type": "execute_result",
          "data": {
            "text/plain": [
              "Negative    29775\n",
              "Positive      934\n",
              "Name: hivstatusfinal, dtype: int64"
            ]
          },
          "metadata": {
            "tags": []
          },
          "execution_count": 22
        }
      ]
    },
    {
      "cell_type": "code",
      "metadata": {
        "colab": {
          "base_uri": "https://localhost:8080/"
        },
        "id": "iw6doj4Ps-Q3",
        "outputId": "6b06c997-337b-40b6-b4fe-3f41790dfd40"
      },
      "source": [
        "# Hiv status frequency\n",
        "df['hivtstrslt'].value_counts()"
      ],
      "execution_count": null,
      "outputs": [
        {
          "output_type": "execute_result",
          "data": {
            "text/plain": [
              "NEGATIVE                      22463\n",
              "POSITIVE                        690\n",
              "DID NOT RECEIVE THE RESULT      543\n",
              "DON'T KNOW                       42\n",
              "UNCERTAIN/INDETERMINATE          36\n",
              "REFUSED                           5\n",
              "Name: hivtstrslt, dtype: int64"
            ]
          },
          "metadata": {
            "tags": []
          },
          "execution_count": 23
        }
      ]
    },
    {
      "cell_type": "code",
      "metadata": {
        "colab": {
          "base_uri": "https://localhost:8080/",
          "height": 204
        },
        "id": "U-7ycI2kX8eF",
        "outputId": "5d4e032e-3595-4f08-ac2b-5cf0a5fadba8"
      },
      "source": [
        "# form crosstab with dropna=False between work12mo and hivstatusfinal\n",
        "pd.crosstab(df.work12mo,df.hivstatusfinal, dropna=False)"
      ],
      "execution_count": null,
      "outputs": [
        {
          "output_type": "execute_result",
          "data": {
            "text/html": [
              "<div>\n",
              "<style scoped>\n",
              "    .dataframe tbody tr th:only-of-type {\n",
              "        vertical-align: middle;\n",
              "    }\n",
              "\n",
              "    .dataframe tbody tr th {\n",
              "        vertical-align: top;\n",
              "    }\n",
              "\n",
              "    .dataframe thead th {\n",
              "        text-align: right;\n",
              "    }\n",
              "</style>\n",
              "<table border=\"1\" class=\"dataframe\">\n",
              "  <thead>\n",
              "    <tr style=\"text-align: right;\">\n",
              "      <th>hivstatusfinal</th>\n",
              "      <th>Negative</th>\n",
              "      <th>Positive</th>\n",
              "    </tr>\n",
              "    <tr>\n",
              "      <th>work12mo</th>\n",
              "      <th></th>\n",
              "      <th></th>\n",
              "    </tr>\n",
              "  </thead>\n",
              "  <tbody>\n",
              "    <tr>\n",
              "      <th>DON'T KNOW</th>\n",
              "      <td>1</td>\n",
              "      <td>0</td>\n",
              "    </tr>\n",
              "    <tr>\n",
              "      <th>NO</th>\n",
              "      <td>17832</td>\n",
              "      <td>523</td>\n",
              "    </tr>\n",
              "    <tr>\n",
              "      <th>REFUSED</th>\n",
              "      <td>3</td>\n",
              "      <td>0</td>\n",
              "    </tr>\n",
              "    <tr>\n",
              "      <th>YES</th>\n",
              "      <td>11939</td>\n",
              "      <td>411</td>\n",
              "    </tr>\n",
              "  </tbody>\n",
              "</table>\n",
              "</div>"
            ],
            "text/plain": [
              "hivstatusfinal  Negative  Positive\n",
              "work12mo                          \n",
              "DON'T KNOW             1         0\n",
              "NO                 17832       523\n",
              "REFUSED                3         0\n",
              "YES                11939       411"
            ]
          },
          "metadata": {
            "tags": []
          },
          "execution_count": 24
        }
      ]
    },
    {
      "cell_type": "markdown",
      "metadata": {
        "id": "NoFHBDSelaWr"
      },
      "source": [
        "# Work"
      ]
    },
    {
      "cell_type": "code",
      "metadata": {
        "colab": {
          "base_uri": "https://localhost:8080/"
        },
        "id": "mC1uzjIxPol0",
        "outputId": "1d0b0bdd-3d4f-4c33-8769-ea5985ba8383"
      },
      "source": [
        "# employe last 12 months frequency\n",
        "df['work12mo'].value_counts()"
      ],
      "execution_count": null,
      "outputs": [
        {
          "output_type": "execute_result",
          "data": {
            "text/plain": [
              "NO            18355\n",
              "YES           12350\n",
              "REFUSED           3\n",
              "DON'T KNOW        1\n",
              "Name: work12mo, dtype: int64"
            ]
          },
          "metadata": {
            "tags": []
          },
          "execution_count": 25
        }
      ]
    },
    {
      "cell_type": "markdown",
      "metadata": {
        "id": "XusRJL5cQX39"
      },
      "source": [
        "to remove: hhrmarital, mcage, partlivew1, partagain1, parthivtest1, parthivsat1, sex12months, sexever, condomlastsex12months, lastpartnerrelation12months\n",
        "\n",
        "> Indented block\n",
        "\n"
      ]
    },
    {
      "cell_type": "markdown",
      "metadata": {
        "id": "gaqVWvqKlJft"
      },
      "source": [
        "# Marital statust"
      ]
    },
    {
      "cell_type": "code",
      "metadata": {
        "colab": {
          "base_uri": "https://localhost:8080/"
        },
        "id": "QCme8NBDmrXc",
        "outputId": "ebe92aa9-3794-41ba-a27b-9d24b874ac34"
      },
      "source": [
        "# mariatl status frequency\n",
        "df['curmar'].value_counts()"
      ],
      "execution_count": null,
      "outputs": [
        {
          "output_type": "execute_result",
          "data": {
            "text/plain": [
              "MARRIED            10206\n",
              "LIVING TOGETHER     4573\n",
              "SEPARATED           1519\n",
              "WIDOWED             1236\n",
              "DIVORCED             164\n",
              "REFUSED                7\n",
              "DON'T KNOW             4\n",
              "Name: curmar, dtype: int64"
            ]
          },
          "metadata": {
            "tags": []
          },
          "execution_count": 26
        }
      ]
    },
    {
      "cell_type": "code",
      "metadata": {
        "colab": {
          "base_uri": "https://localhost:8080/"
        },
        "id": "qKkASwZ1kYv3",
        "outputId": "c0279594-4df2-4e0f-f71b-722d146542c4"
      },
      "source": [
        "# mariatl status frequency\n",
        "df['hhrmarital'].value_counts()"
      ],
      "execution_count": null,
      "outputs": [
        {
          "output_type": "execute_result",
          "data": {
            "text/plain": [
              "MARRIED/COHABITING/LIVINGTOGETHER    14779\n",
              "NEVER-MARRIED                        12995\n",
              "SEPARATED                             1519\n",
              "WIDOWED                               1236\n",
              "DIVORCED                               164\n",
              "Missing                                 16\n",
              "Name: hhrmarital, dtype: int64"
            ]
          },
          "metadata": {
            "tags": []
          },
          "execution_count": 27
        }
      ]
    },
    {
      "cell_type": "code",
      "metadata": {
        "id": "QzdwmkY_lPFt",
        "colab": {
          "base_uri": "https://localhost:8080/"
        },
        "outputId": "9bbb37dd-6529-4c8f-e793-d690b97fe2d9"
      },
      "source": [
        "df['curmar'].isnull().sum()"
      ],
      "execution_count": null,
      "outputs": [
        {
          "output_type": "execute_result",
          "data": {
            "text/plain": [
              "13000"
            ]
          },
          "metadata": {
            "tags": []
          },
          "execution_count": 21
        }
      ]
    },
    {
      "cell_type": "code",
      "metadata": {
        "colab": {
          "base_uri": "https://localhost:8080/",
          "height": 297
        },
        "id": "p8Tcz42BYkfw",
        "outputId": "e8e8f3f3-b413-4132-f621-517f41185e41"
      },
      "source": [
        "# form crosstab with dropna=False between curmar and hivstatusfinal\n",
        "pd.crosstab(df.curmar,df.hivstatusfinal, dropna=False)"
      ],
      "execution_count": null,
      "outputs": [
        {
          "output_type": "execute_result",
          "data": {
            "text/html": [
              "<div>\n",
              "<style scoped>\n",
              "    .dataframe tbody tr th:only-of-type {\n",
              "        vertical-align: middle;\n",
              "    }\n",
              "\n",
              "    .dataframe tbody tr th {\n",
              "        vertical-align: top;\n",
              "    }\n",
              "\n",
              "    .dataframe thead th {\n",
              "        text-align: right;\n",
              "    }\n",
              "</style>\n",
              "<table border=\"1\" class=\"dataframe\">\n",
              "  <thead>\n",
              "    <tr style=\"text-align: right;\">\n",
              "      <th>hivstatusfinal</th>\n",
              "      <th>Negative</th>\n",
              "      <th>Positive</th>\n",
              "    </tr>\n",
              "    <tr>\n",
              "      <th>curmar</th>\n",
              "      <th></th>\n",
              "      <th></th>\n",
              "    </tr>\n",
              "  </thead>\n",
              "  <tbody>\n",
              "    <tr>\n",
              "      <th>DIVORCED</th>\n",
              "      <td>157</td>\n",
              "      <td>7</td>\n",
              "    </tr>\n",
              "    <tr>\n",
              "      <th>DON'T KNOW</th>\n",
              "      <td>4</td>\n",
              "      <td>0</td>\n",
              "    </tr>\n",
              "    <tr>\n",
              "      <th>LIVING TOGETHER</th>\n",
              "      <td>4354</td>\n",
              "      <td>219</td>\n",
              "    </tr>\n",
              "    <tr>\n",
              "      <th>MARRIED</th>\n",
              "      <td>9969</td>\n",
              "      <td>237</td>\n",
              "    </tr>\n",
              "    <tr>\n",
              "      <th>REFUSED</th>\n",
              "      <td>6</td>\n",
              "      <td>1</td>\n",
              "    </tr>\n",
              "    <tr>\n",
              "      <th>SEPARATED</th>\n",
              "      <td>1381</td>\n",
              "      <td>138</td>\n",
              "    </tr>\n",
              "    <tr>\n",
              "      <th>WIDOWED</th>\n",
              "      <td>1084</td>\n",
              "      <td>152</td>\n",
              "    </tr>\n",
              "  </tbody>\n",
              "</table>\n",
              "</div>"
            ],
            "text/plain": [
              "hivstatusfinal   Negative  Positive\n",
              "curmar                             \n",
              "DIVORCED              157         7\n",
              "DON'T KNOW              4         0\n",
              "LIVING TOGETHER      4354       219\n",
              "MARRIED              9969       237\n",
              "REFUSED                 6         1\n",
              "SEPARATED            1381       138\n",
              "WIDOWED              1084       152"
            ]
          },
          "metadata": {
            "tags": []
          },
          "execution_count": 28
        }
      ]
    },
    {
      "cell_type": "markdown",
      "metadata": {
        "id": "PEEfzMAFo4X3"
      },
      "source": [
        "# Male circumcision\n"
      ]
    },
    {
      "cell_type": "code",
      "metadata": {
        "colab": {
          "base_uri": "https://localhost:8080/"
        },
        "id": "2AngST17QGE2",
        "outputId": "6971f9c1-cacf-429c-da41-7974cc85502b"
      },
      "source": [
        "# circumcision status frequency\n",
        "df['mcstatus'].value_counts()"
      ],
      "execution_count": null,
      "outputs": [
        {
          "output_type": "execute_result",
          "data": {
            "text/plain": [
              "NO            7581\n",
              "YES           6227\n",
              "REFUSED          5\n",
              "DON'T KNOW       4\n",
              "Name: mcstatus, dtype: int64"
            ]
          },
          "metadata": {
            "tags": []
          },
          "execution_count": 29
        }
      ]
    },
    {
      "cell_type": "code",
      "metadata": {
        "colab": {
          "base_uri": "https://localhost:8080/"
        },
        "id": "KLhk6BI4eOze",
        "outputId": "02a78e9a-1e16-4367-eafd-65a7023b902c"
      },
      "source": [
        "df.mcstatus.isnull().sum()"
      ],
      "execution_count": null,
      "outputs": [
        {
          "output_type": "execute_result",
          "data": {
            "text/plain": [
              "16892"
            ]
          },
          "metadata": {
            "tags": []
          },
          "execution_count": 30
        }
      ]
    },
    {
      "cell_type": "code",
      "metadata": {
        "colab": {
          "base_uri": "https://localhost:8080/",
          "height": 204
        },
        "id": "ggDDfHGtZTc3",
        "outputId": "5012cdb7-9ef2-4daa-87a2-4bd9536023b1"
      },
      "source": [
        "# form crosstab with dropna=False between mcstatus and hivstatusfinal\n",
        "pd.crosstab(df.mcstatus,df.hivstatusfinal, dropna=False)"
      ],
      "execution_count": null,
      "outputs": [
        {
          "output_type": "execute_result",
          "data": {
            "text/html": [
              "<div>\n",
              "<style scoped>\n",
              "    .dataframe tbody tr th:only-of-type {\n",
              "        vertical-align: middle;\n",
              "    }\n",
              "\n",
              "    .dataframe tbody tr th {\n",
              "        vertical-align: top;\n",
              "    }\n",
              "\n",
              "    .dataframe thead th {\n",
              "        text-align: right;\n",
              "    }\n",
              "</style>\n",
              "<table border=\"1\" class=\"dataframe\">\n",
              "  <thead>\n",
              "    <tr style=\"text-align: right;\">\n",
              "      <th>hivstatusfinal</th>\n",
              "      <th>Negative</th>\n",
              "      <th>Positive</th>\n",
              "    </tr>\n",
              "    <tr>\n",
              "      <th>mcstatus</th>\n",
              "      <th></th>\n",
              "      <th></th>\n",
              "    </tr>\n",
              "  </thead>\n",
              "  <tbody>\n",
              "    <tr>\n",
              "      <th>DON'T KNOW</th>\n",
              "      <td>4</td>\n",
              "      <td>0</td>\n",
              "    </tr>\n",
              "    <tr>\n",
              "      <th>NO</th>\n",
              "      <td>7363</td>\n",
              "      <td>218</td>\n",
              "    </tr>\n",
              "    <tr>\n",
              "      <th>REFUSED</th>\n",
              "      <td>5</td>\n",
              "      <td>0</td>\n",
              "    </tr>\n",
              "    <tr>\n",
              "      <th>YES</th>\n",
              "      <td>6143</td>\n",
              "      <td>84</td>\n",
              "    </tr>\n",
              "  </tbody>\n",
              "</table>\n",
              "</div>"
            ],
            "text/plain": [
              "hivstatusfinal  Negative  Positive\n",
              "mcstatus                          \n",
              "DON'T KNOW             4         0\n",
              "NO                  7363       218\n",
              "REFUSED                5         0\n",
              "YES                 6143        84"
            ]
          },
          "metadata": {
            "tags": []
          },
          "execution_count": 31
        }
      ]
    },
    {
      "cell_type": "code",
      "metadata": {
        "colab": {
          "base_uri": "https://localhost:8080/",
          "height": 204
        },
        "id": "fmNh4tMQpCQr",
        "outputId": "27bed411-543d-4f75-8e4f-167f182ccba2"
      },
      "source": [
        "# form crosstab with dropna=False between mcstatus and hivstatusfinal\n",
        "pd.crosstab(df.mcstatus,df.gender, dropna=False)"
      ],
      "execution_count": null,
      "outputs": [
        {
          "output_type": "execute_result",
          "data": {
            "text/html": [
              "<div>\n",
              "<style scoped>\n",
              "    .dataframe tbody tr th:only-of-type {\n",
              "        vertical-align: middle;\n",
              "    }\n",
              "\n",
              "    .dataframe tbody tr th {\n",
              "        vertical-align: top;\n",
              "    }\n",
              "\n",
              "    .dataframe thead th {\n",
              "        text-align: right;\n",
              "    }\n",
              "</style>\n",
              "<table border=\"1\" class=\"dataframe\">\n",
              "  <thead>\n",
              "    <tr style=\"text-align: right;\">\n",
              "      <th>gender</th>\n",
              "      <th>Female</th>\n",
              "      <th>Male</th>\n",
              "    </tr>\n",
              "    <tr>\n",
              "      <th>mcstatus</th>\n",
              "      <th></th>\n",
              "      <th></th>\n",
              "    </tr>\n",
              "  </thead>\n",
              "  <tbody>\n",
              "    <tr>\n",
              "      <th>DON'T KNOW</th>\n",
              "      <td>0</td>\n",
              "      <td>4</td>\n",
              "    </tr>\n",
              "    <tr>\n",
              "      <th>NO</th>\n",
              "      <td>0</td>\n",
              "      <td>7581</td>\n",
              "    </tr>\n",
              "    <tr>\n",
              "      <th>REFUSED</th>\n",
              "      <td>0</td>\n",
              "      <td>5</td>\n",
              "    </tr>\n",
              "    <tr>\n",
              "      <th>YES</th>\n",
              "      <td>0</td>\n",
              "      <td>6227</td>\n",
              "    </tr>\n",
              "  </tbody>\n",
              "</table>\n",
              "</div>"
            ],
            "text/plain": [
              "gender      Female  Male\n",
              "mcstatus                \n",
              "DON'T KNOW       0     4\n",
              "NO               0  7581\n",
              "REFUSED          0     5\n",
              "YES              0  6227"
            ]
          },
          "metadata": {
            "tags": []
          },
          "execution_count": 32
        }
      ]
    },
    {
      "cell_type": "code",
      "metadata": {
        "id": "ygThDyKspToX"
      },
      "source": [
        "# replacing NaN in education column from column of other education column\n",
        "# df.mcstatus[df.mcstatus == 'NaN'] = df.gender\n",
        "# Apply the function\n",
        "df['mcstatus'] = df['mcstatus'].replace(np.nan, 0)"
      ],
      "execution_count": null,
      "outputs": []
    },
    {
      "cell_type": "code",
      "metadata": {
        "colab": {
          "base_uri": "https://localhost:8080/"
        },
        "id": "6R3f4tfpqLjg",
        "outputId": "7b6c2886-b37c-4716-fac8-c39cb0885234"
      },
      "source": [
        "df.mcstatus.isnull().sum()"
      ],
      "execution_count": null,
      "outputs": [
        {
          "output_type": "execute_result",
          "data": {
            "text/plain": [
              "0"
            ]
          },
          "metadata": {
            "tags": []
          },
          "execution_count": 34
        }
      ]
    },
    {
      "cell_type": "code",
      "metadata": {
        "colab": {
          "base_uri": "https://localhost:8080/"
        },
        "id": "OGBmyylmsJ8y",
        "outputId": "f3d84a40-d43e-4779-ef14-9d8b39e57a84"
      },
      "source": [
        "# replacing NaN in education column from column of other education column\n",
        "df.mcstatus[df.mcstatus == 0] = df.gender"
      ],
      "execution_count": null,
      "outputs": [
        {
          "output_type": "stream",
          "text": [
            "/usr/local/lib/python3.7/dist-packages/ipykernel_launcher.py:2: SettingWithCopyWarning: \n",
            "A value is trying to be set on a copy of a slice from a DataFrame\n",
            "\n",
            "See the caveats in the documentation: https://pandas.pydata.org/pandas-docs/stable/user_guide/indexing.html#returning-a-view-versus-a-copy\n",
            "  \n"
          ],
          "name": "stderr"
        }
      ]
    },
    {
      "cell_type": "code",
      "metadata": {
        "colab": {
          "base_uri": "https://localhost:8080/",
          "height": 235
        },
        "id": "SYe7SsewqByB",
        "outputId": "9b037d59-1360-4acc-b408-8437d148d236"
      },
      "source": [
        "# form crosstab with dropna=False between mcstatus and gender\n",
        "pd.crosstab(df.mcstatus,df.gender, dropna=False)"
      ],
      "execution_count": null,
      "outputs": [
        {
          "output_type": "execute_result",
          "data": {
            "text/html": [
              "<div>\n",
              "<style scoped>\n",
              "    .dataframe tbody tr th:only-of-type {\n",
              "        vertical-align: middle;\n",
              "    }\n",
              "\n",
              "    .dataframe tbody tr th {\n",
              "        vertical-align: top;\n",
              "    }\n",
              "\n",
              "    .dataframe thead th {\n",
              "        text-align: right;\n",
              "    }\n",
              "</style>\n",
              "<table border=\"1\" class=\"dataframe\">\n",
              "  <thead>\n",
              "    <tr style=\"text-align: right;\">\n",
              "      <th>gender</th>\n",
              "      <th>Female</th>\n",
              "      <th>Male</th>\n",
              "    </tr>\n",
              "    <tr>\n",
              "      <th>mcstatus</th>\n",
              "      <th></th>\n",
              "      <th></th>\n",
              "    </tr>\n",
              "  </thead>\n",
              "  <tbody>\n",
              "    <tr>\n",
              "      <th>DON'T KNOW</th>\n",
              "      <td>0</td>\n",
              "      <td>4</td>\n",
              "    </tr>\n",
              "    <tr>\n",
              "      <th>Female</th>\n",
              "      <td>16892</td>\n",
              "      <td>0</td>\n",
              "    </tr>\n",
              "    <tr>\n",
              "      <th>NO</th>\n",
              "      <td>0</td>\n",
              "      <td>7581</td>\n",
              "    </tr>\n",
              "    <tr>\n",
              "      <th>REFUSED</th>\n",
              "      <td>0</td>\n",
              "      <td>5</td>\n",
              "    </tr>\n",
              "    <tr>\n",
              "      <th>YES</th>\n",
              "      <td>0</td>\n",
              "      <td>6227</td>\n",
              "    </tr>\n",
              "  </tbody>\n",
              "</table>\n",
              "</div>"
            ],
            "text/plain": [
              "gender      Female  Male\n",
              "mcstatus                \n",
              "DON'T KNOW       0     4\n",
              "Female       16892     0\n",
              "NO               0  7581\n",
              "REFUSED          0     5\n",
              "YES              0  6227"
            ]
          },
          "metadata": {
            "tags": []
          },
          "execution_count": 36
        }
      ]
    },
    {
      "cell_type": "code",
      "metadata": {
        "id": "SM9uUdMZseM1"
      },
      "source": [
        "df[\"mcstatus\"]=df[\"mcstatus\"].map({\"NO\": \"NO\", \"YES\": \"YES\", \"Female\":\"Female_NA\",\"DON'T KNOW\":\"NO\",\"REFUSED\":\"NO\"})"
      ],
      "execution_count": null,
      "outputs": []
    },
    {
      "cell_type": "code",
      "metadata": {
        "colab": {
          "base_uri": "https://localhost:8080/",
          "height": 173
        },
        "id": "nh3IPXOZvLhD",
        "outputId": "5cad9066-67c0-44cd-a1e9-f7b914c675f5"
      },
      "source": [
        "# form crosstab with dropna=False between mcstatus and gender\n",
        "pd.crosstab(df.mcstatus,df.gender, dropna=False)"
      ],
      "execution_count": null,
      "outputs": [
        {
          "output_type": "execute_result",
          "data": {
            "text/html": [
              "<div>\n",
              "<style scoped>\n",
              "    .dataframe tbody tr th:only-of-type {\n",
              "        vertical-align: middle;\n",
              "    }\n",
              "\n",
              "    .dataframe tbody tr th {\n",
              "        vertical-align: top;\n",
              "    }\n",
              "\n",
              "    .dataframe thead th {\n",
              "        text-align: right;\n",
              "    }\n",
              "</style>\n",
              "<table border=\"1\" class=\"dataframe\">\n",
              "  <thead>\n",
              "    <tr style=\"text-align: right;\">\n",
              "      <th>gender</th>\n",
              "      <th>Female</th>\n",
              "      <th>Male</th>\n",
              "    </tr>\n",
              "    <tr>\n",
              "      <th>mcstatus</th>\n",
              "      <th></th>\n",
              "      <th></th>\n",
              "    </tr>\n",
              "  </thead>\n",
              "  <tbody>\n",
              "    <tr>\n",
              "      <th>Female_NA</th>\n",
              "      <td>16892</td>\n",
              "      <td>0</td>\n",
              "    </tr>\n",
              "    <tr>\n",
              "      <th>NO</th>\n",
              "      <td>0</td>\n",
              "      <td>7590</td>\n",
              "    </tr>\n",
              "    <tr>\n",
              "      <th>YES</th>\n",
              "      <td>0</td>\n",
              "      <td>6227</td>\n",
              "    </tr>\n",
              "  </tbody>\n",
              "</table>\n",
              "</div>"
            ],
            "text/plain": [
              "gender     Female  Male\n",
              "mcstatus               \n",
              "Female_NA   16892     0\n",
              "NO              0  7590\n",
              "YES             0  6227"
            ]
          },
          "metadata": {
            "tags": []
          },
          "execution_count": 38
        }
      ]
    },
    {
      "cell_type": "markdown",
      "metadata": {
        "id": "xR8gmjupvvXZ"
      },
      "source": [
        "Age at first sex"
      ]
    },
    {
      "cell_type": "code",
      "metadata": {
        "colab": {
          "base_uri": "https://localhost:8080/"
        },
        "id": "6lpCATF7xV0v",
        "outputId": "6c812bcb-361d-45ef-cadd-d6c663cf1e51"
      },
      "source": [
        "df.age.describe()"
      ],
      "execution_count": null,
      "outputs": [
        {
          "output_type": "execute_result",
          "data": {
            "text/plain": [
              "count    30709.000000\n",
              "mean        31.630955\n",
              "std         12.960183\n",
              "min         15.000000\n",
              "25%         21.000000\n",
              "50%         29.000000\n",
              "75%         40.000000\n",
              "max         64.000000\n",
              "Name: age, dtype: float64"
            ]
          },
          "metadata": {
            "tags": []
          },
          "execution_count": 39
        }
      ]
    },
    {
      "cell_type": "code",
      "metadata": {
        "colab": {
          "base_uri": "https://localhost:8080/"
        },
        "id": "r_kF7gZeqhOc",
        "outputId": "916c3c73-f008-47e6-9664-c4a7fdc9e540"
      },
      "source": [
        "df['partage1'] = df['partage1'].replace(np.nan, 0)\n",
        "df.partage1[df.partage1 == 0] = df.partage2\n",
        "df.partage1[df.partage1 == 0] = df.partage3"
      ],
      "execution_count": null,
      "outputs": [
        {
          "output_type": "stream",
          "text": [
            "/usr/local/lib/python3.7/dist-packages/ipykernel_launcher.py:2: SettingWithCopyWarning: \n",
            "A value is trying to be set on a copy of a slice from a DataFrame\n",
            "\n",
            "See the caveats in the documentation: https://pandas.pydata.org/pandas-docs/stable/user_guide/indexing.html#returning-a-view-versus-a-copy\n",
            "  \n",
            "/usr/local/lib/python3.7/dist-packages/ipykernel_launcher.py:3: SettingWithCopyWarning: \n",
            "A value is trying to be set on a copy of a slice from a DataFrame\n",
            "\n",
            "See the caveats in the documentation: https://pandas.pydata.org/pandas-docs/stable/user_guide/indexing.html#returning-a-view-versus-a-copy\n",
            "  This is separate from the ipykernel package so we can avoid doing imports until\n"
          ],
          "name": "stderr"
        }
      ]
    },
    {
      "cell_type": "code",
      "metadata": {
        "colab": {
          "base_uri": "https://localhost:8080/",
          "height": 292
        },
        "id": "loc3NrAkqGoQ",
        "outputId": "849594f6-d94a-4306-a9fd-636462e51aa3"
      },
      "source": [
        "# age difference\n",
        "df['age_diff']=df['age']-df['partage1']\n",
        "df['age_diff']=df['age_diff'].abs()\n",
        "df.head()"
      ],
      "execution_count": null,
      "outputs": [
        {
          "output_type": "execute_result",
          "data": {
            "text/html": [
              "<div>\n",
              "<style scoped>\n",
              "    .dataframe tbody tr th:only-of-type {\n",
              "        vertical-align: middle;\n",
              "    }\n",
              "\n",
              "    .dataframe tbody tr th {\n",
              "        vertical-align: top;\n",
              "    }\n",
              "\n",
              "    .dataframe thead th {\n",
              "        text-align: right;\n",
              "    }\n",
              "</style>\n",
              "<table border=\"1\" class=\"dataframe\">\n",
              "  <thead>\n",
              "    <tr style=\"text-align: right;\">\n",
              "      <th></th>\n",
              "      <th>country</th>\n",
              "      <th>householdid</th>\n",
              "      <th>personid</th>\n",
              "      <th>centroidid</th>\n",
              "      <th>province</th>\n",
              "      <th>gender</th>\n",
              "      <th>age</th>\n",
              "      <th>schlhi</th>\n",
              "      <th>work12mo</th>\n",
              "      <th>curmar</th>\n",
              "      <th>mcstatus</th>\n",
              "      <th>firstsxage</th>\n",
              "      <th>firstsxagedk</th>\n",
              "      <th>part12monum</th>\n",
              "      <th>part12modkr</th>\n",
              "      <th>partrelation1</th>\n",
              "      <th>partgend1</th>\n",
              "      <th>partage1</th>\n",
              "      <th>partlastcndm1</th>\n",
              "      <th>partlastsup1</th>\n",
              "      <th>partknowhiv1</th>\n",
              "      <th>partrelation2</th>\n",
              "      <th>partgend2</th>\n",
              "      <th>partage2</th>\n",
              "      <th>partagedk2</th>\n",
              "      <th>partlastcndm2</th>\n",
              "      <th>partlastsup2</th>\n",
              "      <th>partagain2</th>\n",
              "      <th>partknowhiv2</th>\n",
              "      <th>parthivtest2</th>\n",
              "      <th>parthivsat2</th>\n",
              "      <th>partrelation3</th>\n",
              "      <th>partgend3</th>\n",
              "      <th>partage3</th>\n",
              "      <th>partagedk3</th>\n",
              "      <th>partlastcndm3</th>\n",
              "      <th>partlastsup3</th>\n",
              "      <th>partknowhiv3</th>\n",
              "      <th>parthivtest3</th>\n",
              "      <th>parthivsat3</th>\n",
              "      <th>analsxever</th>\n",
              "      <th>hivtesty</th>\n",
              "      <th>hivtstrslt</th>\n",
              "      <th>hivtfposy</th>\n",
              "      <th>attitude1</th>\n",
              "      <th>attitude2</th>\n",
              "      <th>urban</th>\n",
              "      <th>wealthquintile</th>\n",
              "      <th>hivstatusfinal</th>\n",
              "      <th>educationrwanda</th>\n",
              "      <th>hhrmarital</th>\n",
              "      <th>lastpartner</th>\n",
              "      <th>hiv_status</th>\n",
              "      <th>AgeGroup_fsx</th>\n",
              "      <th>analsex</th>\n",
              "      <th>age_diff</th>\n",
              "    </tr>\n",
              "  </thead>\n",
              "  <tbody>\n",
              "    <tr>\n",
              "      <th>0</th>\n",
              "      <td>Rwanda</td>\n",
              "      <td>RW000000000001</td>\n",
              "      <td>RW00000000000101</td>\n",
              "      <td>RW000069</td>\n",
              "      <td>kigali</td>\n",
              "      <td>Female</td>\n",
              "      <td>42</td>\n",
              "      <td>SECONDARY</td>\n",
              "      <td>YES</td>\n",
              "      <td>MARRIED</td>\n",
              "      <td>Female_NA</td>\n",
              "      <td>28.0</td>\n",
              "      <td>NaN</td>\n",
              "      <td>1.0</td>\n",
              "      <td>NaN</td>\n",
              "      <td>partner</td>\n",
              "      <td>MALE</td>\n",
              "      <td>44.0</td>\n",
              "      <td>NO</td>\n",
              "      <td>partner</td>\n",
              "      <td>YES</td>\n",
              "      <td>NaN</td>\n",
              "      <td>NaN</td>\n",
              "      <td>NaN</td>\n",
              "      <td>NaN</td>\n",
              "      <td>NaN</td>\n",
              "      <td>NaN</td>\n",
              "      <td>NaN</td>\n",
              "      <td>NaN</td>\n",
              "      <td>NaN</td>\n",
              "      <td>NaN</td>\n",
              "      <td>NaN</td>\n",
              "      <td>NaN</td>\n",
              "      <td>NaN</td>\n",
              "      <td>NaN</td>\n",
              "      <td>NaN</td>\n",
              "      <td>NaN</td>\n",
              "      <td>NaN</td>\n",
              "      <td>NaN</td>\n",
              "      <td>NaN</td>\n",
              "      <td>NO</td>\n",
              "      <td>2018.0</td>\n",
              "      <td>NEGATIVE</td>\n",
              "      <td>NaN</td>\n",
              "      <td>DISAGREE</td>\n",
              "      <td>DISAGREE</td>\n",
              "      <td>Urban</td>\n",
              "      <td>Highest</td>\n",
              "      <td>Negative</td>\n",
              "      <td>Secondary</td>\n",
              "      <td>MARRIED/COHABITING/LIVINGTOGETHER</td>\n",
              "      <td>partner 1</td>\n",
              "      <td>Negative</td>\n",
              "      <td>Youth</td>\n",
              "      <td>True</td>\n",
              "      <td>2.0</td>\n",
              "    </tr>\n",
              "    <tr>\n",
              "      <th>1</th>\n",
              "      <td>Rwanda</td>\n",
              "      <td>RW000000000001</td>\n",
              "      <td>RW00000000000102</td>\n",
              "      <td>RW000069</td>\n",
              "      <td>kigali</td>\n",
              "      <td>Male</td>\n",
              "      <td>44</td>\n",
              "      <td>HIGHER</td>\n",
              "      <td>YES</td>\n",
              "      <td>MARRIED</td>\n",
              "      <td>YES</td>\n",
              "      <td>17.0</td>\n",
              "      <td>NaN</td>\n",
              "      <td>1.0</td>\n",
              "      <td>NaN</td>\n",
              "      <td>partner</td>\n",
              "      <td>FEMALE</td>\n",
              "      <td>42.0</td>\n",
              "      <td>NO</td>\n",
              "      <td>partner</td>\n",
              "      <td>YES</td>\n",
              "      <td>NaN</td>\n",
              "      <td>NaN</td>\n",
              "      <td>NaN</td>\n",
              "      <td>NaN</td>\n",
              "      <td>NaN</td>\n",
              "      <td>NaN</td>\n",
              "      <td>NaN</td>\n",
              "      <td>NaN</td>\n",
              "      <td>NaN</td>\n",
              "      <td>NaN</td>\n",
              "      <td>NaN</td>\n",
              "      <td>NaN</td>\n",
              "      <td>NaN</td>\n",
              "      <td>NaN</td>\n",
              "      <td>NaN</td>\n",
              "      <td>NaN</td>\n",
              "      <td>NaN</td>\n",
              "      <td>NaN</td>\n",
              "      <td>NaN</td>\n",
              "      <td>NO</td>\n",
              "      <td>2016.0</td>\n",
              "      <td>NEGATIVE</td>\n",
              "      <td>NaN</td>\n",
              "      <td>DISAGREE</td>\n",
              "      <td>DISAGREE</td>\n",
              "      <td>Urban</td>\n",
              "      <td>Highest</td>\n",
              "      <td>Negative</td>\n",
              "      <td>More than Secondary</td>\n",
              "      <td>MARRIED/COHABITING/LIVINGTOGETHER</td>\n",
              "      <td>partner 1</td>\n",
              "      <td>Negative</td>\n",
              "      <td>Teens</td>\n",
              "      <td>True</td>\n",
              "      <td>2.0</td>\n",
              "    </tr>\n",
              "    <tr>\n",
              "      <th>2</th>\n",
              "      <td>Rwanda</td>\n",
              "      <td>RW000000000001</td>\n",
              "      <td>RW00000000000107</td>\n",
              "      <td>RW000069</td>\n",
              "      <td>kigali</td>\n",
              "      <td>Female</td>\n",
              "      <td>30</td>\n",
              "      <td>SECONDARY</td>\n",
              "      <td>YES</td>\n",
              "      <td>SEPARATED</td>\n",
              "      <td>Female_NA</td>\n",
              "      <td>20.0</td>\n",
              "      <td>NaN</td>\n",
              "      <td>0.0</td>\n",
              "      <td>NaN</td>\n",
              "      <td>NaN</td>\n",
              "      <td>NaN</td>\n",
              "      <td>NaN</td>\n",
              "      <td>NaN</td>\n",
              "      <td>NaN</td>\n",
              "      <td>NaN</td>\n",
              "      <td>NaN</td>\n",
              "      <td>NaN</td>\n",
              "      <td>NaN</td>\n",
              "      <td>NaN</td>\n",
              "      <td>NaN</td>\n",
              "      <td>NaN</td>\n",
              "      <td>NaN</td>\n",
              "      <td>NaN</td>\n",
              "      <td>NaN</td>\n",
              "      <td>NaN</td>\n",
              "      <td>NaN</td>\n",
              "      <td>NaN</td>\n",
              "      <td>NaN</td>\n",
              "      <td>NaN</td>\n",
              "      <td>NaN</td>\n",
              "      <td>NaN</td>\n",
              "      <td>NaN</td>\n",
              "      <td>NaN</td>\n",
              "      <td>NaN</td>\n",
              "      <td>NaN</td>\n",
              "      <td>2013.0</td>\n",
              "      <td>NEGATIVE</td>\n",
              "      <td>NaN</td>\n",
              "      <td>DISAGREE</td>\n",
              "      <td>STRONGLY AGREE</td>\n",
              "      <td>Urban</td>\n",
              "      <td>Highest</td>\n",
              "      <td>Negative</td>\n",
              "      <td>Secondary</td>\n",
              "      <td>SEPARATED</td>\n",
              "      <td>NaN</td>\n",
              "      <td>Negative</td>\n",
              "      <td>Youth</td>\n",
              "      <td>True</td>\n",
              "      <td>NaN</td>\n",
              "    </tr>\n",
              "    <tr>\n",
              "      <th>3</th>\n",
              "      <td>Rwanda</td>\n",
              "      <td>RW000000000001</td>\n",
              "      <td>RW00000000000108</td>\n",
              "      <td>RW000069</td>\n",
              "      <td>kigali</td>\n",
              "      <td>Female</td>\n",
              "      <td>24</td>\n",
              "      <td>SECONDARY</td>\n",
              "      <td>YES</td>\n",
              "      <td>NaN</td>\n",
              "      <td>Female_NA</td>\n",
              "      <td>24.0</td>\n",
              "      <td>NaN</td>\n",
              "      <td>1.0</td>\n",
              "      <td>NaN</td>\n",
              "      <td>sex worker</td>\n",
              "      <td>MALE</td>\n",
              "      <td>27.0</td>\n",
              "      <td>NO</td>\n",
              "      <td>sex worker</td>\n",
              "      <td>NO</td>\n",
              "      <td>NaN</td>\n",
              "      <td>NaN</td>\n",
              "      <td>NaN</td>\n",
              "      <td>NaN</td>\n",
              "      <td>NaN</td>\n",
              "      <td>NaN</td>\n",
              "      <td>NaN</td>\n",
              "      <td>NaN</td>\n",
              "      <td>NaN</td>\n",
              "      <td>NaN</td>\n",
              "      <td>NaN</td>\n",
              "      <td>NaN</td>\n",
              "      <td>NaN</td>\n",
              "      <td>NaN</td>\n",
              "      <td>NaN</td>\n",
              "      <td>NaN</td>\n",
              "      <td>NaN</td>\n",
              "      <td>NaN</td>\n",
              "      <td>NaN</td>\n",
              "      <td>NO</td>\n",
              "      <td>2018.0</td>\n",
              "      <td>NEGATIVE</td>\n",
              "      <td>NaN</td>\n",
              "      <td>STRONGLY DISAGREE</td>\n",
              "      <td>DISAGREE</td>\n",
              "      <td>Urban</td>\n",
              "      <td>Highest</td>\n",
              "      <td>Negative</td>\n",
              "      <td>Secondary</td>\n",
              "      <td>NEVER-MARRIED</td>\n",
              "      <td>partner 1</td>\n",
              "      <td>Negative</td>\n",
              "      <td>Youth</td>\n",
              "      <td>True</td>\n",
              "      <td>3.0</td>\n",
              "    </tr>\n",
              "    <tr>\n",
              "      <th>4</th>\n",
              "      <td>Rwanda</td>\n",
              "      <td>RW000000000002</td>\n",
              "      <td>RW00000000000201</td>\n",
              "      <td>RW000259</td>\n",
              "      <td>kigali</td>\n",
              "      <td>Male</td>\n",
              "      <td>42</td>\n",
              "      <td>PRIMARY</td>\n",
              "      <td>YES</td>\n",
              "      <td>NaN</td>\n",
              "      <td>YES</td>\n",
              "      <td>22.0</td>\n",
              "      <td>NaN</td>\n",
              "      <td>1.0</td>\n",
              "      <td>NaN</td>\n",
              "      <td>sex worker</td>\n",
              "      <td>FEMALE</td>\n",
              "      <td>35.0</td>\n",
              "      <td>NO</td>\n",
              "      <td>sex worker</td>\n",
              "      <td>NO</td>\n",
              "      <td>NaN</td>\n",
              "      <td>NaN</td>\n",
              "      <td>NaN</td>\n",
              "      <td>NaN</td>\n",
              "      <td>NaN</td>\n",
              "      <td>NaN</td>\n",
              "      <td>NaN</td>\n",
              "      <td>NaN</td>\n",
              "      <td>NaN</td>\n",
              "      <td>NaN</td>\n",
              "      <td>NaN</td>\n",
              "      <td>NaN</td>\n",
              "      <td>NaN</td>\n",
              "      <td>NaN</td>\n",
              "      <td>NaN</td>\n",
              "      <td>NaN</td>\n",
              "      <td>NaN</td>\n",
              "      <td>NaN</td>\n",
              "      <td>NaN</td>\n",
              "      <td>NO</td>\n",
              "      <td>2018.0</td>\n",
              "      <td>NEGATIVE</td>\n",
              "      <td>NaN</td>\n",
              "      <td>STRONGLY DISAGREE</td>\n",
              "      <td>STRONGLY DISAGREE</td>\n",
              "      <td>Urban</td>\n",
              "      <td>Highest</td>\n",
              "      <td>Negative</td>\n",
              "      <td>Primary</td>\n",
              "      <td>NEVER-MARRIED</td>\n",
              "      <td>partner 1</td>\n",
              "      <td>Negative</td>\n",
              "      <td>Youth</td>\n",
              "      <td>True</td>\n",
              "      <td>7.0</td>\n",
              "    </tr>\n",
              "  </tbody>\n",
              "</table>\n",
              "</div>"
            ],
            "text/plain": [
              "   country      householdid           personid  ... AgeGroup_fsx analsex age_diff\n",
              "0  Rwanda   RW000000000001   RW00000000000101   ...        Youth    True      2.0\n",
              "1  Rwanda   RW000000000001   RW00000000000102   ...        Teens    True      2.0\n",
              "2  Rwanda   RW000000000001   RW00000000000107   ...        Youth    True      NaN\n",
              "3  Rwanda   RW000000000001   RW00000000000108   ...        Youth    True      3.0\n",
              "4  Rwanda   RW000000000002   RW00000000000201   ...        Youth    True      7.0\n",
              "\n",
              "[5 rows x 56 columns]"
            ]
          },
          "metadata": {
            "tags": []
          },
          "execution_count": 107
        }
      ]
    },
    {
      "cell_type": "code",
      "metadata": {
        "colab": {
          "base_uri": "https://localhost:8080/"
        },
        "id": "wHDO2ySfrS81",
        "outputId": "3a72331a-d0b4-4fb5-dfc5-3981e4ebd846"
      },
      "source": [
        "df.age_diff.isnull().sum()"
      ],
      "execution_count": null,
      "outputs": [
        {
          "output_type": "execute_result",
          "data": {
            "text/plain": [
              "12005"
            ]
          },
          "metadata": {
            "tags": []
          },
          "execution_count": 105
        }
      ]
    },
    {
      "cell_type": "code",
      "metadata": {
        "colab": {
          "base_uri": "https://localhost:8080/"
        },
        "id": "Z-_2s6bhri2a",
        "outputId": "288ce16c-076b-4fbd-d81b-f725a859a6e4"
      },
      "source": [
        "df.age_diff.describe()"
      ],
      "execution_count": null,
      "outputs": [
        {
          "output_type": "execute_result",
          "data": {
            "text/plain": [
              "count    18704.000000\n",
              "mean         5.025877\n",
              "std          5.083232\n",
              "min          0.000000\n",
              "25%          2.000000\n",
              "50%          4.000000\n",
              "75%          7.000000\n",
              "max         53.000000\n",
              "Name: age_diff, dtype: float64"
            ]
          },
          "metadata": {
            "tags": []
          },
          "execution_count": 108
        }
      ]
    },
    {
      "cell_type": "code",
      "metadata": {
        "colab": {
          "base_uri": "https://localhost:8080/"
        },
        "id": "ThjuokbgvuEL",
        "outputId": "cf8069fe-ddca-4af0-a2b6-92ddf7622613"
      },
      "source": [
        "df.firstsxage.describe()"
      ],
      "execution_count": null,
      "outputs": [
        {
          "output_type": "execute_result",
          "data": {
            "text/plain": [
              "count    23294.000000\n",
              "mean        20.202842\n",
              "std          4.101169\n",
              "min         14.000000\n",
              "25%         18.000000\n",
              "50%         20.000000\n",
              "75%         22.000000\n",
              "max         35.000000\n",
              "Name: firstsxage, dtype: float64"
            ]
          },
          "metadata": {
            "tags": []
          },
          "execution_count": 40
        }
      ]
    },
    {
      "cell_type": "code",
      "metadata": {
        "colab": {
          "base_uri": "https://localhost:8080/"
        },
        "id": "Lo149B4Oxpi-",
        "outputId": "c2f67cc5-e7b0-49e0-b8e6-0bc3c8176c63"
      },
      "source": [
        "df.firstsxage.isnull().sum()"
      ],
      "execution_count": null,
      "outputs": [
        {
          "output_type": "execute_result",
          "data": {
            "text/plain": [
              "7415"
            ]
          },
          "metadata": {
            "tags": []
          },
          "execution_count": 41
        }
      ]
    },
    {
      "cell_type": "code",
      "metadata": {
        "id": "7d6lKdOHxy51"
      },
      "source": [
        "# firstsxagedk\n",
        "bins= [0,20,30,36]\n",
        "labels = ['Teens','Youth','Mature']\n",
        "df['AgeGroup_fsx'] = pd.cut(df['firstsxage'], bins=bins, labels=labels, right=False)"
      ],
      "execution_count": null,
      "outputs": []
    },
    {
      "cell_type": "code",
      "metadata": {
        "colab": {
          "base_uri": "https://localhost:8080/"
        },
        "id": "I-Qds3wVRdYp",
        "outputId": "284e45a7-411c-43bd-be90-0ca037bd4b55"
      },
      "source": [
        "\n",
        "# reason of not reporting age at first sex frequency\n",
        "df['firstsxagedk'].value_counts()"
      ],
      "execution_count": null,
      "outputs": [
        {
          "output_type": "execute_result",
          "data": {
            "text/plain": [
              "NEVER HAD VAGINAL SEX    7208\n",
              "DON'T KNOW                103\n",
              "OUT OF RANGE               62\n",
              "REFUSED                    42\n",
              "Name: firstsxagedk, dtype: int64"
            ]
          },
          "metadata": {
            "tags": []
          },
          "execution_count": 43
        }
      ]
    },
    {
      "cell_type": "code",
      "metadata": {
        "colab": {
          "base_uri": "https://localhost:8080/"
        },
        "id": "rUm0yN0G2qzR",
        "outputId": "ff0cdc53-ced6-465f-8721-4e8ef9f2d0d8"
      },
      "source": [
        "# reason of not reporting age at first sex frequency\n",
        "df['AgeGroup_fsx'].value_counts()"
      ],
      "execution_count": null,
      "outputs": [
        {
          "output_type": "execute_result",
          "data": {
            "text/plain": [
              "Youth     11360\n",
              "Teens     11189\n",
              "Mature      745\n",
              "Name: AgeGroup_fsx, dtype: int64"
            ]
          },
          "metadata": {
            "tags": []
          },
          "execution_count": 44
        }
      ]
    },
    {
      "cell_type": "code",
      "metadata": {
        "colab": {
          "base_uri": "https://localhost:8080/"
        },
        "id": "pjRYkoDw2ws5",
        "outputId": "3ed2acf8-7a4a-48e1-f743-f06ce838500d"
      },
      "source": [
        "df.AgeGroup_fsx.isnull().sum()"
      ],
      "execution_count": null,
      "outputs": [
        {
          "output_type": "execute_result",
          "data": {
            "text/plain": [
              "7415"
            ]
          },
          "metadata": {
            "tags": []
          },
          "execution_count": 48
        }
      ]
    },
    {
      "cell_type": "code",
      "metadata": {
        "colab": {
          "base_uri": "https://localhost:8080/",
          "height": 292
        },
        "id": "ho8pzdj3XChp",
        "outputId": "390dd170-e666-473a-ed78-a52287008b0a"
      },
      "source": [
        "df.tail()"
      ],
      "execution_count": null,
      "outputs": [
        {
          "output_type": "execute_result",
          "data": {
            "text/html": [
              "<div>\n",
              "<style scoped>\n",
              "    .dataframe tbody tr th:only-of-type {\n",
              "        vertical-align: middle;\n",
              "    }\n",
              "\n",
              "    .dataframe tbody tr th {\n",
              "        vertical-align: top;\n",
              "    }\n",
              "\n",
              "    .dataframe thead th {\n",
              "        text-align: right;\n",
              "    }\n",
              "</style>\n",
              "<table border=\"1\" class=\"dataframe\">\n",
              "  <thead>\n",
              "    <tr style=\"text-align: right;\">\n",
              "      <th></th>\n",
              "      <th>country</th>\n",
              "      <th>householdid</th>\n",
              "      <th>personid</th>\n",
              "      <th>centroidid</th>\n",
              "      <th>province</th>\n",
              "      <th>gender</th>\n",
              "      <th>age</th>\n",
              "      <th>schlhi</th>\n",
              "      <th>work12mo</th>\n",
              "      <th>curmar</th>\n",
              "      <th>mcstatus</th>\n",
              "      <th>firstsxage</th>\n",
              "      <th>firstsxagedk</th>\n",
              "      <th>part12monum</th>\n",
              "      <th>part12modkr</th>\n",
              "      <th>partrelation1</th>\n",
              "      <th>partgend1</th>\n",
              "      <th>partage1</th>\n",
              "      <th>partlastcndm1</th>\n",
              "      <th>partlastsup1</th>\n",
              "      <th>partknowhiv1</th>\n",
              "      <th>partrelation2</th>\n",
              "      <th>partgend2</th>\n",
              "      <th>partage2</th>\n",
              "      <th>partagedk2</th>\n",
              "      <th>partlastcndm2</th>\n",
              "      <th>partlastsup2</th>\n",
              "      <th>partagain2</th>\n",
              "      <th>partknowhiv2</th>\n",
              "      <th>parthivtest2</th>\n",
              "      <th>parthivsat2</th>\n",
              "      <th>partrelation3</th>\n",
              "      <th>partgend3</th>\n",
              "      <th>partage3</th>\n",
              "      <th>partagedk3</th>\n",
              "      <th>partlastcndm3</th>\n",
              "      <th>partlastsup3</th>\n",
              "      <th>partknowhiv3</th>\n",
              "      <th>parthivtest3</th>\n",
              "      <th>parthivsat3</th>\n",
              "      <th>analsxever</th>\n",
              "      <th>hivtesty</th>\n",
              "      <th>hivtstrslt</th>\n",
              "      <th>hivtfposy</th>\n",
              "      <th>attitude1</th>\n",
              "      <th>attitude2</th>\n",
              "      <th>urban</th>\n",
              "      <th>wealthquintile</th>\n",
              "      <th>hivstatusfinal</th>\n",
              "      <th>educationrwanda</th>\n",
              "      <th>hhrmarital</th>\n",
              "      <th>lastpartner</th>\n",
              "      <th>hiv_status</th>\n",
              "      <th>AgeGroup_fsx</th>\n",
              "    </tr>\n",
              "  </thead>\n",
              "  <tbody>\n",
              "    <tr>\n",
              "      <th>35256</th>\n",
              "      <td>Rwanda</td>\n",
              "      <td>RW000000011838</td>\n",
              "      <td>RW00000001183802</td>\n",
              "      <td>RW000241</td>\n",
              "      <td>kigali</td>\n",
              "      <td>Female</td>\n",
              "      <td>20</td>\n",
              "      <td>PRIMARY</td>\n",
              "      <td>NO</td>\n",
              "      <td>LIVING TOGETHER</td>\n",
              "      <td>Female_NA</td>\n",
              "      <td>NaN</td>\n",
              "      <td>DON'T KNOW</td>\n",
              "      <td>1.0</td>\n",
              "      <td>NaN</td>\n",
              "      <td>partner</td>\n",
              "      <td>MALE</td>\n",
              "      <td>24.0</td>\n",
              "      <td>NO</td>\n",
              "      <td>partner</td>\n",
              "      <td>YES</td>\n",
              "      <td>NaN</td>\n",
              "      <td>NaN</td>\n",
              "      <td>NaN</td>\n",
              "      <td>NaN</td>\n",
              "      <td>NaN</td>\n",
              "      <td>NaN</td>\n",
              "      <td>NaN</td>\n",
              "      <td>NaN</td>\n",
              "      <td>NaN</td>\n",
              "      <td>NaN</td>\n",
              "      <td>NaN</td>\n",
              "      <td>NaN</td>\n",
              "      <td>NaN</td>\n",
              "      <td>NaN</td>\n",
              "      <td>NaN</td>\n",
              "      <td>NaN</td>\n",
              "      <td>NaN</td>\n",
              "      <td>NaN</td>\n",
              "      <td>NaN</td>\n",
              "      <td>NO</td>\n",
              "      <td>2018.0</td>\n",
              "      <td>NEGATIVE</td>\n",
              "      <td>NaN</td>\n",
              "      <td>DISAGREE</td>\n",
              "      <td>AGREE</td>\n",
              "      <td>Urban</td>\n",
              "      <td>Highest</td>\n",
              "      <td>Negative</td>\n",
              "      <td>Primary</td>\n",
              "      <td>MARRIED/COHABITING/LIVINGTOGETHER</td>\n",
              "      <td>partner 1</td>\n",
              "      <td>Negative</td>\n",
              "      <td>NaN</td>\n",
              "    </tr>\n",
              "    <tr>\n",
              "      <th>35257</th>\n",
              "      <td>Rwanda</td>\n",
              "      <td>RW000000011839</td>\n",
              "      <td>RW00000001183901</td>\n",
              "      <td>RW000278</td>\n",
              "      <td>south</td>\n",
              "      <td>Male</td>\n",
              "      <td>36</td>\n",
              "      <td>NaN</td>\n",
              "      <td>YES</td>\n",
              "      <td>LIVING TOGETHER</td>\n",
              "      <td>NO</td>\n",
              "      <td>30.0</td>\n",
              "      <td>NaN</td>\n",
              "      <td>1.0</td>\n",
              "      <td>NaN</td>\n",
              "      <td>partner</td>\n",
              "      <td>MALE</td>\n",
              "      <td>26.0</td>\n",
              "      <td>NO</td>\n",
              "      <td>partner</td>\n",
              "      <td>DON'T KNOW</td>\n",
              "      <td>NaN</td>\n",
              "      <td>NaN</td>\n",
              "      <td>NaN</td>\n",
              "      <td>NaN</td>\n",
              "      <td>NaN</td>\n",
              "      <td>NaN</td>\n",
              "      <td>NaN</td>\n",
              "      <td>NaN</td>\n",
              "      <td>NaN</td>\n",
              "      <td>NaN</td>\n",
              "      <td>NaN</td>\n",
              "      <td>NaN</td>\n",
              "      <td>NaN</td>\n",
              "      <td>NaN</td>\n",
              "      <td>NaN</td>\n",
              "      <td>NaN</td>\n",
              "      <td>NaN</td>\n",
              "      <td>NaN</td>\n",
              "      <td>NaN</td>\n",
              "      <td>NO</td>\n",
              "      <td>2007.0</td>\n",
              "      <td>NEGATIVE</td>\n",
              "      <td>NaN</td>\n",
              "      <td>DISAGREE</td>\n",
              "      <td>AGREE</td>\n",
              "      <td>Rural</td>\n",
              "      <td>Second</td>\n",
              "      <td>Negative</td>\n",
              "      <td>No education</td>\n",
              "      <td>MARRIED/COHABITING/LIVINGTOGETHER</td>\n",
              "      <td>partner 1</td>\n",
              "      <td>Negative</td>\n",
              "      <td>Mature</td>\n",
              "    </tr>\n",
              "    <tr>\n",
              "      <th>35258</th>\n",
              "      <td>Rwanda</td>\n",
              "      <td>RW000000011839</td>\n",
              "      <td>RW00000001183902</td>\n",
              "      <td>RW000278</td>\n",
              "      <td>south</td>\n",
              "      <td>Female</td>\n",
              "      <td>26</td>\n",
              "      <td>SECONDARY</td>\n",
              "      <td>NO</td>\n",
              "      <td>LIVING TOGETHER</td>\n",
              "      <td>Female_NA</td>\n",
              "      <td>21.0</td>\n",
              "      <td>NaN</td>\n",
              "      <td>1.0</td>\n",
              "      <td>NaN</td>\n",
              "      <td>partner</td>\n",
              "      <td>MALE</td>\n",
              "      <td>36.0</td>\n",
              "      <td>NO</td>\n",
              "      <td>partner</td>\n",
              "      <td>YES</td>\n",
              "      <td>NaN</td>\n",
              "      <td>NaN</td>\n",
              "      <td>NaN</td>\n",
              "      <td>NaN</td>\n",
              "      <td>NaN</td>\n",
              "      <td>NaN</td>\n",
              "      <td>NaN</td>\n",
              "      <td>NaN</td>\n",
              "      <td>NaN</td>\n",
              "      <td>NaN</td>\n",
              "      <td>NaN</td>\n",
              "      <td>NaN</td>\n",
              "      <td>NaN</td>\n",
              "      <td>NaN</td>\n",
              "      <td>NaN</td>\n",
              "      <td>NaN</td>\n",
              "      <td>NaN</td>\n",
              "      <td>NaN</td>\n",
              "      <td>NaN</td>\n",
              "      <td>NO</td>\n",
              "      <td>2016.0</td>\n",
              "      <td>NEGATIVE</td>\n",
              "      <td>NaN</td>\n",
              "      <td>STRONGLY DISAGREE</td>\n",
              "      <td>STRONGLY AGREE</td>\n",
              "      <td>Rural</td>\n",
              "      <td>Second</td>\n",
              "      <td>Negative</td>\n",
              "      <td>Secondary</td>\n",
              "      <td>MARRIED/COHABITING/LIVINGTOGETHER</td>\n",
              "      <td>partner 1</td>\n",
              "      <td>Negative</td>\n",
              "      <td>Youth</td>\n",
              "    </tr>\n",
              "    <tr>\n",
              "      <th>35259</th>\n",
              "      <td>Rwanda</td>\n",
              "      <td>RW000000011841</td>\n",
              "      <td>RW00000001184101</td>\n",
              "      <td>RW000365</td>\n",
              "      <td>kigali</td>\n",
              "      <td>Female</td>\n",
              "      <td>48</td>\n",
              "      <td>PRIMARY</td>\n",
              "      <td>NO</td>\n",
              "      <td>NaN</td>\n",
              "      <td>Female_NA</td>\n",
              "      <td>NaN</td>\n",
              "      <td>NEVER HAD VAGINAL SEX</td>\n",
              "      <td>NaN</td>\n",
              "      <td>NaN</td>\n",
              "      <td>NaN</td>\n",
              "      <td>NaN</td>\n",
              "      <td>NaN</td>\n",
              "      <td>NaN</td>\n",
              "      <td>NaN</td>\n",
              "      <td>NaN</td>\n",
              "      <td>NaN</td>\n",
              "      <td>NaN</td>\n",
              "      <td>NaN</td>\n",
              "      <td>NaN</td>\n",
              "      <td>NaN</td>\n",
              "      <td>NaN</td>\n",
              "      <td>NaN</td>\n",
              "      <td>NaN</td>\n",
              "      <td>NaN</td>\n",
              "      <td>NaN</td>\n",
              "      <td>NaN</td>\n",
              "      <td>NaN</td>\n",
              "      <td>NaN</td>\n",
              "      <td>NaN</td>\n",
              "      <td>NaN</td>\n",
              "      <td>NaN</td>\n",
              "      <td>NaN</td>\n",
              "      <td>NaN</td>\n",
              "      <td>NaN</td>\n",
              "      <td>NaN</td>\n",
              "      <td>2017.0</td>\n",
              "      <td>NEGATIVE</td>\n",
              "      <td>NaN</td>\n",
              "      <td>STRONGLY DISAGREE</td>\n",
              "      <td>DISAGREE</td>\n",
              "      <td>Urban</td>\n",
              "      <td>Highest</td>\n",
              "      <td>Negative</td>\n",
              "      <td>Primary</td>\n",
              "      <td>NEVER-MARRIED</td>\n",
              "      <td>NaN</td>\n",
              "      <td>Negative</td>\n",
              "      <td>NaN</td>\n",
              "    </tr>\n",
              "    <tr>\n",
              "      <th>35261</th>\n",
              "      <td>Rwanda</td>\n",
              "      <td>RW000000011841</td>\n",
              "      <td>RW00000001184103</td>\n",
              "      <td>RW000365</td>\n",
              "      <td>kigali</td>\n",
              "      <td>Female</td>\n",
              "      <td>43</td>\n",
              "      <td>PRIMARY</td>\n",
              "      <td>NO</td>\n",
              "      <td>WIDOWED</td>\n",
              "      <td>Female_NA</td>\n",
              "      <td>22.0</td>\n",
              "      <td>NaN</td>\n",
              "      <td>0.0</td>\n",
              "      <td>NaN</td>\n",
              "      <td>NaN</td>\n",
              "      <td>NaN</td>\n",
              "      <td>NaN</td>\n",
              "      <td>NaN</td>\n",
              "      <td>NaN</td>\n",
              "      <td>NaN</td>\n",
              "      <td>NaN</td>\n",
              "      <td>NaN</td>\n",
              "      <td>NaN</td>\n",
              "      <td>NaN</td>\n",
              "      <td>NaN</td>\n",
              "      <td>NaN</td>\n",
              "      <td>NaN</td>\n",
              "      <td>NaN</td>\n",
              "      <td>NaN</td>\n",
              "      <td>NaN</td>\n",
              "      <td>NaN</td>\n",
              "      <td>NaN</td>\n",
              "      <td>NaN</td>\n",
              "      <td>NaN</td>\n",
              "      <td>NaN</td>\n",
              "      <td>NaN</td>\n",
              "      <td>NaN</td>\n",
              "      <td>NaN</td>\n",
              "      <td>NaN</td>\n",
              "      <td>NaN</td>\n",
              "      <td>2009.0</td>\n",
              "      <td>NEGATIVE</td>\n",
              "      <td>NaN</td>\n",
              "      <td>DISAGREE</td>\n",
              "      <td>DISAGREE</td>\n",
              "      <td>Urban</td>\n",
              "      <td>Highest</td>\n",
              "      <td>Negative</td>\n",
              "      <td>Primary</td>\n",
              "      <td>WIDOWED</td>\n",
              "      <td>NaN</td>\n",
              "      <td>Negative</td>\n",
              "      <td>Youth</td>\n",
              "    </tr>\n",
              "  </tbody>\n",
              "</table>\n",
              "</div>"
            ],
            "text/plain": [
              "       country      householdid  ... hiv_status AgeGroup_fsx\n",
              "35256  Rwanda   RW000000011838   ...   Negative          NaN\n",
              "35257  Rwanda   RW000000011839   ...   Negative       Mature\n",
              "35258  Rwanda   RW000000011839   ...   Negative        Youth\n",
              "35259  Rwanda   RW000000011841   ...   Negative          NaN\n",
              "35261  Rwanda   RW000000011841   ...   Negative        Youth\n",
              "\n",
              "[5 rows x 54 columns]"
            ]
          },
          "metadata": {
            "tags": []
          },
          "execution_count": 93
        }
      ]
    },
    {
      "cell_type": "code",
      "metadata": {
        "colab": {
          "base_uri": "https://localhost:8080/",
          "height": 173
        },
        "id": "ZztLJQFQZ_32",
        "outputId": "25b9fc9e-c6e8-4d2c-ce50-19bd3fbb672e"
      },
      "source": [
        "# form crosstab with dropna=False between curmar and df.curmar\n",
        "pd.crosstab(df.mcstatus,df.curmar, dropna=False)"
      ],
      "execution_count": null,
      "outputs": [
        {
          "output_type": "execute_result",
          "data": {
            "text/html": [
              "<div>\n",
              "<style scoped>\n",
              "    .dataframe tbody tr th:only-of-type {\n",
              "        vertical-align: middle;\n",
              "    }\n",
              "\n",
              "    .dataframe tbody tr th {\n",
              "        vertical-align: top;\n",
              "    }\n",
              "\n",
              "    .dataframe thead th {\n",
              "        text-align: right;\n",
              "    }\n",
              "</style>\n",
              "<table border=\"1\" class=\"dataframe\">\n",
              "  <thead>\n",
              "    <tr style=\"text-align: right;\">\n",
              "      <th>curmar</th>\n",
              "      <th>DIVORCED</th>\n",
              "      <th>DON'T KNOW</th>\n",
              "      <th>LIVING TOGETHER</th>\n",
              "      <th>MARRIED</th>\n",
              "      <th>REFUSED</th>\n",
              "      <th>SEPARATED</th>\n",
              "      <th>WIDOWED</th>\n",
              "    </tr>\n",
              "    <tr>\n",
              "      <th>mcstatus</th>\n",
              "      <th></th>\n",
              "      <th></th>\n",
              "      <th></th>\n",
              "      <th></th>\n",
              "      <th></th>\n",
              "      <th></th>\n",
              "      <th></th>\n",
              "    </tr>\n",
              "  </thead>\n",
              "  <tbody>\n",
              "    <tr>\n",
              "      <th>Female_NA</th>\n",
              "      <td>115</td>\n",
              "      <td>3</td>\n",
              "      <td>2541</td>\n",
              "      <td>5485</td>\n",
              "      <td>5</td>\n",
              "      <td>1215</td>\n",
              "      <td>1162</td>\n",
              "    </tr>\n",
              "    <tr>\n",
              "      <th>NO</th>\n",
              "      <td>29</td>\n",
              "      <td>0</td>\n",
              "      <td>1266</td>\n",
              "      <td>3293</td>\n",
              "      <td>1</td>\n",
              "      <td>203</td>\n",
              "      <td>63</td>\n",
              "    </tr>\n",
              "    <tr>\n",
              "      <th>YES</th>\n",
              "      <td>20</td>\n",
              "      <td>1</td>\n",
              "      <td>766</td>\n",
              "      <td>1428</td>\n",
              "      <td>1</td>\n",
              "      <td>101</td>\n",
              "      <td>11</td>\n",
              "    </tr>\n",
              "  </tbody>\n",
              "</table>\n",
              "</div>"
            ],
            "text/plain": [
              "curmar     DIVORCED  DON'T KNOW  LIVING TOGETHER  ...  REFUSED  SEPARATED  WIDOWED\n",
              "mcstatus                                          ...                             \n",
              "Female_NA       115           3             2541  ...        5       1215     1162\n",
              "NO               29           0             1266  ...        1        203       63\n",
              "YES              20           1              766  ...        1        101       11\n",
              "\n",
              "[3 rows x 7 columns]"
            ]
          },
          "metadata": {
            "tags": []
          },
          "execution_count": 51
        }
      ]
    },
    {
      "cell_type": "code",
      "metadata": {
        "colab": {
          "base_uri": "https://localhost:8080/",
          "height": 204
        },
        "id": "vZ7gD0_Rauie",
        "outputId": "4959895a-4394-4d34-e3c6-144082406dcd"
      },
      "source": [
        "# form crosstab with dropna=False between firstsxagedk and hivstatusfinal\n",
        "pd.crosstab(df.firstsxagedk,df.hivstatusfinal, dropna=False)"
      ],
      "execution_count": null,
      "outputs": [
        {
          "output_type": "execute_result",
          "data": {
            "text/html": [
              "<div>\n",
              "<style scoped>\n",
              "    .dataframe tbody tr th:only-of-type {\n",
              "        vertical-align: middle;\n",
              "    }\n",
              "\n",
              "    .dataframe tbody tr th {\n",
              "        vertical-align: top;\n",
              "    }\n",
              "\n",
              "    .dataframe thead th {\n",
              "        text-align: right;\n",
              "    }\n",
              "</style>\n",
              "<table border=\"1\" class=\"dataframe\">\n",
              "  <thead>\n",
              "    <tr style=\"text-align: right;\">\n",
              "      <th>hivstatusfinal</th>\n",
              "      <th>Negative</th>\n",
              "      <th>Positive</th>\n",
              "    </tr>\n",
              "    <tr>\n",
              "      <th>firstsxagedk</th>\n",
              "      <th></th>\n",
              "      <th></th>\n",
              "    </tr>\n",
              "  </thead>\n",
              "  <tbody>\n",
              "    <tr>\n",
              "      <th>DON'T KNOW</th>\n",
              "      <td>97</td>\n",
              "      <td>6</td>\n",
              "    </tr>\n",
              "    <tr>\n",
              "      <th>NEVER HAD VAGINAL SEX</th>\n",
              "      <td>7178</td>\n",
              "      <td>30</td>\n",
              "    </tr>\n",
              "    <tr>\n",
              "      <th>OUT OF RANGE</th>\n",
              "      <td>61</td>\n",
              "      <td>1</td>\n",
              "    </tr>\n",
              "    <tr>\n",
              "      <th>REFUSED</th>\n",
              "      <td>40</td>\n",
              "      <td>2</td>\n",
              "    </tr>\n",
              "  </tbody>\n",
              "</table>\n",
              "</div>"
            ],
            "text/plain": [
              "hivstatusfinal         Negative  Positive\n",
              "firstsxagedk                             \n",
              "DON'T KNOW                   97         6\n",
              "NEVER HAD VAGINAL SEX      7178        30\n",
              "OUT OF RANGE                 61         1\n",
              "REFUSED                      40         2"
            ]
          },
          "metadata": {
            "tags": []
          },
          "execution_count": 52
        }
      ]
    },
    {
      "cell_type": "markdown",
      "metadata": {
        "id": "YWbtLiyJY9V8"
      },
      "source": [
        "# number of partner and relation"
      ]
    },
    {
      "cell_type": "code",
      "metadata": {
        "colab": {
          "base_uri": "https://localhost:8080/"
        },
        "id": "O1pwVEI2Y8ak",
        "outputId": "2cb4eebc-e840-410a-a321-3b29707d6766"
      },
      "source": [
        "df.part12monum.describe()"
      ],
      "execution_count": null,
      "outputs": [
        {
          "output_type": "execute_result",
          "data": {
            "text/plain": [
              "count    24240.000000\n",
              "mean         0.921535\n",
              "std          0.785317\n",
              "min         -7.000000\n",
              "25%          1.000000\n",
              "50%          1.000000\n",
              "75%          1.000000\n",
              "max          6.000000\n",
              "Name: part12monum, dtype: float64"
            ]
          },
          "metadata": {
            "tags": []
          },
          "execution_count": 53
        }
      ]
    },
    {
      "cell_type": "code",
      "metadata": {
        "colab": {
          "base_uri": "https://localhost:8080/"
        },
        "id": "kyjILMHkZNvs",
        "outputId": "33740861-f338-4a6c-a8ab-ba7b0d949ac6"
      },
      "source": [
        "df.part12monum.isnull().sum()"
      ],
      "execution_count": null,
      "outputs": [
        {
          "output_type": "execute_result",
          "data": {
            "text/plain": [
              "6469"
            ]
          },
          "metadata": {
            "tags": []
          },
          "execution_count": 54
        }
      ]
    },
    {
      "cell_type": "code",
      "metadata": {
        "colab": {
          "base_uri": "https://localhost:8080/"
        },
        "id": "DCT1_2sEZYco",
        "outputId": "862692ba-1ceb-493d-94d3-dee259eb6d87"
      },
      "source": [
        "# reason of not reporting number of partner frequency\n",
        "df['part12monum'].value_counts()"
      ],
      "execution_count": null,
      "outputs": [
        {
          "output_type": "execute_result",
          "data": {
            "text/plain": [
              " 1.0    16301\n",
              " 0.0     5465\n",
              " 2.0     1641\n",
              " 3.0      538\n",
              " 4.0      113\n",
              " 6.0       79\n",
              " 5.0       78\n",
              "-7.0       25\n",
              "Name: part12monum, dtype: int64"
            ]
          },
          "metadata": {
            "tags": []
          },
          "execution_count": 55
        }
      ]
    },
    {
      "cell_type": "code",
      "metadata": {
        "colab": {
          "base_uri": "https://localhost:8080/"
        },
        "id": "5itcUdzpTVWY",
        "outputId": "e17ba18f-0e9b-4e1d-b988-45c35a90f783"
      },
      "source": [
        "# reason of not reporting number of partner frequency\n",
        "df['part12modkr'].value_counts()"
      ],
      "execution_count": null,
      "outputs": [
        {
          "output_type": "execute_result",
          "data": {
            "text/plain": [
              "REFUSED       20\n",
              "DON'T KNOW    18\n",
              "Name: part12modkr, dtype: int64"
            ]
          },
          "metadata": {
            "tags": []
          },
          "execution_count": 56
        }
      ]
    },
    {
      "cell_type": "code",
      "metadata": {
        "colab": {
          "base_uri": "https://localhost:8080/"
        },
        "id": "hz3hmSX8UVRc",
        "outputId": "f872e283-f38e-413a-cc08-4b96b5f328d2"
      },
      "source": [
        "# if she lives with partner frequency\n",
        "df['partrelation1'].value_counts()"
      ],
      "execution_count": null,
      "outputs": [
        {
          "output_type": "execute_result",
          "data": {
            "text/plain": [
              "HUSBAND/WIFE                          11088\n",
              "FRIEND/ACQUAINTANCE                    3212\n",
              "LIVE-IN PARTNER                        2995\n",
              "PARTNER NOT LIVING WITH RESPONDENT      587\n",
              "EX-SPOUSE/EX-PARTNER                    346\n",
              "STRANGER                                291\n",
              "SEX WORKER                              122\n",
              "SEX WORKER CLIENT                        26\n",
              "REFUSED                                   7\n",
              "DON'T KNOW                                4\n",
              "Name: partrelation1, dtype: int64"
            ]
          },
          "metadata": {
            "tags": []
          },
          "execution_count": 57
        }
      ]
    },
    {
      "cell_type": "code",
      "metadata": {
        "id": "lsAaJHiteL5m"
      },
      "source": [
        "df[\"partrelation1\"]=df[\"partrelation1\"].map({\"HUSBAND/WIFE\": \"partner\", \"LIVE-IN PARTNER\":\"partner\",\"FRIEND/ACQUAINTANCE\":\"Friend\", \"PARTNER NOT LIVING WITH RESPONDENT\":\"Friend\",\n",
        "                                   \"EX-SPOUSE/EX-PARTNER\":\"Friend\",\"STRANGER\":\"sex worker\",\"SEX WORKER\":\"sex worker\",\"SEX WORKER CLIENT\":\"sex worker\",\n",
        "                                   \"REFUSED\":\"sex worker\",\"DON'T KNOW\":\"sex worker\"})"
      ],
      "execution_count": null,
      "outputs": []
    },
    {
      "cell_type": "code",
      "metadata": {
        "colab": {
          "base_uri": "https://localhost:8080/"
        },
        "id": "CPMJOmevhZ30",
        "outputId": "914a82b0-8339-47ec-c8e4-b4d6147e80e1"
      },
      "source": [
        "# if she lives with partner frequency\n",
        "df['partrelation1'].value_counts()"
      ],
      "execution_count": null,
      "outputs": [
        {
          "output_type": "execute_result",
          "data": {
            "text/plain": [
              "partner       14083\n",
              "Friend         4145\n",
              "sex worker      450\n",
              "Name: partrelation1, dtype: int64"
            ]
          },
          "metadata": {
            "tags": []
          },
          "execution_count": 59
        }
      ]
    },
    {
      "cell_type": "code",
      "metadata": {
        "colab": {
          "base_uri": "https://localhost:8080/"
        },
        "id": "3bkz5Hg4dR5u",
        "outputId": "12b570c7-1156-45c9-e3eb-75ad8e8c66f7"
      },
      "source": [
        "df.partrelation1.isnull().sum()"
      ],
      "execution_count": null,
      "outputs": [
        {
          "output_type": "execute_result",
          "data": {
            "text/plain": [
              "12031"
            ]
          },
          "metadata": {
            "tags": []
          },
          "execution_count": 60
        }
      ]
    },
    {
      "cell_type": "code",
      "metadata": {
        "colab": {
          "base_uri": "https://localhost:8080/",
          "height": 173
        },
        "id": "MWptUe0pcqaV",
        "outputId": "0fbfaaee-cf92-4bb9-da89-03a45bfcb616"
      },
      "source": [
        "# form crosstab with dropna=False between firstsxagedk and hivstatusfinal\n",
        "pd.crosstab(df.partrelation1,df.hivstatusfinal, dropna=False)"
      ],
      "execution_count": null,
      "outputs": [
        {
          "output_type": "execute_result",
          "data": {
            "text/html": [
              "<div>\n",
              "<style scoped>\n",
              "    .dataframe tbody tr th:only-of-type {\n",
              "        vertical-align: middle;\n",
              "    }\n",
              "\n",
              "    .dataframe tbody tr th {\n",
              "        vertical-align: top;\n",
              "    }\n",
              "\n",
              "    .dataframe thead th {\n",
              "        text-align: right;\n",
              "    }\n",
              "</style>\n",
              "<table border=\"1\" class=\"dataframe\">\n",
              "  <thead>\n",
              "    <tr style=\"text-align: right;\">\n",
              "      <th>hivstatusfinal</th>\n",
              "      <th>Negative</th>\n",
              "      <th>Positive</th>\n",
              "    </tr>\n",
              "    <tr>\n",
              "      <th>partrelation1</th>\n",
              "      <th></th>\n",
              "      <th></th>\n",
              "    </tr>\n",
              "  </thead>\n",
              "  <tbody>\n",
              "    <tr>\n",
              "      <th>Friend</th>\n",
              "      <td>3962</td>\n",
              "      <td>183</td>\n",
              "    </tr>\n",
              "    <tr>\n",
              "      <th>partner</th>\n",
              "      <td>13655</td>\n",
              "      <td>428</td>\n",
              "    </tr>\n",
              "    <tr>\n",
              "      <th>sex worker</th>\n",
              "      <td>425</td>\n",
              "      <td>25</td>\n",
              "    </tr>\n",
              "  </tbody>\n",
              "</table>\n",
              "</div>"
            ],
            "text/plain": [
              "hivstatusfinal  Negative  Positive\n",
              "partrelation1                     \n",
              "Friend              3962       183\n",
              "partner            13655       428\n",
              "sex worker           425        25"
            ]
          },
          "metadata": {
            "tags": []
          },
          "execution_count": 61
        }
      ]
    },
    {
      "cell_type": "code",
      "metadata": {
        "colab": {
          "base_uri": "https://localhost:8080/"
        },
        "id": "FaQZz-ERlzQb",
        "outputId": "2774c3e9-56b8-4575-e229-c900b640e9db"
      },
      "source": [
        "# if she lives with partner frequency\n",
        "df['partlastsup1'].value_counts()"
      ],
      "execution_count": null,
      "outputs": [
        {
          "output_type": "execute_result",
          "data": {
            "text/plain": [
              "NO            17868\n",
              "YES             721\n",
              "DON'T KNOW        9\n",
              "REFUSED           4\n",
              "Name: partlastsup1, dtype: int64"
            ]
          },
          "metadata": {
            "tags": []
          },
          "execution_count": 66
        }
      ]
    },
    {
      "cell_type": "code",
      "metadata": {
        "colab": {
          "base_uri": "https://localhost:8080/",
          "height": 204
        },
        "id": "sYPK7GBImHD_",
        "outputId": "46cf866b-2ff4-450c-f793-18e17e89cdc4"
      },
      "source": [
        "# form crosstab with dropna=False between paying sex and hivstatusfinal\n",
        "pd.crosstab(df.partlastsup1,df.hivstatusfinal, dropna=False)"
      ],
      "execution_count": null,
      "outputs": [
        {
          "output_type": "execute_result",
          "data": {
            "text/html": [
              "<div>\n",
              "<style scoped>\n",
              "    .dataframe tbody tr th:only-of-type {\n",
              "        vertical-align: middle;\n",
              "    }\n",
              "\n",
              "    .dataframe tbody tr th {\n",
              "        vertical-align: top;\n",
              "    }\n",
              "\n",
              "    .dataframe thead th {\n",
              "        text-align: right;\n",
              "    }\n",
              "</style>\n",
              "<table border=\"1\" class=\"dataframe\">\n",
              "  <thead>\n",
              "    <tr style=\"text-align: right;\">\n",
              "      <th>hivstatusfinal</th>\n",
              "      <th>Negative</th>\n",
              "      <th>Positive</th>\n",
              "    </tr>\n",
              "    <tr>\n",
              "      <th>partlastsup1</th>\n",
              "      <th></th>\n",
              "      <th></th>\n",
              "    </tr>\n",
              "  </thead>\n",
              "  <tbody>\n",
              "    <tr>\n",
              "      <th>DON'T KNOW</th>\n",
              "      <td>9</td>\n",
              "      <td>0</td>\n",
              "    </tr>\n",
              "    <tr>\n",
              "      <th>NO</th>\n",
              "      <td>17300</td>\n",
              "      <td>568</td>\n",
              "    </tr>\n",
              "    <tr>\n",
              "      <th>REFUSED</th>\n",
              "      <td>4</td>\n",
              "      <td>0</td>\n",
              "    </tr>\n",
              "    <tr>\n",
              "      <th>YES</th>\n",
              "      <td>664</td>\n",
              "      <td>57</td>\n",
              "    </tr>\n",
              "  </tbody>\n",
              "</table>\n",
              "</div>"
            ],
            "text/plain": [
              "hivstatusfinal  Negative  Positive\n",
              "partlastsup1                      \n",
              "DON'T KNOW             9         0\n",
              "NO                 17300       568\n",
              "REFUSED                4         0\n",
              "YES                  664        57"
            ]
          },
          "metadata": {
            "tags": []
          },
          "execution_count": 62
        }
      ]
    },
    {
      "cell_type": "code",
      "metadata": {
        "colab": {
          "base_uri": "https://localhost:8080/"
        },
        "id": "CO2s0capm1Eg",
        "outputId": "a1be21c6-3b2c-44ed-fc06-1ce5c6f4e7df"
      },
      "source": [
        " df.partlastsup1[df.partlastsup1 == \"NO\"] = df.partrelation1\n",
        " df.partlastsup1[df.partlastsup1 == \"NO\"] = df.partlastsup2\n",
        " df.partlastsup1[df.partlastsup1 == \"NO\"] = df.partlastsup3"
      ],
      "execution_count": null,
      "outputs": [
        {
          "output_type": "stream",
          "text": [
            "/usr/local/lib/python3.7/dist-packages/ipykernel_launcher.py:1: SettingWithCopyWarning: \n",
            "A value is trying to be set on a copy of a slice from a DataFrame\n",
            "\n",
            "See the caveats in the documentation: https://pandas.pydata.org/pandas-docs/stable/user_guide/indexing.html#returning-a-view-versus-a-copy\n",
            "  \"\"\"Entry point for launching an IPython kernel.\n",
            "/usr/local/lib/python3.7/dist-packages/ipykernel_launcher.py:2: SettingWithCopyWarning: \n",
            "A value is trying to be set on a copy of a slice from a DataFrame\n",
            "\n",
            "See the caveats in the documentation: https://pandas.pydata.org/pandas-docs/stable/user_guide/indexing.html#returning-a-view-versus-a-copy\n",
            "  \n",
            "/usr/local/lib/python3.7/dist-packages/ipykernel_launcher.py:3: SettingWithCopyWarning: \n",
            "A value is trying to be set on a copy of a slice from a DataFrame\n",
            "\n",
            "See the caveats in the documentation: https://pandas.pydata.org/pandas-docs/stable/user_guide/indexing.html#returning-a-view-versus-a-copy\n",
            "  This is separate from the ipykernel package so we can avoid doing imports until\n"
          ],
          "name": "stderr"
        }
      ]
    },
    {
      "cell_type": "code",
      "metadata": {
        "colab": {
          "base_uri": "https://localhost:8080/"
        },
        "id": "WakOat0wOYeh",
        "outputId": "aae9f558-2c04-423b-bd24-e629dd79dea8"
      },
      "source": [
        "df.partlastsup1.isnull().sum()"
      ],
      "execution_count": null,
      "outputs": [
        {
          "output_type": "execute_result",
          "data": {
            "text/plain": [
              "12170"
            ]
          },
          "metadata": {
            "tags": []
          },
          "execution_count": 71
        }
      ]
    },
    {
      "cell_type": "code",
      "metadata": {
        "colab": {
          "base_uri": "https://localhost:8080/"
        },
        "id": "1K5fNPGqneXT",
        "outputId": "05f2a826-7daa-4646-aaa0-6f53500a134a"
      },
      "source": [
        "# if she lives with partner frequency\n",
        "df['partlastsup1'].value_counts()"
      ],
      "execution_count": null,
      "outputs": [
        {
          "output_type": "execute_result",
          "data": {
            "text/plain": [
              "partner       13970\n",
              "friend         3575\n",
              "sex worker     1000\n",
              "Name: partlastsup1, dtype: int64"
            ]
          },
          "metadata": {
            "tags": []
          },
          "execution_count": 94
        }
      ]
    },
    {
      "cell_type": "code",
      "metadata": {
        "id": "4oGh06HJn8Zq"
      },
      "source": [
        "df[\"partlastsup1\"]=df[\"partlastsup1\"].map({\"partner\": \"partner\",\"Friend\":\"friend\",\"YES\":\"sex worker\",\"sex worker\":\"sex worker\",\n",
        "                                   \"REFUSED\":\"sex worker\",\"DON'T KNOW\":\"sex worker\"})"
      ],
      "execution_count": null,
      "outputs": []
    },
    {
      "cell_type": "code",
      "metadata": {
        "colab": {
          "base_uri": "https://localhost:8080/"
        },
        "id": "dnG3W8w2oj84",
        "outputId": "5d78c2d4-1fba-41b9-c53e-bdd7ab792b18"
      },
      "source": [
        "# if she lives with partner frequency\n",
        "df['partlastsup1'].value_counts()"
      ],
      "execution_count": null,
      "outputs": [
        {
          "output_type": "execute_result",
          "data": {
            "text/plain": [
              "partner       13970\n",
              "friend         3575\n",
              "sex worker      994\n",
              "Name: partlastsup1, dtype: int64"
            ]
          },
          "metadata": {
            "tags": []
          },
          "execution_count": 74
        }
      ]
    },
    {
      "cell_type": "code",
      "metadata": {
        "colab": {
          "base_uri": "https://localhost:8080/",
          "height": 173
        },
        "id": "-Q4JX1o4opOO",
        "outputId": "cbb989b5-13f7-4070-ceb1-8b49155699b4"
      },
      "source": [
        "# form crosstab with dropna=False between paying sex and hivstatusfinal\n",
        "pd.crosstab(df.partlastsup1,df.hivstatusfinal, dropna=False)"
      ],
      "execution_count": null,
      "outputs": [
        {
          "output_type": "execute_result",
          "data": {
            "text/html": [
              "<div>\n",
              "<style scoped>\n",
              "    .dataframe tbody tr th:only-of-type {\n",
              "        vertical-align: middle;\n",
              "    }\n",
              "\n",
              "    .dataframe tbody tr th {\n",
              "        vertical-align: top;\n",
              "    }\n",
              "\n",
              "    .dataframe thead th {\n",
              "        text-align: right;\n",
              "    }\n",
              "</style>\n",
              "<table border=\"1\" class=\"dataframe\">\n",
              "  <thead>\n",
              "    <tr style=\"text-align: right;\">\n",
              "      <th>hivstatusfinal</th>\n",
              "      <th>Negative</th>\n",
              "      <th>Positive</th>\n",
              "    </tr>\n",
              "    <tr>\n",
              "      <th>partlastsup1</th>\n",
              "      <th></th>\n",
              "      <th></th>\n",
              "    </tr>\n",
              "  </thead>\n",
              "  <tbody>\n",
              "    <tr>\n",
              "      <th>friend</th>\n",
              "      <td>3436</td>\n",
              "      <td>139</td>\n",
              "    </tr>\n",
              "    <tr>\n",
              "      <th>partner</th>\n",
              "      <td>13550</td>\n",
              "      <td>420</td>\n",
              "    </tr>\n",
              "    <tr>\n",
              "      <th>sex worker</th>\n",
              "      <td>928</td>\n",
              "      <td>66</td>\n",
              "    </tr>\n",
              "  </tbody>\n",
              "</table>\n",
              "</div>"
            ],
            "text/plain": [
              "hivstatusfinal  Negative  Positive\n",
              "partlastsup1                      \n",
              "friend              3436       139\n",
              "partner            13550       420\n",
              "sex worker           928        66"
            ]
          },
          "metadata": {
            "tags": []
          },
          "execution_count": 75
        }
      ]
    },
    {
      "cell_type": "code",
      "metadata": {
        "colab": {
          "base_uri": "https://localhost:8080/"
        },
        "id": "MJcnyvvkmM6L",
        "outputId": "23ee0056-0c37-4d4e-e503-138692ba147e"
      },
      "source": [
        "# the rate of HIV positive depending on partner relations\n",
        "print('friend :',(139/3436)*100)\n",
        "print('partner :', (420/13550)*100)\n",
        "print('sex worker :', (66/928)*100)"
      ],
      "execution_count": null,
      "outputs": [
        {
          "output_type": "stream",
          "text": [
            "friend : 4.045401629802096\n",
            "partner : 3.0996309963099633\n",
            "sex worker : 7.112068965517242\n"
          ],
          "name": "stdout"
        }
      ]
    },
    {
      "cell_type": "code",
      "metadata": {
        "colab": {
          "base_uri": "https://localhost:8080/"
        },
        "id": "i-haW89cuZhj",
        "outputId": "bcffba94-9a87-4464-dc97-bd98e84ec00a"
      },
      "source": [
        "#  df.partlastsup1[df.partlastsup1].replace(np.nan, 0)\n",
        "df['partlastsup1'].fillna(0, inplace=True)\n",
        "df.partlastsup1[df.partlastsup1 == 0] = df.partlastsup2\n",
        "df.partlastsup1[df.partlastsup1 == 0] = df.partlastsup3"
      ],
      "execution_count": null,
      "outputs": [
        {
          "output_type": "stream",
          "text": [
            "/usr/local/lib/python3.7/dist-packages/ipykernel_launcher.py:3: SettingWithCopyWarning: \n",
            "A value is trying to be set on a copy of a slice from a DataFrame\n",
            "\n",
            "See the caveats in the documentation: https://pandas.pydata.org/pandas-docs/stable/user_guide/indexing.html#returning-a-view-versus-a-copy\n",
            "  This is separate from the ipykernel package so we can avoid doing imports until\n",
            "/usr/local/lib/python3.7/dist-packages/ipykernel_launcher.py:4: SettingWithCopyWarning: \n",
            "A value is trying to be set on a copy of a slice from a DataFrame\n",
            "\n",
            "See the caveats in the documentation: https://pandas.pydata.org/pandas-docs/stable/user_guide/indexing.html#returning-a-view-versus-a-copy\n",
            "  after removing the cwd from sys.path.\n"
          ],
          "name": "stderr"
        }
      ]
    },
    {
      "cell_type": "code",
      "metadata": {
        "colab": {
          "base_uri": "https://localhost:8080/"
        },
        "id": "VWoDnobIukr2",
        "outputId": "02b32aaa-035b-4fdb-b39b-f25598b4d2c9"
      },
      "source": [
        "#  partlastsup2 frequency\n",
        "df['partlastsup1'].value_counts()"
      ],
      "execution_count": null,
      "outputs": [
        {
          "output_type": "execute_result",
          "data": {
            "text/plain": [
              "partner       13970\n",
              "friend         3575\n",
              "sex worker      994\n",
              "NO               62\n",
              "YES               6\n",
              "Name: partlastsup1, dtype: int64"
            ]
          },
          "metadata": {
            "tags": []
          },
          "execution_count": 78
        }
      ]
    },
    {
      "cell_type": "code",
      "metadata": {
        "id": "cNgXFcKgwtNv"
      },
      "source": [
        "df[\"partlastsup1\"]=df[\"partlastsup1\"].map({\"partner\": \"partner\",\"friend\":\"friend\",\"YES\":\"sex worker\",\"sex worker\":\"sex worker\",\n",
        "                                   \"REFUSED\":\"sex worker\",\"DON'T KNOW\":\"sex worker\"})"
      ],
      "execution_count": null,
      "outputs": []
    },
    {
      "cell_type": "code",
      "metadata": {
        "colab": {
          "base_uri": "https://localhost:8080/"
        },
        "id": "aRrG7KjGQEN0",
        "outputId": "bab6bbef-3ecd-4a9f-906b-fd4c0705d00a"
      },
      "source": [
        "#  partlastsup2 frequency\n",
        "df['partlastsup1'].value_counts()"
      ],
      "execution_count": null,
      "outputs": [
        {
          "output_type": "execute_result",
          "data": {
            "text/plain": [
              "partner       13970\n",
              "friend         3575\n",
              "sex worker     1000\n",
              "Name: partlastsup1, dtype: int64"
            ]
          },
          "metadata": {
            "tags": []
          },
          "execution_count": 82
        }
      ]
    },
    {
      "cell_type": "code",
      "metadata": {
        "colab": {
          "base_uri": "https://localhost:8080/"
        },
        "id": "1SdU8kpPQ987",
        "outputId": "2f3015f1-e1cb-493e-ff9b-539531476cb4"
      },
      "source": [
        "#  partlastsup2 frequency\n",
        "df['hivstatusfinal'].value_counts()"
      ],
      "execution_count": null,
      "outputs": [
        {
          "output_type": "execute_result",
          "data": {
            "text/plain": [
              "Negative    29775\n",
              "Positive      934\n",
              "Name: hivstatusfinal, dtype: int64"
            ]
          },
          "metadata": {
            "tags": []
          },
          "execution_count": 85
        }
      ]
    },
    {
      "cell_type": "code",
      "metadata": {
        "colab": {
          "base_uri": "https://localhost:8080/",
          "height": 173
        },
        "id": "iEEHShZww0yI",
        "outputId": "a5a3e99a-38f6-4c56-ec28-2622a3e737b3"
      },
      "source": [
        "# form crosstab with dropna=False between paying sex and hivstatusfinal\n",
        "pd.crosstab(df.partlastsup1,df.hivstatusfinal, dropna=False)"
      ],
      "execution_count": null,
      "outputs": [
        {
          "output_type": "execute_result",
          "data": {
            "text/html": [
              "<div>\n",
              "<style scoped>\n",
              "    .dataframe tbody tr th:only-of-type {\n",
              "        vertical-align: middle;\n",
              "    }\n",
              "\n",
              "    .dataframe tbody tr th {\n",
              "        vertical-align: top;\n",
              "    }\n",
              "\n",
              "    .dataframe thead th {\n",
              "        text-align: right;\n",
              "    }\n",
              "</style>\n",
              "<table border=\"1\" class=\"dataframe\">\n",
              "  <thead>\n",
              "    <tr style=\"text-align: right;\">\n",
              "      <th>hivstatusfinal</th>\n",
              "      <th>Negative</th>\n",
              "      <th>Positive</th>\n",
              "    </tr>\n",
              "    <tr>\n",
              "      <th>partlastsup1</th>\n",
              "      <th></th>\n",
              "      <th></th>\n",
              "    </tr>\n",
              "  </thead>\n",
              "  <tbody>\n",
              "    <tr>\n",
              "      <th>friend</th>\n",
              "      <td>3436</td>\n",
              "      <td>139</td>\n",
              "    </tr>\n",
              "    <tr>\n",
              "      <th>partner</th>\n",
              "      <td>13550</td>\n",
              "      <td>420</td>\n",
              "    </tr>\n",
              "    <tr>\n",
              "      <th>sex worker</th>\n",
              "      <td>934</td>\n",
              "      <td>66</td>\n",
              "    </tr>\n",
              "  </tbody>\n",
              "</table>\n",
              "</div>"
            ],
            "text/plain": [
              "hivstatusfinal  Negative  Positive\n",
              "partlastsup1                      \n",
              "friend              3436       139\n",
              "partner            13550       420\n",
              "sex worker           934        66"
            ]
          },
          "metadata": {
            "tags": []
          },
          "execution_count": 81
        }
      ]
    },
    {
      "cell_type": "code",
      "metadata": {
        "colab": {
          "base_uri": "https://localhost:8080/"
        },
        "id": "aCMWsq6-QNBl",
        "outputId": "19eea43b-9dae-4c17-b49f-894c386d6df2"
      },
      "source": [
        "139+420+66"
      ],
      "execution_count": null,
      "outputs": [
        {
          "output_type": "execute_result",
          "data": {
            "text/plain": [
              "625"
            ]
          },
          "metadata": {
            "tags": []
          },
          "execution_count": 83
        }
      ]
    },
    {
      "cell_type": "code",
      "metadata": {
        "colab": {
          "base_uri": "https://localhost:8080/"
        },
        "id": "aVkYnMlsrTcN",
        "outputId": "d4d94d10-f7ab-4235-f125-8e928365709c"
      },
      "source": [
        "#  partlastsup2 frequency\n",
        "df['partlastsup2'].value_counts()"
      ],
      "execution_count": null,
      "outputs": [
        {
          "output_type": "execute_result",
          "data": {
            "text/plain": [
              "NO            2061\n",
              "YES            258\n",
              "REFUSED          3\n",
              "DON'T KNOW       1\n",
              "Name: partlastsup2, dtype: int64"
            ]
          },
          "metadata": {
            "tags": []
          },
          "execution_count": 77
        }
      ]
    },
    {
      "cell_type": "code",
      "metadata": {
        "colab": {
          "base_uri": "https://localhost:8080/"
        },
        "id": "akfdFWvawWLb",
        "outputId": "84f91f19-0444-4129-a64c-ae00de553e2b"
      },
      "source": [
        "#  partlastsup3 frequency\n",
        "df['partlastsup3'].value_counts()"
      ],
      "execution_count": null,
      "outputs": [
        {
          "output_type": "execute_result",
          "data": {
            "text/plain": [
              "NO            629\n",
              "YES            90\n",
              "REFUSED         3\n",
              "DON'T KNOW      1\n",
              "Name: partlastsup3, dtype: int64"
            ]
          },
          "metadata": {
            "tags": []
          },
          "execution_count": 84
        }
      ]
    },
    {
      "cell_type": "code",
      "metadata": {
        "colab": {
          "base_uri": "https://localhost:8080/"
        },
        "id": "WF_QfM08Xsnf",
        "outputId": "5b0aa607-f70d-453f-88d1-2e805109f499"
      },
      "source": [
        "\n",
        "#  last partner condom used frequency\n",
        "df['partlastcndm1'].value_counts()"
      ],
      "execution_count": null,
      "outputs": [
        {
          "output_type": "execute_result",
          "data": {
            "text/plain": [
              "NO            15829\n",
              "YES            2911\n",
              "REFUSED           5\n",
              "DON'T KNOW        5\n",
              "Name: partlastcndm1, dtype: int64"
            ]
          },
          "metadata": {
            "tags": []
          },
          "execution_count": 86
        }
      ]
    },
    {
      "cell_type": "code",
      "metadata": {
        "colab": {
          "base_uri": "https://localhost:8080/"
        },
        "id": "q3Oil9YXiu0z",
        "outputId": "0d3bea10-b816-4d6c-de7a-9235db392a57"
      },
      "source": [
        "df.partlastcndm1.isnull().sum()"
      ],
      "execution_count": null,
      "outputs": [
        {
          "output_type": "execute_result",
          "data": {
            "text/plain": [
              "11959"
            ]
          },
          "metadata": {
            "tags": []
          },
          "execution_count": 87
        }
      ]
    },
    {
      "cell_type": "code",
      "metadata": {
        "colab": {
          "base_uri": "https://localhost:8080/",
          "height": 204
        },
        "id": "ePsE8ug_f22K",
        "outputId": "f34961c1-135c-4dc9-e269-11ec0df0a256"
      },
      "source": [
        "# form crosstab with dropna=False between curmar and df.curmar\n",
        "pd.crosstab(df.partlastcndm1,df.hivstatusfinal, dropna=False)"
      ],
      "execution_count": null,
      "outputs": [
        {
          "output_type": "execute_result",
          "data": {
            "text/html": [
              "<div>\n",
              "<style scoped>\n",
              "    .dataframe tbody tr th:only-of-type {\n",
              "        vertical-align: middle;\n",
              "    }\n",
              "\n",
              "    .dataframe tbody tr th {\n",
              "        vertical-align: top;\n",
              "    }\n",
              "\n",
              "    .dataframe thead th {\n",
              "        text-align: right;\n",
              "    }\n",
              "</style>\n",
              "<table border=\"1\" class=\"dataframe\">\n",
              "  <thead>\n",
              "    <tr style=\"text-align: right;\">\n",
              "      <th>hivstatusfinal</th>\n",
              "      <th>Negative</th>\n",
              "      <th>Positive</th>\n",
              "    </tr>\n",
              "    <tr>\n",
              "      <th>partlastcndm1</th>\n",
              "      <th></th>\n",
              "      <th></th>\n",
              "    </tr>\n",
              "  </thead>\n",
              "  <tbody>\n",
              "    <tr>\n",
              "      <th>DON'T KNOW</th>\n",
              "      <td>4</td>\n",
              "      <td>1</td>\n",
              "    </tr>\n",
              "    <tr>\n",
              "      <th>NO</th>\n",
              "      <td>15430</td>\n",
              "      <td>399</td>\n",
              "    </tr>\n",
              "    <tr>\n",
              "      <th>REFUSED</th>\n",
              "      <td>5</td>\n",
              "      <td>0</td>\n",
              "    </tr>\n",
              "    <tr>\n",
              "      <th>YES</th>\n",
              "      <td>2675</td>\n",
              "      <td>236</td>\n",
              "    </tr>\n",
              "  </tbody>\n",
              "</table>\n",
              "</div>"
            ],
            "text/plain": [
              "hivstatusfinal  Negative  Positive\n",
              "partlastcndm1                     \n",
              "DON'T KNOW             4         1\n",
              "NO                 15430       399\n",
              "REFUSED                5         0\n",
              "YES                 2675       236"
            ]
          },
          "metadata": {
            "tags": []
          },
          "execution_count": 88
        }
      ]
    },
    {
      "cell_type": "code",
      "metadata": {
        "colab": {
          "base_uri": "https://localhost:8080/"
        },
        "id": "Oubt5b4cYfVP",
        "outputId": "31524b29-6215-4413-e63e-4ec16b672eb6"
      },
      "source": [
        "# paid sex frequency\n",
        "df['partlastsup1'].value_counts()"
      ],
      "execution_count": null,
      "outputs": [
        {
          "output_type": "execute_result",
          "data": {
            "text/plain": [
              "partner       13970\n",
              "friend         3575\n",
              "sex worker     1000\n",
              "Name: partlastsup1, dtype: int64"
            ]
          },
          "metadata": {
            "tags": []
          },
          "execution_count": 89
        }
      ]
    },
    {
      "cell_type": "code",
      "metadata": {
        "colab": {
          "base_uri": "https://localhost:8080/",
          "height": 173
        },
        "id": "go1gB_ZkgkLa",
        "outputId": "c22ecfba-cbbc-4cef-dfa5-32beec5fe371"
      },
      "source": [
        "# form crosstab with dropna=False between curmar and df.curmar\n",
        "pd.crosstab(df.partlastsup1,df.hivstatusfinal, dropna=False)"
      ],
      "execution_count": null,
      "outputs": [
        {
          "output_type": "execute_result",
          "data": {
            "text/html": [
              "<div>\n",
              "<style scoped>\n",
              "    .dataframe tbody tr th:only-of-type {\n",
              "        vertical-align: middle;\n",
              "    }\n",
              "\n",
              "    .dataframe tbody tr th {\n",
              "        vertical-align: top;\n",
              "    }\n",
              "\n",
              "    .dataframe thead th {\n",
              "        text-align: right;\n",
              "    }\n",
              "</style>\n",
              "<table border=\"1\" class=\"dataframe\">\n",
              "  <thead>\n",
              "    <tr style=\"text-align: right;\">\n",
              "      <th>hivstatusfinal</th>\n",
              "      <th>Negative</th>\n",
              "      <th>Positive</th>\n",
              "    </tr>\n",
              "    <tr>\n",
              "      <th>partlastsup1</th>\n",
              "      <th></th>\n",
              "      <th></th>\n",
              "    </tr>\n",
              "  </thead>\n",
              "  <tbody>\n",
              "    <tr>\n",
              "      <th>friend</th>\n",
              "      <td>3436</td>\n",
              "      <td>139</td>\n",
              "    </tr>\n",
              "    <tr>\n",
              "      <th>partner</th>\n",
              "      <td>13550</td>\n",
              "      <td>420</td>\n",
              "    </tr>\n",
              "    <tr>\n",
              "      <th>sex worker</th>\n",
              "      <td>934</td>\n",
              "      <td>66</td>\n",
              "    </tr>\n",
              "  </tbody>\n",
              "</table>\n",
              "</div>"
            ],
            "text/plain": [
              "hivstatusfinal  Negative  Positive\n",
              "partlastsup1                      \n",
              "friend              3436       139\n",
              "partner            13550       420\n",
              "sex worker           934        66"
            ]
          },
          "metadata": {
            "tags": []
          },
          "execution_count": 90
        }
      ]
    },
    {
      "cell_type": "code",
      "metadata": {
        "colab": {
          "base_uri": "https://localhost:8080/"
        },
        "id": "SQfLsbfEaPm4",
        "outputId": "9c8d9aa6-5715-4535-ede1-58cf0fc2b23e"
      },
      "source": [
        "# know HIV status of partner frequency\n",
        "df['partknowhiv1'].value_counts()\n"
      ],
      "execution_count": null,
      "outputs": [
        {
          "output_type": "execute_result",
          "data": {
            "text/plain": [
              "YES           13865\n",
              "NO             4622\n",
              "DON'T KNOW      259\n",
              "REFUSED           4\n",
              "Name: partknowhiv1, dtype: int64"
            ]
          },
          "metadata": {
            "tags": []
          },
          "execution_count": 14
        }
      ]
    },
    {
      "cell_type": "code",
      "metadata": {
        "id": "gBPJo6mKiu02"
      },
      "source": [
        "# df[\"partknowhiv1\"]=df[\"partknowhiv1\"].map({\"YES\": \"YES\",\"NO\":\"NO\",\"DON'T KNOW\":\"DON'T KNOW\",\"sex worker\":\"sex worker\",\n",
        "#                                    \"REFUSED\":\"sex worker\",\"DON'T KNOW\":\"sex worker\"})"
      ],
      "execution_count": null,
      "outputs": []
    },
    {
      "cell_type": "code",
      "metadata": {
        "colab": {
          "base_uri": "https://localhost:8080/"
        },
        "id": "W4631ge1iPAR",
        "outputId": "7ea2d08d-0c11-4edc-b084-a612b06208ac"
      },
      "source": [
        "df.partknowhiv1.isnull().sum()"
      ],
      "execution_count": null,
      "outputs": [
        {
          "output_type": "execute_result",
          "data": {
            "text/plain": [
              "16515"
            ]
          },
          "metadata": {
            "tags": []
          },
          "execution_count": 15
        }
      ]
    },
    {
      "cell_type": "code",
      "metadata": {
        "colab": {
          "base_uri": "https://localhost:8080/"
        },
        "id": "ubRVsxiBnLDV",
        "outputId": "e222caf5-d011-439b-d6b6-657356212b25"
      },
      "source": [
        "#  df.partlastsup1[df.partlastsup1].replace(np.nan, 0)\n",
        "df['partknowhiv1'].fillna(0, inplace=True)\n",
        "df.partknowhiv1[df.partknowhiv1 == 0] = df.partknowhiv2\n",
        "df.partknowhiv1[df.partknowhiv1 == 0] = df.partknowhiv3\n"
      ],
      "execution_count": null,
      "outputs": [
        {
          "output_type": "stream",
          "text": [
            "/usr/local/lib/python3.7/dist-packages/ipykernel_launcher.py:3: SettingWithCopyWarning: \n",
            "A value is trying to be set on a copy of a slice from a DataFrame\n",
            "\n",
            "See the caveats in the documentation: https://pandas.pydata.org/pandas-docs/stable/user_guide/indexing.html#returning-a-view-versus-a-copy\n",
            "  This is separate from the ipykernel package so we can avoid doing imports until\n",
            "/usr/local/lib/python3.7/dist-packages/ipykernel_launcher.py:4: SettingWithCopyWarning: \n",
            "A value is trying to be set on a copy of a slice from a DataFrame\n",
            "\n",
            "See the caveats in the documentation: https://pandas.pydata.org/pandas-docs/stable/user_guide/indexing.html#returning-a-view-versus-a-copy\n",
            "  after removing the cwd from sys.path.\n"
          ],
          "name": "stderr"
        }
      ]
    },
    {
      "cell_type": "code",
      "metadata": {
        "colab": {
          "base_uri": "https://localhost:8080/"
        },
        "id": "siiCdfWkpliS",
        "outputId": "3a695d8c-ce8d-4e3b-dbe4-a77d2dea7e0e"
      },
      "source": [
        "df.partknowhiv1.isnull().sum()"
      ],
      "execution_count": null,
      "outputs": [
        {
          "output_type": "execute_result",
          "data": {
            "text/plain": [
              "16515"
            ]
          },
          "metadata": {
            "tags": []
          },
          "execution_count": 18
        }
      ]
    },
    {
      "cell_type": "code",
      "metadata": {
        "colab": {
          "base_uri": "https://localhost:8080/"
        },
        "id": "mTO3EsQfdcNO",
        "outputId": "32a6aec8-1a4b-4e55-f2a4-9b58ec7b2280"
      },
      "source": [
        "# anal sex frequency\n",
        "df['analsxever'].value_counts()\n"
      ],
      "execution_count": null,
      "outputs": [
        {
          "output_type": "execute_result",
          "data": {
            "text/plain": [
              "NO            18639\n",
              "YES              78\n",
              "DON'T KNOW       21\n",
              "REFUSED          12\n",
              "Name: analsxever, dtype: int64"
            ]
          },
          "metadata": {
            "tags": []
          },
          "execution_count": 92
        }
      ]
    },
    {
      "cell_type": "code",
      "metadata": {
        "colab": {
          "base_uri": "https://localhost:8080/",
          "height": 292
        },
        "id": "ieRx_UvNoC1K",
        "outputId": "a0721f12-baa4-43b3-d4e7-340b223c3378"
      },
      "source": [
        "df['analsex'] = np.where(df['gender']!= df['partgend1'], True, False)\n",
        "df.head()"
      ],
      "execution_count": null,
      "outputs": [
        {
          "output_type": "execute_result",
          "data": {
            "text/html": [
              "<div>\n",
              "<style scoped>\n",
              "    .dataframe tbody tr th:only-of-type {\n",
              "        vertical-align: middle;\n",
              "    }\n",
              "\n",
              "    .dataframe tbody tr th {\n",
              "        vertical-align: top;\n",
              "    }\n",
              "\n",
              "    .dataframe thead th {\n",
              "        text-align: right;\n",
              "    }\n",
              "</style>\n",
              "<table border=\"1\" class=\"dataframe\">\n",
              "  <thead>\n",
              "    <tr style=\"text-align: right;\">\n",
              "      <th></th>\n",
              "      <th>country</th>\n",
              "      <th>householdid</th>\n",
              "      <th>personid</th>\n",
              "      <th>centroidid</th>\n",
              "      <th>province</th>\n",
              "      <th>gender</th>\n",
              "      <th>age</th>\n",
              "      <th>schlhi</th>\n",
              "      <th>work12mo</th>\n",
              "      <th>curmar</th>\n",
              "      <th>mcstatus</th>\n",
              "      <th>firstsxage</th>\n",
              "      <th>firstsxagedk</th>\n",
              "      <th>part12monum</th>\n",
              "      <th>part12modkr</th>\n",
              "      <th>partrelation1</th>\n",
              "      <th>partgend1</th>\n",
              "      <th>partage1</th>\n",
              "      <th>partlastcndm1</th>\n",
              "      <th>partlastsup1</th>\n",
              "      <th>partknowhiv1</th>\n",
              "      <th>partrelation2</th>\n",
              "      <th>partgend2</th>\n",
              "      <th>partage2</th>\n",
              "      <th>partagedk2</th>\n",
              "      <th>partlastcndm2</th>\n",
              "      <th>partlastsup2</th>\n",
              "      <th>partagain2</th>\n",
              "      <th>partknowhiv2</th>\n",
              "      <th>parthivtest2</th>\n",
              "      <th>parthivsat2</th>\n",
              "      <th>partrelation3</th>\n",
              "      <th>partgend3</th>\n",
              "      <th>partage3</th>\n",
              "      <th>partagedk3</th>\n",
              "      <th>partlastcndm3</th>\n",
              "      <th>partlastsup3</th>\n",
              "      <th>partknowhiv3</th>\n",
              "      <th>parthivtest3</th>\n",
              "      <th>parthivsat3</th>\n",
              "      <th>analsxever</th>\n",
              "      <th>hivtesty</th>\n",
              "      <th>hivtstrslt</th>\n",
              "      <th>hivtfposy</th>\n",
              "      <th>attitude1</th>\n",
              "      <th>attitude2</th>\n",
              "      <th>urban</th>\n",
              "      <th>wealthquintile</th>\n",
              "      <th>hivstatusfinal</th>\n",
              "      <th>educationrwanda</th>\n",
              "      <th>hhrmarital</th>\n",
              "      <th>lastpartner</th>\n",
              "      <th>hiv_status</th>\n",
              "      <th>AgeGroup_fsx</th>\n",
              "      <th>analsex</th>\n",
              "    </tr>\n",
              "  </thead>\n",
              "  <tbody>\n",
              "    <tr>\n",
              "      <th>0</th>\n",
              "      <td>Rwanda</td>\n",
              "      <td>RW000000000001</td>\n",
              "      <td>RW00000000000101</td>\n",
              "      <td>RW000069</td>\n",
              "      <td>kigali</td>\n",
              "      <td>Female</td>\n",
              "      <td>42</td>\n",
              "      <td>SECONDARY</td>\n",
              "      <td>YES</td>\n",
              "      <td>MARRIED</td>\n",
              "      <td>Female_NA</td>\n",
              "      <td>28.0</td>\n",
              "      <td>NaN</td>\n",
              "      <td>1.0</td>\n",
              "      <td>NaN</td>\n",
              "      <td>partner</td>\n",
              "      <td>MALE</td>\n",
              "      <td>44.0</td>\n",
              "      <td>NO</td>\n",
              "      <td>partner</td>\n",
              "      <td>YES</td>\n",
              "      <td>NaN</td>\n",
              "      <td>NaN</td>\n",
              "      <td>NaN</td>\n",
              "      <td>NaN</td>\n",
              "      <td>NaN</td>\n",
              "      <td>NaN</td>\n",
              "      <td>NaN</td>\n",
              "      <td>NaN</td>\n",
              "      <td>NaN</td>\n",
              "      <td>NaN</td>\n",
              "      <td>NaN</td>\n",
              "      <td>NaN</td>\n",
              "      <td>NaN</td>\n",
              "      <td>NaN</td>\n",
              "      <td>NaN</td>\n",
              "      <td>NaN</td>\n",
              "      <td>NaN</td>\n",
              "      <td>NaN</td>\n",
              "      <td>NaN</td>\n",
              "      <td>NO</td>\n",
              "      <td>2018.0</td>\n",
              "      <td>NEGATIVE</td>\n",
              "      <td>NaN</td>\n",
              "      <td>DISAGREE</td>\n",
              "      <td>DISAGREE</td>\n",
              "      <td>Urban</td>\n",
              "      <td>Highest</td>\n",
              "      <td>Negative</td>\n",
              "      <td>Secondary</td>\n",
              "      <td>MARRIED/COHABITING/LIVINGTOGETHER</td>\n",
              "      <td>partner 1</td>\n",
              "      <td>Negative</td>\n",
              "      <td>Youth</td>\n",
              "      <td>True</td>\n",
              "    </tr>\n",
              "    <tr>\n",
              "      <th>1</th>\n",
              "      <td>Rwanda</td>\n",
              "      <td>RW000000000001</td>\n",
              "      <td>RW00000000000102</td>\n",
              "      <td>RW000069</td>\n",
              "      <td>kigali</td>\n",
              "      <td>Male</td>\n",
              "      <td>44</td>\n",
              "      <td>HIGHER</td>\n",
              "      <td>YES</td>\n",
              "      <td>MARRIED</td>\n",
              "      <td>YES</td>\n",
              "      <td>17.0</td>\n",
              "      <td>NaN</td>\n",
              "      <td>1.0</td>\n",
              "      <td>NaN</td>\n",
              "      <td>partner</td>\n",
              "      <td>FEMALE</td>\n",
              "      <td>42.0</td>\n",
              "      <td>NO</td>\n",
              "      <td>partner</td>\n",
              "      <td>YES</td>\n",
              "      <td>NaN</td>\n",
              "      <td>NaN</td>\n",
              "      <td>NaN</td>\n",
              "      <td>NaN</td>\n",
              "      <td>NaN</td>\n",
              "      <td>NaN</td>\n",
              "      <td>NaN</td>\n",
              "      <td>NaN</td>\n",
              "      <td>NaN</td>\n",
              "      <td>NaN</td>\n",
              "      <td>NaN</td>\n",
              "      <td>NaN</td>\n",
              "      <td>NaN</td>\n",
              "      <td>NaN</td>\n",
              "      <td>NaN</td>\n",
              "      <td>NaN</td>\n",
              "      <td>NaN</td>\n",
              "      <td>NaN</td>\n",
              "      <td>NaN</td>\n",
              "      <td>NO</td>\n",
              "      <td>2016.0</td>\n",
              "      <td>NEGATIVE</td>\n",
              "      <td>NaN</td>\n",
              "      <td>DISAGREE</td>\n",
              "      <td>DISAGREE</td>\n",
              "      <td>Urban</td>\n",
              "      <td>Highest</td>\n",
              "      <td>Negative</td>\n",
              "      <td>More than Secondary</td>\n",
              "      <td>MARRIED/COHABITING/LIVINGTOGETHER</td>\n",
              "      <td>partner 1</td>\n",
              "      <td>Negative</td>\n",
              "      <td>Teens</td>\n",
              "      <td>True</td>\n",
              "    </tr>\n",
              "    <tr>\n",
              "      <th>2</th>\n",
              "      <td>Rwanda</td>\n",
              "      <td>RW000000000001</td>\n",
              "      <td>RW00000000000107</td>\n",
              "      <td>RW000069</td>\n",
              "      <td>kigali</td>\n",
              "      <td>Female</td>\n",
              "      <td>30</td>\n",
              "      <td>SECONDARY</td>\n",
              "      <td>YES</td>\n",
              "      <td>SEPARATED</td>\n",
              "      <td>Female_NA</td>\n",
              "      <td>20.0</td>\n",
              "      <td>NaN</td>\n",
              "      <td>0.0</td>\n",
              "      <td>NaN</td>\n",
              "      <td>NaN</td>\n",
              "      <td>NaN</td>\n",
              "      <td>NaN</td>\n",
              "      <td>NaN</td>\n",
              "      <td>NaN</td>\n",
              "      <td>NaN</td>\n",
              "      <td>NaN</td>\n",
              "      <td>NaN</td>\n",
              "      <td>NaN</td>\n",
              "      <td>NaN</td>\n",
              "      <td>NaN</td>\n",
              "      <td>NaN</td>\n",
              "      <td>NaN</td>\n",
              "      <td>NaN</td>\n",
              "      <td>NaN</td>\n",
              "      <td>NaN</td>\n",
              "      <td>NaN</td>\n",
              "      <td>NaN</td>\n",
              "      <td>NaN</td>\n",
              "      <td>NaN</td>\n",
              "      <td>NaN</td>\n",
              "      <td>NaN</td>\n",
              "      <td>NaN</td>\n",
              "      <td>NaN</td>\n",
              "      <td>NaN</td>\n",
              "      <td>NaN</td>\n",
              "      <td>2013.0</td>\n",
              "      <td>NEGATIVE</td>\n",
              "      <td>NaN</td>\n",
              "      <td>DISAGREE</td>\n",
              "      <td>STRONGLY AGREE</td>\n",
              "      <td>Urban</td>\n",
              "      <td>Highest</td>\n",
              "      <td>Negative</td>\n",
              "      <td>Secondary</td>\n",
              "      <td>SEPARATED</td>\n",
              "      <td>NaN</td>\n",
              "      <td>Negative</td>\n",
              "      <td>Youth</td>\n",
              "      <td>True</td>\n",
              "    </tr>\n",
              "    <tr>\n",
              "      <th>3</th>\n",
              "      <td>Rwanda</td>\n",
              "      <td>RW000000000001</td>\n",
              "      <td>RW00000000000108</td>\n",
              "      <td>RW000069</td>\n",
              "      <td>kigali</td>\n",
              "      <td>Female</td>\n",
              "      <td>24</td>\n",
              "      <td>SECONDARY</td>\n",
              "      <td>YES</td>\n",
              "      <td>NaN</td>\n",
              "      <td>Female_NA</td>\n",
              "      <td>24.0</td>\n",
              "      <td>NaN</td>\n",
              "      <td>1.0</td>\n",
              "      <td>NaN</td>\n",
              "      <td>sex worker</td>\n",
              "      <td>MALE</td>\n",
              "      <td>27.0</td>\n",
              "      <td>NO</td>\n",
              "      <td>sex worker</td>\n",
              "      <td>NO</td>\n",
              "      <td>NaN</td>\n",
              "      <td>NaN</td>\n",
              "      <td>NaN</td>\n",
              "      <td>NaN</td>\n",
              "      <td>NaN</td>\n",
              "      <td>NaN</td>\n",
              "      <td>NaN</td>\n",
              "      <td>NaN</td>\n",
              "      <td>NaN</td>\n",
              "      <td>NaN</td>\n",
              "      <td>NaN</td>\n",
              "      <td>NaN</td>\n",
              "      <td>NaN</td>\n",
              "      <td>NaN</td>\n",
              "      <td>NaN</td>\n",
              "      <td>NaN</td>\n",
              "      <td>NaN</td>\n",
              "      <td>NaN</td>\n",
              "      <td>NaN</td>\n",
              "      <td>NO</td>\n",
              "      <td>2018.0</td>\n",
              "      <td>NEGATIVE</td>\n",
              "      <td>NaN</td>\n",
              "      <td>STRONGLY DISAGREE</td>\n",
              "      <td>DISAGREE</td>\n",
              "      <td>Urban</td>\n",
              "      <td>Highest</td>\n",
              "      <td>Negative</td>\n",
              "      <td>Secondary</td>\n",
              "      <td>NEVER-MARRIED</td>\n",
              "      <td>partner 1</td>\n",
              "      <td>Negative</td>\n",
              "      <td>Youth</td>\n",
              "      <td>True</td>\n",
              "    </tr>\n",
              "    <tr>\n",
              "      <th>4</th>\n",
              "      <td>Rwanda</td>\n",
              "      <td>RW000000000002</td>\n",
              "      <td>RW00000000000201</td>\n",
              "      <td>RW000259</td>\n",
              "      <td>kigali</td>\n",
              "      <td>Male</td>\n",
              "      <td>42</td>\n",
              "      <td>PRIMARY</td>\n",
              "      <td>YES</td>\n",
              "      <td>NaN</td>\n",
              "      <td>YES</td>\n",
              "      <td>22.0</td>\n",
              "      <td>NaN</td>\n",
              "      <td>1.0</td>\n",
              "      <td>NaN</td>\n",
              "      <td>sex worker</td>\n",
              "      <td>FEMALE</td>\n",
              "      <td>35.0</td>\n",
              "      <td>NO</td>\n",
              "      <td>sex worker</td>\n",
              "      <td>NO</td>\n",
              "      <td>NaN</td>\n",
              "      <td>NaN</td>\n",
              "      <td>NaN</td>\n",
              "      <td>NaN</td>\n",
              "      <td>NaN</td>\n",
              "      <td>NaN</td>\n",
              "      <td>NaN</td>\n",
              "      <td>NaN</td>\n",
              "      <td>NaN</td>\n",
              "      <td>NaN</td>\n",
              "      <td>NaN</td>\n",
              "      <td>NaN</td>\n",
              "      <td>NaN</td>\n",
              "      <td>NaN</td>\n",
              "      <td>NaN</td>\n",
              "      <td>NaN</td>\n",
              "      <td>NaN</td>\n",
              "      <td>NaN</td>\n",
              "      <td>NaN</td>\n",
              "      <td>NO</td>\n",
              "      <td>2018.0</td>\n",
              "      <td>NEGATIVE</td>\n",
              "      <td>NaN</td>\n",
              "      <td>STRONGLY DISAGREE</td>\n",
              "      <td>STRONGLY DISAGREE</td>\n",
              "      <td>Urban</td>\n",
              "      <td>Highest</td>\n",
              "      <td>Negative</td>\n",
              "      <td>Primary</td>\n",
              "      <td>NEVER-MARRIED</td>\n",
              "      <td>partner 1</td>\n",
              "      <td>Negative</td>\n",
              "      <td>Youth</td>\n",
              "      <td>True</td>\n",
              "    </tr>\n",
              "  </tbody>\n",
              "</table>\n",
              "</div>"
            ],
            "text/plain": [
              "   country      householdid           personid  ... hiv_status AgeGroup_fsx analsex\n",
              "0  Rwanda   RW000000000001   RW00000000000101   ...   Negative        Youth    True\n",
              "1  Rwanda   RW000000000001   RW00000000000102   ...   Negative        Teens    True\n",
              "2  Rwanda   RW000000000001   RW00000000000107   ...   Negative        Youth    True\n",
              "3  Rwanda   RW000000000001   RW00000000000108   ...   Negative        Youth    True\n",
              "4  Rwanda   RW000000000002   RW00000000000201   ...   Negative        Youth    True\n",
              "\n",
              "[5 rows x 55 columns]"
            ]
          },
          "metadata": {
            "tags": []
          },
          "execution_count": 99
        }
      ]
    },
    {
      "cell_type": "code",
      "metadata": {
        "colab": {
          "base_uri": "https://localhost:8080/"
        },
        "id": "f8E_MdoPpB7l",
        "outputId": "73cfc88c-abeb-47c0-aafd-c75ea5ebf535"
      },
      "source": [
        "# Wealth quantile frequency\n",
        "df['analsex'].value_counts()"
      ],
      "execution_count": null,
      "outputs": [
        {
          "output_type": "execute_result",
          "data": {
            "text/plain": [
              "True    30709\n",
              "Name: analsex, dtype: int64"
            ]
          },
          "metadata": {
            "tags": []
          },
          "execution_count": 100
        }
      ]
    },
    {
      "cell_type": "code",
      "metadata": {
        "colab": {
          "base_uri": "https://localhost:8080/"
        },
        "id": "9M0VPrwoeC06",
        "outputId": "fe084419-9933-4b6a-c1ad-444dc75706dc"
      },
      "source": [
        "\n",
        "# Wealth quantile frequency\n",
        "df['wealthquintile'].value_counts()"
      ],
      "execution_count": null,
      "outputs": [
        {
          "output_type": "execute_result",
          "data": {
            "text/plain": [
              "Highest    9173\n",
              "Fourth     6941\n",
              "Middle     6628\n",
              "Second     6405\n",
              "Lowest     6097\n",
              "Name: wealthquintile, dtype: int64"
            ]
          },
          "metadata": {
            "tags": []
          },
          "execution_count": 13
        }
      ]
    }
  ]
}