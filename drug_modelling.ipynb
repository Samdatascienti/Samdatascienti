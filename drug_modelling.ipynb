{
  "nbformat": 4,
  "nbformat_minor": 0,
  "metadata": {
    "colab": {
      "name": "drug_modelling.ipynb",
      "provenance": [],
      "collapsed_sections": [],
      "authorship_tag": "ABX9TyOBwPkGjFn83GrH5bKQXsi2",
      "include_colab_link": true
    },
    "kernelspec": {
      "name": "python3",
      "display_name": "Python 3"
    },
    "language_info": {
      "name": "python"
    }
  },
  "cells": [
    {
      "cell_type": "markdown",
      "metadata": {
        "id": "view-in-github",
        "colab_type": "text"
      },
      "source": [
        "<a href=\"https://colab.research.google.com/github/Samdatascienti/Samdatascienti/blob/main/drug_modelling.ipynb\" target=\"_parent\"><img src=\"https://colab.research.google.com/assets/colab-badge.svg\" alt=\"Open In Colab\"/></a>"
      ]
    },
    {
      "cell_type": "code",
      "metadata": {
        "id": "P1B8ZH62sLwV"
      },
      "source": [
        "import pandas as pd \n",
        "import numpy as np\n",
        "from google.colab import files"
      ],
      "execution_count": 1,
      "outputs": []
    },
    {
      "cell_type": "markdown",
      "metadata": {
        "id": "jHSfGLeZvULk"
      },
      "source": [
        "Reading csv file from google drive"
      ]
    },
    {
      "cell_type": "code",
      "metadata": {
        "colab": {
          "base_uri": "https://localhost:8080/"
        },
        "id": "tJFZ5I4-snQz",
        "outputId": "247e9049-b623-4188-e6df-ac01ec6d6491"
      },
      "source": [
        "from google.colab import drive\n",
        "drive.mount('/content/gdrive')"
      ],
      "execution_count": 2,
      "outputs": [
        {
          "output_type": "stream",
          "text": [
            "Mounted at /content/gdrive\n"
          ],
          "name": "stdout"
        }
      ]
    },
    {
      "cell_type": "markdown",
      "metadata": {
        "id": "zlNLN2i5HGld"
      },
      "source": [
        "# 2015 data"
      ]
    },
    {
      "cell_type": "code",
      "metadata": {
        "id": "QM6aBnrntFnF",
        "colab": {
          "base_uri": "https://localhost:8080/",
          "height": 394
        },
        "outputId": "869d3390-9b57-4fa6-9aff-62c0c240d3e3"
      },
      "source": [
        "# path='/content/gdrive/MyDrive/Drug_prediction/Purchase_order_2015_2020.csv'\n",
        "path_51='/content/gdrive/MyDrive/Drug_prediction/2015/3Months_01to03_2015.xlsx'\n",
        "path_52='/content/gdrive/MyDrive/Drug_prediction/2015/3Months_04to06_2015.xlsx'\n",
        "path_53='/content/gdrive/MyDrive/Drug_prediction/2015/3Months_07to09_2015.xlsx'\n",
        "path_54='/content/gdrive/MyDrive/Drug_prediction/2015/3Months_10to12_2015.xlsx'\n",
        "# importing file\n",
        "data_51=pd.read_excel(path_51)\n",
        "data_52=pd.read_excel(path_52)\n",
        "data_53=pd.read_excel(path_53)\n",
        "data_54=pd.read_excel(path_54)\n",
        "data_54.head()"
      ],
      "execution_count": 3,
      "outputs": [
        {
          "output_type": "execute_result",
          "data": {
            "text/html": [
              "<div>\n",
              "<style scoped>\n",
              "    .dataframe tbody tr th:only-of-type {\n",
              "        vertical-align: middle;\n",
              "    }\n",
              "\n",
              "    .dataframe tbody tr th {\n",
              "        vertical-align: top;\n",
              "    }\n",
              "\n",
              "    .dataframe thead th {\n",
              "        text-align: right;\n",
              "    }\n",
              "</style>\n",
              "<table border=\"1\" class=\"dataframe\">\n",
              "  <thead>\n",
              "    <tr style=\"text-align: right;\">\n",
              "      <th></th>\n",
              "      <th>QTY_AMOUNT</th>\n",
              "      <th>PRO_NAME</th>\n",
              "      <th>ITEM_NAME</th>\n",
              "      <th>DESCRIPTION</th>\n",
              "      <th>ITEM_CLASS</th>\n",
              "      <th>P_LEVEL1_NAME</th>\n",
              "      <th>P_LEVEL2_NAME</th>\n",
              "      <th>P_LEVEL3_NAME</th>\n",
              "      <th>P_LEVEL4_NAME</th>\n",
              "      <th>P_LEVEL5_NAME</th>\n",
              "      <th>SITE_NAME</th>\n",
              "      <th>S_LEVEL1_NAME</th>\n",
              "      <th>S_LEVEL2_NAME</th>\n",
              "      <th>S_LEVEL3_NAME</th>\n",
              "      <th>S_LEVEL4_NAME</th>\n",
              "      <th>QTY_UOM</th>\n",
              "      <th>YEAR_MONTH</th>\n",
              "    </tr>\n",
              "  </thead>\n",
              "  <tbody>\n",
              "    <tr>\n",
              "      <th>0</th>\n",
              "      <td>324.0</td>\n",
              "      <td>PP</td>\n",
              "      <td>P01BE52070030E</td>\n",
              "      <td>ARTE 20MG + LUME 120MG TAB (3X6) B/30</td>\n",
              "      <td>P01BE5207E</td>\n",
              "      <td>All</td>\n",
              "      <td>Antimalaria</td>\n",
              "      <td>NONE</td>\n",
              "      <td>NONE</td>\n",
              "      <td>NONE</td>\n",
              "      <td>RUSUMO CS--432</td>\n",
              "      <td>National</td>\n",
              "      <td>Eastern</td>\n",
              "      <td>Kirehe</td>\n",
              "      <td>NONE</td>\n",
              "      <td>EACH</td>\n",
              "      <td>2015-12</td>\n",
              "    </tr>\n",
              "    <tr>\n",
              "      <th>1</th>\n",
              "      <td>245.0</td>\n",
              "      <td>PP</td>\n",
              "      <td>P01BE52020030E</td>\n",
              "      <td>ARTE 20MG+LUME 120MG DISP TAB (1X6) B/30</td>\n",
              "      <td>P01BE5202E</td>\n",
              "      <td>All</td>\n",
              "      <td>Antimalaria</td>\n",
              "      <td>NONE</td>\n",
              "      <td>NONE</td>\n",
              "      <td>NONE</td>\n",
              "      <td>RUSUMO CS--432</td>\n",
              "      <td>National</td>\n",
              "      <td>Eastern</td>\n",
              "      <td>Kirehe</td>\n",
              "      <td>NONE</td>\n",
              "      <td>EACH</td>\n",
              "      <td>2015-11</td>\n",
              "    </tr>\n",
              "    <tr>\n",
              "      <th>2</th>\n",
              "      <td>31.0</td>\n",
              "      <td>CA</td>\n",
              "      <td>H02AB02010100P</td>\n",
              "      <td>DEXAMETHASONE 4MG/ML 1ML INJECTION B/100</td>\n",
              "      <td>H02AB0201P</td>\n",
              "      <td>All</td>\n",
              "      <td>Tracer Commodities</td>\n",
              "      <td>NONE</td>\n",
              "      <td>NONE</td>\n",
              "      <td>NONE</td>\n",
              "      <td>MUSHAKA CS--246</td>\n",
              "      <td>National</td>\n",
              "      <td>Western</td>\n",
              "      <td>Rusizi</td>\n",
              "      <td>NONE</td>\n",
              "      <td>EACH</td>\n",
              "      <td>2015-10</td>\n",
              "    </tr>\n",
              "    <tr>\n",
              "      <th>3</th>\n",
              "      <td>24118.0</td>\n",
              "      <td>CA</td>\n",
              "      <td>N02BE01021000E</td>\n",
              "      <td>PARACETAMOL 500 MG TABLET B/1000</td>\n",
              "      <td>N02BE0102E</td>\n",
              "      <td>All</td>\n",
              "      <td>Tracer Commodities</td>\n",
              "      <td>NONE</td>\n",
              "      <td>NONE</td>\n",
              "      <td>NONE</td>\n",
              "      <td>BUGARAMA CS--495</td>\n",
              "      <td>National</td>\n",
              "      <td>Western</td>\n",
              "      <td>Rusizi</td>\n",
              "      <td>NONE</td>\n",
              "      <td>EACH</td>\n",
              "      <td>2015-12</td>\n",
              "    </tr>\n",
              "    <tr>\n",
              "      <th>4</th>\n",
              "      <td>1.0</td>\n",
              "      <td>CA</td>\n",
              "      <td>READ04000000000001E</td>\n",
              "      <td>READING GLASSES + 2.5 POWER</td>\n",
              "      <td>30799700001</td>\n",
              "      <td>NaN</td>\n",
              "      <td>NaN</td>\n",
              "      <td>NaN</td>\n",
              "      <td>NaN</td>\n",
              "      <td>NaN</td>\n",
              "      <td>BUGARAMA CS--495</td>\n",
              "      <td>National</td>\n",
              "      <td>Western</td>\n",
              "      <td>Rusizi</td>\n",
              "      <td>NONE</td>\n",
              "      <td>EACH</td>\n",
              "      <td>2015-12</td>\n",
              "    </tr>\n",
              "  </tbody>\n",
              "</table>\n",
              "</div>"
            ],
            "text/plain": [
              "   QTY_AMOUNT PRO_NAME            ITEM_NAME  ... S_LEVEL4_NAME QTY_UOM YEAR_MONTH\n",
              "0       324.0       PP       P01BE52070030E  ...          NONE    EACH    2015-12\n",
              "1       245.0       PP       P01BE52020030E  ...          NONE    EACH    2015-11\n",
              "2        31.0       CA       H02AB02010100P  ...          NONE    EACH    2015-10\n",
              "3     24118.0       CA       N02BE01021000E  ...          NONE    EACH    2015-12\n",
              "4         1.0       CA  READ04000000000001E  ...          NONE    EACH    2015-12\n",
              "\n",
              "[5 rows x 17 columns]"
            ]
          },
          "metadata": {
            "tags": []
          },
          "execution_count": 3
        }
      ]
    },
    {
      "cell_type": "code",
      "metadata": {
        "colab": {
          "base_uri": "https://localhost:8080/",
          "height": 204
        },
        "id": "ZdNg1_MSER3r",
        "outputId": "68c30b8a-ddda-4fda-8d25-bdbb33f16478"
      },
      "source": [
        "\n",
        "data_51 = data_51[['QTY_AMOUNT','DESCRIPTION','S_LEVEL3_NAME','YEAR_MONTH']]\n",
        "data_52 = data_52[['QTY_AMOUNT','DESCRIPTION','S_LEVEL3_NAME','YEAR_MONTH']]\n",
        "data_53 = data_53[['QTY_AMOUNT','DESCRIPTION','S_LEVEL3_NAME','YEAR_MONTH']]\n",
        "data_54 = data_54[['QTY_AMOUNT','DESCRIPTION','S_LEVEL3_NAME','YEAR_MONTH']]\n",
        "data_5 = pd.concat([data_51, data_52,data_53,data_54], axis=0)\n",
        "data_5.tail()"
      ],
      "execution_count": 4,
      "outputs": [
        {
          "output_type": "execute_result",
          "data": {
            "text/html": [
              "<div>\n",
              "<style scoped>\n",
              "    .dataframe tbody tr th:only-of-type {\n",
              "        vertical-align: middle;\n",
              "    }\n",
              "\n",
              "    .dataframe tbody tr th {\n",
              "        vertical-align: top;\n",
              "    }\n",
              "\n",
              "    .dataframe thead th {\n",
              "        text-align: right;\n",
              "    }\n",
              "</style>\n",
              "<table border=\"1\" class=\"dataframe\">\n",
              "  <thead>\n",
              "    <tr style=\"text-align: right;\">\n",
              "      <th></th>\n",
              "      <th>QTY_AMOUNT</th>\n",
              "      <th>DESCRIPTION</th>\n",
              "      <th>S_LEVEL3_NAME</th>\n",
              "      <th>YEAR_MONTH</th>\n",
              "    </tr>\n",
              "  </thead>\n",
              "  <tbody>\n",
              "    <tr>\n",
              "      <th>197370</th>\n",
              "      <td>10.0</td>\n",
              "      <td>NIFEDIPINE 20 MG RETARD TABLET B/100</td>\n",
              "      <td>Karongi</td>\n",
              "      <td>2015-11</td>\n",
              "    </tr>\n",
              "    <tr>\n",
              "      <th>197371</th>\n",
              "      <td>10.0</td>\n",
              "      <td>NIFEDIPINE 20 MG RETARD TABLET B/100</td>\n",
              "      <td>NONE</td>\n",
              "      <td>2015-11</td>\n",
              "    </tr>\n",
              "    <tr>\n",
              "      <th>197372</th>\n",
              "      <td>12.0</td>\n",
              "      <td>MICROLUT TABLET B/ 30</td>\n",
              "      <td>Ngororero</td>\n",
              "      <td>2015-11</td>\n",
              "    </tr>\n",
              "    <tr>\n",
              "      <th>197373</th>\n",
              "      <td>120.0</td>\n",
              "      <td>DIAZEPAM 5 MG TABLET B/1000</td>\n",
              "      <td>Nyamagabe</td>\n",
              "      <td>2015-12</td>\n",
              "    </tr>\n",
              "    <tr>\n",
              "      <th>197374</th>\n",
              "      <td>21.0</td>\n",
              "      <td>ABACAVIR 600 MG+LAMIVU 300 MG TAB B/30</td>\n",
              "      <td>Kayonza</td>\n",
              "      <td>2015-12</td>\n",
              "    </tr>\n",
              "  </tbody>\n",
              "</table>\n",
              "</div>"
            ],
            "text/plain": [
              "        QTY_AMOUNT  ... YEAR_MONTH\n",
              "197370        10.0  ...    2015-11\n",
              "197371        10.0  ...    2015-11\n",
              "197372        12.0  ...    2015-11\n",
              "197373       120.0  ...    2015-12\n",
              "197374        21.0  ...    2015-12\n",
              "\n",
              "[5 rows x 4 columns]"
            ]
          },
          "metadata": {
            "tags": []
          },
          "execution_count": 4
        }
      ]
    },
    {
      "cell_type": "markdown",
      "metadata": {
        "id": "DlCCMhLNIZVk"
      },
      "source": [
        "# 2016 data"
      ]
    },
    {
      "cell_type": "code",
      "metadata": {
        "colab": {
          "base_uri": "https://localhost:8080/",
          "height": 204
        },
        "id": "EN2MdKZeImxQ",
        "outputId": "02fd20f7-2f92-464d-c24b-0f73236c1dbe"
      },
      "source": [
        "path_61='/content/gdrive/MyDrive/Drug_prediction/2016/3Months_01to03_2016.xlsx'\n",
        "path_62='/content/gdrive/MyDrive/Drug_prediction/2016/3Months_04to06_2016.xlsx'\n",
        "path_63='/content/gdrive/MyDrive/Drug_prediction/2016/3Months_07to09_2016.xlsx'\n",
        "path_64='/content/gdrive/MyDrive/Drug_prediction/2016/3Months_09to12_2016.xlsx'\n",
        "# importing file\n",
        "data_61=pd.read_excel(path_61)\n",
        "data_62=pd.read_excel(path_62)\n",
        "data_63=pd.read_excel(path_63)\n",
        "data_64=pd.read_excel(path_64)\n",
        "data_61 = data_61[['QTY_AMOUNT','DESCRIPTION','S_LEVEL3_NAME','YEAR_MONTH']]\n",
        "data_62 = data_62[['QTY_AMOUNT','DESCRIPTION','S_LEVEL3_NAME','YEAR_MONTH']]\n",
        "data_63 = data_63[['QTY_AMOUNT','DESCRIPTION','S_LEVEL3_NAME','YEAR_MONTH']]\n",
        "data_64 = data_64[['QTY_AMOUNT','DESCRIPTION','S_LEVEL3_NAME','YEAR_MONTH']]\n",
        "data_6 = pd.concat([data_61, data_62,data_63,data_64], axis=0)\n",
        "data_6.head()"
      ],
      "execution_count": 5,
      "outputs": [
        {
          "output_type": "execute_result",
          "data": {
            "text/html": [
              "<div>\n",
              "<style scoped>\n",
              "    .dataframe tbody tr th:only-of-type {\n",
              "        vertical-align: middle;\n",
              "    }\n",
              "\n",
              "    .dataframe tbody tr th {\n",
              "        vertical-align: top;\n",
              "    }\n",
              "\n",
              "    .dataframe thead th {\n",
              "        text-align: right;\n",
              "    }\n",
              "</style>\n",
              "<table border=\"1\" class=\"dataframe\">\n",
              "  <thead>\n",
              "    <tr style=\"text-align: right;\">\n",
              "      <th></th>\n",
              "      <th>QTY_AMOUNT</th>\n",
              "      <th>DESCRIPTION</th>\n",
              "      <th>S_LEVEL3_NAME</th>\n",
              "      <th>YEAR_MONTH</th>\n",
              "    </tr>\n",
              "  </thead>\n",
              "  <tbody>\n",
              "    <tr>\n",
              "      <th>0</th>\n",
              "      <td>92.0</td>\n",
              "      <td>ACETYLSALICYLATE LYSINE 500MG  INJ B/50</td>\n",
              "      <td>Rusizi</td>\n",
              "      <td>2016-03</td>\n",
              "    </tr>\n",
              "    <tr>\n",
              "      <th>1</th>\n",
              "      <td>1126.0</td>\n",
              "      <td>AMINOPHYLLINE 100MG TABLET B/1000</td>\n",
              "      <td>Rusizi</td>\n",
              "      <td>2016-03</td>\n",
              "    </tr>\n",
              "    <tr>\n",
              "      <th>2</th>\n",
              "      <td>4.0</td>\n",
              "      <td>AMINOPHYLLINE 25MG/ML INJECTION B/100</td>\n",
              "      <td>Bugesera</td>\n",
              "      <td>2016-03</td>\n",
              "    </tr>\n",
              "    <tr>\n",
              "      <th>3</th>\n",
              "      <td>2260.0</td>\n",
              "      <td>OMEPRAZOLE 20MG CAPSULE B/100</td>\n",
              "      <td>Nyaruguru</td>\n",
              "      <td>2016-03</td>\n",
              "    </tr>\n",
              "    <tr>\n",
              "      <th>4</th>\n",
              "      <td>36.0</td>\n",
              "      <td>EXAMINATION GLOVES POWDERED NS T 7.5</td>\n",
              "      <td>Nyaruguru</td>\n",
              "      <td>2016-03</td>\n",
              "    </tr>\n",
              "  </tbody>\n",
              "</table>\n",
              "</div>"
            ],
            "text/plain": [
              "   QTY_AMOUNT                              DESCRIPTION S_LEVEL3_NAME YEAR_MONTH\n",
              "0        92.0  ACETYLSALICYLATE LYSINE 500MG  INJ B/50        Rusizi    2016-03\n",
              "1      1126.0        AMINOPHYLLINE 100MG TABLET B/1000        Rusizi    2016-03\n",
              "2         4.0    AMINOPHYLLINE 25MG/ML INJECTION B/100      Bugesera    2016-03\n",
              "3      2260.0            OMEPRAZOLE 20MG CAPSULE B/100     Nyaruguru    2016-03\n",
              "4        36.0     EXAMINATION GLOVES POWDERED NS T 7.5     Nyaruguru    2016-03"
            ]
          },
          "metadata": {
            "tags": []
          },
          "execution_count": 5
        }
      ]
    },
    {
      "cell_type": "markdown",
      "metadata": {
        "id": "XUnJpPMQKZwF"
      },
      "source": [
        "# 2017 data"
      ]
    },
    {
      "cell_type": "code",
      "metadata": {
        "colab": {
          "base_uri": "https://localhost:8080/",
          "height": 204
        },
        "id": "jSsoDTeJKc2d",
        "outputId": "b6f8c04c-85ed-483b-d650-04d17e772c5b"
      },
      "source": [
        "path_71='/content/gdrive/MyDrive/Drug_prediction/2017/3Months_01to03_2017.xlsx'\n",
        "path_72='/content/gdrive/MyDrive/Drug_prediction/2017/3Months_04to06_2017.xlsx'\n",
        "path_73='/content/gdrive/MyDrive/Drug_prediction/2017/3Months_07to09_2017.xlsx'\n",
        "path_74='/content/gdrive/MyDrive/Drug_prediction/2017/3Months_10to12_2017.xlsx'\n",
        "# importing file\n",
        "data_71=pd.read_excel(path_71)\n",
        "data_72=pd.read_excel(path_72)\n",
        "data_73=pd.read_excel(path_73)\n",
        "data_74=pd.read_excel(path_74)\n",
        "data_71 = data_71[['QTY_AMOUNT','DESCRIPTION','S_LEVEL3_NAME','YEAR_MONTH']]\n",
        "data_72 = data_72[['QTY_AMOUNT','DESCRIPTION','S_LEVEL3_NAME','YEAR_MONTH']]\n",
        "data_73 = data_73[['QTY_AMOUNT','DESCRIPTION','S_LEVEL3_NAME','YEAR_MONTH']]\n",
        "data_74 = data_74[['QTY_AMOUNT','DESCRIPTION','S_LEVEL3_NAME','YEAR_MONTH']]\n",
        "data_7 = pd.concat([data_71, data_72,data_73,data_74], axis=0)\n",
        "data_7.head()"
      ],
      "execution_count": 6,
      "outputs": [
        {
          "output_type": "execute_result",
          "data": {
            "text/html": [
              "<div>\n",
              "<style scoped>\n",
              "    .dataframe tbody tr th:only-of-type {\n",
              "        vertical-align: middle;\n",
              "    }\n",
              "\n",
              "    .dataframe tbody tr th {\n",
              "        vertical-align: top;\n",
              "    }\n",
              "\n",
              "    .dataframe thead th {\n",
              "        text-align: right;\n",
              "    }\n",
              "</style>\n",
              "<table border=\"1\" class=\"dataframe\">\n",
              "  <thead>\n",
              "    <tr style=\"text-align: right;\">\n",
              "      <th></th>\n",
              "      <th>QTY_AMOUNT</th>\n",
              "      <th>DESCRIPTION</th>\n",
              "      <th>S_LEVEL3_NAME</th>\n",
              "      <th>YEAR_MONTH</th>\n",
              "    </tr>\n",
              "  </thead>\n",
              "  <tbody>\n",
              "    <tr>\n",
              "      <th>0</th>\n",
              "      <td>5000.0</td>\n",
              "      <td>MINIGRIP SACHET B/100</td>\n",
              "      <td>Rubavu</td>\n",
              "      <td>2017-03</td>\n",
              "    </tr>\n",
              "    <tr>\n",
              "      <th>1</th>\n",
              "      <td>165.0</td>\n",
              "      <td>COTRIMOXAZOLE 120 MG TABLET B/1000</td>\n",
              "      <td>Rusizi</td>\n",
              "      <td>2017-02</td>\n",
              "    </tr>\n",
              "    <tr>\n",
              "      <th>2</th>\n",
              "      <td>3200.0</td>\n",
              "      <td>AMINOPHYLLINE 100MG TABLET B/1000</td>\n",
              "      <td>Bugesera</td>\n",
              "      <td>2017-02</td>\n",
              "    </tr>\n",
              "    <tr>\n",
              "      <th>3</th>\n",
              "      <td>332.0</td>\n",
              "      <td>ACETYLSALICYLIC ACID 100MG TABLET B/1000</td>\n",
              "      <td>Rusizi</td>\n",
              "      <td>2017-02</td>\n",
              "    </tr>\n",
              "    <tr>\n",
              "      <th>4</th>\n",
              "      <td>3280.0</td>\n",
              "      <td>CHLORPHENIRAMINE 4 MG TABLET B/1000</td>\n",
              "      <td>Bugesera</td>\n",
              "      <td>2017-02</td>\n",
              "    </tr>\n",
              "  </tbody>\n",
              "</table>\n",
              "</div>"
            ],
            "text/plain": [
              "   QTY_AMOUNT  ... YEAR_MONTH\n",
              "0      5000.0  ...    2017-03\n",
              "1       165.0  ...    2017-02\n",
              "2      3200.0  ...    2017-02\n",
              "3       332.0  ...    2017-02\n",
              "4      3280.0  ...    2017-02\n",
              "\n",
              "[5 rows x 4 columns]"
            ]
          },
          "metadata": {
            "tags": []
          },
          "execution_count": 6
        }
      ]
    },
    {
      "cell_type": "markdown",
      "metadata": {
        "id": "YttutXtGLm8F"
      },
      "source": [
        "# 2018"
      ]
    },
    {
      "cell_type": "code",
      "metadata": {
        "colab": {
          "base_uri": "https://localhost:8080/",
          "height": 204
        },
        "id": "sfdbeEudLphC",
        "outputId": "7bd41904-1efb-4acd-cefe-f43a021bc6c7"
      },
      "source": [
        "path_81='/content/gdrive/MyDrive/Drug_prediction/2018/3Months_04to06_2018.xlsx'\n",
        "path_82='/content/gdrive/MyDrive/Drug_prediction/2018/3Months_07to09_2018.xlsx'\n",
        "path_83='/content/gdrive/MyDrive/Drug_prediction/2018/3Months_10to12_2018.xlsx'\n",
        "path_84='/content/gdrive/MyDrive/Drug_prediction/2018/3months_01to03_2018.xlsx'\n",
        "# importing file\n",
        "data_81=pd.read_excel(path_81)\n",
        "data_82=pd.read_excel(path_82)\n",
        "data_83=pd.read_excel(path_83)\n",
        "data_84=pd.read_excel(path_84)\n",
        "data_81 = data_81[['QTY_AMOUNT','DESCRIPTION','S_LEVEL3_NAME','YEAR_MONTH']]\n",
        "data_82 = data_82[['QTY_AMOUNT','DESCRIPTION','S_LEVEL3_NAME','YEAR_MONTH']]\n",
        "data_83 = data_83[['QTY_AMOUNT','DESCRIPTION','S_LEVEL3_NAME','YEAR_MONTH']]\n",
        "data_84 = data_84[['QTY_AMOUNT','DESCRIPTION','S_LEVEL3_NAME','YEAR_MONTH']]\n",
        "data_8 = pd.concat([data_81, data_82,data_83,data_84], axis=0)\n",
        "data_8.head()"
      ],
      "execution_count": 7,
      "outputs": [
        {
          "output_type": "execute_result",
          "data": {
            "text/html": [
              "<div>\n",
              "<style scoped>\n",
              "    .dataframe tbody tr th:only-of-type {\n",
              "        vertical-align: middle;\n",
              "    }\n",
              "\n",
              "    .dataframe tbody tr th {\n",
              "        vertical-align: top;\n",
              "    }\n",
              "\n",
              "    .dataframe thead th {\n",
              "        text-align: right;\n",
              "    }\n",
              "</style>\n",
              "<table border=\"1\" class=\"dataframe\">\n",
              "  <thead>\n",
              "    <tr style=\"text-align: right;\">\n",
              "      <th></th>\n",
              "      <th>QTY_AMOUNT</th>\n",
              "      <th>DESCRIPTION</th>\n",
              "      <th>S_LEVEL3_NAME</th>\n",
              "      <th>YEAR_MONTH</th>\n",
              "    </tr>\n",
              "  </thead>\n",
              "  <tbody>\n",
              "    <tr>\n",
              "      <th>0</th>\n",
              "      <td>2000.0</td>\n",
              "      <td>MEBENDAZOLE 100 MG TABLET B/1000</td>\n",
              "      <td>Ruhango</td>\n",
              "      <td>2018-06</td>\n",
              "    </tr>\n",
              "    <tr>\n",
              "      <th>1</th>\n",
              "      <td>15.0</td>\n",
              "      <td>OIL IMMERSION  100ML</td>\n",
              "      <td>Ruhango</td>\n",
              "      <td>2018-06</td>\n",
              "    </tr>\n",
              "    <tr>\n",
              "      <th>2</th>\n",
              "      <td>5.0</td>\n",
              "      <td>READING GLASSES + 2.00 POWER</td>\n",
              "      <td>Rusizi</td>\n",
              "      <td>2018-06</td>\n",
              "    </tr>\n",
              "    <tr>\n",
              "      <th>3</th>\n",
              "      <td>17.0</td>\n",
              "      <td>TAPE ZINC OXIDE 10CM X 5M B/1</td>\n",
              "      <td>Rusizi</td>\n",
              "      <td>2018-06</td>\n",
              "    </tr>\n",
              "    <tr>\n",
              "      <th>4</th>\n",
              "      <td>24675.0</td>\n",
              "      <td>PARACETAMOL 500 MG TABLET B/1000</td>\n",
              "      <td>Nyarugenge</td>\n",
              "      <td>2018-04</td>\n",
              "    </tr>\n",
              "  </tbody>\n",
              "</table>\n",
              "</div>"
            ],
            "text/plain": [
              "   QTY_AMOUNT                       DESCRIPTION S_LEVEL3_NAME YEAR_MONTH\n",
              "0      2000.0  MEBENDAZOLE 100 MG TABLET B/1000       Ruhango    2018-06\n",
              "1        15.0              OIL IMMERSION  100ML       Ruhango    2018-06\n",
              "2         5.0      READING GLASSES + 2.00 POWER        Rusizi    2018-06\n",
              "3        17.0     TAPE ZINC OXIDE 10CM X 5M B/1        Rusizi    2018-06\n",
              "4     24675.0  PARACETAMOL 500 MG TABLET B/1000    Nyarugenge    2018-04"
            ]
          },
          "metadata": {
            "tags": []
          },
          "execution_count": 7
        }
      ]
    },
    {
      "cell_type": "markdown",
      "metadata": {
        "id": "vjv7elffMaqd"
      },
      "source": [
        "# 2019"
      ]
    },
    {
      "cell_type": "code",
      "metadata": {
        "colab": {
          "base_uri": "https://localhost:8080/",
          "height": 204
        },
        "id": "OCI5ajuVMdKs",
        "outputId": "e24a8c5b-77b7-48dd-b151-18112592e759"
      },
      "source": [
        "path_91='/content/gdrive/MyDrive/Drug_prediction/2019/3Months_01to03_2019.xlsx'\n",
        "path_92='/content/gdrive/MyDrive/Drug_prediction/2019/3Months_04to06_2019.xlsx'\n",
        "# importing file\n",
        "data_91=pd.read_excel(path_91)\n",
        "data_92=pd.read_excel(path_92)\n",
        "data_91 = data_91[['QTY_AMOUNT','DESCRIPTION','S_LEVEL3_NAME','YEAR_MONTH']]\n",
        "data_92 = data_92[['QTY_AMOUNT','DESCRIPTION','S_LEVEL3_NAME','YEAR_MONTH']]\n",
        "data_9 = pd.concat([data_91, data_92], axis=0)\n",
        "data_9.head()"
      ],
      "execution_count": 8,
      "outputs": [
        {
          "output_type": "execute_result",
          "data": {
            "text/html": [
              "<div>\n",
              "<style scoped>\n",
              "    .dataframe tbody tr th:only-of-type {\n",
              "        vertical-align: middle;\n",
              "    }\n",
              "\n",
              "    .dataframe tbody tr th {\n",
              "        vertical-align: top;\n",
              "    }\n",
              "\n",
              "    .dataframe thead th {\n",
              "        text-align: right;\n",
              "    }\n",
              "</style>\n",
              "<table border=\"1\" class=\"dataframe\">\n",
              "  <thead>\n",
              "    <tr style=\"text-align: right;\">\n",
              "      <th></th>\n",
              "      <th>QTY_AMOUNT</th>\n",
              "      <th>DESCRIPTION</th>\n",
              "      <th>S_LEVEL3_NAME</th>\n",
              "      <th>YEAR_MONTH</th>\n",
              "    </tr>\n",
              "  </thead>\n",
              "  <tbody>\n",
              "    <tr>\n",
              "      <th>0</th>\n",
              "      <td>279.0</td>\n",
              "      <td>SURGICAL BLADE NO 22</td>\n",
              "      <td>Kayonza</td>\n",
              "      <td>2019-03</td>\n",
              "    </tr>\n",
              "    <tr>\n",
              "      <th>1</th>\n",
              "      <td>28.0</td>\n",
              "      <td>PYRAZINAMIDE 400 MG TABLET B/672</td>\n",
              "      <td>Muhanga</td>\n",
              "      <td>2019-03</td>\n",
              "    </tr>\n",
              "    <tr>\n",
              "      <th>2</th>\n",
              "      <td>23.0</td>\n",
              "      <td>TENOF/300+LAMIVUDINE/300+EFAV/600 30TABS</td>\n",
              "      <td>Gakenke</td>\n",
              "      <td>2019-03</td>\n",
              "    </tr>\n",
              "    <tr>\n",
              "      <th>3</th>\n",
              "      <td>3.0</td>\n",
              "      <td>EFAVIRENZ 50MG CAPSULE B/30</td>\n",
              "      <td>Gakenke</td>\n",
              "      <td>2019-03</td>\n",
              "    </tr>\n",
              "    <tr>\n",
              "      <th>4</th>\n",
              "      <td>4.0</td>\n",
              "      <td>NEVIRAPINE 10MG/ML SYRUP 240 ML B/1</td>\n",
              "      <td>Gakenke</td>\n",
              "      <td>2019-03</td>\n",
              "    </tr>\n",
              "  </tbody>\n",
              "</table>\n",
              "</div>"
            ],
            "text/plain": [
              "   QTY_AMOUNT  ... YEAR_MONTH\n",
              "0       279.0  ...    2019-03\n",
              "1        28.0  ...    2019-03\n",
              "2        23.0  ...    2019-03\n",
              "3         3.0  ...    2019-03\n",
              "4         4.0  ...    2019-03\n",
              "\n",
              "[5 rows x 4 columns]"
            ]
          },
          "metadata": {
            "tags": []
          },
          "execution_count": 8
        }
      ]
    },
    {
      "cell_type": "markdown",
      "metadata": {
        "id": "kRXwKr-uNIEk"
      },
      "source": [
        "# Combined dataset"
      ]
    },
    {
      "cell_type": "code",
      "metadata": {
        "colab": {
          "base_uri": "https://localhost:8080/",
          "height": 204
        },
        "id": "cjob-1WfNMlg",
        "outputId": "d6988c10-b76b-4236-af32-b9191cfdf6ce"
      },
      "source": [
        "data_comb = pd.concat([data_5, data_6, data_7, data_8,data_9], axis=0)\n",
        "data_comb.tail()"
      ],
      "execution_count": 9,
      "outputs": [
        {
          "output_type": "execute_result",
          "data": {
            "text/html": [
              "<div>\n",
              "<style scoped>\n",
              "    .dataframe tbody tr th:only-of-type {\n",
              "        vertical-align: middle;\n",
              "    }\n",
              "\n",
              "    .dataframe tbody tr th {\n",
              "        vertical-align: top;\n",
              "    }\n",
              "\n",
              "    .dataframe thead th {\n",
              "        text-align: right;\n",
              "    }\n",
              "</style>\n",
              "<table border=\"1\" class=\"dataframe\">\n",
              "  <thead>\n",
              "    <tr style=\"text-align: right;\">\n",
              "      <th></th>\n",
              "      <th>QTY_AMOUNT</th>\n",
              "      <th>DESCRIPTION</th>\n",
              "      <th>S_LEVEL3_NAME</th>\n",
              "      <th>YEAR_MONTH</th>\n",
              "    </tr>\n",
              "  </thead>\n",
              "  <tbody>\n",
              "    <tr>\n",
              "      <th>267031</th>\n",
              "      <td>42600.0</td>\n",
              "      <td>MINIGRIP SACHET B/100</td>\n",
              "      <td>Rubavu</td>\n",
              "      <td>2019-06</td>\n",
              "    </tr>\n",
              "    <tr>\n",
              "      <th>267032</th>\n",
              "      <td>220.0</td>\n",
              "      <td>DIAZEPAM 5 MG TABLET B/1000</td>\n",
              "      <td>Rubavu</td>\n",
              "      <td>2019-06</td>\n",
              "    </tr>\n",
              "    <tr>\n",
              "      <th>267033</th>\n",
              "      <td>500.0</td>\n",
              "      <td>SYRINGE INSULINE 100UI + NEEDLE</td>\n",
              "      <td>Gasabo</td>\n",
              "      <td>2019-06</td>\n",
              "    </tr>\n",
              "    <tr>\n",
              "      <th>267034</th>\n",
              "      <td>1.0</td>\n",
              "      <td>READING GLASSES + 3.0 POWER</td>\n",
              "      <td>Rusizi</td>\n",
              "      <td>2019-04</td>\n",
              "    </tr>\n",
              "    <tr>\n",
              "      <th>267035</th>\n",
              "      <td>2.0</td>\n",
              "      <td>READING GLASSES + 1.5 POWER</td>\n",
              "      <td>Rusizi</td>\n",
              "      <td>2019-06</td>\n",
              "    </tr>\n",
              "  </tbody>\n",
              "</table>\n",
              "</div>"
            ],
            "text/plain": [
              "        QTY_AMOUNT                      DESCRIPTION S_LEVEL3_NAME YEAR_MONTH\n",
              "267031     42600.0            MINIGRIP SACHET B/100        Rubavu    2019-06\n",
              "267032       220.0      DIAZEPAM 5 MG TABLET B/1000        Rubavu    2019-06\n",
              "267033       500.0  SYRINGE INSULINE 100UI + NEEDLE        Gasabo    2019-06\n",
              "267034         1.0      READING GLASSES + 3.0 POWER        Rusizi    2019-04\n",
              "267035         2.0      READING GLASSES + 1.5 POWER        Rusizi    2019-06"
            ]
          },
          "metadata": {
            "tags": []
          },
          "execution_count": 9
        }
      ]
    },
    {
      "cell_type": "code",
      "metadata": {
        "colab": {
          "base_uri": "https://localhost:8080/",
          "height": 669
        },
        "id": "pE3M54XDOC4O",
        "outputId": "d59ef94a-ee3c-4e8c-bea8-af8eeafccb89"
      },
      "source": [
        "drug=data_comb['DESCRIPTION'].value_counts(normalize=False)\n",
        "drug=pd.DataFrame(drug)\n",
        "drug.head(20)"
      ],
      "execution_count": null,
      "outputs": [
        {
          "output_type": "execute_result",
          "data": {
            "text/html": [
              "<div>\n",
              "<style scoped>\n",
              "    .dataframe tbody tr th:only-of-type {\n",
              "        vertical-align: middle;\n",
              "    }\n",
              "\n",
              "    .dataframe tbody tr th {\n",
              "        vertical-align: top;\n",
              "    }\n",
              "\n",
              "    .dataframe thead th {\n",
              "        text-align: right;\n",
              "    }\n",
              "</style>\n",
              "<table border=\"1\" class=\"dataframe\">\n",
              "  <thead>\n",
              "    <tr style=\"text-align: right;\">\n",
              "      <th></th>\n",
              "      <th>DESCRIPTION</th>\n",
              "    </tr>\n",
              "  </thead>\n",
              "  <tbody>\n",
              "    <tr>\n",
              "      <th>COTRIMOXAZOLE 480 MG TABLET B/1000</th>\n",
              "      <td>29301</td>\n",
              "    </tr>\n",
              "    <tr>\n",
              "      <th>COTRIMOXAZOLE 240MG/5ML SYRUP 100ML B/1</th>\n",
              "      <td>27826</td>\n",
              "    </tr>\n",
              "    <tr>\n",
              "      <th>AMOXICILLIN 250MG CAPSULE B/1000</th>\n",
              "      <td>24024</td>\n",
              "    </tr>\n",
              "    <tr>\n",
              "      <th>METRONIDAZOLE 250MG TABLET B/1000</th>\n",
              "      <td>23560</td>\n",
              "    </tr>\n",
              "    <tr>\n",
              "      <th>PARACETAMOL 500 MG TABLET B/1000</th>\n",
              "      <td>23515</td>\n",
              "    </tr>\n",
              "    <tr>\n",
              "      <th>AMOXICILLIN 125MG/5ML SUSP 100ML B/1</th>\n",
              "      <td>22750</td>\n",
              "    </tr>\n",
              "    <tr>\n",
              "      <th>CLOXACILLIN 250 MG  CAPSULE B/1000</th>\n",
              "      <td>22651</td>\n",
              "    </tr>\n",
              "    <tr>\n",
              "      <th>ERYTHROMYCIN 250 MG TABLET B/1000</th>\n",
              "      <td>22646</td>\n",
              "    </tr>\n",
              "    <tr>\n",
              "      <th>O.R.S SACHET 20.5G B/100</th>\n",
              "      <td>22634</td>\n",
              "    </tr>\n",
              "    <tr>\n",
              "      <th>CHLORPHENIRAMINE 4 MG TABLET B/1000</th>\n",
              "      <td>22112</td>\n",
              "    </tr>\n",
              "    <tr>\n",
              "      <th>NEVIRAPINE 200MG TABLET B/60</th>\n",
              "      <td>22037</td>\n",
              "    </tr>\n",
              "    <tr>\n",
              "      <th>PENICILLIN V 250 MG TABLET B/1000</th>\n",
              "      <td>21597</td>\n",
              "    </tr>\n",
              "    <tr>\n",
              "      <th>IBUPROFEN 200 MG TABLET B/1000</th>\n",
              "      <td>21528</td>\n",
              "    </tr>\n",
              "    <tr>\n",
              "      <th>METRONIDAZOLE 200MG/5ML SYRUP 100ML B/1</th>\n",
              "      <td>21441</td>\n",
              "    </tr>\n",
              "    <tr>\n",
              "      <th>TENOFOV 300MG + LAMIVUD 300 MG TAB B/30</th>\n",
              "      <td>21340</td>\n",
              "    </tr>\n",
              "    <tr>\n",
              "      <th>ABACAVIR 600 MG+LAMIVU 300 MG TAB B/30</th>\n",
              "      <td>21304</td>\n",
              "    </tr>\n",
              "    <tr>\n",
              "      <th>DICLOFENAC 50 MG TABLET B/1000</th>\n",
              "      <td>20906</td>\n",
              "    </tr>\n",
              "    <tr>\n",
              "      <th>EFAVIRENZ 600MG TABLETS B/30</th>\n",
              "      <td>20732</td>\n",
              "    </tr>\n",
              "    <tr>\n",
              "      <th>BUTYLSCOPOLAMINE 10MG TABLET B/1000</th>\n",
              "      <td>20625</td>\n",
              "    </tr>\n",
              "    <tr>\n",
              "      <th>DOXYCYCLINE 100 MG TABLET B/1000</th>\n",
              "      <td>20576</td>\n",
              "    </tr>\n",
              "  </tbody>\n",
              "</table>\n",
              "</div>"
            ],
            "text/plain": [
              "                                         DESCRIPTION\n",
              "COTRIMOXAZOLE 480 MG TABLET B/1000             29301\n",
              "COTRIMOXAZOLE 240MG/5ML SYRUP 100ML B/1        27826\n",
              "AMOXICILLIN 250MG CAPSULE B/1000               24024\n",
              "METRONIDAZOLE 250MG TABLET B/1000              23560\n",
              "PARACETAMOL 500 MG TABLET B/1000               23515\n",
              "AMOXICILLIN 125MG/5ML SUSP 100ML B/1           22750\n",
              "CLOXACILLIN 250 MG  CAPSULE B/1000             22651\n",
              "ERYTHROMYCIN 250 MG TABLET B/1000              22646\n",
              "O.R.S SACHET 20.5G B/100                       22634\n",
              "CHLORPHENIRAMINE 4 MG TABLET B/1000            22112\n",
              "NEVIRAPINE 200MG TABLET B/60                   22037\n",
              "PENICILLIN V 250 MG TABLET B/1000              21597\n",
              "IBUPROFEN 200 MG TABLET B/1000                 21528\n",
              "METRONIDAZOLE 200MG/5ML SYRUP 100ML B/1        21441\n",
              "TENOFOV 300MG + LAMIVUD 300 MG TAB B/30        21340\n",
              "ABACAVIR 600 MG+LAMIVU 300 MG TAB B/30         21304\n",
              "DICLOFENAC 50 MG TABLET B/1000                 20906\n",
              "EFAVIRENZ 600MG TABLETS B/30                   20732\n",
              "BUTYLSCOPOLAMINE 10MG TABLET B/1000            20625\n",
              "DOXYCYCLINE 100 MG TABLET B/1000               20576"
            ]
          },
          "metadata": {
            "tags": []
          },
          "execution_count": 30
        }
      ]
    },
    {
      "cell_type": "code",
      "metadata": {
        "colab": {
          "base_uri": "https://localhost:8080/",
          "height": 17
        },
        "id": "0-AWAP6qP5NZ",
        "outputId": "bf907255-626f-4613-b106-52a1359a79f3"
      },
      "source": [
        "# # Save submission file\n",
        "# drug.to_csv('drugs.csv')\n",
        "# files.download('drugs.csv') "
      ],
      "execution_count": null,
      "outputs": [
        {
          "output_type": "display_data",
          "data": {
            "application/javascript": [
              "\n",
              "    async function download(id, filename, size) {\n",
              "      if (!google.colab.kernel.accessAllowed) {\n",
              "        return;\n",
              "      }\n",
              "      const div = document.createElement('div');\n",
              "      const label = document.createElement('label');\n",
              "      label.textContent = `Downloading \"${filename}\": `;\n",
              "      div.appendChild(label);\n",
              "      const progress = document.createElement('progress');\n",
              "      progress.max = size;\n",
              "      div.appendChild(progress);\n",
              "      document.body.appendChild(div);\n",
              "\n",
              "      const buffers = [];\n",
              "      let downloaded = 0;\n",
              "\n",
              "      const channel = await google.colab.kernel.comms.open(id);\n",
              "      // Send a message to notify the kernel that we're ready.\n",
              "      channel.send({})\n",
              "\n",
              "      for await (const message of channel.messages) {\n",
              "        // Send a message to notify the kernel that we're ready.\n",
              "        channel.send({})\n",
              "        if (message.buffers) {\n",
              "          for (const buffer of message.buffers) {\n",
              "            buffers.push(buffer);\n",
              "            downloaded += buffer.byteLength;\n",
              "            progress.value = downloaded;\n",
              "          }\n",
              "        }\n",
              "      }\n",
              "      const blob = new Blob(buffers, {type: 'application/binary'});\n",
              "      const a = document.createElement('a');\n",
              "      a.href = window.URL.createObjectURL(blob);\n",
              "      a.download = filename;\n",
              "      div.appendChild(a);\n",
              "      a.click();\n",
              "      div.remove();\n",
              "    }\n",
              "  "
            ],
            "text/plain": [
              "<IPython.core.display.Javascript object>"
            ]
          },
          "metadata": {
            "tags": []
          }
        },
        {
          "output_type": "display_data",
          "data": {
            "application/javascript": [
              "download(\"download_89f09377-8aef-4685-8c4e-6c56d612b88b\", \"drugs.csv\", 200927)"
            ],
            "text/plain": [
              "<IPython.core.display.Javascript object>"
            ]
          },
          "metadata": {
            "tags": []
          }
        }
      ]
    },
    {
      "cell_type": "code",
      "metadata": {
        "colab": {
          "base_uri": "https://localhost:8080/"
        },
        "id": "i_3xQQjcOkyD",
        "outputId": "aeff4926-838e-4247-8c0c-4dfbb8feadd3"
      },
      "source": [
        "data_comb.info()"
      ],
      "execution_count": 10,
      "outputs": [
        {
          "output_type": "stream",
          "text": [
            "<class 'pandas.core.frame.DataFrame'>\n",
            "Int64Index: 4090170 entries, 0 to 267035\n",
            "Data columns (total 4 columns):\n",
            " #   Column         Dtype  \n",
            "---  ------         -----  \n",
            " 0   QTY_AMOUNT     float64\n",
            " 1   DESCRIPTION    object \n",
            " 2   S_LEVEL3_NAME  object \n",
            " 3   YEAR_MONTH     object \n",
            "dtypes: float64(1), object(3)\n",
            "memory usage: 156.0+ MB\n"
          ],
          "name": "stdout"
        }
      ]
    },
    {
      "cell_type": "code",
      "metadata": {
        "colab": {
          "base_uri": "https://localhost:8080/"
        },
        "id": "1qYfoKtSape1",
        "outputId": "85038071-29b6-4ef6-9062-527b1d61ded7"
      },
      "source": [
        "data_comb[\"YEAR_MONTH\"].value_counts(normalize=False)"
      ],
      "execution_count": 11,
      "outputs": [
        {
          "output_type": "execute_result",
          "data": {
            "text/plain": [
              "2019-06      90691\n",
              "2019-05      90425\n",
              "2018-10      89175\n",
              "2018-05      87834\n",
              "2018-01      87771\n",
              "2019-01      87395\n",
              "2018-11      86584\n",
              "2018-02      86449\n",
              "2017-11      86369\n",
              "2019-04      85920\n",
              "2018-08      85212\n",
              "2018-04      84571\n",
              "2019-03      83857\n",
              "2018-12      83675\n",
              "2017-10      83598\n",
              "2018-09      83542\n",
              "2017-12      83440\n",
              "2018-07      82995\n",
              "2018-03      82918\n",
              "2018-06      82420\n",
              "2019-02      81897\n",
              "'2016-10'    78274\n",
              "2017-02      78236\n",
              "2017-03      77988\n",
              "2016-09      75949\n",
              "2017-09      75724\n",
              "2017-05      75519\n",
              "'2016-11'    75282\n",
              "2017-04      75209\n",
              "'2016-05'    75037\n",
              "2016-08      74847\n",
              "2017-06      74380\n",
              "'2016-06'    74269\n",
              "'2016-04'    72441\n",
              "2017-01      71944\n",
              "2017-08      71689\n",
              "2016-03      71416\n",
              "2017-07      71267\n",
              "'2016-12'    70977\n",
              "2016-07      70757\n",
              "2015-10      69554\n",
              "2016-02      68204\n",
              "2015-09      68172\n",
              "2016-01      68110\n",
              "2015-07      65438\n",
              "2015-08      65208\n",
              "2015-06      65088\n",
              "2015-11      64313\n",
              "2015-05      63771\n",
              "2015-12      63508\n",
              "2015-04      60769\n",
              "2015-03      60676\n",
              "2015-02      52398\n",
              "2015-01      47012\n",
              "'EACH'           4\n",
              "'NONE'           2\n",
              "Name: YEAR_MONTH, dtype: int64"
            ]
          },
          "metadata": {
            "tags": []
          },
          "execution_count": 11
        }
      ]
    },
    {
      "cell_type": "code",
      "metadata": {
        "id": "nMtk_NL0fIF7"
      },
      "source": [
        "data=data_comb.replace(to_replace={'YEAR_MONTH': {\"'EACH'\":'',\"'NONE'\":''}}, value=None)"
      ],
      "execution_count": 12,
      "outputs": []
    },
    {
      "cell_type": "code",
      "metadata": {
        "colab": {
          "base_uri": "https://localhost:8080/"
        },
        "id": "H-B51K77heYh",
        "outputId": "5a4e3287-5586-4899-c1b7-6d968078eb99"
      },
      "source": [
        "data[\"YEAR_MONTH\"].value_counts(normalize=False)"
      ],
      "execution_count": 13,
      "outputs": [
        {
          "output_type": "execute_result",
          "data": {
            "text/plain": [
              "2019-06      90691\n",
              "2019-05      90425\n",
              "2018-10      89175\n",
              "2018-05      87834\n",
              "2018-01      87771\n",
              "2019-01      87395\n",
              "2018-11      86584\n",
              "2018-02      86449\n",
              "2017-11      86369\n",
              "2019-04      85920\n",
              "2018-08      85212\n",
              "2018-04      84571\n",
              "2019-03      83857\n",
              "2018-12      83675\n",
              "2017-10      83598\n",
              "2018-09      83542\n",
              "2017-12      83440\n",
              "2018-07      82995\n",
              "2018-03      82918\n",
              "2018-06      82420\n",
              "2019-02      81897\n",
              "'2016-10'    78274\n",
              "2017-02      78236\n",
              "2017-03      77988\n",
              "2016-09      75949\n",
              "2017-09      75724\n",
              "2017-05      75519\n",
              "'2016-11'    75282\n",
              "2017-04      75209\n",
              "'2016-05'    75037\n",
              "2016-08      74847\n",
              "2017-06      74380\n",
              "'2016-06'    74269\n",
              "'2016-04'    72441\n",
              "2017-01      71944\n",
              "2017-08      71689\n",
              "2016-03      71416\n",
              "2017-07      71267\n",
              "'2016-12'    70977\n",
              "2016-07      70757\n",
              "2015-10      69554\n",
              "2016-02      68204\n",
              "2015-09      68172\n",
              "2016-01      68110\n",
              "2015-07      65438\n",
              "2015-08      65208\n",
              "2015-06      65088\n",
              "2015-11      64313\n",
              "2015-05      63771\n",
              "2015-12      63508\n",
              "2015-04      60769\n",
              "2015-03      60676\n",
              "2015-02      52398\n",
              "2015-01      47012\n",
              "                 6\n",
              "Name: YEAR_MONTH, dtype: int64"
            ]
          },
          "metadata": {
            "tags": []
          },
          "execution_count": 13
        }
      ]
    },
    {
      "cell_type": "code",
      "metadata": {
        "id": "ioDmY7tZ2i68"
      },
      "source": [
        "# data_comb.drop(data_comb[data_comb['YEAR_MONTH'] =='NONE'].index, inplace = True)"
      ],
      "execution_count": null,
      "outputs": []
    },
    {
      "cell_type": "code",
      "metadata": {
        "id": "81f2KrUyOkJZ",
        "colab": {
          "base_uri": "https://localhost:8080/"
        },
        "outputId": "e3752633-dfff-453d-ced7-66ff15b9b680"
      },
      "source": [
        "# overwriting data after changing format\n",
        "data[\"YEAR_MONTH\"]= pd.to_datetime(data[\"YEAR_MONTH\"])\n",
        "data.info()"
      ],
      "execution_count": 16,
      "outputs": [
        {
          "output_type": "stream",
          "text": [
            "<class 'pandas.core.frame.DataFrame'>\n",
            "Int64Index: 4090170 entries, 0 to 267035\n",
            "Data columns (total 4 columns):\n",
            " #   Column         Dtype         \n",
            "---  ------         -----         \n",
            " 0   QTY_AMOUNT     float64       \n",
            " 1   DESCRIPTION    object        \n",
            " 2   S_LEVEL3_NAME  object        \n",
            " 3   YEAR_MONTH     datetime64[ns]\n",
            "dtypes: datetime64[ns](1), float64(1), object(2)\n",
            "memory usage: 156.0+ MB\n"
          ],
          "name": "stdout"
        }
      ]
    },
    {
      "cell_type": "markdown",
      "metadata": {
        "id": "2jigJalB5Bq9"
      },
      "source": [
        "# selecting only required medecines"
      ]
    },
    {
      "cell_type": "code",
      "metadata": {
        "colab": {
          "base_uri": "https://localhost:8080/",
          "height": 204
        },
        "id": "uyZLDVAvT5O7",
        "outputId": "88b9da5e-51bf-44bf-e132-d770e2d07337"
      },
      "source": [
        "options = ['COTRIMOXAZOLE 480 MG TABLET B/1000', 'AMOXICILLIN 250MG CAPSULE B/1000','PARACETAMOL 500 MG TABLET B/1000','O.R.S SACHET 20.5G B/100',\n",
        "           'CHLORPHENIRAMINE 4 MG TABLET B/1000', 'NEVIRAPINE 200MG TABLET B/60', 'METRONIDAZOLE 200MG/5ML SYRUP 100ML B/1','BUTYLSCOPOLAMINE 10MG TABLET B/1000',\n",
        "           'ZIDO 300MG+LAMI 150MG+NEVI 200MGTAB B/60', 'AMINOPHYLLINE 100MG TABLET B/1000', 'ATAZANAVIR/RITONAVIR 300/100 MG B/30',\n",
        "           'ARTE 20MG + LUME 120MG TAB (4X6) B/30', 'EXAMINATION POWDERED GLOVES NS UU T 7.5', 'CROMOGLYCATE DISODIC OPHT SOLUTION 2%',\n",
        "           'SALBUTAMOL 4MG TABLET B/1000', 'PARACETAMOL 125MG SUPPOSITORY B/100', 'DETERMINE H I V 100 TESTS COMBO + ACC',\n",
        "           'IODINE POLYVIDONE 10%  SLN 200ML B/1']\n",
        "  \n",
        "# selecting rows based on condition\n",
        "new_data =data[data['DESCRIPTION'].isin(options)]\n",
        "  \n",
        "# print('\\nResult dataframe :\\n', rslt_df)\n",
        "new_data.head()"
      ],
      "execution_count": 17,
      "outputs": [
        {
          "output_type": "execute_result",
          "data": {
            "text/html": [
              "<div>\n",
              "<style scoped>\n",
              "    .dataframe tbody tr th:only-of-type {\n",
              "        vertical-align: middle;\n",
              "    }\n",
              "\n",
              "    .dataframe tbody tr th {\n",
              "        vertical-align: top;\n",
              "    }\n",
              "\n",
              "    .dataframe thead th {\n",
              "        text-align: right;\n",
              "    }\n",
              "</style>\n",
              "<table border=\"1\" class=\"dataframe\">\n",
              "  <thead>\n",
              "    <tr style=\"text-align: right;\">\n",
              "      <th></th>\n",
              "      <th>QTY_AMOUNT</th>\n",
              "      <th>DESCRIPTION</th>\n",
              "      <th>S_LEVEL3_NAME</th>\n",
              "      <th>YEAR_MONTH</th>\n",
              "    </tr>\n",
              "  </thead>\n",
              "  <tbody>\n",
              "    <tr>\n",
              "      <th>10</th>\n",
              "      <td>50.0</td>\n",
              "      <td>CROMOGLYCATE DISODIC OPHT SOLUTION 2%</td>\n",
              "      <td>Gakenke</td>\n",
              "      <td>2015-01-01</td>\n",
              "    </tr>\n",
              "    <tr>\n",
              "      <th>12</th>\n",
              "      <td>6700.0</td>\n",
              "      <td>AMOXICILLIN 250MG CAPSULE B/1000</td>\n",
              "      <td>Gakenke</td>\n",
              "      <td>2015-01-01</td>\n",
              "    </tr>\n",
              "    <tr>\n",
              "      <th>16</th>\n",
              "      <td>17609.0</td>\n",
              "      <td>PARACETAMOL 500 MG TABLET B/1000</td>\n",
              "      <td>Huye</td>\n",
              "      <td>2015-01-01</td>\n",
              "    </tr>\n",
              "    <tr>\n",
              "      <th>23</th>\n",
              "      <td>3083.0</td>\n",
              "      <td>PARACETAMOL 500 MG TABLET B/1000</td>\n",
              "      <td>Gatsibo</td>\n",
              "      <td>2015-01-01</td>\n",
              "    </tr>\n",
              "    <tr>\n",
              "      <th>30</th>\n",
              "      <td>117.0</td>\n",
              "      <td>NEVIRAPINE 200MG TABLET B/60</td>\n",
              "      <td>Gisagara</td>\n",
              "      <td>2015-01-01</td>\n",
              "    </tr>\n",
              "  </tbody>\n",
              "</table>\n",
              "</div>"
            ],
            "text/plain": [
              "    QTY_AMOUNT                            DESCRIPTION S_LEVEL3_NAME YEAR_MONTH\n",
              "10        50.0  CROMOGLYCATE DISODIC OPHT SOLUTION 2%       Gakenke 2015-01-01\n",
              "12      6700.0       AMOXICILLIN 250MG CAPSULE B/1000       Gakenke 2015-01-01\n",
              "16     17609.0       PARACETAMOL 500 MG TABLET B/1000          Huye 2015-01-01\n",
              "23      3083.0       PARACETAMOL 500 MG TABLET B/1000       Gatsibo 2015-01-01\n",
              "30       117.0           NEVIRAPINE 200MG TABLET B/60      Gisagara 2015-01-01"
            ]
          },
          "metadata": {
            "tags": []
          },
          "execution_count": 17
        }
      ]
    },
    {
      "cell_type": "markdown",
      "metadata": {
        "id": "dLa19iKtW4H1"
      },
      "source": [
        "Medecine and their frequency"
      ]
    },
    {
      "cell_type": "code",
      "metadata": {
        "colab": {
          "base_uri": "https://localhost:8080/"
        },
        "id": "1XMN4M0MVxDm",
        "outputId": "2946c44d-a8ba-43fe-f7f9-3c864d322ec5"
      },
      "source": [
        "new_data['DESCRIPTION'].value_counts(normalize=False)"
      ],
      "execution_count": 19,
      "outputs": [
        {
          "output_type": "execute_result",
          "data": {
            "text/plain": [
              "COTRIMOXAZOLE 480 MG TABLET B/1000          29301\n",
              "AMOXICILLIN 250MG CAPSULE B/1000            24024\n",
              "PARACETAMOL 500 MG TABLET B/1000            23515\n",
              "O.R.S SACHET 20.5G B/100                    22634\n",
              "CHLORPHENIRAMINE 4 MG TABLET B/1000         22112\n",
              "NEVIRAPINE 200MG TABLET B/60                22037\n",
              "METRONIDAZOLE 200MG/5ML SYRUP 100ML B/1     21441\n",
              "BUTYLSCOPOLAMINE 10MG TABLET B/1000         20625\n",
              "ZIDO 300MG+LAMI 150MG+NEVI 200MGTAB B/60    19815\n",
              "AMINOPHYLLINE 100MG TABLET B/1000           19475\n",
              "ATAZANAVIR/RITONAVIR 300/100 MG B/30        18543\n",
              "ARTE 20MG + LUME 120MG TAB (4X6) B/30       18306\n",
              "EXAMINATION POWDERED GLOVES NS UU T 7.5     17310\n",
              "CROMOGLYCATE DISODIC OPHT SOLUTION 2%       17191\n",
              "SALBUTAMOL 4MG TABLET B/1000                17178\n",
              "PARACETAMOL 125MG SUPPOSITORY B/100         16882\n",
              "DETERMINE H I V 100 TESTS COMBO + ACC       16438\n",
              "IODINE POLYVIDONE 10%  SLN 200ML B/1        16434\n",
              "Name: DESCRIPTION, dtype: int64"
            ]
          },
          "metadata": {
            "tags": []
          },
          "execution_count": 19
        }
      ]
    },
    {
      "cell_type": "markdown",
      "metadata": {
        "id": "Dk8oFxpDXOGG"
      },
      "source": [
        "Coding the district for confidentiality"
      ]
    },
    {
      "cell_type": "code",
      "metadata": {
        "colab": {
          "base_uri": "https://localhost:8080/"
        },
        "id": "mNC1JnqoXtPx",
        "outputId": "db8106f7-2799-48bc-e62f-5e0b2f67e835"
      },
      "source": [
        "new_data['S_LEVEL3_NAME'].value_counts(normalize=False)"
      ],
      "execution_count": 22,
      "outputs": [
        {
          "output_type": "execute_result",
          "data": {
            "text/plain": [
              "NONE          23256\n",
              "Gakenke       16518\n",
              "Karongi       16175\n",
              "Gicumbi       15654\n",
              "Nyagatare     14977\n",
              "Gatsibo       14045\n",
              "Rulindo       12767\n",
              "Kayonza       12180\n",
              "Rusizi        12141\n",
              "Gasabo        12003\n",
              "Bugesera      11998\n",
              "Nyamagabe     11629\n",
              "Nyabihu       11525\n",
              "Burera        11517\n",
              "Huye          11454\n",
              "Nyamasheke    11372\n",
              "Kirehe        11224\n",
              "Musanze       10925\n",
              "Ruhango       10874\n",
              "Nyanza        10446\n",
              "Gisagara      10311\n",
              "Rwamagana      9989\n",
              "Ngoma          9871\n",
              "Muhanga        9486\n",
              "Rutsiro        9238\n",
              "Rubavu         9229\n",
              "Nyaruguru      9077\n",
              "Kamonyi        8714\n",
              "Ngororero      8648\n",
              "Nyarugenge     7886\n",
              "Kicukiro       6931\n",
              "Name: S_LEVEL3_NAME, dtype: int64"
            ]
          },
          "metadata": {
            "tags": []
          },
          "execution_count": 22
        }
      ]
    },
    {
      "cell_type": "code",
      "metadata": {
        "id": "jrLtQ5AKXB-p"
      },
      "source": [
        "data_coded=new_data.replace(to_replace={'S_LEVEL3_NAME': {\"Gakenke\":\"G42\",\"Karongi\":\"K31\",\"Gicumbi\":\"G45\",\"Nyagatare\":\"N52\",\n",
        "                                                          \"Gatsibo\":\"G53\",\"Rulindo\":\"R41\",\"Kayonza\":\"K54\",\"Rusizi\":\"R36\",\n",
        "                                                          \"Gasabo\":\"G12\",\"Bugesera\":\"B57\",\"Nyamagabe\":\"N25\",\"Nyabihu\":\"N34\",\"Burera\":\"B44\",\n",
        "                                                          \"Huye\":\"H24\",\"Nyamasheke\":\"N37\",\"Kirehe\":\"K55\",\"Musanze\":\"M43\",\"Ruhango\":\"R26\",\n",
        "                                                          \"Nyanza\":\"N21\",\"Gisagara\":\"G22\",\"Rwamagana\":\"R51\",\"Ngoma\":\"N56\",\"Muhanga\":\"M27\",\n",
        "                                                          \"Rutsiro\":\"R32\",\"Rubavu\":\"R33\",\"Nyaruguru\":\"N23\",\"Kamonyi\":\"K28\",\"Ngororero\":\"N35\",\n",
        "                                                          \"Nyarugenge\":\"N11\",\"Kicukiro\":\"K13\"}}, value=None)"
      ],
      "execution_count": 23,
      "outputs": []
    },
    {
      "cell_type": "code",
      "metadata": {
        "id": "gHDBOT_bvSxf",
        "colab": {
          "base_uri": "https://localhost:8080/"
        },
        "outputId": "a84f3b5a-d659-499d-ad48-f12dfc339463"
      },
      "source": [
        "data_coded['S_LEVEL3_NAME'].value_counts(normalize=False)"
      ],
      "execution_count": 24,
      "outputs": [
        {
          "output_type": "execute_result",
          "data": {
            "text/plain": [
              "NONE    23256\n",
              "G42     16518\n",
              "K31     16175\n",
              "G45     15654\n",
              "N52     14977\n",
              "G53     14045\n",
              "R41     12767\n",
              "K54     12180\n",
              "R36     12141\n",
              "G12     12003\n",
              "B57     11998\n",
              "N25     11629\n",
              "N34     11525\n",
              "B44     11517\n",
              "H24     11454\n",
              "N37     11372\n",
              "K55     11224\n",
              "M43     10925\n",
              "R26     10874\n",
              "N21     10446\n",
              "G22     10311\n",
              "R51      9989\n",
              "N56      9871\n",
              "M27      9486\n",
              "R32      9238\n",
              "R33      9229\n",
              "N23      9077\n",
              "K28      8714\n",
              "N35      8648\n",
              "N11      7886\n",
              "K13      6931\n",
              "Name: S_LEVEL3_NAME, dtype: int64"
            ]
          },
          "metadata": {
            "tags": []
          },
          "execution_count": 24
        }
      ]
    },
    {
      "cell_type": "code",
      "metadata": {
        "id": "zVDvUDbbrlgR"
      },
      "source": [
        "data_coded['QTY_AMOUNT'] = data_coded['QTY_AMOUNT'].astype(int)"
      ],
      "execution_count": 31,
      "outputs": []
    },
    {
      "cell_type": "markdown",
      "metadata": {
        "id": "hFeEVg-Eem4d"
      },
      "source": [
        "# Pivot tables"
      ]
    },
    {
      "cell_type": "code",
      "metadata": {
        "colab": {
          "base_uri": "https://localhost:8080/",
          "height": 638
        },
        "id": "1sepYk6Jeg-b",
        "outputId": "dc038da3-ea76-4f2a-d955-a55653a3dc5c"
      },
      "source": [
        "#different aggregate functions\n",
        "table = pd.pivot_table(data_coded,index=['DESCRIPTION'],aggfunc={'QTY_AMOUNT':np.sum}).sort_values('QTY_AMOUNT', ascending = False)\n",
        "table"
      ],
      "execution_count": 67,
      "outputs": [
        {
          "output_type": "execute_result",
          "data": {
            "text/html": [
              "<div>\n",
              "<style scoped>\n",
              "    .dataframe tbody tr th:only-of-type {\n",
              "        vertical-align: middle;\n",
              "    }\n",
              "\n",
              "    .dataframe tbody tr th {\n",
              "        vertical-align: top;\n",
              "    }\n",
              "\n",
              "    .dataframe thead th {\n",
              "        text-align: right;\n",
              "    }\n",
              "</style>\n",
              "<table border=\"1\" class=\"dataframe\">\n",
              "  <thead>\n",
              "    <tr style=\"text-align: right;\">\n",
              "      <th></th>\n",
              "      <th>QTY_AMOUNT</th>\n",
              "    </tr>\n",
              "    <tr>\n",
              "      <th>DESCRIPTION</th>\n",
              "      <th></th>\n",
              "    </tr>\n",
              "  </thead>\n",
              "  <tbody>\n",
              "    <tr>\n",
              "      <th>PARACETAMOL 500 MG TABLET B/1000</th>\n",
              "      <td>179795584</td>\n",
              "    </tr>\n",
              "    <tr>\n",
              "      <th>AMOXICILLIN 250MG CAPSULE B/1000</th>\n",
              "      <td>179072549</td>\n",
              "    </tr>\n",
              "    <tr>\n",
              "      <th>EXAMINATION POWDERED GLOVES NS UU T 7.5</th>\n",
              "      <td>66149138</td>\n",
              "    </tr>\n",
              "    <tr>\n",
              "      <th>CHLORPHENIRAMINE 4 MG TABLET B/1000</th>\n",
              "      <td>55970970</td>\n",
              "    </tr>\n",
              "    <tr>\n",
              "      <th>COTRIMOXAZOLE 480 MG TABLET B/1000</th>\n",
              "      <td>52581564</td>\n",
              "    </tr>\n",
              "    <tr>\n",
              "      <th>AMINOPHYLLINE 100MG TABLET B/1000</th>\n",
              "      <td>25688737</td>\n",
              "    </tr>\n",
              "    <tr>\n",
              "      <th>BUTYLSCOPOLAMINE 10MG TABLET B/1000</th>\n",
              "      <td>17241917</td>\n",
              "    </tr>\n",
              "    <tr>\n",
              "      <th>SALBUTAMOL 4MG TABLET B/1000</th>\n",
              "      <td>15102170</td>\n",
              "    </tr>\n",
              "    <tr>\n",
              "      <th>NEVIRAPINE 200MG TABLET B/60</th>\n",
              "      <td>7428864</td>\n",
              "    </tr>\n",
              "    <tr>\n",
              "      <th>DETERMINE H I V 100 TESTS COMBO + ACC</th>\n",
              "      <td>5208713</td>\n",
              "    </tr>\n",
              "    <tr>\n",
              "      <th>ARTE 20MG + LUME 120MG TAB (4X6) B/30</th>\n",
              "      <td>4364045</td>\n",
              "    </tr>\n",
              "    <tr>\n",
              "      <th>ZIDO 300MG+LAMI 150MG+NEVI 200MGTAB B/60</th>\n",
              "      <td>3754683</td>\n",
              "    </tr>\n",
              "    <tr>\n",
              "      <th>PARACETAMOL 125MG SUPPOSITORY B/100</th>\n",
              "      <td>3629218</td>\n",
              "    </tr>\n",
              "    <tr>\n",
              "      <th>O.R.S SACHET 20.5G B/100</th>\n",
              "      <td>2550697</td>\n",
              "    </tr>\n",
              "    <tr>\n",
              "      <th>ATAZANAVIR/RITONAVIR 300/100 MG B/30</th>\n",
              "      <td>740702</td>\n",
              "    </tr>\n",
              "    <tr>\n",
              "      <th>CROMOGLYCATE DISODIC OPHT SOLUTION 2%</th>\n",
              "      <td>704484</td>\n",
              "    </tr>\n",
              "    <tr>\n",
              "      <th>METRONIDAZOLE 200MG/5ML SYRUP 100ML B/1</th>\n",
              "      <td>492620</td>\n",
              "    </tr>\n",
              "    <tr>\n",
              "      <th>IODINE POLYVIDONE 10%  SLN 200ML B/1</th>\n",
              "      <td>414346</td>\n",
              "    </tr>\n",
              "  </tbody>\n",
              "</table>\n",
              "</div>"
            ],
            "text/plain": [
              "                                          QTY_AMOUNT\n",
              "DESCRIPTION                                         \n",
              "PARACETAMOL 500 MG TABLET B/1000           179795584\n",
              "AMOXICILLIN 250MG CAPSULE B/1000           179072549\n",
              "EXAMINATION POWDERED GLOVES NS UU T 7.5     66149138\n",
              "CHLORPHENIRAMINE 4 MG TABLET B/1000         55970970\n",
              "COTRIMOXAZOLE 480 MG TABLET B/1000          52581564\n",
              "AMINOPHYLLINE 100MG TABLET B/1000           25688737\n",
              "BUTYLSCOPOLAMINE 10MG TABLET B/1000         17241917\n",
              "SALBUTAMOL 4MG TABLET B/1000                15102170\n",
              "NEVIRAPINE 200MG TABLET B/60                 7428864\n",
              "DETERMINE H I V 100 TESTS COMBO + ACC        5208713\n",
              "ARTE 20MG + LUME 120MG TAB (4X6) B/30        4364045\n",
              "ZIDO 300MG+LAMI 150MG+NEVI 200MGTAB B/60     3754683\n",
              "PARACETAMOL 125MG SUPPOSITORY B/100          3629218\n",
              "O.R.S SACHET 20.5G B/100                     2550697\n",
              "ATAZANAVIR/RITONAVIR 300/100 MG B/30          740702\n",
              "CROMOGLYCATE DISODIC OPHT SOLUTION 2%         704484\n",
              "METRONIDAZOLE 200MG/5ML SYRUP 100ML B/1       492620\n",
              "IODINE POLYVIDONE 10%  SLN 200ML B/1          414346"
            ]
          },
          "metadata": {
            "tags": []
          },
          "execution_count": 67
        }
      ]
    },
    {
      "cell_type": "code",
      "metadata": {
        "colab": {
          "base_uri": "https://localhost:8080/",
          "height": 584
        },
        "id": "ZUnIoY4YkJJg",
        "outputId": "742863f9-baf1-4270-9340-a96fe843aeb5"
      },
      "source": [
        "table.plot(kind='bar');"
      ],
      "execution_count": 68,
      "outputs": [
        {
          "output_type": "display_data",
          "data": {
            "image/png": "[encoded data removed]",
            "text/plain": [
              "<Figure size 432x288 with 1 Axes>"
            ]
          },
          "metadata": {
            "tags": []
          }
        }
      ]
    },
    {
      "cell_type": "code",
      "metadata": {
        "colab": {
          "base_uri": "https://localhost:8080/",
          "height": 1000
        },
        "id": "MdU-LDBDj3KN",
        "outputId": "68155326-45cd-4e7e-c663-3da16c702a03"
      },
      "source": [
        "table2 = pd.pivot_table(data_coded,index=['S_LEVEL3_NAME'],aggfunc={'QTY_AMOUNT':np.sum}).sort_values('QTY_AMOUNT', ascending = False)\n",
        "table2"
      ],
      "execution_count": 64,
      "outputs": [
        {
          "output_type": "execute_result",
          "data": {
            "text/html": [
              "<div>\n",
              "<style scoped>\n",
              "    .dataframe tbody tr th:only-of-type {\n",
              "        vertical-align: middle;\n",
              "    }\n",
              "\n",
              "    .dataframe tbody tr th {\n",
              "        vertical-align: top;\n",
              "    }\n",
              "\n",
              "    .dataframe thead th {\n",
              "        text-align: right;\n",
              "    }\n",
              "</style>\n",
              "<table border=\"1\" class=\"dataframe\">\n",
              "  <thead>\n",
              "    <tr style=\"text-align: right;\">\n",
              "      <th></th>\n",
              "      <th>QTY_AMOUNT</th>\n",
              "    </tr>\n",
              "    <tr>\n",
              "      <th>S_LEVEL3_NAME</th>\n",
              "      <th></th>\n",
              "    </tr>\n",
              "  </thead>\n",
              "  <tbody>\n",
              "    <tr>\n",
              "      <th>NONE</th>\n",
              "      <td>51863748</td>\n",
              "    </tr>\n",
              "    <tr>\n",
              "      <th>N37</th>\n",
              "      <td>44183716</td>\n",
              "    </tr>\n",
              "    <tr>\n",
              "      <th>G53</th>\n",
              "      <td>30341872</td>\n",
              "    </tr>\n",
              "    <tr>\n",
              "      <th>N52</th>\n",
              "      <td>28235123</td>\n",
              "    </tr>\n",
              "    <tr>\n",
              "      <th>K31</th>\n",
              "      <td>26881826</td>\n",
              "    </tr>\n",
              "    <tr>\n",
              "      <th>B57</th>\n",
              "      <td>26486421</td>\n",
              "    </tr>\n",
              "    <tr>\n",
              "      <th>K55</th>\n",
              "      <td>25146987</td>\n",
              "    </tr>\n",
              "    <tr>\n",
              "      <th>K54</th>\n",
              "      <td>24582391</td>\n",
              "    </tr>\n",
              "    <tr>\n",
              "      <th>G12</th>\n",
              "      <td>22383679</td>\n",
              "    </tr>\n",
              "    <tr>\n",
              "      <th>R26</th>\n",
              "      <td>21383920</td>\n",
              "    </tr>\n",
              "    <tr>\n",
              "      <th>N56</th>\n",
              "      <td>20755429</td>\n",
              "    </tr>\n",
              "    <tr>\n",
              "      <th>R51</th>\n",
              "      <td>20047241</td>\n",
              "    </tr>\n",
              "    <tr>\n",
              "      <th>R36</th>\n",
              "      <td>19464694</td>\n",
              "    </tr>\n",
              "    <tr>\n",
              "      <th>G42</th>\n",
              "      <td>18907261</td>\n",
              "    </tr>\n",
              "    <tr>\n",
              "      <th>K28</th>\n",
              "      <td>16716934</td>\n",
              "    </tr>\n",
              "    <tr>\n",
              "      <th>G45</th>\n",
              "      <td>16704697</td>\n",
              "    </tr>\n",
              "    <tr>\n",
              "      <th>R33</th>\n",
              "      <td>16615288</td>\n",
              "    </tr>\n",
              "    <tr>\n",
              "      <th>H24</th>\n",
              "      <td>16474945</td>\n",
              "    </tr>\n",
              "    <tr>\n",
              "      <th>R41</th>\n",
              "      <td>15472450</td>\n",
              "    </tr>\n",
              "    <tr>\n",
              "      <th>N21</th>\n",
              "      <td>15459867</td>\n",
              "    </tr>\n",
              "    <tr>\n",
              "      <th>B44</th>\n",
              "      <td>15453334</td>\n",
              "    </tr>\n",
              "    <tr>\n",
              "      <th>G22</th>\n",
              "      <td>15150561</td>\n",
              "    </tr>\n",
              "    <tr>\n",
              "      <th>N23</th>\n",
              "      <td>13880626</td>\n",
              "    </tr>\n",
              "    <tr>\n",
              "      <th>K13</th>\n",
              "      <td>13585300</td>\n",
              "    </tr>\n",
              "    <tr>\n",
              "      <th>N11</th>\n",
              "      <td>13462144</td>\n",
              "    </tr>\n",
              "    <tr>\n",
              "      <th>N34</th>\n",
              "      <td>12919744</td>\n",
              "    </tr>\n",
              "    <tr>\n",
              "      <th>M43</th>\n",
              "      <td>12297760</td>\n",
              "    </tr>\n",
              "    <tr>\n",
              "      <th>R32</th>\n",
              "      <td>12064263</td>\n",
              "    </tr>\n",
              "    <tr>\n",
              "      <th>N25</th>\n",
              "      <td>11691677</td>\n",
              "    </tr>\n",
              "    <tr>\n",
              "      <th>M27</th>\n",
              "      <td>10604474</td>\n",
              "    </tr>\n",
              "    <tr>\n",
              "      <th>N35</th>\n",
              "      <td>10271530</td>\n",
              "    </tr>\n",
              "  </tbody>\n",
              "</table>\n",
              "</div>"
            ],
            "text/plain": [
              "               QTY_AMOUNT\n",
              "S_LEVEL3_NAME            \n",
              "NONE             51863748\n",
              "N37              44183716\n",
              "G53              30341872\n",
              "N52              28235123\n",
              "K31              26881826\n",
              "B57              26486421\n",
              "K55              25146987\n",
              "K54              24582391\n",
              "G12              22383679\n",
              "R26              21383920\n",
              "N56              20755429\n",
              "R51              20047241\n",
              "R36              19464694\n",
              "G42              18907261\n",
              "K28              16716934\n",
              "G45              16704697\n",
              "R33              16615288\n",
              "H24              16474945\n",
              "R41              15472450\n",
              "N21              15459867\n",
              "B44              15453334\n",
              "G22              15150561\n",
              "N23              13880626\n",
              "K13              13585300\n",
              "N11              13462144\n",
              "N34              12919744\n",
              "M43              12297760\n",
              "R32              12064263\n",
              "N25              11691677\n",
              "M27              10604474\n",
              "N35              10271530"
            ]
          },
          "metadata": {
            "tags": []
          },
          "execution_count": 64
        }
      ]
    },
    {
      "cell_type": "code",
      "metadata": {
        "colab": {
          "base_uri": "https://localhost:8080/",
          "height": 320
        },
        "id": "LYIBtJe0kSNE",
        "outputId": "bf6134be-8d69-4e90-a5a2-f296e9925995"
      },
      "source": [
        "table2.plot(kind='bar');"
      ],
      "execution_count": 66,
      "outputs": [
        {
          "output_type": "display_data",
          "data": {
            "image/png": "[encoded data removed]",
            "text/plain": [
              "<Figure size 432x288 with 1 Axes>"
            ]
          },
          "metadata": {
            "tags": []
          }
        }
      ]
    },
    {
      "cell_type": "code",
      "metadata": {
        "colab": {
          "base_uri": "https://localhost:8080/",
          "height": 1000
        },
        "id": "sMkJDs3kpUat",
        "outputId": "b8a8a543-b1bb-4372-92fd-c46d94752399"
      },
      "source": [
        "table3 = pd.pivot_table(data_coded,index=['YEAR_MONTH'],aggfunc={'QTY_AMOUNT':np.sum}).sort_values('QTY_AMOUNT', ascending = False)\n",
        "table3\n",
        "# data_coded.groupby('YEAR_MONTH').agg({'QTY_AMOUNT':'sum'}).sort_values('QTY_AMOUNT', ascending = False)"
      ],
      "execution_count": 65,
      "outputs": [
        {
          "output_type": "execute_result",
          "data": {
            "text/html": [
              "<div>\n",
              "<style scoped>\n",
              "    .dataframe tbody tr th:only-of-type {\n",
              "        vertical-align: middle;\n",
              "    }\n",
              "\n",
              "    .dataframe tbody tr th {\n",
              "        vertical-align: top;\n",
              "    }\n",
              "\n",
              "    .dataframe thead th {\n",
              "        text-align: right;\n",
              "    }\n",
              "</style>\n",
              "<table border=\"1\" class=\"dataframe\">\n",
              "  <thead>\n",
              "    <tr style=\"text-align: right;\">\n",
              "      <th></th>\n",
              "      <th>QTY_AMOUNT</th>\n",
              "    </tr>\n",
              "    <tr>\n",
              "      <th>YEAR_MONTH</th>\n",
              "      <th></th>\n",
              "    </tr>\n",
              "  </thead>\n",
              "  <tbody>\n",
              "    <tr>\n",
              "      <th>2015-08-01</th>\n",
              "      <td>28044737</td>\n",
              "    </tr>\n",
              "    <tr>\n",
              "      <th>2018-03-01</th>\n",
              "      <td>19821044</td>\n",
              "    </tr>\n",
              "    <tr>\n",
              "      <th>2018-04-01</th>\n",
              "      <td>17735805</td>\n",
              "    </tr>\n",
              "    <tr>\n",
              "      <th>2018-05-01</th>\n",
              "      <td>17731023</td>\n",
              "    </tr>\n",
              "    <tr>\n",
              "      <th>2019-04-01</th>\n",
              "      <td>16431799</td>\n",
              "    </tr>\n",
              "    <tr>\n",
              "      <th>2018-02-01</th>\n",
              "      <td>16180725</td>\n",
              "    </tr>\n",
              "    <tr>\n",
              "      <th>2018-06-01</th>\n",
              "      <td>16175613</td>\n",
              "    </tr>\n",
              "    <tr>\n",
              "      <th>2019-05-01</th>\n",
              "      <td>16100786</td>\n",
              "    </tr>\n",
              "    <tr>\n",
              "      <th>2019-03-01</th>\n",
              "      <td>15857912</td>\n",
              "    </tr>\n",
              "    <tr>\n",
              "      <th>2019-01-01</th>\n",
              "      <td>15587651</td>\n",
              "    </tr>\n",
              "    <tr>\n",
              "      <th>2018-01-01</th>\n",
              "      <td>14988510</td>\n",
              "    </tr>\n",
              "    <tr>\n",
              "      <th>2019-06-01</th>\n",
              "      <td>14691805</td>\n",
              "    </tr>\n",
              "    <tr>\n",
              "      <th>2015-05-01</th>\n",
              "      <td>14466500</td>\n",
              "    </tr>\n",
              "    <tr>\n",
              "      <th>2018-07-01</th>\n",
              "      <td>14210859</td>\n",
              "    </tr>\n",
              "    <tr>\n",
              "      <th>2019-02-01</th>\n",
              "      <td>13998855</td>\n",
              "    </tr>\n",
              "    <tr>\n",
              "      <th>2015-01-01</th>\n",
              "      <td>13819392</td>\n",
              "    </tr>\n",
              "    <tr>\n",
              "      <th>2015-06-01</th>\n",
              "      <td>13679428</td>\n",
              "    </tr>\n",
              "    <tr>\n",
              "      <th>2018-10-01</th>\n",
              "      <td>13678840</td>\n",
              "    </tr>\n",
              "    <tr>\n",
              "      <th>2017-11-01</th>\n",
              "      <td>13253668</td>\n",
              "    </tr>\n",
              "    <tr>\n",
              "      <th>2015-04-01</th>\n",
              "      <td>13132829</td>\n",
              "    </tr>\n",
              "    <tr>\n",
              "      <th>2018-11-01</th>\n",
              "      <td>13077887</td>\n",
              "    </tr>\n",
              "    <tr>\n",
              "      <th>2018-12-01</th>\n",
              "      <td>13028427</td>\n",
              "    </tr>\n",
              "    <tr>\n",
              "      <th>2018-08-01</th>\n",
              "      <td>12736679</td>\n",
              "    </tr>\n",
              "    <tr>\n",
              "      <th>2017-12-01</th>\n",
              "      <td>12616894</td>\n",
              "    </tr>\n",
              "    <tr>\n",
              "      <th>2017-10-01</th>\n",
              "      <td>12449061</td>\n",
              "    </tr>\n",
              "    <tr>\n",
              "      <th>2015-03-01</th>\n",
              "      <td>12326445</td>\n",
              "    </tr>\n",
              "    <tr>\n",
              "      <th>2015-02-01</th>\n",
              "      <td>12262580</td>\n",
              "    </tr>\n",
              "    <tr>\n",
              "      <th>2018-09-01</th>\n",
              "      <td>12063523</td>\n",
              "    </tr>\n",
              "    <tr>\n",
              "      <th>2015-07-01</th>\n",
              "      <td>11857413</td>\n",
              "    </tr>\n",
              "    <tr>\n",
              "      <th>2017-03-01</th>\n",
              "      <td>11512990</td>\n",
              "    </tr>\n",
              "    <tr>\n",
              "      <th>2017-06-01</th>\n",
              "      <td>11401438</td>\n",
              "    </tr>\n",
              "    <tr>\n",
              "      <th>2015-10-01</th>\n",
              "      <td>11123448</td>\n",
              "    </tr>\n",
              "    <tr>\n",
              "      <th>2016-01-01</th>\n",
              "      <td>11036846</td>\n",
              "    </tr>\n",
              "    <tr>\n",
              "      <th>2017-05-01</th>\n",
              "      <td>11012342</td>\n",
              "    </tr>\n",
              "    <tr>\n",
              "      <th>2017-04-01</th>\n",
              "      <td>10714226</td>\n",
              "    </tr>\n",
              "    <tr>\n",
              "      <th>2016-03-01</th>\n",
              "      <td>10712481</td>\n",
              "    </tr>\n",
              "    <tr>\n",
              "      <th>2015-09-01</th>\n",
              "      <td>10318899</td>\n",
              "    </tr>\n",
              "    <tr>\n",
              "      <th>2017-02-01</th>\n",
              "      <td>10029816</td>\n",
              "    </tr>\n",
              "    <tr>\n",
              "      <th>2016-02-01</th>\n",
              "      <td>9807937</td>\n",
              "    </tr>\n",
              "    <tr>\n",
              "      <th>2016-07-01</th>\n",
              "      <td>9603877</td>\n",
              "    </tr>\n",
              "    <tr>\n",
              "      <th>2015-12-01</th>\n",
              "      <td>9451345</td>\n",
              "    </tr>\n",
              "    <tr>\n",
              "      <th>2017-07-01</th>\n",
              "      <td>9333890</td>\n",
              "    </tr>\n",
              "    <tr>\n",
              "      <th>2017-09-01</th>\n",
              "      <td>9276364</td>\n",
              "    </tr>\n",
              "    <tr>\n",
              "      <th>2017-01-01</th>\n",
              "      <td>9222975</td>\n",
              "    </tr>\n",
              "    <tr>\n",
              "      <th>2017-08-01</th>\n",
              "      <td>9110114</td>\n",
              "    </tr>\n",
              "    <tr>\n",
              "      <th>2016-09-01</th>\n",
              "      <td>8791284</td>\n",
              "    </tr>\n",
              "    <tr>\n",
              "      <th>2016-08-01</th>\n",
              "      <td>8366396</td>\n",
              "    </tr>\n",
              "    <tr>\n",
              "      <th>2015-11-01</th>\n",
              "      <td>8057643</td>\n",
              "    </tr>\n",
              "  </tbody>\n",
              "</table>\n",
              "</div>"
            ],
            "text/plain": [
              "            QTY_AMOUNT\n",
              "YEAR_MONTH            \n",
              "2015-08-01    28044737\n",
              "2018-03-01    19821044\n",
              "2018-04-01    17735805\n",
              "2018-05-01    17731023\n",
              "2019-04-01    16431799\n",
              "2018-02-01    16180725\n",
              "2018-06-01    16175613\n",
              "2019-05-01    16100786\n",
              "2019-03-01    15857912\n",
              "2019-01-01    15587651\n",
              "2018-01-01    14988510\n",
              "2019-06-01    14691805\n",
              "2015-05-01    14466500\n",
              "2018-07-01    14210859\n",
              "2019-02-01    13998855\n",
              "2015-01-01    13819392\n",
              "2015-06-01    13679428\n",
              "2018-10-01    13678840\n",
              "2017-11-01    13253668\n",
              "2015-04-01    13132829\n",
              "2018-11-01    13077887\n",
              "2018-12-01    13028427\n",
              "2018-08-01    12736679\n",
              "2017-12-01    12616894\n",
              "2017-10-01    12449061\n",
              "2015-03-01    12326445\n",
              "2015-02-01    12262580\n",
              "2018-09-01    12063523\n",
              "2015-07-01    11857413\n",
              "2017-03-01    11512990\n",
              "2017-06-01    11401438\n",
              "2015-10-01    11123448\n",
              "2016-01-01    11036846\n",
              "2017-05-01    11012342\n",
              "2017-04-01    10714226\n",
              "2016-03-01    10712481\n",
              "2015-09-01    10318899\n",
              "2017-02-01    10029816\n",
              "2016-02-01     9807937\n",
              "2016-07-01     9603877\n",
              "2015-12-01     9451345\n",
              "2017-07-01     9333890\n",
              "2017-09-01     9276364\n",
              "2017-01-01     9222975\n",
              "2017-08-01     9110114\n",
              "2016-09-01     8791284\n",
              "2016-08-01     8366396\n",
              "2015-11-01     8057643"
            ]
          },
          "metadata": {
            "tags": []
          },
          "execution_count": 65
        }
      ]
    },
    {
      "cell_type": "code",
      "metadata": {
        "colab": {
          "base_uri": "https://localhost:8080/",
          "height": 411
        },
        "id": "CW1RNJnnnka2",
        "outputId": "aa56991e-139c-43b1-f844-ddad646018d1"
      },
      "source": [
        "# Convention for import of the pyplot interface\n",
        "import matplotlib.pyplot as plt\n",
        "# Set-up to have matplotlib use its support for notebook inline plots\n",
        "%matplotlib inline\n",
        "plt.rc('font', size=12)\n",
        "fig, ax = plt.subplots(figsize=(10, 6))\n",
        "X = np.sort(data_coded.QTY_AMOUNT, 0)\n",
        "# Specify how our lines should look\n",
        "ax.plot(data_coded.YEAR_MONTH, X, color='tab:orange', label='trend')\n",
        "\n",
        "# Same as above\n",
        "ax.set_xlabel('Time')\n",
        "ax.set_ylabel('quantity')\n",
        "ax.set_title('Quantity of drugs by time')\n",
        "ax.grid(True)\n",
        "ax.legend(loc='upper left');"
      ],
      "execution_count": 51,
      "outputs": [
        {
          "output_type": "display_data",
          "data": {
            "image/png": "[encoded data removed]",
            "text/plain": [
              "<Figure size 720x432 with 1 Axes>"
            ]
          },
          "metadata": {
            "tags": [],
            "needs_background": "light"
          }
        }
      ]
    },
    {
      "cell_type": "markdown",
      "metadata": {
        "id": "7Pa45PqrvRyR"
      },
      "source": [
        ""
      ]
    },
    {
      "cell_type": "code",
      "metadata": {
        "id": "a6c9BuJvuYPD"
      },
      "source": [
        "data_coded['Month'] = pd.DatetimeIndex(data_coded['YEAR_MONTH']).month"
      ],
      "execution_count": 38,
      "outputs": []
    },
    {
      "cell_type": "code",
      "metadata": {
        "colab": {
          "base_uri": "https://localhost:8080/",
          "height": 204
        },
        "id": "fNyOQr4Quk_O",
        "outputId": "2ccb9989-7a7d-43b0-dacf-47aeb071407b"
      },
      "source": [
        "data_coded.head()"
      ],
      "execution_count": 39,
      "outputs": [
        {
          "output_type": "execute_result",
          "data": {
            "text/html": [
              "<div>\n",
              "<style scoped>\n",
              "    .dataframe tbody tr th:only-of-type {\n",
              "        vertical-align: middle;\n",
              "    }\n",
              "\n",
              "    .dataframe tbody tr th {\n",
              "        vertical-align: top;\n",
              "    }\n",
              "\n",
              "    .dataframe thead th {\n",
              "        text-align: right;\n",
              "    }\n",
              "</style>\n",
              "<table border=\"1\" class=\"dataframe\">\n",
              "  <thead>\n",
              "    <tr style=\"text-align: right;\">\n",
              "      <th></th>\n",
              "      <th>QTY_AMOUNT</th>\n",
              "      <th>DESCRIPTION</th>\n",
              "      <th>S_LEVEL3_NAME</th>\n",
              "      <th>YEAR_MONTH</th>\n",
              "      <th>Month</th>\n",
              "    </tr>\n",
              "  </thead>\n",
              "  <tbody>\n",
              "    <tr>\n",
              "      <th>10</th>\n",
              "      <td>50</td>\n",
              "      <td>CROMOGLYCATE DISODIC OPHT SOLUTION 2%</td>\n",
              "      <td>G42</td>\n",
              "      <td>2015-01-01</td>\n",
              "      <td>1</td>\n",
              "    </tr>\n",
              "    <tr>\n",
              "      <th>12</th>\n",
              "      <td>6700</td>\n",
              "      <td>AMOXICILLIN 250MG CAPSULE B/1000</td>\n",
              "      <td>G42</td>\n",
              "      <td>2015-01-01</td>\n",
              "      <td>1</td>\n",
              "    </tr>\n",
              "    <tr>\n",
              "      <th>16</th>\n",
              "      <td>17609</td>\n",
              "      <td>PARACETAMOL 500 MG TABLET B/1000</td>\n",
              "      <td>H24</td>\n",
              "      <td>2015-01-01</td>\n",
              "      <td>1</td>\n",
              "    </tr>\n",
              "    <tr>\n",
              "      <th>23</th>\n",
              "      <td>3083</td>\n",
              "      <td>PARACETAMOL 500 MG TABLET B/1000</td>\n",
              "      <td>G53</td>\n",
              "      <td>2015-01-01</td>\n",
              "      <td>1</td>\n",
              "    </tr>\n",
              "    <tr>\n",
              "      <th>30</th>\n",
              "      <td>117</td>\n",
              "      <td>NEVIRAPINE 200MG TABLET B/60</td>\n",
              "      <td>G22</td>\n",
              "      <td>2015-01-01</td>\n",
              "      <td>1</td>\n",
              "    </tr>\n",
              "  </tbody>\n",
              "</table>\n",
              "</div>"
            ],
            "text/plain": [
              "    QTY_AMOUNT                            DESCRIPTION  ... YEAR_MONTH Month\n",
              "10          50  CROMOGLYCATE DISODIC OPHT SOLUTION 2%  ... 2015-01-01     1\n",
              "12        6700       AMOXICILLIN 250MG CAPSULE B/1000  ... 2015-01-01     1\n",
              "16       17609       PARACETAMOL 500 MG TABLET B/1000  ... 2015-01-01     1\n",
              "23        3083       PARACETAMOL 500 MG TABLET B/1000  ... 2015-01-01     1\n",
              "30         117           NEVIRAPINE 200MG TABLET B/60  ... 2015-01-01     1\n",
              "\n",
              "[5 rows x 5 columns]"
            ]
          },
          "metadata": {
            "tags": []
          },
          "execution_count": 39
        }
      ]
    },
    {
      "cell_type": "code",
      "metadata": {
        "colab": {
          "base_uri": "https://localhost:8080/",
          "height": 452
        },
        "id": "iw0gJXs-vUJ3",
        "outputId": "7c694daf-a7ef-4de6-b010-c09d0abd97ba"
      },
      "source": [
        "table4 = pd.pivot_table(data_coded,index=['Month'],aggfunc={'QTY_AMOUNT':np.mean}).sort_values('QTY_AMOUNT', ascending = False)\n",
        "table4\n",
        "#Number of inflation crisis by Country\n",
        "# data_coded.groupby('Month').agg({'QTY_AMOUNT':'sum'}).sort_values('QTY_AMOUNT', ascending = False)"
      ],
      "execution_count": 69,
      "outputs": [
        {
          "output_type": "execute_result",
          "data": {
            "text/html": [
              "<div>\n",
              "<style scoped>\n",
              "    .dataframe tbody tr th:only-of-type {\n",
              "        vertical-align: middle;\n",
              "    }\n",
              "\n",
              "    .dataframe tbody tr th {\n",
              "        vertical-align: top;\n",
              "    }\n",
              "\n",
              "    .dataframe thead th {\n",
              "        text-align: right;\n",
              "    }\n",
              "</style>\n",
              "<table border=\"1\" class=\"dataframe\">\n",
              "  <thead>\n",
              "    <tr style=\"text-align: right;\">\n",
              "      <th></th>\n",
              "      <th>QTY_AMOUNT</th>\n",
              "    </tr>\n",
              "    <tr>\n",
              "      <th>Month</th>\n",
              "      <th></th>\n",
              "    </tr>\n",
              "  </thead>\n",
              "  <tbody>\n",
              "    <tr>\n",
              "      <th>8</th>\n",
              "      <td>1928.495680</td>\n",
              "    </tr>\n",
              "    <tr>\n",
              "      <th>4</th>\n",
              "      <td>1908.314167</td>\n",
              "    </tr>\n",
              "    <tr>\n",
              "      <th>5</th>\n",
              "      <td>1900.921477</td>\n",
              "    </tr>\n",
              "    <tr>\n",
              "      <th>3</th>\n",
              "      <td>1878.634496</td>\n",
              "    </tr>\n",
              "    <tr>\n",
              "      <th>6</th>\n",
              "      <td>1831.607543</td>\n",
              "    </tr>\n",
              "    <tr>\n",
              "      <th>1</th>\n",
              "      <td>1780.453103</td>\n",
              "    </tr>\n",
              "    <tr>\n",
              "      <th>2</th>\n",
              "      <td>1696.815415</td>\n",
              "    </tr>\n",
              "    <tr>\n",
              "      <th>10</th>\n",
              "      <td>1542.946154</td>\n",
              "    </tr>\n",
              "    <tr>\n",
              "      <th>7</th>\n",
              "      <td>1536.881539</td>\n",
              "    </tr>\n",
              "    <tr>\n",
              "      <th>12</th>\n",
              "      <td>1522.235687</td>\n",
              "    </tr>\n",
              "    <tr>\n",
              "      <th>11</th>\n",
              "      <td>1469.435457</td>\n",
              "    </tr>\n",
              "    <tr>\n",
              "      <th>9</th>\n",
              "      <td>1321.206885</td>\n",
              "    </tr>\n",
              "  </tbody>\n",
              "</table>\n",
              "</div>"
            ],
            "text/plain": [
              "        QTY_AMOUNT\n",
              "Month             \n",
              "8      1928.495680\n",
              "4      1908.314167\n",
              "5      1900.921477\n",
              "3      1878.634496\n",
              "6      1831.607543\n",
              "1      1780.453103\n",
              "2      1696.815415\n",
              "10     1542.946154\n",
              "7      1536.881539\n",
              "12     1522.235687\n",
              "11     1469.435457\n",
              "9      1321.206885"
            ]
          },
          "metadata": {
            "tags": []
          },
          "execution_count": 69
        }
      ]
    },
    {
      "cell_type": "code",
      "metadata": {
        "colab": {
          "base_uri": "https://localhost:8080/",
          "height": 268
        },
        "id": "mUeUgH97v5tT",
        "outputId": "80f1e6c1-e861-4f59-8b11-c2b4813a89a6"
      },
      "source": [
        "table4.plot(kind='barh');"
      ],
      "execution_count": 70,
      "outputs": [
        {
          "output_type": "display_data",
          "data": {
            "image/png": "[encoded data removed]",
            "text/plain": [
              "<Figure size 432x288 with 1 Axes>"
            ]
          },
          "metadata": {
            "tags": []
          }
        }
      ]
    },
    {
      "cell_type": "code",
      "metadata": {
        "colab": {
          "base_uri": "https://localhost:8080/",
          "height": 883
        },
        "id": "19d7AmBs1zGE",
        "outputId": "cb65d969-dc80-4e44-8f52-fd5da5806742"
      },
      "source": [
        "#Let's have a look at amount by description\n",
        "import seaborn as sns\n",
        "sns.set_style('whitegrid')\n",
        "plt.figure(figsize = (10,15))\n",
        "sns.lineplot(x = 'YEAR_MONTH', y = 'QTY_AMOUNT',hue='DESCRIPTION', data = data_coded, palette = 'colorblind')\n",
        "plt.xlabel('Year')\n",
        "plt.ylabel('QTY by time')\n",
        "display()"
      ],
      "execution_count": 59,
      "outputs": [
        {
          "output_type": "display_data",
          "data": {
            "image/png": "[encoded data removed]",
            "text/plain": [
              "<Figure size 720x1080 with 1 Axes>"
            ]
          },
          "metadata": {
            "tags": []
          }
        }
      ]
    },
    {
      "cell_type": "code",
      "metadata": {
        "colab": {
          "base_uri": "https://localhost:8080/",
          "height": 612
        },
        "id": "FN-f6nc125UK",
        "outputId": "8b9324e5-6036-4f1f-edc3-d03cdff4fdf2"
      },
      "source": [
        "#Let's have a look at amount by description\n",
        "import seaborn as sns\n",
        "sns.set_style('whitegrid')\n",
        "plt.figure(figsize = (10,10))\n",
        "sns.lineplot(x = 'YEAR_MONTH', y = 'QTY_AMOUNT', data = data_coded, palette = 'colorblind')\n",
        "plt.xlabel('Year')\n",
        "plt.ylabel('QTY by time')\n",
        "display()"
      ],
      "execution_count": 56,
      "outputs": [
        {
          "output_type": "display_data",
          "data": {
            "image/png": "[encoded data removed]",
            "text/plain": [
              "<Figure size 720x720 with 1 Axes>"
            ]
          },
          "metadata": {
            "tags": []
          }
        }
      ]
    },
    {
      "cell_type": "code",
      "metadata": {
        "colab": {
          "base_uri": "https://localhost:8080/",
          "height": 616
        },
        "id": "4tlzm9Rf4e5d",
        "outputId": "c276efbd-3acb-4442-aca9-d52fed894927"
      },
      "source": [
        "#Let's have a look at amount by description\n",
        "import seaborn as sns\n",
        "sns.set_style('whitegrid')\n",
        "plt.figure(figsize = (10,10))\n",
        "sns.lineplot(x = 'Month', y = 'QTY_AMOUNT', data = data_coded, palette = 'colorblind')\n",
        "plt.xlabel('Year')\n",
        "plt.ylabel('QTY by time')\n",
        "display()"
      ],
      "execution_count": 60,
      "outputs": [
        {
          "output_type": "display_data",
          "data": {
            "image/png": "[encoded data removed]",
            "text/plain": [
              "<Figure size 720x720 with 1 Axes>"
            ]
          },
          "metadata": {
            "tags": []
          }
        }
      ]
    },
    {
      "cell_type": "code",
      "metadata": {
        "id": "qssPllEU80JE"
      },
      "source": [
        "# data['S_LEVEL3_NAME'].value_counts(normalize=False)"
      ],
      "execution_count": null,
      "outputs": []
    },
    {
      "cell_type": "markdown",
      "metadata": {
        "id": "Mmfrp4tGrROc"
      },
      "source": [
        "# previous work"
      ]
    },
    {
      "cell_type": "code",
      "metadata": {
        "id": "BT8wK2kaxw4Y"
      },
      "source": [
        "drugs=data['DESCRIPTION'].value_counts(normalize=False)\n",
        "df=pd.DataFrame(drugs)"
      ],
      "execution_count": null,
      "outputs": []
    },
    {
      "cell_type": "code",
      "metadata": {
        "colab": {
          "base_uri": "https://localhost:8080/",
          "height": 669
        },
        "id": "V07UqQEtyUSZ",
        "outputId": "9e8692e8-9d7b-4f05-c222-627574b376c9"
      },
      "source": [
        "df.head(20)"
      ],
      "execution_count": null,
      "outputs": [
        {
          "output_type": "execute_result",
          "data": {
            "text/html": [
              "<div>\n",
              "<style scoped>\n",
              "    .dataframe tbody tr th:only-of-type {\n",
              "        vertical-align: middle;\n",
              "    }\n",
              "\n",
              "    .dataframe tbody tr th {\n",
              "        vertical-align: top;\n",
              "    }\n",
              "\n",
              "    .dataframe thead th {\n",
              "        text-align: right;\n",
              "    }\n",
              "</style>\n",
              "<table border=\"1\" class=\"dataframe\">\n",
              "  <thead>\n",
              "    <tr style=\"text-align: right;\">\n",
              "      <th></th>\n",
              "      <th>DESCRIPTION</th>\n",
              "    </tr>\n",
              "  </thead>\n",
              "  <tbody>\n",
              "    <tr>\n",
              "      <th>COTRIMOXAZOLE 480 MG TABLET B/1000</th>\n",
              "      <td>1536</td>\n",
              "    </tr>\n",
              "    <tr>\n",
              "      <th>COTRIMOXAZOLE 240MG/5ML SYRUP 100ML B/1</th>\n",
              "      <td>1402</td>\n",
              "    </tr>\n",
              "    <tr>\n",
              "      <th>O.R.S SACHET 20.5G B/100</th>\n",
              "      <td>1332</td>\n",
              "    </tr>\n",
              "    <tr>\n",
              "      <th>AMOXICILLIN 250MG CAPSULE B/1000</th>\n",
              "      <td>1281</td>\n",
              "    </tr>\n",
              "    <tr>\n",
              "      <th>PARACETAMOL 500 MG TABLET B/1000</th>\n",
              "      <td>1233</td>\n",
              "    </tr>\n",
              "    <tr>\n",
              "      <th>METRONIDAZOLE 250MG TABLET B/1000</th>\n",
              "      <td>1221</td>\n",
              "    </tr>\n",
              "    <tr>\n",
              "      <th>ERYTHROMYCIN 250 MG TABLET B/1000</th>\n",
              "      <td>1197</td>\n",
              "    </tr>\n",
              "    <tr>\n",
              "      <th>CLOXACILLIN 250 MG  CAPSULE B/1000</th>\n",
              "      <td>1182</td>\n",
              "    </tr>\n",
              "    <tr>\n",
              "      <th>CHLORPHENIRAMINE 4 MG TABLET B/1000</th>\n",
              "      <td>1149</td>\n",
              "    </tr>\n",
              "    <tr>\n",
              "      <th>DOXYCYCLINE 100 MG TABLET B/1000</th>\n",
              "      <td>1092</td>\n",
              "    </tr>\n",
              "    <tr>\n",
              "      <th>DICLOFENAC 50 MG TABLET B/1000</th>\n",
              "      <td>1085</td>\n",
              "    </tr>\n",
              "    <tr>\n",
              "      <th>METRONIDAZOLE 200MG/5ML SYRUP 100ML B/1</th>\n",
              "      <td>1081</td>\n",
              "    </tr>\n",
              "    <tr>\n",
              "      <th>AMOXICILLIN 125MG/5ML SUSP 100ML B/1</th>\n",
              "      <td>1077</td>\n",
              "    </tr>\n",
              "    <tr>\n",
              "      <th>IBUPROFEN 200 MG TABLET B/1000</th>\n",
              "      <td>1074</td>\n",
              "    </tr>\n",
              "    <tr>\n",
              "      <th>AMINOPHYLLINE 100MG TABLET B/1000</th>\n",
              "      <td>1055</td>\n",
              "    </tr>\n",
              "    <tr>\n",
              "      <th>MULTIVITAMINE TABLET B/1000</th>\n",
              "      <td>1048</td>\n",
              "    </tr>\n",
              "    <tr>\n",
              "      <th>PENICILLIN V 250 MG TABLET B/1000</th>\n",
              "      <td>1026</td>\n",
              "    </tr>\n",
              "    <tr>\n",
              "      <th>NEVIRAPINE 200MG TABLET B/60</th>\n",
              "      <td>1014</td>\n",
              "    </tr>\n",
              "    <tr>\n",
              "      <th>COTRIMOXAZOLE 960MG TABLET B/1000</th>\n",
              "      <td>1009</td>\n",
              "    </tr>\n",
              "    <tr>\n",
              "      <th>ACETYLSALICYLIC ACID 500MG TABLET B/1000</th>\n",
              "      <td>999</td>\n",
              "    </tr>\n",
              "  </tbody>\n",
              "</table>\n",
              "</div>"
            ],
            "text/plain": [
              "                                          DESCRIPTION\n",
              "COTRIMOXAZOLE 480 MG TABLET B/1000               1536\n",
              "COTRIMOXAZOLE 240MG/5ML SYRUP 100ML B/1          1402\n",
              "O.R.S SACHET 20.5G B/100                         1332\n",
              "AMOXICILLIN 250MG CAPSULE B/1000                 1281\n",
              "PARACETAMOL 500 MG TABLET B/1000                 1233\n",
              "METRONIDAZOLE 250MG TABLET B/1000                1221\n",
              "ERYTHROMYCIN 250 MG TABLET B/1000                1197\n",
              "CLOXACILLIN 250 MG  CAPSULE B/1000               1182\n",
              "CHLORPHENIRAMINE 4 MG TABLET B/1000              1149\n",
              "DOXYCYCLINE 100 MG TABLET B/1000                 1092\n",
              "DICLOFENAC 50 MG TABLET B/1000                   1085\n",
              "METRONIDAZOLE 200MG/5ML SYRUP 100ML B/1          1081\n",
              "AMOXICILLIN 125MG/5ML SUSP 100ML B/1             1077\n",
              "IBUPROFEN 200 MG TABLET B/1000                   1074\n",
              "AMINOPHYLLINE 100MG TABLET B/1000                1055\n",
              "MULTIVITAMINE TABLET B/1000                      1048\n",
              "PENICILLIN V 250 MG TABLET B/1000                1026\n",
              "NEVIRAPINE 200MG TABLET B/60                     1014\n",
              "COTRIMOXAZOLE 960MG TABLET B/1000                1009\n",
              "ACETYLSALICYLIC ACID 500MG TABLET B/1000          999"
            ]
          },
          "metadata": {
            "tags": []
          },
          "execution_count": 11
        }
      ]
    },
    {
      "cell_type": "code",
      "metadata": {
        "colab": {
          "base_uri": "https://localhost:8080/"
        },
        "id": "q6oaufD1_mLu",
        "outputId": "547487e2-9a37-4ffa-a5b9-5d41b2a764ef"
      },
      "source": [
        "data.info()"
      ],
      "execution_count": null,
      "outputs": [
        {
          "output_type": "stream",
          "text": [
            "<class 'pandas.core.frame.DataFrame'>\n",
            "RangeIndex: 2412 entries, 0 to 2411\n",
            "Data columns (total 39 columns):\n",
            " #   Column                          Non-Null Count  Dtype  \n",
            "---  ------                          --------------  -----  \n",
            " 0   #Order #                        2412 non-null   int64  \n",
            " 1   Line/ Schedule                  2412 non-null   object \n",
            " 2   BuyingOrg                       2412 non-null   object \n",
            " 3   SellingOrg                      2412 non-null   object \n",
            " 4   Order Management Org            2412 non-null   object \n",
            " 5   Line Amount                     1635 non-null   object \n",
            " 6   State                           2412 non-null   object \n",
            " 7   Vendor Enterprise               2412 non-null   object \n",
            " 8   New Order Creation Date         2412 non-null   object \n",
            " 9   Actual Ship Date                955 non-null    object \n",
            " 10  Req Delivery Date               2412 non-null   object \n",
            " 11  Original Req Delivery Date      2412 non-null   object \n",
            " 12  Actual Delivery Date            987 non-null    object \n",
            " 13  Original Promise Delivery Date  2140 non-null   object \n",
            " 14  Promise Delivery                2250 non-null   object \n",
            " 15  Agreed Delivery                 1463 non-null   object \n",
            " 16  Item                            2412 non-null   object \n",
            " 17  Promise Item                    1495 non-null   object \n",
            " 18  My Item                         2412 non-null   object \n",
            " 19  Item_description                2412 non-null   object \n",
            " 20  Unit Price                      2412 non-null   int64  \n",
            " 21  Original Request Quantity       2412 non-null   int64  \n",
            " 22  RequestQuantity                 2412 non-null   object \n",
            " 23  Orig Promise Quantity           2140 non-null   object \n",
            " 24  Promise Quantity                2223 non-null   object \n",
            " 25  Req / Promise Unit Price        2412 non-null   object \n",
            " 26  Planned Ship Quantity           1445 non-null   object \n",
            " 27  Agreed Quantity                 2154 non-null   object \n",
            " 28  Shipped Qty                     1088 non-null   object \n",
            " 29  Received Qty                    918 non-null    object \n",
            " 30  Quantity UOM                    2412 non-null   object \n",
            " 31  Ordered Vs Shipped              2412 non-null   object \n",
            " 32  Shipped Vs Received             2412 non-null   object \n",
            " 33  Rejected Qty                    945 non-null    float64\n",
            " 34  Is Promotion                    2366 non-null   object \n",
            " 35  International                   2412 non-null   object \n",
            " 36  Total_Quantity_UOM_each         2412 non-null   object \n",
            " 37  Total_Volume_UOM_cuft           2412 non-null   object \n",
            " 38  Total_Weight_UOM_kilo           2412 non-null   object \n",
            "dtypes: float64(1), int64(3), object(35)\n",
            "memory usage: 735.0+ KB\n"
          ],
          "name": "stdout"
        }
      ]
    },
    {
      "cell_type": "markdown",
      "metadata": {
        "id": "Epiq9c9leRni"
      },
      "source": [
        "# Tutorial"
      ]
    },
    {
      "cell_type": "code",
      "metadata": {
        "colab": {
          "base_uri": "https://localhost:8080/"
        },
        "id": "MSPdtSF-wNnx",
        "outputId": "40d3d796-f647-4f76-cac5-37b1035478d8"
      },
      "source": [
        "record = {\n",
        "  'Name': ['Ankit', 'Amit', 'Aishwarya', 'Priyanka', 'Priya', 'Shaurya', 'shiva', 'peter', 'shalom'],\n",
        "  'Age': [21, 19, 20, 18, 17, 21,34,27,24],\n",
        "  'courses': ['Math', 'Commerce', 'Science', 'Math', 'Math', 'Science','IT','big data', 'biology'],\n",
        "  'Percentage': [88, 92, 95, 70, 65, 78,87,77, 97]}\n",
        "  \n",
        "# create a dataframe\n",
        "dataframe = pd.DataFrame(record, columns = ['Name', 'Age', 'courses', 'Percentage'])\n",
        "  \n",
        "print(\"Given Dataframe :\\n\", dataframe) \n",
        "  \n",
        "options = ['Math', 'Science']\n",
        "  \n",
        "# selecting rows based on condition\n",
        "rslt_df =dataframe[dataframe['courses'].isin(options)]\n",
        "  \n",
        "print('\\nResult dataframe :\\n', rslt_df)"
      ],
      "execution_count": null,
      "outputs": [
        {
          "output_type": "stream",
          "text": [
            "Given Dataframe :\n",
            "         Name  Age   courses  Percentage\n",
            "0      Ankit   21      Math          88\n",
            "1       Amit   19  Commerce          92\n",
            "2  Aishwarya   20   Science          95\n",
            "3   Priyanka   18      Math          70\n",
            "4      Priya   17      Math          65\n",
            "5    Shaurya   21   Science          78\n",
            "6      shiva   34        IT          87\n",
            "7      peter   27  big data          77\n",
            "8     shalom   24   biology          97\n",
            "\n",
            "Result dataframe :\n",
            "         Name  Age  courses  Percentage\n",
            "0      Ankit   21     Math          88\n",
            "2  Aishwarya   20  Science          95\n",
            "3   Priyanka   18     Math          70\n",
            "4      Priya   17     Math          65\n",
            "5    Shaurya   21  Science          78\n"
          ],
          "name": "stdout"
        }
      ]
    },
    {
      "cell_type": "markdown",
      "metadata": {
        "id": "K_hrvH5v2tvH"
      },
      "source": [
        "Date data"
      ]
    },
    {
      "cell_type": "code",
      "metadata": {
        "colab": {
          "base_uri": "https://localhost:8080/"
        },
        "id": "fC0xBYCL2tAt",
        "outputId": "5bb07ea4-60b7-4a91-aa6b-0847feebb12c"
      },
      "source": [
        "from datetime import datetime\n",
        "d1 = datetime(2020,4,23,11,20,30,40)\n",
        "print(d1)\n",
        "print(type(d1))"
      ],
      "execution_count": null,
      "outputs": [
        {
          "output_type": "stream",
          "text": [
            "2020-04-23 11:20:30.000040\n",
            "<class 'datetime.datetime'>\n"
          ],
          "name": "stdout"
        }
      ]
    },
    {
      "cell_type": "markdown",
      "metadata": {
        "id": "VB06Dlt1299v"
      },
      "source": [
        "You can get the week of the year by slicing the value returned by the isocalendar() method:"
      ]
    },
    {
      "cell_type": "code",
      "metadata": {
        "colab": {
          "base_uri": "https://localhost:8080/"
        },
        "id": "ZB-yCdao28k5",
        "outputId": "b182d4ef-8e6f-43c6-97a3-20aa57b270e8"
      },
      "source": [
        "d1 = datetime.now()\n",
        "# retuns year, week, month\n",
        "print(d1.isocalendar())\n",
        "print('Week :',d1.isocalendar()[1])"
      ],
      "execution_count": null,
      "outputs": [
        {
          "output_type": "stream",
          "text": [
            "(2021, 20, 5)\n",
            "Week : 20\n"
          ],
          "name": "stdout"
        }
      ]
    },
    {
      "cell_type": "markdown",
      "metadata": {
        "id": "DI-b8W8f3Tvl"
      },
      "source": [
        "Leap Year or Not? Use Calendar!\n",
        "\n",
        "Want to check whether it is a leap year or not? You will need to use the isleap() method from the calendar module and pass the year as an attribute:\n",
        "\n"
      ]
    },
    {
      "cell_type": "code",
      "metadata": {
        "colab": {
          "base_uri": "https://localhost:8080/"
        },
        "id": "j4rkWKFl2llD",
        "outputId": "015d1dc7-5d7f-4f38-caac-69d3963ce0a3"
      },
      "source": [
        "import calendar\n",
        "d1 = datetime.now()\n",
        "# leap year or not\n",
        "calendar.isleap(d1.year) # Output True"
      ],
      "execution_count": null,
      "outputs": [
        {
          "output_type": "execute_result",
          "data": {
            "text/plain": [
              "False"
            ]
          },
          "metadata": {
            "tags": []
          },
          "execution_count": 12
        }
      ]
    },
    {
      "cell_type": "code",
      "metadata": {
        "colab": {
          "base_uri": "https://localhost:8080/"
        },
        "id": "OY5haocY3aUA",
        "outputId": "628bbe0f-8ed5-4a46-e2a7-6eb1c07b4f79"
      },
      "source": [
        "# Its was April when I wrote this\n",
        "print(calendar.month(2021,5))"
      ],
      "execution_count": null,
      "outputs": [
        {
          "output_type": "stream",
          "text": [
            "      May 2021\n",
            "Mo Tu We Th Fr Sa Su\n",
            "                1  2\n",
            " 3  4  5  6  7  8  9\n",
            "10 11 12 13 14 15 16\n",
            "17 18 19 20 21 22 23\n",
            "24 25 26 27 28 29 30\n",
            "31\n",
            "\n"
          ],
          "name": "stdout"
        }
      ]
    },
    {
      "cell_type": "code",
      "metadata": {
        "colab": {
          "base_uri": "https://localhost:8080/"
        },
        "id": "LYQE-wT63ubL",
        "outputId": "3860aff5-4bb7-49ab-907c-fcb1549e03a2"
      },
      "source": [
        "print(calendar.calendar(2021))"
      ],
      "execution_count": null,
      "outputs": [
        {
          "output_type": "stream",
          "text": [
            "                                  2021\n",
            "\n",
            "      January                   February                   March\n",
            "Mo Tu We Th Fr Sa Su      Mo Tu We Th Fr Sa Su      Mo Tu We Th Fr Sa Su\n",
            "             1  2  3       1  2  3  4  5  6  7       1  2  3  4  5  6  7\n",
            " 4  5  6  7  8  9 10       8  9 10 11 12 13 14       8  9 10 11 12 13 14\n",
            "11 12 13 14 15 16 17      15 16 17 18 19 20 21      15 16 17 18 19 20 21\n",
            "18 19 20 21 22 23 24      22 23 24 25 26 27 28      22 23 24 25 26 27 28\n",
            "25 26 27 28 29 30 31                                29 30 31\n",
            "\n",
            "       April                      May                       June\n",
            "Mo Tu We Th Fr Sa Su      Mo Tu We Th Fr Sa Su      Mo Tu We Th Fr Sa Su\n",
            "          1  2  3  4                      1  2          1  2  3  4  5  6\n",
            " 5  6  7  8  9 10 11       3  4  5  6  7  8  9       7  8  9 10 11 12 13\n",
            "12 13 14 15 16 17 18      10 11 12 13 14 15 16      14 15 16 17 18 19 20\n",
            "19 20 21 22 23 24 25      17 18 19 20 21 22 23      21 22 23 24 25 26 27\n",
            "26 27 28 29 30            24 25 26 27 28 29 30      28 29 30\n",
            "                          31\n",
            "\n",
            "        July                     August                  September\n",
            "Mo Tu We Th Fr Sa Su      Mo Tu We Th Fr Sa Su      Mo Tu We Th Fr Sa Su\n",
            "          1  2  3  4                         1             1  2  3  4  5\n",
            " 5  6  7  8  9 10 11       2  3  4  5  6  7  8       6  7  8  9 10 11 12\n",
            "12 13 14 15 16 17 18       9 10 11 12 13 14 15      13 14 15 16 17 18 19\n",
            "19 20 21 22 23 24 25      16 17 18 19 20 21 22      20 21 22 23 24 25 26\n",
            "26 27 28 29 30 31         23 24 25 26 27 28 29      27 28 29 30\n",
            "                          30 31\n",
            "\n",
            "      October                   November                  December\n",
            "Mo Tu We Th Fr Sa Su      Mo Tu We Th Fr Sa Su      Mo Tu We Th Fr Sa Su\n",
            "             1  2  3       1  2  3  4  5  6  7             1  2  3  4  5\n",
            " 4  5  6  7  8  9 10       8  9 10 11 12 13 14       6  7  8  9 10 11 12\n",
            "11 12 13 14 15 16 17      15 16 17 18 19 20 21      13 14 15 16 17 18 19\n",
            "18 19 20 21 22 23 24      22 23 24 25 26 27 28      20 21 22 23 24 25 26\n",
            "25 26 27 28 29 30 31      29 30                     27 28 29 30 31\n",
            "\n"
          ],
          "name": "stdout"
        }
      ]
    },
    {
      "cell_type": "code",
      "metadata": {
        "id": "yNSTvRaX35VA"
      },
      "source": [
        "# ARTE 20MG + LUME 120MG TAB (4X6) B/30       343\n",
        "# ALERE COMBO HIV 100 TESTS + ACC             260\n",
        "# RIFAMPI 150MG + ISONIAZ 75MG TAB B/672      233\n",
        "# ZINC SULFATE 20MG TABLET B/100              222\n",
        "# AMOXICILLIN 500MG CAPSULE B/1000            172\n",
        "# COTRIMOXAZOLE 960MG TABLET B/1000           155\n",
        "# MULTIVITAMINE TABLET B/1000                 151\n",
        "# PARACETAMOL 125MG/5ML SYRUP 100ML           135\n",
        "# OXYTOCIN 10UI/ML INJECTION IV/IM  B/10      120\n",
        "# OXYTOCIN 10UI/ML IV B/10                    116\n",
        "# CATHETER SHORT IV UU 24G B/100              108\n",
        "# CHLORPROMAZINE 25 MG TABLET B/1000          107"
      ],
      "execution_count": null,
      "outputs": []
    },
    {
      "cell_type": "markdown",
      "metadata": {
        "id": "7oMf44husIje"
      },
      "source": [
        " ARTE 20MG + LUME 120MG TAB (4X6) B/30       343  Malaria<br>\n",
        "ALERE COMBO HIV 100 TESTS + ACC             260  HIV consumable<br>\n",
        "RIFAMPI 150MG + ISONIAZ 75MG TAB B/672      233 TB <br>\n",
        "ZINC SULFATE 20MG TABLET B/100              222 Nutrition supplement <br>\n",
        "AMOXICILLIN 500MG CAPSULE B/1000            172 infectious disease <br>\n",
        "COTRIMOXAZOLE 960MG TABLET B/1000           155 Opportunistic infection <br>\n",
        "MULTIVITAMINE TABLET B/1000                 151 Nutrition supplement <br>\n",
        "PARACETAMOL 125MG/5ML SYRUP 100ML           135 Pediatric care <br>\n",
        "OXYTOCIN 10UI/ML INJECTION IV/IM  B/10      120 maternal and child health <br>\n",
        "OXYTOCIN 10UI/ML IV B/10                    116 maternal and child health <br>\n",
        "CATHETER SHORT IV UU 24G B/100              108 consumable <br>\n",
        "CHLORPROMAZINE 25 MG TABLET B/1000          107 mental health/ NCD <br>\n",
        "\n",
        "NCD non communicable disease\n",
        "\n",
        "to combine OXYTOCIN 10UI/ML INJECTION IV/IM  B/10 and OXYTOCIN 10UI/ML IV B/10  into one category <br>\n",
        "\n",
        "to remove m"
      ]
    },
    {
      "cell_type": "markdown",
      "metadata": {
        "id": "Z95zY2WYtqlz"
      },
      "source": [
        ""
      ]
    }
  ]
}